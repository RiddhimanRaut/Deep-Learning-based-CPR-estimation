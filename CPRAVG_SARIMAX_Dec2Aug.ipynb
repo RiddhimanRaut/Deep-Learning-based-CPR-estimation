{
  "nbformat": 4,
  "nbformat_minor": 0,
  "metadata": {
    "colab": {
      "name": "CPRAVG_SARIMAX_DAILY_Aug2Jan",
      "provenance": [],
      "authorship_tag": "ABX9TyM09ENjNTOuyz3cIFzoN7ME",
      "include_colab_link": true
    },
    "kernelspec": {
      "name": "python3",
      "display_name": "Python 3"
    },
    "language_info": {
      "name": "python"
    }
  },
  "cells": [
    {
      "cell_type": "markdown",
      "metadata": {
        "id": "view-in-github",
        "colab_type": "text"
      },
      "source": [
        "<a href=\"https://colab.research.google.com/github/RiddhimanRaut/Deep-Learning-based-CPR-estimation/blob/main/CPRAVG_SARIMAX_Dec2Aug.ipynb\" target=\"_parent\"><img src=\"https://colab.research.google.com/assets/colab-badge.svg\" alt=\"Open In Colab\"/></a>"
      ]
    },
    {
      "cell_type": "code",
      "metadata": {
        "colab": {
          "base_uri": "https://localhost:8080/"
        },
        "id": "vlU7Z7P4xBbC",
        "outputId": "4aeafd59-3796-4c45-cca6-c7c2065e5b86"
      },
      "source": [
        "%pip install pmdarima"
      ],
      "execution_count": null,
      "outputs": [
        {
          "output_type": "stream",
          "text": [
            "Collecting pmdarima\n",
            "  Downloading pmdarima-1.8.2-cp37-cp37m-manylinux1_x86_64.whl (1.5 MB)\n",
            "\u001b[?25l\r\u001b[K     |▎                               | 10 kB 20.1 MB/s eta 0:00:01\r\u001b[K     |▌                               | 20 kB 25.2 MB/s eta 0:00:01\r\u001b[K     |▊                               | 30 kB 29.4 MB/s eta 0:00:01\r\u001b[K     |█                               | 40 kB 29.9 MB/s eta 0:00:01\r\u001b[K     |█▏                              | 51 kB 32.9 MB/s eta 0:00:01\r\u001b[K     |█▍                              | 61 kB 36.3 MB/s eta 0:00:01\r\u001b[K     |█▋                              | 71 kB 28.2 MB/s eta 0:00:01\r\u001b[K     |█▉                              | 81 kB 25.4 MB/s eta 0:00:01\r\u001b[K     |██                              | 92 kB 27.0 MB/s eta 0:00:01\r\u001b[K     |██▎                             | 102 kB 27.8 MB/s eta 0:00:01\r\u001b[K     |██▌                             | 112 kB 27.8 MB/s eta 0:00:01\r\u001b[K     |██▊                             | 122 kB 27.8 MB/s eta 0:00:01\r\u001b[K     |███                             | 133 kB 27.8 MB/s eta 0:00:01\r\u001b[K     |███▏                            | 143 kB 27.8 MB/s eta 0:00:01\r\u001b[K     |███▍                            | 153 kB 27.8 MB/s eta 0:00:01\r\u001b[K     |███▋                            | 163 kB 27.8 MB/s eta 0:00:01\r\u001b[K     |███▉                            | 174 kB 27.8 MB/s eta 0:00:01\r\u001b[K     |████                            | 184 kB 27.8 MB/s eta 0:00:01\r\u001b[K     |████▎                           | 194 kB 27.8 MB/s eta 0:00:01\r\u001b[K     |████▌                           | 204 kB 27.8 MB/s eta 0:00:01\r\u001b[K     |████▊                           | 215 kB 27.8 MB/s eta 0:00:01\r\u001b[K     |█████                           | 225 kB 27.8 MB/s eta 0:00:01\r\u001b[K     |█████▏                          | 235 kB 27.8 MB/s eta 0:00:01\r\u001b[K     |█████▍                          | 245 kB 27.8 MB/s eta 0:00:01\r\u001b[K     |█████▋                          | 256 kB 27.8 MB/s eta 0:00:01\r\u001b[K     |█████▉                          | 266 kB 27.8 MB/s eta 0:00:01\r\u001b[K     |██████                          | 276 kB 27.8 MB/s eta 0:00:01\r\u001b[K     |██████▎                         | 286 kB 27.8 MB/s eta 0:00:01\r\u001b[K     |██████▌                         | 296 kB 27.8 MB/s eta 0:00:01\r\u001b[K     |██████▊                         | 307 kB 27.8 MB/s eta 0:00:01\r\u001b[K     |███████                         | 317 kB 27.8 MB/s eta 0:00:01\r\u001b[K     |███████▏                        | 327 kB 27.8 MB/s eta 0:00:01\r\u001b[K     |███████▍                        | 337 kB 27.8 MB/s eta 0:00:01\r\u001b[K     |███████▋                        | 348 kB 27.8 MB/s eta 0:00:01\r\u001b[K     |███████▉                        | 358 kB 27.8 MB/s eta 0:00:01\r\u001b[K     |████████                        | 368 kB 27.8 MB/s eta 0:00:01\r\u001b[K     |████████▎                       | 378 kB 27.8 MB/s eta 0:00:01\r\u001b[K     |████████▌                       | 389 kB 27.8 MB/s eta 0:00:01\r\u001b[K     |████████▊                       | 399 kB 27.8 MB/s eta 0:00:01\r\u001b[K     |█████████                       | 409 kB 27.8 MB/s eta 0:00:01\r\u001b[K     |█████████▎                      | 419 kB 27.8 MB/s eta 0:00:01\r\u001b[K     |█████████▌                      | 430 kB 27.8 MB/s eta 0:00:01\r\u001b[K     |█████████▊                      | 440 kB 27.8 MB/s eta 0:00:01\r\u001b[K     |██████████                      | 450 kB 27.8 MB/s eta 0:00:01\r\u001b[K     |██████████▏                     | 460 kB 27.8 MB/s eta 0:00:01\r\u001b[K     |██████████▍                     | 471 kB 27.8 MB/s eta 0:00:01\r\u001b[K     |██████████▋                     | 481 kB 27.8 MB/s eta 0:00:01\r\u001b[K     |██████████▉                     | 491 kB 27.8 MB/s eta 0:00:01\r\u001b[K     |███████████                     | 501 kB 27.8 MB/s eta 0:00:01\r\u001b[K     |███████████▎                    | 512 kB 27.8 MB/s eta 0:00:01\r\u001b[K     |███████████▌                    | 522 kB 27.8 MB/s eta 0:00:01\r\u001b[K     |███████████▊                    | 532 kB 27.8 MB/s eta 0:00:01\r\u001b[K     |████████████                    | 542 kB 27.8 MB/s eta 0:00:01\r\u001b[K     |████████████▏                   | 552 kB 27.8 MB/s eta 0:00:01\r\u001b[K     |████████████▍                   | 563 kB 27.8 MB/s eta 0:00:01\r\u001b[K     |████████████▋                   | 573 kB 27.8 MB/s eta 0:00:01\r\u001b[K     |████████████▉                   | 583 kB 27.8 MB/s eta 0:00:01\r\u001b[K     |█████████████                   | 593 kB 27.8 MB/s eta 0:00:01\r\u001b[K     |█████████████▎                  | 604 kB 27.8 MB/s eta 0:00:01\r\u001b[K     |█████████████▌                  | 614 kB 27.8 MB/s eta 0:00:01\r\u001b[K     |█████████████▊                  | 624 kB 27.8 MB/s eta 0:00:01\r\u001b[K     |██████████████                  | 634 kB 27.8 MB/s eta 0:00:01\r\u001b[K     |██████████████▏                 | 645 kB 27.8 MB/s eta 0:00:01\r\u001b[K     |██████████████▍                 | 655 kB 27.8 MB/s eta 0:00:01\r\u001b[K     |██████████████▋                 | 665 kB 27.8 MB/s eta 0:00:01\r\u001b[K     |██████████████▉                 | 675 kB 27.8 MB/s eta 0:00:01\r\u001b[K     |███████████████                 | 686 kB 27.8 MB/s eta 0:00:01\r\u001b[K     |███████████████▎                | 696 kB 27.8 MB/s eta 0:00:01\r\u001b[K     |███████████████▌                | 706 kB 27.8 MB/s eta 0:00:01\r\u001b[K     |███████████████▊                | 716 kB 27.8 MB/s eta 0:00:01\r\u001b[K     |████████████████                | 727 kB 27.8 MB/s eta 0:00:01\r\u001b[K     |████████████████▏               | 737 kB 27.8 MB/s eta 0:00:01\r\u001b[K     |████████████████▍               | 747 kB 27.8 MB/s eta 0:00:01\r\u001b[K     |████████████████▋               | 757 kB 27.8 MB/s eta 0:00:01\r\u001b[K     |████████████████▉               | 768 kB 27.8 MB/s eta 0:00:01\r\u001b[K     |█████████████████               | 778 kB 27.8 MB/s eta 0:00:01\r\u001b[K     |█████████████████▎              | 788 kB 27.8 MB/s eta 0:00:01\r\u001b[K     |█████████████████▌              | 798 kB 27.8 MB/s eta 0:00:01\r\u001b[K     |█████████████████▊              | 808 kB 27.8 MB/s eta 0:00:01\r\u001b[K     |██████████████████              | 819 kB 27.8 MB/s eta 0:00:01\r\u001b[K     |██████████████████▎             | 829 kB 27.8 MB/s eta 0:00:01\r\u001b[K     |██████████████████▌             | 839 kB 27.8 MB/s eta 0:00:01\r\u001b[K     |██████████████████▊             | 849 kB 27.8 MB/s eta 0:00:01\r\u001b[K     |███████████████████             | 860 kB 27.8 MB/s eta 0:00:01\r\u001b[K     |███████████████████▏            | 870 kB 27.8 MB/s eta 0:00:01\r\u001b[K     |███████████████████▍            | 880 kB 27.8 MB/s eta 0:00:01\r\u001b[K     |███████████████████▋            | 890 kB 27.8 MB/s eta 0:00:01\r\u001b[K     |███████████████████▉            | 901 kB 27.8 MB/s eta 0:00:01\r\u001b[K     |████████████████████            | 911 kB 27.8 MB/s eta 0:00:01\r\u001b[K     |████████████████████▎           | 921 kB 27.8 MB/s eta 0:00:01\r\u001b[K     |████████████████████▌           | 931 kB 27.8 MB/s eta 0:00:01\r\u001b[K     |████████████████████▊           | 942 kB 27.8 MB/s eta 0:00:01\r\u001b[K     |█████████████████████           | 952 kB 27.8 MB/s eta 0:00:01\r\u001b[K     |█████████████████████▏          | 962 kB 27.8 MB/s eta 0:00:01\r\u001b[K     |█████████████████████▍          | 972 kB 27.8 MB/s eta 0:00:01\r\u001b[K     |█████████████████████▋          | 983 kB 27.8 MB/s eta 0:00:01\r\u001b[K     |█████████████████████▉          | 993 kB 27.8 MB/s eta 0:00:01\r\u001b[K     |██████████████████████          | 1.0 MB 27.8 MB/s eta 0:00:01\r\u001b[K     |██████████████████████▎         | 1.0 MB 27.8 MB/s eta 0:00:01\r\u001b[K     |██████████████████████▌         | 1.0 MB 27.8 MB/s eta 0:00:01\r\u001b[K     |██████████████████████▊         | 1.0 MB 27.8 MB/s eta 0:00:01\r\u001b[K     |███████████████████████         | 1.0 MB 27.8 MB/s eta 0:00:01\r\u001b[K     |███████████████████████▏        | 1.1 MB 27.8 MB/s eta 0:00:01\r\u001b[K     |███████████████████████▍        | 1.1 MB 27.8 MB/s eta 0:00:01\r\u001b[K     |███████████████████████▋        | 1.1 MB 27.8 MB/s eta 0:00:01\r\u001b[K     |███████████████████████▉        | 1.1 MB 27.8 MB/s eta 0:00:01\r\u001b[K     |████████████████████████        | 1.1 MB 27.8 MB/s eta 0:00:01\r\u001b[K     |████████████████████████▎       | 1.1 MB 27.8 MB/s eta 0:00:01\r\u001b[K     |████████████████████████▌       | 1.1 MB 27.8 MB/s eta 0:00:01\r\u001b[K     |████████████████████████▊       | 1.1 MB 27.8 MB/s eta 0:00:01\r\u001b[K     |█████████████████████████       | 1.1 MB 27.8 MB/s eta 0:00:01\r\u001b[K     |█████████████████████████▏      | 1.1 MB 27.8 MB/s eta 0:00:01\r\u001b[K     |█████████████████████████▍      | 1.2 MB 27.8 MB/s eta 0:00:01\r\u001b[K     |█████████████████████████▋      | 1.2 MB 27.8 MB/s eta 0:00:01\r\u001b[K     |█████████████████████████▉      | 1.2 MB 27.8 MB/s eta 0:00:01\r\u001b[K     |██████████████████████████      | 1.2 MB 27.8 MB/s eta 0:00:01\r\u001b[K     |██████████████████████████▎     | 1.2 MB 27.8 MB/s eta 0:00:01\r\u001b[K     |██████████████████████████▌     | 1.2 MB 27.8 MB/s eta 0:00:01\r\u001b[K     |██████████████████████████▊     | 1.2 MB 27.8 MB/s eta 0:00:01\r\u001b[K     |███████████████████████████     | 1.2 MB 27.8 MB/s eta 0:00:01\r\u001b[K     |███████████████████████████▎    | 1.2 MB 27.8 MB/s eta 0:00:01\r\u001b[K     |███████████████████████████▌    | 1.2 MB 27.8 MB/s eta 0:00:01\r\u001b[K     |███████████████████████████▊    | 1.3 MB 27.8 MB/s eta 0:00:01\r\u001b[K     |████████████████████████████    | 1.3 MB 27.8 MB/s eta 0:00:01\r\u001b[K     |████████████████████████████▏   | 1.3 MB 27.8 MB/s eta 0:00:01\r\u001b[K     |████████████████████████████▍   | 1.3 MB 27.8 MB/s eta 0:00:01\r\u001b[K     |████████████████████████████▋   | 1.3 MB 27.8 MB/s eta 0:00:01\r\u001b[K     |████████████████████████████▉   | 1.3 MB 27.8 MB/s eta 0:00:01\r\u001b[K     |█████████████████████████████   | 1.3 MB 27.8 MB/s eta 0:00:01\r\u001b[K     |█████████████████████████████▎  | 1.3 MB 27.8 MB/s eta 0:00:01\r\u001b[K     |█████████████████████████████▌  | 1.3 MB 27.8 MB/s eta 0:00:01\r\u001b[K     |█████████████████████████████▊  | 1.4 MB 27.8 MB/s eta 0:00:01\r\u001b[K     |██████████████████████████████  | 1.4 MB 27.8 MB/s eta 0:00:01\r\u001b[K     |██████████████████████████████▏ | 1.4 MB 27.8 MB/s eta 0:00:01\r\u001b[K     |██████████████████████████████▍ | 1.4 MB 27.8 MB/s eta 0:00:01\r\u001b[K     |██████████████████████████████▋ | 1.4 MB 27.8 MB/s eta 0:00:01\r\u001b[K     |██████████████████████████████▉ | 1.4 MB 27.8 MB/s eta 0:00:01\r\u001b[K     |███████████████████████████████ | 1.4 MB 27.8 MB/s eta 0:00:01\r\u001b[K     |███████████████████████████████▎| 1.4 MB 27.8 MB/s eta 0:00:01\r\u001b[K     |███████████████████████████████▌| 1.4 MB 27.8 MB/s eta 0:00:01\r\u001b[K     |███████████████████████████████▊| 1.4 MB 27.8 MB/s eta 0:00:01\r\u001b[K     |████████████████████████████████| 1.5 MB 27.8 MB/s eta 0:00:01\r\u001b[K     |████████████████████████████████| 1.5 MB 27.8 MB/s \n",
            "\u001b[?25hRequirement already satisfied: joblib>=0.11 in /usr/local/lib/python3.7/dist-packages (from pmdarima) (1.0.1)\n",
            "Requirement already satisfied: setuptools!=50.0.0,>=38.6.0 in /usr/local/lib/python3.7/dist-packages (from pmdarima) (57.4.0)\n",
            "Requirement already satisfied: scikit-learn>=0.22 in /usr/local/lib/python3.7/dist-packages (from pmdarima) (0.22.2.post1)\n",
            "Requirement already satisfied: scipy>=1.3.2 in /usr/local/lib/python3.7/dist-packages (from pmdarima) (1.4.1)\n",
            "Requirement already satisfied: numpy~=1.19.0 in /usr/local/lib/python3.7/dist-packages (from pmdarima) (1.19.5)\n",
            "Requirement already satisfied: urllib3 in /usr/local/lib/python3.7/dist-packages (from pmdarima) (1.24.3)\n",
            "Requirement already satisfied: pandas>=0.19 in /usr/local/lib/python3.7/dist-packages (from pmdarima) (1.1.5)\n",
            "Collecting statsmodels!=0.12.0,>=0.11\n",
            "  Downloading statsmodels-0.12.2-cp37-cp37m-manylinux1_x86_64.whl (9.5 MB)\n",
            "\u001b[K     |████████████████████████████████| 9.5 MB 29.4 MB/s \n",
            "\u001b[?25hRequirement already satisfied: Cython!=0.29.18,>=0.29 in /usr/local/lib/python3.7/dist-packages (from pmdarima) (0.29.24)\n",
            "Requirement already satisfied: python-dateutil>=2.7.3 in /usr/local/lib/python3.7/dist-packages (from pandas>=0.19->pmdarima) (2.8.2)\n",
            "Requirement already satisfied: pytz>=2017.2 in /usr/local/lib/python3.7/dist-packages (from pandas>=0.19->pmdarima) (2018.9)\n",
            "Requirement already satisfied: six>=1.5 in /usr/local/lib/python3.7/dist-packages (from python-dateutil>=2.7.3->pandas>=0.19->pmdarima) (1.15.0)\n",
            "Requirement already satisfied: patsy>=0.5 in /usr/local/lib/python3.7/dist-packages (from statsmodels!=0.12.0,>=0.11->pmdarima) (0.5.1)\n",
            "Installing collected packages: statsmodels, pmdarima\n",
            "  Attempting uninstall: statsmodels\n",
            "    Found existing installation: statsmodels 0.10.2\n",
            "    Uninstalling statsmodels-0.10.2:\n",
            "      Successfully uninstalled statsmodels-0.10.2\n",
            "Successfully installed pmdarima-1.8.2 statsmodels-0.12.2\n"
          ],
          "name": "stdout"
        }
      ]
    },
    {
      "cell_type": "code",
      "metadata": {
        "id": "vNqppYTGxPxJ"
      },
      "source": [
        "import pandas as pd\n",
        "import numpy as np\n",
        "%matplotlib inline\n",
        "import pmdarima as pm\n",
        "\n",
        "# Load specific forecasting tools\n",
        "from statsmodels.tsa.statespace.sarimax import SARIMAX\n",
        "\n",
        "from statsmodels.graphics.tsaplots import plot_acf,plot_pacf # for determining (p,q) orders\n",
        "from statsmodels.tsa.seasonal import seasonal_decompose      # for ETS Plots\n",
        "from pmdarima import auto_arima                              # for determining ARIMA orders\n",
        "\n",
        "# Ignore harmless warnings\n",
        "import warnings\n",
        "warnings.filterwarnings(\"ignore\")\n"
      ],
      "execution_count": null,
      "outputs": []
    },
    {
      "cell_type": "code",
      "metadata": {
        "colab": {
          "base_uri": "https://localhost:8080/",
          "height": 238
        },
        "id": "SGiPPHRJxXx4",
        "outputId": "57a58b42-b9dc-46eb-f61e-f54928cf8c61"
      },
      "source": [
        "path = \"https://github.com/RiddhimanRaut/Deep-Learning-based-CPR-estimation/blob/main/Aug_2020_Jan_2021.xlsx?raw=true\"\n",
        "df = pd.read_excel(path)\n",
        "df = df.dropna()\n",
        "date_time = pd.to_datetime(df.pop('Date Time'), format='%d.%m.%Y %H:%M:%S')\n",
        "df.index = date_time\n",
        "df.head()"
      ],
      "execution_count": null,
      "outputs": [
        {
          "output_type": "execute_result",
          "data": {
            "text/html": [
              "<div>\n",
              "<style scoped>\n",
              "    .dataframe tbody tr th:only-of-type {\n",
              "        vertical-align: middle;\n",
              "    }\n",
              "\n",
              "    .dataframe tbody tr th {\n",
              "        vertical-align: top;\n",
              "    }\n",
              "\n",
              "    .dataframe thead th {\n",
              "        text-align: right;\n",
              "    }\n",
              "</style>\n",
              "<table border=\"1\" class=\"dataframe\">\n",
              "  <thead>\n",
              "    <tr style=\"text-align: right;\">\n",
              "      <th></th>\n",
              "      <th>CPRAVG</th>\n",
              "      <th>PROP</th>\n",
              "      <th>BUT</th>\n",
              "      <th>FLW</th>\n",
              "      <th>COT</th>\n",
              "      <th>TEMP</th>\n",
              "      <th>PRESS</th>\n",
              "      <th>DRAFT</th>\n",
              "      <th>ETH</th>\n",
              "    </tr>\n",
              "    <tr>\n",
              "      <th>Date Time</th>\n",
              "      <th></th>\n",
              "      <th></th>\n",
              "      <th></th>\n",
              "      <th></th>\n",
              "      <th></th>\n",
              "      <th></th>\n",
              "      <th></th>\n",
              "      <th></th>\n",
              "      <th></th>\n",
              "    </tr>\n",
              "  </thead>\n",
              "  <tbody>\n",
              "    <tr>\n",
              "      <th>2020-08-01 06:00:00</th>\n",
              "      <td>0.552571</td>\n",
              "      <td>15.46483</td>\n",
              "      <td>3.331099</td>\n",
              "      <td>27302.169922</td>\n",
              "      <td>851.987457</td>\n",
              "      <td>657.617325</td>\n",
              "      <td>0.477837</td>\n",
              "      <td>-4.472712</td>\n",
              "      <td>79.803261</td>\n",
              "    </tr>\n",
              "    <tr>\n",
              "      <th>2020-08-01 06:10:00</th>\n",
              "      <td>0.552694</td>\n",
              "      <td>15.90670</td>\n",
              "      <td>3.463089</td>\n",
              "      <td>27307.130859</td>\n",
              "      <td>851.831329</td>\n",
              "      <td>656.870697</td>\n",
              "      <td>0.470079</td>\n",
              "      <td>-4.463849</td>\n",
              "      <td>79.236847</td>\n",
              "    </tr>\n",
              "    <tr>\n",
              "      <th>2020-08-01 06:20:00</th>\n",
              "      <td>0.552795</td>\n",
              "      <td>15.91155</td>\n",
              "      <td>3.440511</td>\n",
              "      <td>27312.089844</td>\n",
              "      <td>852.074249</td>\n",
              "      <td>657.570480</td>\n",
              "      <td>0.475148</td>\n",
              "      <td>-4.467927</td>\n",
              "      <td>79.277817</td>\n",
              "    </tr>\n",
              "    <tr>\n",
              "      <th>2020-08-01 06:30:00</th>\n",
              "      <td>0.552883</td>\n",
              "      <td>15.92818</td>\n",
              "      <td>3.462565</td>\n",
              "      <td>27317.050781</td>\n",
              "      <td>852.018509</td>\n",
              "      <td>657.838837</td>\n",
              "      <td>0.478610</td>\n",
              "      <td>-4.467236</td>\n",
              "      <td>79.265282</td>\n",
              "    </tr>\n",
              "    <tr>\n",
              "      <th>2020-08-01 06:40:00</th>\n",
              "      <td>0.552948</td>\n",
              "      <td>15.96785</td>\n",
              "      <td>3.537904</td>\n",
              "      <td>27322.019531</td>\n",
              "      <td>851.803070</td>\n",
              "      <td>656.919052</td>\n",
              "      <td>0.473484</td>\n",
              "      <td>-4.440002</td>\n",
              "      <td>79.184639</td>\n",
              "    </tr>\n",
              "  </tbody>\n",
              "</table>\n",
              "</div>"
            ],
            "text/plain": [
              "                       CPRAVG     PROP   ...     DRAFT        ETH\n",
              "Date Time                                ...                     \n",
              "2020-08-01 06:00:00  0.552571  15.46483  ... -4.472712  79.803261\n",
              "2020-08-01 06:10:00  0.552694  15.90670  ... -4.463849  79.236847\n",
              "2020-08-01 06:20:00  0.552795  15.91155  ... -4.467927  79.277817\n",
              "2020-08-01 06:30:00  0.552883  15.92818  ... -4.467236  79.265282\n",
              "2020-08-01 06:40:00  0.552948  15.96785  ... -4.440002  79.184639\n",
              "\n",
              "[5 rows x 9 columns]"
            ]
          },
          "metadata": {
            "tags": []
          },
          "execution_count": 3
        }
      ]
    },
    {
      "cell_type": "code",
      "metadata": {
        "colab": {
          "base_uri": "https://localhost:8080/",
          "height": 424
        },
        "id": "G1UUTtTjzive",
        "outputId": "8e102b24-57b9-4292-8e64-25106e8e39cd"
      },
      "source": [
        "number_of_days = (df.shape[0]//144)+1 #// for integer division\n",
        "number_of_extra_rows = df.shape[0]%144\n",
        "df_days = df.rolling(144).mean().dropna()\n",
        "df_days = df_days.iloc[::144,:]\n",
        "df_extra = df[86*144:df.shape[0]].mean()\n",
        "df_days = df_days.append(df_extra,ignore_index=True)\n",
        "df_days"
      ],
      "execution_count": null,
      "outputs": [
        {
          "output_type": "execute_result",
          "data": {
            "text/html": [
              "<div>\n",
              "<style scoped>\n",
              "    .dataframe tbody tr th:only-of-type {\n",
              "        vertical-align: middle;\n",
              "    }\n",
              "\n",
              "    .dataframe tbody tr th {\n",
              "        vertical-align: top;\n",
              "    }\n",
              "\n",
              "    .dataframe thead th {\n",
              "        text-align: right;\n",
              "    }\n",
              "</style>\n",
              "<table border=\"1\" class=\"dataframe\">\n",
              "  <thead>\n",
              "    <tr style=\"text-align: right;\">\n",
              "      <th></th>\n",
              "      <th>CPRAVG</th>\n",
              "      <th>PROP</th>\n",
              "      <th>BUT</th>\n",
              "      <th>FLW</th>\n",
              "      <th>COT</th>\n",
              "      <th>TEMP</th>\n",
              "      <th>PRESS</th>\n",
              "      <th>DRAFT</th>\n",
              "      <th>ETH</th>\n",
              "    </tr>\n",
              "  </thead>\n",
              "  <tbody>\n",
              "    <tr>\n",
              "      <th>0</th>\n",
              "      <td>0.551781</td>\n",
              "      <td>16.736688</td>\n",
              "      <td>3.527453</td>\n",
              "      <td>27423.625597</td>\n",
              "      <td>851.213032</td>\n",
              "      <td>656.232086</td>\n",
              "      <td>0.474724</td>\n",
              "      <td>-4.456138</td>\n",
              "      <td>78.610182</td>\n",
              "    </tr>\n",
              "    <tr>\n",
              "      <th>1</th>\n",
              "      <td>0.552217</td>\n",
              "      <td>16.426507</td>\n",
              "      <td>3.357397</td>\n",
              "      <td>27392.391832</td>\n",
              "      <td>851.974807</td>\n",
              "      <td>658.743587</td>\n",
              "      <td>0.475176</td>\n",
              "      <td>-4.428111</td>\n",
              "      <td>79.124997</td>\n",
              "    </tr>\n",
              "    <tr>\n",
              "      <th>2</th>\n",
              "      <td>0.554570</td>\n",
              "      <td>16.520457</td>\n",
              "      <td>3.222832</td>\n",
              "      <td>27370.677151</td>\n",
              "      <td>852.021264</td>\n",
              "      <td>657.712425</td>\n",
              "      <td>0.475564</td>\n",
              "      <td>-4.406658</td>\n",
              "      <td>79.056077</td>\n",
              "    </tr>\n",
              "    <tr>\n",
              "      <th>3</th>\n",
              "      <td>0.556584</td>\n",
              "      <td>15.607427</td>\n",
              "      <td>3.371049</td>\n",
              "      <td>27250.233114</td>\n",
              "      <td>851.937782</td>\n",
              "      <td>658.086404</td>\n",
              "      <td>0.475312</td>\n",
              "      <td>-4.407059</td>\n",
              "      <td>79.672467</td>\n",
              "    </tr>\n",
              "    <tr>\n",
              "      <th>4</th>\n",
              "      <td>0.558787</td>\n",
              "      <td>15.285906</td>\n",
              "      <td>3.274519</td>\n",
              "      <td>27313.142036</td>\n",
              "      <td>851.996744</td>\n",
              "      <td>656.613482</td>\n",
              "      <td>0.474936</td>\n",
              "      <td>-4.407986</td>\n",
              "      <td>79.944559</td>\n",
              "    </tr>\n",
              "    <tr>\n",
              "      <th>...</th>\n",
              "      <td>...</td>\n",
              "      <td>...</td>\n",
              "      <td>...</td>\n",
              "      <td>...</td>\n",
              "      <td>...</td>\n",
              "      <td>...</td>\n",
              "      <td>...</td>\n",
              "      <td>...</td>\n",
              "      <td>...</td>\n",
              "    </tr>\n",
              "    <tr>\n",
              "      <th>176</th>\n",
              "      <td>0.371157</td>\n",
              "      <td>24.818784</td>\n",
              "      <td>4.324998</td>\n",
              "      <td>0.000000</td>\n",
              "      <td>851.272438</td>\n",
              "      <td>725.036737</td>\n",
              "      <td>0.481156</td>\n",
              "      <td>-4.684950</td>\n",
              "      <td>68.890947</td>\n",
              "    </tr>\n",
              "    <tr>\n",
              "      <th>177</th>\n",
              "      <td>0.428648</td>\n",
              "      <td>25.228275</td>\n",
              "      <td>4.220903</td>\n",
              "      <td>18221.388206</td>\n",
              "      <td>827.153755</td>\n",
              "      <td>667.686405</td>\n",
              "      <td>0.482934</td>\n",
              "      <td>-4.805542</td>\n",
              "      <td>67.326352</td>\n",
              "    </tr>\n",
              "    <tr>\n",
              "      <th>178</th>\n",
              "      <td>0.455254</td>\n",
              "      <td>25.097550</td>\n",
              "      <td>4.390245</td>\n",
              "      <td>27116.935384</td>\n",
              "      <td>836.400483</td>\n",
              "      <td>648.666331</td>\n",
              "      <td>0.484263</td>\n",
              "      <td>-4.737650</td>\n",
              "      <td>67.496441</td>\n",
              "    </tr>\n",
              "    <tr>\n",
              "      <th>179</th>\n",
              "      <td>0.463183</td>\n",
              "      <td>25.173927</td>\n",
              "      <td>4.354998</td>\n",
              "      <td>27401.301826</td>\n",
              "      <td>844.673694</td>\n",
              "      <td>648.582769</td>\n",
              "      <td>0.484465</td>\n",
              "      <td>-4.906785</td>\n",
              "      <td>67.686970</td>\n",
              "    </tr>\n",
              "    <tr>\n",
              "      <th>180</th>\n",
              "      <td>0.522030</td>\n",
              "      <td>22.851216</td>\n",
              "      <td>3.806293</td>\n",
              "      <td>24743.466622</td>\n",
              "      <td>804.253299</td>\n",
              "      <td>616.697318</td>\n",
              "      <td>0.484157</td>\n",
              "      <td>-4.750641</td>\n",
              "      <td>71.731205</td>\n",
              "    </tr>\n",
              "  </tbody>\n",
              "</table>\n",
              "<p>181 rows × 9 columns</p>\n",
              "</div>"
            ],
            "text/plain": [
              "       CPRAVG      PROP        BUT  ...     PRESS     DRAFT        ETH\n",
              "0    0.551781  16.736688  3.527453  ...  0.474724 -4.456138  78.610182\n",
              "1    0.552217  16.426507  3.357397  ...  0.475176 -4.428111  79.124997\n",
              "2    0.554570  16.520457  3.222832  ...  0.475564 -4.406658  79.056077\n",
              "3    0.556584  15.607427  3.371049  ...  0.475312 -4.407059  79.672467\n",
              "4    0.558787  15.285906  3.274519  ...  0.474936 -4.407986  79.944559\n",
              "..        ...        ...       ...  ...       ...       ...        ...\n",
              "176  0.371157  24.818784  4.324998  ...  0.481156 -4.684950  68.890947\n",
              "177  0.428648  25.228275  4.220903  ...  0.482934 -4.805542  67.326352\n",
              "178  0.455254  25.097550  4.390245  ...  0.484263 -4.737650  67.496441\n",
              "179  0.463183  25.173927  4.354998  ...  0.484465 -4.906785  67.686970\n",
              "180  0.522030  22.851216  3.806293  ...  0.484157 -4.750641  71.731205\n",
              "\n",
              "[181 rows x 9 columns]"
            ]
          },
          "metadata": {
            "tags": []
          },
          "execution_count": 4
        }
      ]
    },
    {
      "cell_type": "code",
      "metadata": {
        "id": "w7xcxVrub-4g",
        "colab": {
          "base_uri": "https://localhost:8080/",
          "height": 313
        },
        "outputId": "9c0ccc9b-0bcb-4dab-a889-dac00965a16f"
      },
      "source": [
        "df = df_days\n",
        "#Plotting the CPRAVG data\n",
        "\n",
        "import matplotlib.pyplot as plt\n",
        "plt.title('Average CPR values with time')\n",
        "plt.xlabel('Date')\n",
        "plt.ylabel('Avg. CPR')\n",
        "plt.plot(df['CPRAVG'],color = 'blue')"
      ],
      "execution_count": null,
      "outputs": [
        {
          "output_type": "execute_result",
          "data": {
            "text/plain": [
              "[<matplotlib.lines.Line2D at 0x7f1ccffff210>]"
            ]
          },
          "metadata": {
            "tags": []
          },
          "execution_count": 5
        },
        {
          "output_type": "display_data",
          "data": {
            "image/png": "[encoded data removed]",
            "text/plain": [
              "<Figure size 432x288 with 1 Axes>"
            ]
          },
          "metadata": {
            "tags": [],
            "needs_background": "light"
          }
        }
      ]
    },
    {
      "cell_type": "code",
      "metadata": {
        "id": "7nxRC2Cacw5x",
        "colab": {
          "base_uri": "https://localhost:8080/"
        },
        "outputId": "9ef4a809-a44d-43f9-bcdc-8a4a70cbff96"
      },
      "source": [
        "#Printing list of columns:\n",
        "cols = list(df)[0:df.shape[1]]\n",
        "print(cols)"
      ],
      "execution_count": null,
      "outputs": [
        {
          "output_type": "stream",
          "text": [
            "['CPRAVG', 'PROP ', 'BUT', 'FLW', 'COT', 'TEMP', 'PRESS', 'DRAFT', 'ETH']\n"
          ],
          "name": "stdout"
        }
      ]
    },
    {
      "cell_type": "code",
      "metadata": {
        "id": "tC9BFKA0c1yQ"
      },
      "source": [
        "from statsmodels.tsa.stattools import adfuller\n",
        "\n",
        "def adf_test(series,title=''):\n",
        "    \"\"\"\n",
        "    Pass in a time series and an optional title, returns an ADF report\n",
        "    \"\"\"\n",
        "    print(f'Augmented Dickey-Fuller Test: {title}')\n",
        "    result = adfuller(series.dropna(),autolag='AIC') # .dropna() handles differenced data\n",
        "    \n",
        "    labels = ['ADF test statistic','p-value','# lags used','# observations']\n",
        "    out = pd.Series(result[0:4],index=labels)\n",
        "\n",
        "    for key,val in result[4].items():\n",
        "        out[f'critical value ({key})']=val\n",
        "        \n",
        "    print(out.to_string())          # .to_string() removes the line \"dtype: float64\"\n",
        "    \n",
        "    if result[1] <= 0.05:\n",
        "        print(\"Strong evidence against the null hypothesis\")\n",
        "        print(\"Reject the null hypothesis\")\n",
        "        print(\"Data has no unit root and is stationary\")\n",
        "    else:\n",
        "        print(\"Weak evidence against the null hypothesis\")\n",
        "        print(\"Fail to reject the null hypothesis\")\n",
        "        print(\"Data has a unit root and is non-stationary\")"
      ],
      "execution_count": null,
      "outputs": []
    },
    {
      "cell_type": "code",
      "metadata": {
        "id": "TE4ylluCdCrR",
        "colab": {
          "base_uri": "https://localhost:8080/"
        },
        "outputId": "f0a6e4d8-a7b9-4070-b895-c99bc51f046f"
      },
      "source": [
        "adf_test(df['CPRAVG'])"
      ],
      "execution_count": null,
      "outputs": [
        {
          "output_type": "stream",
          "text": [
            "Augmented Dickey-Fuller Test: \n",
            "ADF test statistic       -3.276757\n",
            "p-value                   0.015950\n",
            "# lags used               9.000000\n",
            "# observations          171.000000\n",
            "critical value (1%)      -3.469181\n",
            "critical value (5%)      -2.878595\n",
            "critical value (10%)     -2.575863\n",
            "Strong evidence against the null hypothesis\n",
            "Reject the null hypothesis\n",
            "Data has no unit root and is stationary\n"
          ],
          "name": "stdout"
        }
      ]
    },
    {
      "cell_type": "code",
      "metadata": {
        "id": "8d1fc5E8e9SF",
        "colab": {
          "base_uri": "https://localhost:8080/",
          "height": 283
        },
        "outputId": "39e36fa5-3dab-4bfe-d9e0-b81ea76860fa"
      },
      "source": [
        "#Differencing the data.\n",
        "diff_df = df['CPRAVG'].diff().dropna()\n",
        "plt.plot(diff_df)"
      ],
      "execution_count": null,
      "outputs": [
        {
          "output_type": "execute_result",
          "data": {
            "text/plain": [
              "[<matplotlib.lines.Line2D at 0x7f1ccf4f97d0>]"
            ]
          },
          "metadata": {
            "tags": []
          },
          "execution_count": 9
        },
        {
          "output_type": "display_data",
          "data": {
            "image/png": "[encoded data removed]",
            "text/plain": [
              "<Figure size 432x288 with 1 Axes>"
            ]
          },
          "metadata": {
            "tags": [],
            "needs_background": "light"
          }
        }
      ]
    },
    {
      "cell_type": "code",
      "metadata": {
        "id": "ddTGr4m0gvug",
        "colab": {
          "base_uri": "https://localhost:8080/"
        },
        "outputId": "d42fef7a-6c0f-4abb-b19e-3fcc9d519528"
      },
      "source": [
        "adf_test(diff_df)"
      ],
      "execution_count": null,
      "outputs": [
        {
          "output_type": "stream",
          "text": [
            "Augmented Dickey-Fuller Test: \n",
            "ADF test statistic       -5.160007\n",
            "p-value                   0.000011\n",
            "# lags used              13.000000\n",
            "# observations          166.000000\n",
            "critical value (1%)      -3.470370\n",
            "critical value (5%)      -2.879114\n",
            "critical value (10%)     -2.576139\n",
            "Strong evidence against the null hypothesis\n",
            "Reject the null hypothesis\n",
            "Data has no unit root and is stationary\n"
          ],
          "name": "stdout"
        }
      ]
    },
    {
      "cell_type": "code",
      "metadata": {
        "id": "A-fvwTwzfEku",
        "colab": {
          "base_uri": "https://localhost:8080/",
          "height": 283
        },
        "outputId": "35732b82-fd9a-479f-c45d-22769ea51c58"
      },
      "source": [
        "#Second Differencing the data.\n",
        "diff_df2 = diff_df.diff().dropna()\n",
        "plt.plot(diff_df2)"
      ],
      "execution_count": null,
      "outputs": [
        {
          "output_type": "execute_result",
          "data": {
            "text/plain": [
              "[<matplotlib.lines.Line2D at 0x7f1ccfdebdd0>]"
            ]
          },
          "metadata": {
            "tags": []
          },
          "execution_count": 11
        },
        {
          "output_type": "display_data",
          "data": {
            "image/png": "[encoded data removed]",
            "text/plain": [
              "<Figure size 432x288 with 1 Axes>"
            ]
          },
          "metadata": {
            "tags": [],
            "needs_background": "light"
          }
        }
      ]
    },
    {
      "cell_type": "code",
      "metadata": {
        "id": "M0DFF1c7hBQh",
        "colab": {
          "base_uri": "https://localhost:8080/"
        },
        "outputId": "f31fdeaf-3c40-4403-a01f-2024cb752754"
      },
      "source": [
        "adf_test(diff_df2)"
      ],
      "execution_count": null,
      "outputs": [
        {
          "output_type": "stream",
          "text": [
            "Augmented Dickey-Fuller Test: \n",
            "ADF test statistic     -7.877825e+00\n",
            "p-value                 4.791120e-12\n",
            "# lags used             1.100000e+01\n",
            "# observations          1.670000e+02\n",
            "critical value (1%)    -3.470126e+00\n",
            "critical value (5%)    -2.879008e+00\n",
            "critical value (10%)   -2.576083e+00\n",
            "Strong evidence against the null hypothesis\n",
            "Reject the null hypothesis\n",
            "Data has no unit root and is stationary\n"
          ],
          "name": "stdout"
        }
      ]
    },
    {
      "cell_type": "code",
      "metadata": {
        "id": "f4Jc6KIffUId",
        "colab": {
          "base_uri": "https://localhost:8080/",
          "height": 809
        },
        "outputId": "a05e306b-63f8-4933-ee2e-50704dc80ee8"
      },
      "source": [
        "#PACF\n",
        "plot_pacf(df['CPRAVG'],lags = 40)\n",
        "plt.title('PACF of original data')\n",
        "plt.show()\n",
        "\n",
        "plot_pacf(diff_df,lags = 40)\n",
        "plt.title('PACF of differenced data')\n",
        "plt.show()\n",
        "\n",
        "plot_pacf(diff_df2,lags = 40)\n",
        "plt.title('PACF of second differenced data')\n",
        "plt.show()"
      ],
      "execution_count": null,
      "outputs": [
        {
          "output_type": "display_data",
          "data": {
            "image/png": "[encoded data removed]",
            "text/plain": [
              "<Figure size 432x288 with 1 Axes>"
            ]
          },
          "metadata": {
            "tags": [],
            "needs_background": "light"
          }
        },
        {
          "output_type": "display_data",
          "data": {
            "image/png": "[encoded data removed]",
            "text/plain": [
              "<Figure size 432x288 with 1 Axes>"
            ]
          },
          "metadata": {
            "tags": [],
            "needs_background": "light"
          }
        },
        {
          "output_type": "display_data",
          "data": {
            "image/png": "[encoded data removed]",
            "text/plain": [
              "<Figure size 432x288 with 1 Axes>"
            ]
          },
          "metadata": {
            "tags": [],
            "needs_background": "light"
          }
        }
      ]
    },
    {
      "cell_type": "code",
      "metadata": {
        "id": "XedRzFy0dMUx",
        "colab": {
          "base_uri": "https://localhost:8080/",
          "height": 494
        },
        "outputId": "fbb31a7c-e8bf-4555-eb59-8c2131d55c96"
      },
      "source": [
        "auto_arima(df['CPRAVG'],max_p=10,max_d=10,max_q=10,seasonal=False,m=1).summary()"
      ],
      "execution_count": null,
      "outputs": [
        {
          "output_type": "execute_result",
          "data": {
            "text/html": [
              "<table class=\"simpletable\">\n",
              "<caption>SARIMAX Results</caption>\n",
              "<tr>\n",
              "  <th>Dep. Variable:</th>           <td>y</td>        <th>  No. Observations:  </th>    <td>181</td>  \n",
              "</tr>\n",
              "<tr>\n",
              "  <th>Model:</th>           <td>SARIMAX(2, 0, 2)</td> <th>  Log Likelihood     </th>  <td>276.373</td>\n",
              "</tr>\n",
              "<tr>\n",
              "  <th>Date:</th>            <td>Tue, 17 Aug 2021</td> <th>  AIC                </th> <td>-540.747</td>\n",
              "</tr>\n",
              "<tr>\n",
              "  <th>Time:</th>                <td>04:31:32</td>     <th>  BIC                </th> <td>-521.556</td>\n",
              "</tr>\n",
              "<tr>\n",
              "  <th>Sample:</th>                  <td>0</td>        <th>  HQIC               </th> <td>-532.966</td>\n",
              "</tr>\n",
              "<tr>\n",
              "  <th></th>                      <td> - 181</td>      <th>                     </th>     <td> </td>   \n",
              "</tr>\n",
              "<tr>\n",
              "  <th>Covariance Type:</th>        <td>opg</td>       <th>                     </th>     <td> </td>   \n",
              "</tr>\n",
              "</table>\n",
              "<table class=\"simpletable\">\n",
              "<tr>\n",
              "      <td></td>         <th>coef</th>     <th>std err</th>      <th>z</th>      <th>P>|z|</th>  <th>[0.025</th>    <th>0.975]</th>  \n",
              "</tr>\n",
              "<tr>\n",
              "  <th>intercept</th> <td>    0.3815</td> <td>    0.073</td> <td>    5.211</td> <td> 0.000</td> <td>    0.238</td> <td>    0.525</td>\n",
              "</tr>\n",
              "<tr>\n",
              "  <th>ar.L1</th>     <td>   -0.2777</td> <td>    0.047</td> <td>   -5.915</td> <td> 0.000</td> <td>   -0.370</td> <td>   -0.186</td>\n",
              "</tr>\n",
              "<tr>\n",
              "  <th>ar.L2</th>     <td>    0.5430</td> <td>    0.093</td> <td>    5.824</td> <td> 0.000</td> <td>    0.360</td> <td>    0.726</td>\n",
              "</tr>\n",
              "<tr>\n",
              "  <th>ma.L1</th>     <td>    1.2615</td> <td>    0.037</td> <td>   34.078</td> <td> 0.000</td> <td>    1.189</td> <td>    1.334</td>\n",
              "</tr>\n",
              "<tr>\n",
              "  <th>ma.L2</th>     <td>    0.4490</td> <td>    0.034</td> <td>   13.044</td> <td> 0.000</td> <td>    0.382</td> <td>    0.516</td>\n",
              "</tr>\n",
              "<tr>\n",
              "  <th>sigma2</th>    <td>    0.0027</td> <td>    0.000</td> <td>   26.745</td> <td> 0.000</td> <td>    0.003</td> <td>    0.003</td>\n",
              "</tr>\n",
              "</table>\n",
              "<table class=\"simpletable\">\n",
              "<tr>\n",
              "  <th>Ljung-Box (L1) (Q):</th>     <td>0.01</td>  <th>  Jarque-Bera (JB):  </th> <td>5019.96</td>\n",
              "</tr>\n",
              "<tr>\n",
              "  <th>Prob(Q):</th>                <td>0.91</td>  <th>  Prob(JB):          </th>  <td>0.00</td>  \n",
              "</tr>\n",
              "<tr>\n",
              "  <th>Heteroskedasticity (H):</th> <td>25.52</td> <th>  Skew:              </th>  <td>1.03</td>  \n",
              "</tr>\n",
              "<tr>\n",
              "  <th>Prob(H) (two-sided):</th>    <td>0.00</td>  <th>  Kurtosis:          </th>  <td>28.72</td> \n",
              "</tr>\n",
              "</table><br/><br/>Warnings:<br/>[1] Covariance matrix calculated using the outer product of gradients (complex-step)."
            ],
            "text/plain": [
              "<class 'statsmodels.iolib.summary.Summary'>\n",
              "\"\"\"\n",
              "                               SARIMAX Results                                \n",
              "==============================================================================\n",
              "Dep. Variable:                      y   No. Observations:                  181\n",
              "Model:               SARIMAX(2, 0, 2)   Log Likelihood                 276.373\n",
              "Date:                Tue, 17 Aug 2021   AIC                           -540.747\n",
              "Time:                        04:31:32   BIC                           -521.556\n",
              "Sample:                             0   HQIC                          -532.966\n",
              "                                - 181                                         \n",
              "Covariance Type:                  opg                                         \n",
              "==============================================================================\n",
              "                 coef    std err          z      P>|z|      [0.025      0.975]\n",
              "------------------------------------------------------------------------------\n",
              "intercept      0.3815      0.073      5.211      0.000       0.238       0.525\n",
              "ar.L1         -0.2777      0.047     -5.915      0.000      -0.370      -0.186\n",
              "ar.L2          0.5430      0.093      5.824      0.000       0.360       0.726\n",
              "ma.L1          1.2615      0.037     34.078      0.000       1.189       1.334\n",
              "ma.L2          0.4490      0.034     13.044      0.000       0.382       0.516\n",
              "sigma2         0.0027      0.000     26.745      0.000       0.003       0.003\n",
              "===================================================================================\n",
              "Ljung-Box (L1) (Q):                   0.01   Jarque-Bera (JB):              5019.96\n",
              "Prob(Q):                              0.91   Prob(JB):                         0.00\n",
              "Heteroskedasticity (H):              25.52   Skew:                             1.03\n",
              "Prob(H) (two-sided):                  0.00   Kurtosis:                        28.72\n",
              "===================================================================================\n",
              "\n",
              "Warnings:\n",
              "[1] Covariance matrix calculated using the outer product of gradients (complex-step).\n",
              "\"\"\""
            ]
          },
          "metadata": {
            "tags": []
          },
          "execution_count": 14
        }
      ]
    },
    {
      "cell_type": "code",
      "metadata": {
        "id": "3i8K0QgHdQ2p",
        "colab": {
          "base_uri": "https://localhost:8080/",
          "height": 206
        },
        "outputId": "67dcdbc6-57f8-479a-9264-f324a05e42c0"
      },
      "source": [
        "#Splitting the data:\n",
        "split_length = 0.7\n",
        "train_df = df[0:int(split_length*df.shape[0])]\n",
        "val_df = df[int(split_length*df.shape[0]):df.shape[0]]\n",
        "train_df.head()"
      ],
      "execution_count": null,
      "outputs": [
        {
          "output_type": "execute_result",
          "data": {
            "text/html": [
              "<div>\n",
              "<style scoped>\n",
              "    .dataframe tbody tr th:only-of-type {\n",
              "        vertical-align: middle;\n",
              "    }\n",
              "\n",
              "    .dataframe tbody tr th {\n",
              "        vertical-align: top;\n",
              "    }\n",
              "\n",
              "    .dataframe thead th {\n",
              "        text-align: right;\n",
              "    }\n",
              "</style>\n",
              "<table border=\"1\" class=\"dataframe\">\n",
              "  <thead>\n",
              "    <tr style=\"text-align: right;\">\n",
              "      <th></th>\n",
              "      <th>CPRAVG</th>\n",
              "      <th>PROP</th>\n",
              "      <th>BUT</th>\n",
              "      <th>FLW</th>\n",
              "      <th>COT</th>\n",
              "      <th>TEMP</th>\n",
              "      <th>PRESS</th>\n",
              "      <th>DRAFT</th>\n",
              "      <th>ETH</th>\n",
              "    </tr>\n",
              "  </thead>\n",
              "  <tbody>\n",
              "    <tr>\n",
              "      <th>0</th>\n",
              "      <td>0.551781</td>\n",
              "      <td>16.736688</td>\n",
              "      <td>3.527453</td>\n",
              "      <td>27423.625597</td>\n",
              "      <td>851.213032</td>\n",
              "      <td>656.232086</td>\n",
              "      <td>0.474724</td>\n",
              "      <td>-4.456138</td>\n",
              "      <td>78.610182</td>\n",
              "    </tr>\n",
              "    <tr>\n",
              "      <th>1</th>\n",
              "      <td>0.552217</td>\n",
              "      <td>16.426507</td>\n",
              "      <td>3.357397</td>\n",
              "      <td>27392.391832</td>\n",
              "      <td>851.974807</td>\n",
              "      <td>658.743587</td>\n",
              "      <td>0.475176</td>\n",
              "      <td>-4.428111</td>\n",
              "      <td>79.124997</td>\n",
              "    </tr>\n",
              "    <tr>\n",
              "      <th>2</th>\n",
              "      <td>0.554570</td>\n",
              "      <td>16.520457</td>\n",
              "      <td>3.222832</td>\n",
              "      <td>27370.677151</td>\n",
              "      <td>852.021264</td>\n",
              "      <td>657.712425</td>\n",
              "      <td>0.475564</td>\n",
              "      <td>-4.406658</td>\n",
              "      <td>79.056077</td>\n",
              "    </tr>\n",
              "    <tr>\n",
              "      <th>3</th>\n",
              "      <td>0.556584</td>\n",
              "      <td>15.607427</td>\n",
              "      <td>3.371049</td>\n",
              "      <td>27250.233114</td>\n",
              "      <td>851.937782</td>\n",
              "      <td>658.086404</td>\n",
              "      <td>0.475312</td>\n",
              "      <td>-4.407059</td>\n",
              "      <td>79.672467</td>\n",
              "    </tr>\n",
              "    <tr>\n",
              "      <th>4</th>\n",
              "      <td>0.558787</td>\n",
              "      <td>15.285906</td>\n",
              "      <td>3.274519</td>\n",
              "      <td>27313.142036</td>\n",
              "      <td>851.996744</td>\n",
              "      <td>656.613482</td>\n",
              "      <td>0.474936</td>\n",
              "      <td>-4.407986</td>\n",
              "      <td>79.944559</td>\n",
              "    </tr>\n",
              "  </tbody>\n",
              "</table>\n",
              "</div>"
            ],
            "text/plain": [
              "     CPRAVG      PROP        BUT  ...     PRESS     DRAFT        ETH\n",
              "0  0.551781  16.736688  3.527453  ...  0.474724 -4.456138  78.610182\n",
              "1  0.552217  16.426507  3.357397  ...  0.475176 -4.428111  79.124997\n",
              "2  0.554570  16.520457  3.222832  ...  0.475564 -4.406658  79.056077\n",
              "3  0.556584  15.607427  3.371049  ...  0.475312 -4.407059  79.672467\n",
              "4  0.558787  15.285906  3.274519  ...  0.474936 -4.407986  79.944559\n",
              "\n",
              "[5 rows x 9 columns]"
            ]
          },
          "metadata": {
            "tags": []
          },
          "execution_count": 15
        }
      ]
    },
    {
      "cell_type": "code",
      "metadata": {
        "id": "gEp7-xiolpkG"
      },
      "source": [
        "# auto_arima(train_df['CPRAVG'],max_p=10,max_d=10,max_q=10,seasonal=False,m=1).summary()"
      ],
      "execution_count": null,
      "outputs": []
    },
    {
      "cell_type": "code",
      "metadata": {
        "id": "Jo-geLBcdg9i",
        "colab": {
          "base_uri": "https://localhost:8080/",
          "height": 623
        },
        "outputId": "9e298b3d-cd1a-43f5-8ee9-23a086b7da75"
      },
      "source": [
        "model = SARIMAX(train_df['CPRAVG'],exog = train_df[['BUT', 'FLW', 'COT', 'TEMP', 'PRESS', 'DRAFT', 'ETH']],order=(2,0,2),enforce_invertibility=False)\n",
        "results = model.fit()\n",
        "results.summary()"
      ],
      "execution_count": null,
      "outputs": [
        {
          "output_type": "execute_result",
          "data": {
            "text/html": [
              "<table class=\"simpletable\">\n",
              "<caption>SARIMAX Results</caption>\n",
              "<tr>\n",
              "  <th>Dep. Variable:</th>        <td>CPRAVG</td>      <th>  No. Observations:  </th>    <td>126</td>  \n",
              "</tr>\n",
              "<tr>\n",
              "  <th>Model:</th>           <td>SARIMAX(2, 0, 2)</td> <th>  Log Likelihood     </th>  <td>324.259</td>\n",
              "</tr>\n",
              "<tr>\n",
              "  <th>Date:</th>            <td>Tue, 17 Aug 2021</td> <th>  AIC                </th> <td>-624.519</td>\n",
              "</tr>\n",
              "<tr>\n",
              "  <th>Time:</th>                <td>04:31:33</td>     <th>  BIC                </th> <td>-590.483</td>\n",
              "</tr>\n",
              "<tr>\n",
              "  <th>Sample:</th>                  <td>0</td>        <th>  HQIC               </th> <td>-610.691</td>\n",
              "</tr>\n",
              "<tr>\n",
              "  <th></th>                      <td> - 126</td>      <th>                     </th>     <td> </td>   \n",
              "</tr>\n",
              "<tr>\n",
              "  <th>Covariance Type:</th>        <td>opg</td>       <th>                     </th>     <td> </td>   \n",
              "</tr>\n",
              "</table>\n",
              "<table class=\"simpletable\">\n",
              "<tr>\n",
              "     <td></td>       <th>coef</th>     <th>std err</th>      <th>z</th>      <th>P>|z|</th>  <th>[0.025</th>    <th>0.975]</th>  \n",
              "</tr>\n",
              "<tr>\n",
              "  <th>BUT</th>    <td>   -0.0207</td> <td>    0.008</td> <td>   -2.500</td> <td> 0.012</td> <td>   -0.037</td> <td>   -0.004</td>\n",
              "</tr>\n",
              "<tr>\n",
              "  <th>FLW</th>    <td> 2.856e-06</td> <td> 6.79e-07</td> <td>    4.208</td> <td> 0.000</td> <td> 1.53e-06</td> <td> 4.19e-06</td>\n",
              "</tr>\n",
              "<tr>\n",
              "  <th>COT</th>    <td>-9.746e-06</td> <td>    0.000</td> <td>   -0.073</td> <td> 0.942</td> <td>   -0.000</td> <td>    0.000</td>\n",
              "</tr>\n",
              "<tr>\n",
              "  <th>TEMP</th>   <td>    0.0002</td> <td>    0.000</td> <td>    0.745</td> <td> 0.457</td> <td>   -0.000</td> <td>    0.001</td>\n",
              "</tr>\n",
              "<tr>\n",
              "  <th>PRESS</th>  <td>   -0.3111</td> <td>    0.406</td> <td>   -0.765</td> <td> 0.444</td> <td>   -1.108</td> <td>    0.485</td>\n",
              "</tr>\n",
              "<tr>\n",
              "  <th>DRAFT</th>  <td>   -0.0588</td> <td>    0.011</td> <td>   -5.596</td> <td> 0.000</td> <td>   -0.079</td> <td>   -0.038</td>\n",
              "</tr>\n",
              "<tr>\n",
              "  <th>ETH</th>    <td>    0.0038</td> <td>    0.001</td> <td>    2.820</td> <td> 0.005</td> <td>    0.001</td> <td>    0.007</td>\n",
              "</tr>\n",
              "<tr>\n",
              "  <th>ar.L1</th>  <td>    0.7388</td> <td>    0.732</td> <td>    1.009</td> <td> 0.313</td> <td>   -0.696</td> <td>    2.174</td>\n",
              "</tr>\n",
              "<tr>\n",
              "  <th>ar.L2</th>  <td>    0.0968</td> <td>    0.533</td> <td>    0.182</td> <td> 0.856</td> <td>   -0.948</td> <td>    1.142</td>\n",
              "</tr>\n",
              "<tr>\n",
              "  <th>ma.L1</th>  <td>    0.1235</td> <td>    0.721</td> <td>    0.171</td> <td> 0.864</td> <td>   -1.290</td> <td>    1.537</td>\n",
              "</tr>\n",
              "<tr>\n",
              "  <th>ma.L2</th>  <td>   -0.3041</td> <td>    0.219</td> <td>   -1.385</td> <td> 0.166</td> <td>   -0.734</td> <td>    0.126</td>\n",
              "</tr>\n",
              "<tr>\n",
              "  <th>sigma2</th> <td>    0.0004</td> <td> 6.13e-05</td> <td>    5.763</td> <td> 0.000</td> <td>    0.000</td> <td>    0.000</td>\n",
              "</tr>\n",
              "</table>\n",
              "<table class=\"simpletable\">\n",
              "<tr>\n",
              "  <th>Ljung-Box (L1) (Q):</th>     <td>0.00</td> <th>  Jarque-Bera (JB):  </th> <td>380.29</td>\n",
              "</tr>\n",
              "<tr>\n",
              "  <th>Prob(Q):</th>                <td>0.98</td> <th>  Prob(JB):          </th>  <td>0.00</td> \n",
              "</tr>\n",
              "<tr>\n",
              "  <th>Heteroskedasticity (H):</th> <td>1.34</td> <th>  Skew:              </th>  <td>-1.83</td>\n",
              "</tr>\n",
              "<tr>\n",
              "  <th>Prob(H) (two-sided):</th>    <td>0.35</td> <th>  Kurtosis:          </th>  <td>10.69</td>\n",
              "</tr>\n",
              "</table><br/><br/>Warnings:<br/>[1] Covariance matrix calculated using the outer product of gradients (complex-step)."
            ],
            "text/plain": [
              "<class 'statsmodels.iolib.summary.Summary'>\n",
              "\"\"\"\n",
              "                               SARIMAX Results                                \n",
              "==============================================================================\n",
              "Dep. Variable:                 CPRAVG   No. Observations:                  126\n",
              "Model:               SARIMAX(2, 0, 2)   Log Likelihood                 324.259\n",
              "Date:                Tue, 17 Aug 2021   AIC                           -624.519\n",
              "Time:                        04:31:33   BIC                           -590.483\n",
              "Sample:                             0   HQIC                          -610.691\n",
              "                                - 126                                         \n",
              "Covariance Type:                  opg                                         \n",
              "==============================================================================\n",
              "                 coef    std err          z      P>|z|      [0.025      0.975]\n",
              "------------------------------------------------------------------------------\n",
              "BUT           -0.0207      0.008     -2.500      0.012      -0.037      -0.004\n",
              "FLW         2.856e-06   6.79e-07      4.208      0.000    1.53e-06    4.19e-06\n",
              "COT        -9.746e-06      0.000     -0.073      0.942      -0.000       0.000\n",
              "TEMP           0.0002      0.000      0.745      0.457      -0.000       0.001\n",
              "PRESS         -0.3111      0.406     -0.765      0.444      -1.108       0.485\n",
              "DRAFT         -0.0588      0.011     -5.596      0.000      -0.079      -0.038\n",
              "ETH            0.0038      0.001      2.820      0.005       0.001       0.007\n",
              "ar.L1          0.7388      0.732      1.009      0.313      -0.696       2.174\n",
              "ar.L2          0.0968      0.533      0.182      0.856      -0.948       1.142\n",
              "ma.L1          0.1235      0.721      0.171      0.864      -1.290       1.537\n",
              "ma.L2         -0.3041      0.219     -1.385      0.166      -0.734       0.126\n",
              "sigma2         0.0004   6.13e-05      5.763      0.000       0.000       0.000\n",
              "===================================================================================\n",
              "Ljung-Box (L1) (Q):                   0.00   Jarque-Bera (JB):               380.29\n",
              "Prob(Q):                              0.98   Prob(JB):                         0.00\n",
              "Heteroskedasticity (H):               1.34   Skew:                            -1.83\n",
              "Prob(H) (two-sided):                  0.35   Kurtosis:                        10.69\n",
              "===================================================================================\n",
              "\n",
              "Warnings:\n",
              "[1] Covariance matrix calculated using the outer product of gradients (complex-step).\n",
              "\"\"\""
            ]
          },
          "metadata": {
            "tags": []
          },
          "execution_count": 17
        }
      ]
    },
    {
      "cell_type": "code",
      "metadata": {
        "id": "-hGkmxhNdz78"
      },
      "source": [
        "start=len(train_df)\n",
        "end=df.shape[0]-1\n",
        "exog_forecast= val_df[['BUT', 'FLW', 'COT', 'TEMP', 'PRESS', 'DRAFT', 'ETH']] \n",
        "predictions = results.predict(start=start, end=end, exog=exog_forecast,dynamic = True).rename('SARIMAX(1,1,4) Predictions')"
      ],
      "execution_count": null,
      "outputs": []
    },
    {
      "cell_type": "code",
      "metadata": {
        "id": "F1qVpXood2si",
        "colab": {
          "base_uri": "https://localhost:8080/",
          "height": 283
        },
        "outputId": "3182e675-69ef-4c74-9278-ed265729f0ab"
      },
      "source": [
        "plt.plot(predictions, color = 'blue')\n",
        "plt.plot(df['CPRAVG'][start:end], color = 'red')"
      ],
      "execution_count": null,
      "outputs": [
        {
          "output_type": "execute_result",
          "data": {
            "text/plain": [
              "[<matplotlib.lines.Line2D at 0x7f1ccf37a8d0>]"
            ]
          },
          "metadata": {
            "tags": []
          },
          "execution_count": 19
        },
        {
          "output_type": "display_data",
          "data": {
            "image/png": "[encoded data removed]",
            "text/plain": [
              "<Figure size 432x288 with 1 Axes>"
            ]
          },
          "metadata": {
            "tags": [],
            "needs_background": "light"
          }
        }
      ]
    }
  ]
}