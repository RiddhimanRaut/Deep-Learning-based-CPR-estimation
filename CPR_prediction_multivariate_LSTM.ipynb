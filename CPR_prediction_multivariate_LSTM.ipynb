{
  "nbformat": 4,
  "nbformat_minor": 0,
  "metadata": {
    "colab": {
      "name": "CPR_prediction_multivariate_LSTM.ipynb",
      "provenance": [],
      "collapsed_sections": [],
      "authorship_tag": "ABX9TyNecj36zjWaWsQ++Z8V2ZOC",
      "include_colab_link": true
    },
    "kernelspec": {
      "name": "python3",
      "display_name": "Python 3"
    },
    "language_info": {
      "name": "python"
    }
  },
  "cells": [
    {
      "cell_type": "markdown",
      "metadata": {
        "id": "view-in-github",
        "colab_type": "text"
      },
      "source": [
        "<a href=\"https://colab.research.google.com/github/RiddhimanRaut/Deep-Learning-based-CPR-estimation/blob/main/CPR_prediction_multivariate_LSTM.ipynb\" target=\"_parent\"><img src=\"https://colab.research.google.com/assets/colab-badge.svg\" alt=\"Open In Colab\"/></a>"
      ]
    },
    {
      "cell_type": "code",
      "metadata": {
        "id": "KjbtJ7Bkvfl_"
      },
      "source": [
        "#Standard Imports for RNNs\n",
        "import numpy as np\n",
        "import pandas as pd\n",
        "import matplotlib.pyplot as plt\n",
        "import datetime as dt\n",
        "from datetime import datetime"
      ],
      "execution_count": 1,
      "outputs": []
    },
    {
      "cell_type": "code",
      "metadata": {
        "colab": {
          "base_uri": "https://localhost:8080/",
          "height": 204
        },
        "id": "Fpw_D_nSvr1R",
        "outputId": "cd787e76-c495-44a8-8c48-7d91daf92371"
      },
      "source": [
        "url = \"https://github.com/RiddhimanRaut/Deep-Learning-based-CPR-estimation/blob/main/excel_dataset.xlsx?raw=true\"\n",
        "df = pd.read_excel(url)\n",
        "#df = df[5::6] #Hour-wise Data\n",
        "df.head()"
      ],
      "execution_count": 2,
      "outputs": [
        {
          "output_type": "execute_result",
          "data": {
            "text/html": [
              "<div>\n",
              "<style scoped>\n",
              "    .dataframe tbody tr th:only-of-type {\n",
              "        vertical-align: middle;\n",
              "    }\n",
              "\n",
              "    .dataframe tbody tr th {\n",
              "        vertical-align: top;\n",
              "    }\n",
              "\n",
              "    .dataframe thead th {\n",
              "        text-align: right;\n",
              "    }\n",
              "</style>\n",
              "<table border=\"1\" class=\"dataframe\">\n",
              "  <thead>\n",
              "    <tr style=\"text-align: right;\">\n",
              "      <th></th>\n",
              "      <th>Date Time</th>\n",
              "      <th>CPRAVG</th>\n",
              "      <th>PROP</th>\n",
              "      <th>BUT</th>\n",
              "      <th>ETHYLENE</th>\n",
              "      <th>AI12201M</th>\n",
              "      <th>FLW</th>\n",
              "      <th>COT</th>\n",
              "      <th>TEMP</th>\n",
              "      <th>PRESS</th>\n",
              "      <th>O2</th>\n",
              "      <th>DRAFT</th>\n",
              "      <th>ETH</th>\n",
              "    </tr>\n",
              "  </thead>\n",
              "  <tbody>\n",
              "    <tr>\n",
              "      <th>0</th>\n",
              "      <td>01.01.2009 00:10:00</td>\n",
              "      <td>0.428151</td>\n",
              "      <td>18.960609</td>\n",
              "      <td>3.973630</td>\n",
              "      <td>29.732470</td>\n",
              "      <td>0.014431</td>\n",
              "      <td>30711.65039</td>\n",
              "      <td>820.118210</td>\n",
              "      <td>632.399261</td>\n",
              "      <td>0.466357</td>\n",
              "      <td>1.444160</td>\n",
              "      <td>-5.616851</td>\n",
              "      <td>75.809700</td>\n",
              "    </tr>\n",
              "    <tr>\n",
              "      <th>1</th>\n",
              "      <td>01.01.2009 00:20:00</td>\n",
              "      <td>0.427783</td>\n",
              "      <td>18.960360</td>\n",
              "      <td>3.973562</td>\n",
              "      <td>30.123590</td>\n",
              "      <td>0.014822</td>\n",
              "      <td>30700.66016</td>\n",
              "      <td>819.662811</td>\n",
              "      <td>633.057602</td>\n",
              "      <td>0.475288</td>\n",
              "      <td>1.413894</td>\n",
              "      <td>-5.540349</td>\n",
              "      <td>75.810066</td>\n",
              "    </tr>\n",
              "    <tr>\n",
              "      <th>2</th>\n",
              "      <td>01.01.2009 00:30:00</td>\n",
              "      <td>0.427432</td>\n",
              "      <td>19.009649</td>\n",
              "      <td>4.181924</td>\n",
              "      <td>30.477831</td>\n",
              "      <td>0.012689</td>\n",
              "      <td>30689.66016</td>\n",
              "      <td>819.886444</td>\n",
              "      <td>631.841385</td>\n",
              "      <td>0.464559</td>\n",
              "      <td>1.515123</td>\n",
              "      <td>-5.628389</td>\n",
              "      <td>75.552841</td>\n",
              "    </tr>\n",
              "    <tr>\n",
              "      <th>3</th>\n",
              "      <td>01.01.2009 00:40:00</td>\n",
              "      <td>0.427082</td>\n",
              "      <td>19.155710</td>\n",
              "      <td>3.950392</td>\n",
              "      <td>30.425819</td>\n",
              "      <td>0.012580</td>\n",
              "      <td>30678.66016</td>\n",
              "      <td>819.660172</td>\n",
              "      <td>632.495224</td>\n",
              "      <td>0.471809</td>\n",
              "      <td>1.404055</td>\n",
              "      <td>-5.576591</td>\n",
              "      <td>75.580223</td>\n",
              "    </tr>\n",
              "    <tr>\n",
              "      <th>4</th>\n",
              "      <td>01.01.2009 00:50:00</td>\n",
              "      <td>0.426732</td>\n",
              "      <td>19.334640</td>\n",
              "      <td>3.689848</td>\n",
              "      <td>30.546061</td>\n",
              "      <td>0.012472</td>\n",
              "      <td>30667.66016</td>\n",
              "      <td>819.646805</td>\n",
              "      <td>632.388214</td>\n",
              "      <td>0.470504</td>\n",
              "      <td>1.191485</td>\n",
              "      <td>-5.274679</td>\n",
              "      <td>75.638023</td>\n",
              "    </tr>\n",
              "  </tbody>\n",
              "</table>\n",
              "</div>"
            ],
            "text/plain": [
              "             Date Time    CPRAVG       PROP  ...        O2     DRAFT        ETH\n",
              "0  01.01.2009 00:10:00  0.428151  18.960609  ...  1.444160 -5.616851  75.809700\n",
              "1  01.01.2009 00:20:00  0.427783  18.960360  ...  1.413894 -5.540349  75.810066\n",
              "2  01.01.2009 00:30:00  0.427432  19.009649  ...  1.515123 -5.628389  75.552841\n",
              "3  01.01.2009 00:40:00  0.427082  19.155710  ...  1.404055 -5.576591  75.580223\n",
              "4  01.01.2009 00:50:00  0.426732  19.334640  ...  1.191485 -5.274679  75.638023\n",
              "\n",
              "[5 rows x 13 columns]"
            ]
          },
          "metadata": {
            "tags": []
          },
          "execution_count": 2
        }
      ]
    },
    {
      "cell_type": "code",
      "metadata": {
        "id": "r3sGTpr1vx1D"
      },
      "source": [
        "#Separating Date and Time\n",
        "#To be used in plotting in X-axis\n",
        "date_time = pd.to_datetime(df.pop('Date Time'), format='%d.%m.%Y %H:%M:%S') #pop command takes the Date Time Column out of df, so df no longer has that column."
      ],
      "execution_count": 3,
      "outputs": []
    },
    {
      "cell_type": "code",
      "metadata": {
        "id": "Y5XHP2XuxiQ6"
      },
      "source": [
        "#Variables for training\n",
        "cols = list(df)[0:df.shape[1]]\n",
        "#To enforce that values in these columns are actually float type data\n",
        "df_for_rnn = df[cols].astype(float)"
      ],
      "execution_count": 4,
      "outputs": []
    },
    {
      "cell_type": "code",
      "metadata": {
        "id": "841ZEswh97NC"
      },
      "source": [
        "#Creating training_df and test_df\n",
        "n = len(df)\n",
        "training_df = df_for_rnn[0:int(n*0.7)]\n",
        "test_set = df_for_rnn[int(n*0.7):n]"
      ],
      "execution_count": 5,
      "outputs": []
    },
    {
      "cell_type": "code",
      "metadata": {
        "colab": {
          "base_uri": "https://localhost:8080/"
        },
        "id": "ERKcdfdvyGBx",
        "outputId": "ad894cff-e3ba-4574-a00c-0862be27aed1"
      },
      "source": [
        "#Scaling the Dataset\n",
        "from sklearn.preprocessing import StandardScaler, MinMaxScaler\n",
        "#scaler = StandardScaler()\n",
        "scaler = MinMaxScaler(feature_range = (0,1))\n",
        "df_for_training_scaled = scaler.fit_transform(training_df) #Scales and converts to numpy object\n",
        "print('Scaled Dataset:\\n',df_for_training_scaled)"
      ],
      "execution_count": 6,
      "outputs": [
        {
          "output_type": "stream",
          "text": [
            "Scaled Dataset:\n",
            " [[0.04261512 0.39141737 0.71843606 ... 0.54553167 0.061713   0.69995722]\n",
            " [0.03834461 0.39139343 0.71841953 ... 0.53416085 0.09054363 0.69998058]\n",
            " [0.03428528 0.39611563 0.76908826 ... 0.57219227 0.05736476 0.68357295]\n",
            " ...\n",
            " [0.94817084 0.28810413 0.68416253 ... 0.67555781 0.51802072 0.79587724]\n",
            " [0.95048011 0.28807252 0.68538325 ... 0.68702255 0.51584291 0.79587529]\n",
            " [0.95188739 0.28809554 0.70426883 ... 0.68955967 0.51498322 0.79587237]]\n"
          ],
          "name": "stdout"
        }
      ]
    },
    {
      "cell_type": "code",
      "metadata": {
        "colab": {
          "base_uri": "https://localhost:8080/"
        },
        "id": "F4TCtqhbzS0w",
        "outputId": "7ea57169-4dc7-4e93-cf39-83515c12a0c5"
      },
      "source": [
        "#Readying the Multivariate Input and Univariate Output\n",
        "\n",
        "#initialisation\n",
        "trainX = [] \n",
        "trainY = []\n",
        "\n",
        "n_future = 1 #number of hours into the future\n",
        "n_past = 60  #number of hours into the past\n",
        "\n",
        "for i in range(n_past, len(df_for_training_scaled)-n_future+1):\n",
        "  trainX.append(df_for_training_scaled[i-60:i,:])\n",
        "  trainY.append(df_for_training_scaled[i+n_future-1:i+n_future,0])\n",
        "trainX = np.array(trainX)   # shape 1: no of records, shape 2: past_days, shape 3: input_cols\n",
        "trainY = np.array(trainY)   # shape 1: records, shape 2: future prediction data\n",
        "print('TrainX shape = (%d,%d,%d)'%(trainX.shape[0],trainX.shape[1],trainX.shape[2]))\n",
        "print('TrainY shape = (%d,%d)'%(trainY.shape[0],trainY.shape[1]))"
      ],
      "execution_count": 7,
      "outputs": [
        {
          "output_type": "stream",
          "text": [
            "TrainX shape = (8667,60,12)\n",
            "TrainY shape = (8667,1)\n"
          ],
          "name": "stdout"
        }
      ]
    },
    {
      "cell_type": "code",
      "metadata": {
        "colab": {
          "base_uri": "https://localhost:8080/"
        },
        "id": "Lh52q_PG4VSD",
        "outputId": "459e28de-db82-4237-8c72-e1309f2c8b5c"
      },
      "source": [
        "# Part 2 - Building the RNN\n",
        "\n",
        "# Importing the Keras libraries and packages\n",
        "from keras.models import Sequential\n",
        "from keras.layers import Dense\n",
        "from keras.layers import LSTM\n",
        "from keras.layers import Dropout\n",
        "\n",
        "model = Sequential()\n",
        "model.add(LSTM(64,activation='sigmoid',return_sequences=True,input_shape = (trainX.shape[1],trainX.shape[2])))\n",
        "model.add(LSTM(32,activation='sigmoid',return_sequences=False))\n",
        "model.add(Dropout(0.2))\n",
        "model.add(Dense(trainY.shape[1]))\n",
        "\n",
        "model.compile(optimizer='adam',loss = 'mse')\n",
        "model.summary()"
      ],
      "execution_count": 8,
      "outputs": [
        {
          "output_type": "stream",
          "text": [
            "Model: \"sequential\"\n",
            "_________________________________________________________________\n",
            "Layer (type)                 Output Shape              Param #   \n",
            "=================================================================\n",
            "lstm (LSTM)                  (None, 60, 64)            19712     \n",
            "_________________________________________________________________\n",
            "lstm_1 (LSTM)                (None, 32)                12416     \n",
            "_________________________________________________________________\n",
            "dropout (Dropout)            (None, 32)                0         \n",
            "_________________________________________________________________\n",
            "dense (Dense)                (None, 1)                 33        \n",
            "=================================================================\n",
            "Total params: 32,161\n",
            "Trainable params: 32,161\n",
            "Non-trainable params: 0\n",
            "_________________________________________________________________\n"
          ],
          "name": "stdout"
        }
      ]
    },
    {
      "cell_type": "code",
      "metadata": {
        "colab": {
          "base_uri": "https://localhost:8080/"
        },
        "id": "_xj9Y8Sq7dBj",
        "outputId": "a59ee892-2536-4d9b-d5d1-45b6e80deebe"
      },
      "source": [
        "#Let's traaaaaaaaaaaainnn\n",
        "\n",
        "history = model.fit(trainX,trainY,epochs=100,verbose=1,batch_size=32,validation_split=0.1)"
      ],
      "execution_count": 9,
      "outputs": [
        {
          "output_type": "stream",
          "text": [
            "Epoch 1/100\n",
            "244/244 [==============================] - 42s 64ms/step - loss: 0.0961 - val_loss: 0.0441\n",
            "Epoch 2/100\n",
            "244/244 [==============================] - 14s 58ms/step - loss: 0.0308 - val_loss: 0.0131\n",
            "Epoch 3/100\n",
            "244/244 [==============================] - 14s 57ms/step - loss: 0.0137 - val_loss: 0.0065\n",
            "Epoch 4/100\n",
            "244/244 [==============================] - 14s 57ms/step - loss: 0.0110 - val_loss: 0.0110\n",
            "Epoch 5/100\n",
            "244/244 [==============================] - 14s 57ms/step - loss: 0.0093 - val_loss: 0.0184\n",
            "Epoch 6/100\n",
            "244/244 [==============================] - 14s 59ms/step - loss: 0.0076 - val_loss: 0.0102\n",
            "Epoch 7/100\n",
            "244/244 [==============================] - 14s 59ms/step - loss: 0.0065 - val_loss: 0.0020\n",
            "Epoch 8/100\n",
            "244/244 [==============================] - 14s 58ms/step - loss: 0.0056 - val_loss: 0.0026\n",
            "Epoch 9/100\n",
            "244/244 [==============================] - 14s 57ms/step - loss: 0.0048 - val_loss: 0.0070\n",
            "Epoch 10/100\n",
            "244/244 [==============================] - 14s 57ms/step - loss: 0.0040 - val_loss: 0.0042\n",
            "Epoch 11/100\n",
            "244/244 [==============================] - 14s 59ms/step - loss: 0.0035 - val_loss: 0.0015\n",
            "Epoch 12/100\n",
            "244/244 [==============================] - 14s 59ms/step - loss: 0.0028 - val_loss: 0.0021\n",
            "Epoch 13/100\n",
            "244/244 [==============================] - 14s 59ms/step - loss: 0.0025 - val_loss: 2.2195e-04\n",
            "Epoch 14/100\n",
            "244/244 [==============================] - 15s 60ms/step - loss: 0.0022 - val_loss: 2.8242e-04\n",
            "Epoch 15/100\n",
            "244/244 [==============================] - 15s 61ms/step - loss: 0.0018 - val_loss: 8.6826e-04\n",
            "Epoch 16/100\n",
            "244/244 [==============================] - 14s 59ms/step - loss: 0.0018 - val_loss: 1.9180e-04\n",
            "Epoch 17/100\n",
            "244/244 [==============================] - 14s 59ms/step - loss: 0.0015 - val_loss: 2.2572e-04\n",
            "Epoch 18/100\n",
            "244/244 [==============================] - 14s 59ms/step - loss: 0.0015 - val_loss: 2.4427e-04\n",
            "Epoch 19/100\n",
            "244/244 [==============================] - 14s 58ms/step - loss: 0.0012 - val_loss: 6.0970e-04\n",
            "Epoch 20/100\n",
            "244/244 [==============================] - 14s 58ms/step - loss: 0.0012 - val_loss: 1.6297e-04\n",
            "Epoch 21/100\n",
            "244/244 [==============================] - 14s 58ms/step - loss: 0.0012 - val_loss: 1.3474e-04\n",
            "Epoch 22/100\n",
            "244/244 [==============================] - 14s 59ms/step - loss: 0.0011 - val_loss: 7.3218e-04\n",
            "Epoch 23/100\n",
            "244/244 [==============================] - 14s 59ms/step - loss: 0.0011 - val_loss: 3.0049e-04\n",
            "Epoch 24/100\n",
            "244/244 [==============================] - 14s 59ms/step - loss: 9.2615e-04 - val_loss: 1.3370e-04\n",
            "Epoch 25/100\n",
            "244/244 [==============================] - 14s 59ms/step - loss: 0.0010 - val_loss: 1.9413e-04\n",
            "Epoch 26/100\n",
            "244/244 [==============================] - 14s 59ms/step - loss: 9.8521e-04 - val_loss: 6.2626e-04\n",
            "Epoch 27/100\n",
            "244/244 [==============================] - 14s 59ms/step - loss: 9.3548e-04 - val_loss: 1.8404e-04\n",
            "Epoch 28/100\n",
            "244/244 [==============================] - 15s 60ms/step - loss: 8.8921e-04 - val_loss: 6.5691e-04\n",
            "Epoch 29/100\n",
            "244/244 [==============================] - 14s 59ms/step - loss: 9.7448e-04 - val_loss: 1.2555e-04\n",
            "Epoch 30/100\n",
            "244/244 [==============================] - 14s 59ms/step - loss: 8.8189e-04 - val_loss: 4.0794e-04\n",
            "Epoch 31/100\n",
            "244/244 [==============================] - 14s 58ms/step - loss: 9.4232e-04 - val_loss: 1.0800e-04\n",
            "Epoch 32/100\n",
            "244/244 [==============================] - 15s 60ms/step - loss: 9.0576e-04 - val_loss: 9.1928e-05\n",
            "Epoch 33/100\n",
            "244/244 [==============================] - 15s 59ms/step - loss: 8.9184e-04 - val_loss: 2.3647e-04\n",
            "Epoch 34/100\n",
            "244/244 [==============================] - 14s 58ms/step - loss: 8.9684e-04 - val_loss: 9.7856e-05\n",
            "Epoch 35/100\n",
            "244/244 [==============================] - 14s 58ms/step - loss: 8.5966e-04 - val_loss: 4.2757e-04\n",
            "Epoch 36/100\n",
            "244/244 [==============================] - 14s 58ms/step - loss: 8.9351e-04 - val_loss: 5.4759e-04\n",
            "Epoch 37/100\n",
            "244/244 [==============================] - 14s 59ms/step - loss: 8.8450e-04 - val_loss: 1.3326e-04\n",
            "Epoch 38/100\n",
            "244/244 [==============================] - 14s 59ms/step - loss: 8.6394e-04 - val_loss: 2.3163e-04\n",
            "Epoch 39/100\n",
            "244/244 [==============================] - 14s 59ms/step - loss: 8.8174e-04 - val_loss: 7.2926e-05\n",
            "Epoch 40/100\n",
            "244/244 [==============================] - 15s 60ms/step - loss: 9.0781e-04 - val_loss: 1.1470e-04\n",
            "Epoch 41/100\n",
            "244/244 [==============================] - 14s 59ms/step - loss: 8.3233e-04 - val_loss: 1.3160e-04\n",
            "Epoch 42/100\n",
            "244/244 [==============================] - 15s 60ms/step - loss: 8.2568e-04 - val_loss: 5.1773e-04\n",
            "Epoch 43/100\n",
            "244/244 [==============================] - 15s 60ms/step - loss: 8.7391e-04 - val_loss: 4.7950e-04\n",
            "Epoch 44/100\n",
            "244/244 [==============================] - 15s 61ms/step - loss: 8.4505e-04 - val_loss: 2.0920e-04\n",
            "Epoch 45/100\n",
            "244/244 [==============================] - 15s 60ms/step - loss: 8.0079e-04 - val_loss: 6.3019e-05\n",
            "Epoch 46/100\n",
            "244/244 [==============================] - 14s 59ms/step - loss: 8.4783e-04 - val_loss: 1.0032e-04\n",
            "Epoch 47/100\n",
            "244/244 [==============================] - 14s 59ms/step - loss: 7.5234e-04 - val_loss: 1.3299e-04\n",
            "Epoch 48/100\n",
            "244/244 [==============================] - 14s 59ms/step - loss: 8.7129e-04 - val_loss: 1.1449e-04\n",
            "Epoch 49/100\n",
            "244/244 [==============================] - 14s 58ms/step - loss: 7.5826e-04 - val_loss: 9.4744e-05\n",
            "Epoch 50/100\n",
            "244/244 [==============================] - 14s 59ms/step - loss: 8.2866e-04 - val_loss: 7.3572e-04\n",
            "Epoch 51/100\n",
            "244/244 [==============================] - 15s 60ms/step - loss: 7.6290e-04 - val_loss: 1.1562e-04\n",
            "Epoch 52/100\n",
            "244/244 [==============================] - 15s 60ms/step - loss: 8.2709e-04 - val_loss: 3.2114e-04\n",
            "Epoch 53/100\n",
            "244/244 [==============================] - 15s 60ms/step - loss: 7.6723e-04 - val_loss: 4.4305e-04\n",
            "Epoch 54/100\n",
            "244/244 [==============================] - 15s 60ms/step - loss: 7.9072e-04 - val_loss: 1.2943e-04\n",
            "Epoch 55/100\n",
            "244/244 [==============================] - 14s 59ms/step - loss: 8.0094e-04 - val_loss: 3.2327e-04\n",
            "Epoch 56/100\n",
            "244/244 [==============================] - 14s 59ms/step - loss: 8.0892e-04 - val_loss: 4.8796e-05\n",
            "Epoch 57/100\n",
            "244/244 [==============================] - 15s 60ms/step - loss: 7.7451e-04 - val_loss: 1.0102e-04\n",
            "Epoch 58/100\n",
            "244/244 [==============================] - 14s 59ms/step - loss: 7.7322e-04 - val_loss: 3.4296e-04\n",
            "Epoch 59/100\n",
            "244/244 [==============================] - 15s 61ms/step - loss: 7.8282e-04 - val_loss: 5.3119e-05\n",
            "Epoch 60/100\n",
            "244/244 [==============================] - 15s 60ms/step - loss: 7.8427e-04 - val_loss: 3.8459e-04\n",
            "Epoch 61/100\n",
            "244/244 [==============================] - 14s 59ms/step - loss: 8.2215e-04 - val_loss: 4.4774e-04\n",
            "Epoch 62/100\n",
            "244/244 [==============================] - 14s 58ms/step - loss: 8.8300e-04 - val_loss: 2.9515e-04\n",
            "Epoch 63/100\n",
            "244/244 [==============================] - 14s 58ms/step - loss: 7.1990e-04 - val_loss: 3.8471e-04\n",
            "Epoch 64/100\n",
            "244/244 [==============================] - 14s 59ms/step - loss: 7.2163e-04 - val_loss: 1.1345e-04\n",
            "Epoch 65/100\n",
            "244/244 [==============================] - 14s 59ms/step - loss: 7.7487e-04 - val_loss: 5.5716e-05\n",
            "Epoch 66/100\n",
            "244/244 [==============================] - 14s 59ms/step - loss: 8.3959e-04 - val_loss: 1.2085e-04\n",
            "Epoch 67/100\n",
            "244/244 [==============================] - 14s 58ms/step - loss: 7.3081e-04 - val_loss: 5.8963e-05\n",
            "Epoch 68/100\n",
            "244/244 [==============================] - 14s 59ms/step - loss: 7.7404e-04 - val_loss: 1.2701e-04\n",
            "Epoch 69/100\n",
            "244/244 [==============================] - 14s 59ms/step - loss: 7.6727e-04 - val_loss: 2.8618e-04\n",
            "Epoch 70/100\n",
            "244/244 [==============================] - 14s 58ms/step - loss: 7.4920e-04 - val_loss: 2.4957e-04\n",
            "Epoch 71/100\n",
            "244/244 [==============================] - 14s 59ms/step - loss: 8.0864e-04 - val_loss: 3.7525e-04\n",
            "Epoch 72/100\n",
            "244/244 [==============================] - 15s 60ms/step - loss: 7.7488e-04 - val_loss: 1.5457e-04\n",
            "Epoch 73/100\n",
            "244/244 [==============================] - 15s 59ms/step - loss: 7.3353e-04 - val_loss: 2.0746e-04\n",
            "Epoch 74/100\n",
            "244/244 [==============================] - 15s 60ms/step - loss: 8.1464e-04 - val_loss: 2.0591e-04\n",
            "Epoch 75/100\n",
            "244/244 [==============================] - 15s 60ms/step - loss: 7.8270e-04 - val_loss: 1.7456e-04\n",
            "Epoch 76/100\n",
            "244/244 [==============================] - 14s 59ms/step - loss: 8.0255e-04 - val_loss: 1.5299e-04\n",
            "Epoch 77/100\n",
            "244/244 [==============================] - 14s 59ms/step - loss: 8.3899e-04 - val_loss: 3.9968e-05\n",
            "Epoch 78/100\n",
            "244/244 [==============================] - 15s 60ms/step - loss: 7.0262e-04 - val_loss: 3.6405e-05\n",
            "Epoch 79/100\n",
            "244/244 [==============================] - 14s 59ms/step - loss: 6.9934e-04 - val_loss: 7.1057e-05\n",
            "Epoch 80/100\n",
            "244/244 [==============================] - 15s 60ms/step - loss: 7.8021e-04 - val_loss: 4.0851e-05\n",
            "Epoch 81/100\n",
            "244/244 [==============================] - 15s 60ms/step - loss: 7.5899e-04 - val_loss: 2.4165e-04\n",
            "Epoch 82/100\n",
            "244/244 [==============================] - 15s 62ms/step - loss: 7.6043e-04 - val_loss: 7.6532e-04\n",
            "Epoch 83/100\n",
            "244/244 [==============================] - 15s 60ms/step - loss: 7.9370e-04 - val_loss: 9.3056e-05\n",
            "Epoch 84/100\n",
            "244/244 [==============================] - 15s 60ms/step - loss: 7.3499e-04 - val_loss: 6.6087e-05\n",
            "Epoch 85/100\n",
            "244/244 [==============================] - 15s 61ms/step - loss: 7.6553e-04 - val_loss: 1.1111e-04\n",
            "Epoch 86/100\n",
            "244/244 [==============================] - 15s 61ms/step - loss: 7.6587e-04 - val_loss: 9.2896e-04\n",
            "Epoch 87/100\n",
            "244/244 [==============================] - 15s 61ms/step - loss: 7.6979e-04 - val_loss: 1.6370e-04\n",
            "Epoch 88/100\n",
            "244/244 [==============================] - 15s 60ms/step - loss: 8.0915e-04 - val_loss: 1.4074e-04\n",
            "Epoch 89/100\n",
            "244/244 [==============================] - 14s 59ms/step - loss: 6.7994e-04 - val_loss: 4.7192e-05\n",
            "Epoch 90/100\n",
            "244/244 [==============================] - 15s 60ms/step - loss: 7.6125e-04 - val_loss: 8.9027e-05\n",
            "Epoch 91/100\n",
            "244/244 [==============================] - 15s 60ms/step - loss: 7.5927e-04 - val_loss: 4.2815e-05\n",
            "Epoch 92/100\n",
            "244/244 [==============================] - 15s 60ms/step - loss: 7.2675e-04 - val_loss: 4.0645e-05\n",
            "Epoch 93/100\n",
            "244/244 [==============================] - 14s 59ms/step - loss: 7.6455e-04 - val_loss: 3.2484e-05\n",
            "Epoch 94/100\n",
            "244/244 [==============================] - 15s 60ms/step - loss: 7.3832e-04 - val_loss: 5.4440e-04\n",
            "Epoch 95/100\n",
            "244/244 [==============================] - 15s 60ms/step - loss: 8.1703e-04 - val_loss: 6.5688e-04\n",
            "Epoch 96/100\n",
            "244/244 [==============================] - 15s 60ms/step - loss: 7.3966e-04 - val_loss: 3.8471e-05\n",
            "Epoch 97/100\n",
            "244/244 [==============================] - 14s 59ms/step - loss: 7.2092e-04 - val_loss: 4.1623e-05\n",
            "Epoch 98/100\n",
            "244/244 [==============================] - 14s 59ms/step - loss: 7.1683e-04 - val_loss: 3.4393e-04\n",
            "Epoch 99/100\n",
            "244/244 [==============================] - 15s 60ms/step - loss: 8.4387e-04 - val_loss: 3.6461e-04\n",
            "Epoch 100/100\n",
            "244/244 [==============================] - 14s 59ms/step - loss: 7.5028e-04 - val_loss: 7.2315e-05\n"
          ],
          "name": "stdout"
        }
      ]
    },
    {
      "cell_type": "code",
      "metadata": {
        "colab": {
          "base_uri": "https://localhost:8080/",
          "height": 282
        },
        "id": "ncCu99ox8fsz",
        "outputId": "dfab54d1-e854-4419-86dd-f3633ad8c039"
      },
      "source": [
        "plt.plot(history.history['loss'],label = 'Training Loss')\n",
        "plt.plot(history.history['val_loss'],label = 'Validation Loss')\n",
        "plt.legend()"
      ],
      "execution_count": 10,
      "outputs": [
        {
          "output_type": "execute_result",
          "data": {
            "text/plain": [
              "<matplotlib.legend.Legend at 0x7f901e7d8890>"
            ]
          },
          "metadata": {
            "tags": []
          },
          "execution_count": 10
        },
        {
          "output_type": "display_data",
          "data": {
            "image/png": "[encoded data removed]",
            "text/plain": [
              "<Figure size 432x288 with 1 Axes>"
            ]
          },
          "metadata": {
            "tags": [],
            "needs_background": "light"
          }
        }
      ]
    },
    {
      "cell_type": "code",
      "metadata": {
        "colab": {
          "base_uri": "https://localhost:8080/"
        },
        "id": "pk93fzhGAmN7",
        "outputId": "688ef38a-603b-4861-b216-a7beb58edecd"
      },
      "source": [
        "test_df_scaled = scaler.transform(test_set)\n",
        "testX = []\n",
        "for i in range(n_past,len(test_df_scaled)+n_future-1):\n",
        "  testX.append(test_df_scaled[i-n_past:i,:])\n",
        "testX = np.array(testX)\n",
        "testX.shape"
      ],
      "execution_count": 11,
      "outputs": [
        {
          "output_type": "execute_result",
          "data": {
            "text/plain": [
              "(3681, 60, 12)"
            ]
          },
          "metadata": {
            "tags": []
          },
          "execution_count": 11
        }
      ]
    },
    {
      "cell_type": "code",
      "metadata": {
        "colab": {
          "base_uri": "https://localhost:8080/",
          "height": 401
        },
        "id": "Wh8WcrvuDuqU",
        "outputId": "ca96ab90-f82d-4b18-c95a-ee5be3492d8d"
      },
      "source": [
        "predicted_CPRAVG = model.predict(testX)\n",
        "predicted_CPRAVG = np.repeat(predicted_CPRAVG,test_df_scaled.shape[1],axis = -1)\n",
        "predicted_CPRAVG = scaler.inverse_transform(predicted_CPRAVG)[:,0]\n",
        "predicted_CPRAVG = predicted_CPRAVG.reshape(-1,1)\n",
        "print(predicted_CPRAVG)\n",
        "predicted_CPRAVGplot = np.empty_like(df)\n",
        "predicted_CPRAVGplot[:,:] = np.nan\n",
        "predicted_CPRAVGplot[training_df.shape[0]+n_past:df.shape[0],:] = predicted_CPRAVG\n",
        "plt.plot(df['CPRAVG'],color = 'red', label = 'Real CPR avg')\n",
        "plt.plot(predicted_CPRAVGplot[:,0], color = 'blue', label = 'Predicted CPR avg')\n",
        "plt.legend()"
      ],
      "execution_count": 12,
      "outputs": [
        {
          "output_type": "stream",
          "text": [
            "[[0.5089315 ]\n",
            " [0.5087964 ]\n",
            " [0.50870645]\n",
            " ...\n",
            " [0.51765734]\n",
            " [0.5176152 ]\n",
            " [0.51742005]]\n"
          ],
          "name": "stdout"
        },
        {
          "output_type": "execute_result",
          "data": {
            "text/plain": [
              "<matplotlib.legend.Legend at 0x7f901e9df390>"
            ]
          },
          "metadata": {
            "tags": []
          },
          "execution_count": 12
        },
        {
          "output_type": "display_data",
          "data": {
            "image/png": "[encoded data removed]",
            "text/plain": [
              "<Figure size 432x288 with 1 Axes>"
            ]
          },
          "metadata": {
            "tags": [],
            "needs_background": "light"
          }
        }
      ]
    }
  ]
}