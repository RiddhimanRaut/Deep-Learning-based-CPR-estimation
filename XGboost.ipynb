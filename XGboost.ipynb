{
  "nbformat": 4,
  "nbformat_minor": 0,
  "metadata": {
    "colab": {
      "name": "Untitled9.ipynb",
      "provenance": [],
      "authorship_tag": "ABX9TyPV/iNCvsrY4I+/jWM9QGN1",
      "include_colab_link": true
    },
    "kernelspec": {
      "name": "python3",
      "display_name": "Python 3"
    },
    "language_info": {
      "name": "python"
    }
  },
  "cells": [
    {
      "cell_type": "markdown",
      "metadata": {
        "id": "view-in-github",
        "colab_type": "text"
      },
      "source": [
        "<a href=\"https://colab.research.google.com/github/RiddhimanRaut/Deep-Learning-based-CPR-estimation/blob/main/XGboost.ipynb\" target=\"_parent\"><img src=\"https://colab.research.google.com/assets/colab-badge.svg\" alt=\"Open In Colab\"/></a>"
      ]
    },
    {
      "cell_type": "code",
      "metadata": {
        "id": "HO7PqbbtFdj6"
      },
      "source": [
        "import pandas as pd\n",
        "import numpy as np\n",
        "%matplotlib inline\n",
        "\n",
        "# Load specific forecasting tools\n",
        "from statsmodels.tsa.statespace.sarimax import SARIMAX\n",
        "\n",
        "from statsmodels.graphics.tsaplots import plot_acf,plot_pacf # for determining (p,q) orders\n",
        "from statsmodels.tsa.seasonal import seasonal_decompose      # for ETS Plots\n",
        "# from pmdarima import auto_arima                              # for determining ARIMA orders\n",
        "\n",
        "# Ignore harmless warnings\n",
        "import warnings\n",
        "warnings.filterwarnings(\"ignore\")"
      ],
      "execution_count": null,
      "outputs": []
    },
    {
      "cell_type": "code",
      "metadata": {
        "colab": {
          "base_uri": "https://localhost:8080/",
          "height": 235
        },
        "id": "4I-byJZdF0Ka",
        "outputId": "3dcc80ad-4f47-4598-8c41-3b35aaa0d22e"
      },
      "source": [
        "path = \"https://github.com/RiddhimanRaut/Deep-Learning-based-CPR-estimation/blob/main/excel_dataset.xlsx?raw=true\"\n",
        "df = pd.read_excel(path)\n",
        "df = df.dropna()\n",
        "date_time = pd.to_datetime(df.pop('Date Time'), format='%d.%m.%Y %H:%M:%S')\n",
        "df.index = date_time\n",
        "df.head()"
      ],
      "execution_count": null,
      "outputs": [
        {
          "output_type": "execute_result",
          "data": {
            "text/html": [
              "<div>\n",
              "<style scoped>\n",
              "    .dataframe tbody tr th:only-of-type {\n",
              "        vertical-align: middle;\n",
              "    }\n",
              "\n",
              "    .dataframe tbody tr th {\n",
              "        vertical-align: top;\n",
              "    }\n",
              "\n",
              "    .dataframe thead th {\n",
              "        text-align: right;\n",
              "    }\n",
              "</style>\n",
              "<table border=\"1\" class=\"dataframe\">\n",
              "  <thead>\n",
              "    <tr style=\"text-align: right;\">\n",
              "      <th></th>\n",
              "      <th>CPRAVG</th>\n",
              "      <th>PROP</th>\n",
              "      <th>BUT</th>\n",
              "      <th>ETHYLENE</th>\n",
              "      <th>AI12201M</th>\n",
              "      <th>FLW</th>\n",
              "      <th>COT</th>\n",
              "      <th>TEMP</th>\n",
              "      <th>PRESS</th>\n",
              "      <th>O2</th>\n",
              "      <th>DRAFT</th>\n",
              "      <th>ETH</th>\n",
              "    </tr>\n",
              "    <tr>\n",
              "      <th>Date Time</th>\n",
              "      <th></th>\n",
              "      <th></th>\n",
              "      <th></th>\n",
              "      <th></th>\n",
              "      <th></th>\n",
              "      <th></th>\n",
              "      <th></th>\n",
              "      <th></th>\n",
              "      <th></th>\n",
              "      <th></th>\n",
              "      <th></th>\n",
              "      <th></th>\n",
              "    </tr>\n",
              "  </thead>\n",
              "  <tbody>\n",
              "    <tr>\n",
              "      <th>2009-01-01 00:10:00</th>\n",
              "      <td>0.428151</td>\n",
              "      <td>18.960609</td>\n",
              "      <td>3.973630</td>\n",
              "      <td>29.732470</td>\n",
              "      <td>0.014431</td>\n",
              "      <td>30711.65039</td>\n",
              "      <td>820.118210</td>\n",
              "      <td>632.399261</td>\n",
              "      <td>0.466357</td>\n",
              "      <td>1.444160</td>\n",
              "      <td>-5.616851</td>\n",
              "      <td>75.809700</td>\n",
              "    </tr>\n",
              "    <tr>\n",
              "      <th>2009-01-01 00:20:00</th>\n",
              "      <td>0.427783</td>\n",
              "      <td>18.960360</td>\n",
              "      <td>3.973562</td>\n",
              "      <td>30.123590</td>\n",
              "      <td>0.014822</td>\n",
              "      <td>30700.66016</td>\n",
              "      <td>819.662811</td>\n",
              "      <td>633.057602</td>\n",
              "      <td>0.475288</td>\n",
              "      <td>1.413894</td>\n",
              "      <td>-5.540349</td>\n",
              "      <td>75.810066</td>\n",
              "    </tr>\n",
              "    <tr>\n",
              "      <th>2009-01-01 00:30:00</th>\n",
              "      <td>0.427432</td>\n",
              "      <td>19.009649</td>\n",
              "      <td>4.181924</td>\n",
              "      <td>30.477831</td>\n",
              "      <td>0.012689</td>\n",
              "      <td>30689.66016</td>\n",
              "      <td>819.886444</td>\n",
              "      <td>631.841385</td>\n",
              "      <td>0.464559</td>\n",
              "      <td>1.515123</td>\n",
              "      <td>-5.628389</td>\n",
              "      <td>75.552841</td>\n",
              "    </tr>\n",
              "    <tr>\n",
              "      <th>2009-01-01 00:40:00</th>\n",
              "      <td>0.427082</td>\n",
              "      <td>19.155710</td>\n",
              "      <td>3.950392</td>\n",
              "      <td>30.425819</td>\n",
              "      <td>0.012580</td>\n",
              "      <td>30678.66016</td>\n",
              "      <td>819.660172</td>\n",
              "      <td>632.495224</td>\n",
              "      <td>0.471809</td>\n",
              "      <td>1.404055</td>\n",
              "      <td>-5.576591</td>\n",
              "      <td>75.580223</td>\n",
              "    </tr>\n",
              "    <tr>\n",
              "      <th>2009-01-01 00:50:00</th>\n",
              "      <td>0.426732</td>\n",
              "      <td>19.334640</td>\n",
              "      <td>3.689848</td>\n",
              "      <td>30.546061</td>\n",
              "      <td>0.012472</td>\n",
              "      <td>30667.66016</td>\n",
              "      <td>819.646805</td>\n",
              "      <td>632.388214</td>\n",
              "      <td>0.470504</td>\n",
              "      <td>1.191485</td>\n",
              "      <td>-5.274679</td>\n",
              "      <td>75.638023</td>\n",
              "    </tr>\n",
              "  </tbody>\n",
              "</table>\n",
              "</div>"
            ],
            "text/plain": [
              "                       CPRAVG       PROP  ...     DRAFT        ETH\n",
              "Date Time                                 ...                     \n",
              "2009-01-01 00:10:00  0.428151  18.960609  ... -5.616851  75.809700\n",
              "2009-01-01 00:20:00  0.427783  18.960360  ... -5.540349  75.810066\n",
              "2009-01-01 00:30:00  0.427432  19.009649  ... -5.628389  75.552841\n",
              "2009-01-01 00:40:00  0.427082  19.155710  ... -5.576591  75.580223\n",
              "2009-01-01 00:50:00  0.426732  19.334640  ... -5.274679  75.638023\n",
              "\n",
              "[5 rows x 12 columns]"
            ]
          },
          "metadata": {},
          "execution_count": 5
        }
      ]
    },
    {
      "cell_type": "code",
      "metadata": {
        "colab": {
          "base_uri": "https://localhost:8080/",
          "height": 419
        },
        "id": "iyP5zKBtGCpm",
        "outputId": "d95c5cba-a36a-404a-bcbb-45154c0f7dc1"
      },
      "source": [
        "number_of_days = (df.shape[0]//144)+1 #// for integer division\n",
        "number_of_extra_rows = df.shape[0]%144\n",
        "df_days = df.rolling(144).mean().dropna()\n",
        "df_days = df_days.iloc[::144,:]\n",
        "df_extra = df[86*144:df.shape[0]].mean()\n",
        "df_days = df_days.append(df_extra,ignore_index=True)\n",
        "df_days"
      ],
      "execution_count": null,
      "outputs": [
        {
          "output_type": "execute_result",
          "data": {
            "text/html": [
              "<div>\n",
              "<style scoped>\n",
              "    .dataframe tbody tr th:only-of-type {\n",
              "        vertical-align: middle;\n",
              "    }\n",
              "\n",
              "    .dataframe tbody tr th {\n",
              "        vertical-align: top;\n",
              "    }\n",
              "\n",
              "    .dataframe thead th {\n",
              "        text-align: right;\n",
              "    }\n",
              "</style>\n",
              "<table border=\"1\" class=\"dataframe\">\n",
              "  <thead>\n",
              "    <tr style=\"text-align: right;\">\n",
              "      <th></th>\n",
              "      <th>CPRAVG</th>\n",
              "      <th>PROP</th>\n",
              "      <th>BUT</th>\n",
              "      <th>ETHYLENE</th>\n",
              "      <th>AI12201M</th>\n",
              "      <th>FLW</th>\n",
              "      <th>COT</th>\n",
              "      <th>TEMP</th>\n",
              "      <th>PRESS</th>\n",
              "      <th>O2</th>\n",
              "      <th>DRAFT</th>\n",
              "      <th>ETH</th>\n",
              "    </tr>\n",
              "  </thead>\n",
              "  <tbody>\n",
              "    <tr>\n",
              "      <th>0</th>\n",
              "      <td>0.437426</td>\n",
              "      <td>18.989021</td>\n",
              "      <td>4.212129</td>\n",
              "      <td>32.006993</td>\n",
              "      <td>0.010173</td>\n",
              "      <td>30654.824301</td>\n",
              "      <td>830.488018</td>\n",
              "      <td>640.112469</td>\n",
              "      <td>0.469527</td>\n",
              "      <td>0.794234</td>\n",
              "      <td>-4.467693</td>\n",
              "      <td>75.694686</td>\n",
              "    </tr>\n",
              "    <tr>\n",
              "      <th>1</th>\n",
              "      <td>0.448062</td>\n",
              "      <td>18.809630</td>\n",
              "      <td>4.524849</td>\n",
              "      <td>33.836544</td>\n",
              "      <td>0.010565</td>\n",
              "      <td>30625.732653</td>\n",
              "      <td>844.455551</td>\n",
              "      <td>651.105717</td>\n",
              "      <td>0.469758</td>\n",
              "      <td>0.469703</td>\n",
              "      <td>-4.170596</td>\n",
              "      <td>75.561543</td>\n",
              "    </tr>\n",
              "    <tr>\n",
              "      <th>2</th>\n",
              "      <td>0.450353</td>\n",
              "      <td>19.083289</td>\n",
              "      <td>4.726570</td>\n",
              "      <td>34.668045</td>\n",
              "      <td>0.012945</td>\n",
              "      <td>30705.664307</td>\n",
              "      <td>852.964052</td>\n",
              "      <td>657.452192</td>\n",
              "      <td>0.470218</td>\n",
              "      <td>0.333544</td>\n",
              "      <td>-4.249914</td>\n",
              "      <td>75.352648</td>\n",
              "    </tr>\n",
              "    <tr>\n",
              "      <th>3</th>\n",
              "      <td>0.451834</td>\n",
              "      <td>18.531180</td>\n",
              "      <td>4.659772</td>\n",
              "      <td>34.896273</td>\n",
              "      <td>0.012922</td>\n",
              "      <td>30713.556058</td>\n",
              "      <td>854.393941</td>\n",
              "      <td>659.299923</td>\n",
              "      <td>0.469249</td>\n",
              "      <td>0.274911</td>\n",
              "      <td>-4.314996</td>\n",
              "      <td>75.919100</td>\n",
              "    </tr>\n",
              "    <tr>\n",
              "      <th>4</th>\n",
              "      <td>0.452508</td>\n",
              "      <td>17.260066</td>\n",
              "      <td>4.367844</td>\n",
              "      <td>34.849715</td>\n",
              "      <td>0.013748</td>\n",
              "      <td>30754.496406</td>\n",
              "      <td>854.443389</td>\n",
              "      <td>659.779801</td>\n",
              "      <td>0.469077</td>\n",
              "      <td>0.319588</td>\n",
              "      <td>-4.264858</td>\n",
              "      <td>77.543971</td>\n",
              "    </tr>\n",
              "    <tr>\n",
              "      <th>...</th>\n",
              "      <td>...</td>\n",
              "      <td>...</td>\n",
              "      <td>...</td>\n",
              "      <td>...</td>\n",
              "      <td>...</td>\n",
              "      <td>...</td>\n",
              "      <td>...</td>\n",
              "      <td>...</td>\n",
              "      <td>...</td>\n",
              "      <td>...</td>\n",
              "      <td>...</td>\n",
              "      <td>...</td>\n",
              "    </tr>\n",
              "    <tr>\n",
              "      <th>82</th>\n",
              "      <td>0.516196</td>\n",
              "      <td>22.787623</td>\n",
              "      <td>4.144163</td>\n",
              "      <td>32.998388</td>\n",
              "      <td>0.012000</td>\n",
              "      <td>28634.796591</td>\n",
              "      <td>853.104591</td>\n",
              "      <td>651.138966</td>\n",
              "      <td>0.487782</td>\n",
              "      <td>0.976843</td>\n",
              "      <td>-4.962001</td>\n",
              "      <td>71.868771</td>\n",
              "    </tr>\n",
              "    <tr>\n",
              "      <th>83</th>\n",
              "      <td>0.516829</td>\n",
              "      <td>24.152432</td>\n",
              "      <td>4.141898</td>\n",
              "      <td>31.950313</td>\n",
              "      <td>0.012233</td>\n",
              "      <td>28754.501818</td>\n",
              "      <td>853.112442</td>\n",
              "      <td>650.101372</td>\n",
              "      <td>0.488156</td>\n",
              "      <td>1.030537</td>\n",
              "      <td>-4.959895</td>\n",
              "      <td>70.069474</td>\n",
              "    </tr>\n",
              "    <tr>\n",
              "      <th>84</th>\n",
              "      <td>0.517241</td>\n",
              "      <td>23.390510</td>\n",
              "      <td>4.132008</td>\n",
              "      <td>32.028396</td>\n",
              "      <td>0.012171</td>\n",
              "      <td>28687.527385</td>\n",
              "      <td>853.108998</td>\n",
              "      <td>651.155280</td>\n",
              "      <td>0.488213</td>\n",
              "      <td>1.037697</td>\n",
              "      <td>-4.961618</td>\n",
              "      <td>71.159993</td>\n",
              "    </tr>\n",
              "    <tr>\n",
              "      <th>85</th>\n",
              "      <td>0.517645</td>\n",
              "      <td>23.003283</td>\n",
              "      <td>4.141829</td>\n",
              "      <td>31.995858</td>\n",
              "      <td>0.012024</td>\n",
              "      <td>28685.423422</td>\n",
              "      <td>853.136709</td>\n",
              "      <td>651.738798</td>\n",
              "      <td>0.488620</td>\n",
              "      <td>0.917159</td>\n",
              "      <td>-4.959742</td>\n",
              "      <td>71.677207</td>\n",
              "    </tr>\n",
              "    <tr>\n",
              "      <th>86</th>\n",
              "      <td>0.518119</td>\n",
              "      <td>22.404514</td>\n",
              "      <td>4.106871</td>\n",
              "      <td>32.655592</td>\n",
              "      <td>0.011968</td>\n",
              "      <td>28634.619536</td>\n",
              "      <td>853.097741</td>\n",
              "      <td>651.500345</td>\n",
              "      <td>0.488379</td>\n",
              "      <td>0.840940</td>\n",
              "      <td>-4.959939</td>\n",
              "      <td>72.240833</td>\n",
              "    </tr>\n",
              "  </tbody>\n",
              "</table>\n",
              "<p>87 rows × 12 columns</p>\n",
              "</div>"
            ],
            "text/plain": [
              "      CPRAVG       PROP       BUT  ...        O2     DRAFT        ETH\n",
              "0   0.437426  18.989021  4.212129  ...  0.794234 -4.467693  75.694686\n",
              "1   0.448062  18.809630  4.524849  ...  0.469703 -4.170596  75.561543\n",
              "2   0.450353  19.083289  4.726570  ...  0.333544 -4.249914  75.352648\n",
              "3   0.451834  18.531180  4.659772  ...  0.274911 -4.314996  75.919100\n",
              "4   0.452508  17.260066  4.367844  ...  0.319588 -4.264858  77.543971\n",
              "..       ...        ...       ...  ...       ...       ...        ...\n",
              "82  0.516196  22.787623  4.144163  ...  0.976843 -4.962001  71.868771\n",
              "83  0.516829  24.152432  4.141898  ...  1.030537 -4.959895  70.069474\n",
              "84  0.517241  23.390510  4.132008  ...  1.037697 -4.961618  71.159993\n",
              "85  0.517645  23.003283  4.141829  ...  0.917159 -4.959742  71.677207\n",
              "86  0.518119  22.404514  4.106871  ...  0.840940 -4.959939  72.240833\n",
              "\n",
              "[87 rows x 12 columns]"
            ]
          },
          "metadata": {},
          "execution_count": 26
        }
      ]
    },
    {
      "cell_type": "code",
      "metadata": {
        "id": "xSYRt9ytGYC6"
      },
      "source": [
        "y_column = list()\n",
        "y_column = [np.nan]\n",
        "for i in df['CPRAVG'][:-1]:\n",
        "  y_column.append(i)\n",
        "y_column = np.array(y_column)"
      ],
      "execution_count": null,
      "outputs": []
    },
    {
      "cell_type": "code",
      "metadata": {
        "colab": {
          "base_uri": "https://localhost:8080/",
          "height": 450
        },
        "id": "aPbmT2nRH4qU",
        "outputId": "ae8a9e52-2181-499a-c0a3-ac13b38ba98f"
      },
      "source": [
        "df.insert(12,'Output',y_column)\n",
        "df"
      ],
      "execution_count": null,
      "outputs": [
        {
          "output_type": "execute_result",
          "data": {
            "text/html": [
              "<div>\n",
              "<style scoped>\n",
              "    .dataframe tbody tr th:only-of-type {\n",
              "        vertical-align: middle;\n",
              "    }\n",
              "\n",
              "    .dataframe tbody tr th {\n",
              "        vertical-align: top;\n",
              "    }\n",
              "\n",
              "    .dataframe thead th {\n",
              "        text-align: right;\n",
              "    }\n",
              "</style>\n",
              "<table border=\"1\" class=\"dataframe\">\n",
              "  <thead>\n",
              "    <tr style=\"text-align: right;\">\n",
              "      <th></th>\n",
              "      <th>CPRAVG</th>\n",
              "      <th>PROP</th>\n",
              "      <th>BUT</th>\n",
              "      <th>ETHYLENE</th>\n",
              "      <th>AI12201M</th>\n",
              "      <th>FLW</th>\n",
              "      <th>COT</th>\n",
              "      <th>TEMP</th>\n",
              "      <th>PRESS</th>\n",
              "      <th>O2</th>\n",
              "      <th>DRAFT</th>\n",
              "      <th>ETH</th>\n",
              "      <th>Output</th>\n",
              "    </tr>\n",
              "    <tr>\n",
              "      <th>Date Time</th>\n",
              "      <th></th>\n",
              "      <th></th>\n",
              "      <th></th>\n",
              "      <th></th>\n",
              "      <th></th>\n",
              "      <th></th>\n",
              "      <th></th>\n",
              "      <th></th>\n",
              "      <th></th>\n",
              "      <th></th>\n",
              "      <th></th>\n",
              "      <th></th>\n",
              "      <th></th>\n",
              "    </tr>\n",
              "  </thead>\n",
              "  <tbody>\n",
              "    <tr>\n",
              "      <th>2009-01-01 00:10:00</th>\n",
              "      <td>0.428151</td>\n",
              "      <td>18.960609</td>\n",
              "      <td>3.973630</td>\n",
              "      <td>29.732470</td>\n",
              "      <td>0.014431</td>\n",
              "      <td>30711.65039</td>\n",
              "      <td>820.118210</td>\n",
              "      <td>632.399261</td>\n",
              "      <td>0.466357</td>\n",
              "      <td>1.444160</td>\n",
              "      <td>-5.616851</td>\n",
              "      <td>75.809700</td>\n",
              "      <td>NaN</td>\n",
              "    </tr>\n",
              "    <tr>\n",
              "      <th>2009-01-01 00:20:00</th>\n",
              "      <td>0.427783</td>\n",
              "      <td>18.960360</td>\n",
              "      <td>3.973562</td>\n",
              "      <td>30.123590</td>\n",
              "      <td>0.014822</td>\n",
              "      <td>30700.66016</td>\n",
              "      <td>819.662811</td>\n",
              "      <td>633.057602</td>\n",
              "      <td>0.475288</td>\n",
              "      <td>1.413894</td>\n",
              "      <td>-5.540349</td>\n",
              "      <td>75.810066</td>\n",
              "      <td>0.428151</td>\n",
              "    </tr>\n",
              "    <tr>\n",
              "      <th>2009-01-01 00:30:00</th>\n",
              "      <td>0.427432</td>\n",
              "      <td>19.009649</td>\n",
              "      <td>4.181924</td>\n",
              "      <td>30.477831</td>\n",
              "      <td>0.012689</td>\n",
              "      <td>30689.66016</td>\n",
              "      <td>819.886444</td>\n",
              "      <td>631.841385</td>\n",
              "      <td>0.464559</td>\n",
              "      <td>1.515123</td>\n",
              "      <td>-5.628389</td>\n",
              "      <td>75.552841</td>\n",
              "      <td>0.427783</td>\n",
              "    </tr>\n",
              "    <tr>\n",
              "      <th>2009-01-01 00:40:00</th>\n",
              "      <td>0.427082</td>\n",
              "      <td>19.155710</td>\n",
              "      <td>3.950392</td>\n",
              "      <td>30.425819</td>\n",
              "      <td>0.012580</td>\n",
              "      <td>30678.66016</td>\n",
              "      <td>819.660172</td>\n",
              "      <td>632.495224</td>\n",
              "      <td>0.471809</td>\n",
              "      <td>1.404055</td>\n",
              "      <td>-5.576591</td>\n",
              "      <td>75.580223</td>\n",
              "      <td>0.427432</td>\n",
              "    </tr>\n",
              "    <tr>\n",
              "      <th>2009-01-01 00:50:00</th>\n",
              "      <td>0.426732</td>\n",
              "      <td>19.334640</td>\n",
              "      <td>3.689848</td>\n",
              "      <td>30.546061</td>\n",
              "      <td>0.012472</td>\n",
              "      <td>30667.66016</td>\n",
              "      <td>819.646805</td>\n",
              "      <td>632.388214</td>\n",
              "      <td>0.470504</td>\n",
              "      <td>1.191485</td>\n",
              "      <td>-5.274679</td>\n",
              "      <td>75.638023</td>\n",
              "      <td>0.427082</td>\n",
              "    </tr>\n",
              "    <tr>\n",
              "      <th>...</th>\n",
              "      <td>...</td>\n",
              "      <td>...</td>\n",
              "      <td>...</td>\n",
              "      <td>...</td>\n",
              "      <td>...</td>\n",
              "      <td>...</td>\n",
              "      <td>...</td>\n",
              "      <td>...</td>\n",
              "      <td>...</td>\n",
              "      <td>...</td>\n",
              "      <td>...</td>\n",
              "      <td>...</td>\n",
              "      <td>...</td>\n",
              "    </tr>\n",
              "    <tr>\n",
              "      <th>2009-03-28 13:20:00</th>\n",
              "      <td>0.516947</td>\n",
              "      <td>22.566521</td>\n",
              "      <td>4.234831</td>\n",
              "      <td>33.299759</td>\n",
              "      <td>0.012168</td>\n",
              "      <td>28546.11914</td>\n",
              "      <td>853.335480</td>\n",
              "      <td>653.310226</td>\n",
              "      <td>0.490392</td>\n",
              "      <td>0.977542</td>\n",
              "      <td>-4.964487</td>\n",
              "      <td>72.158081</td>\n",
              "      <td>0.517148</td>\n",
              "    </tr>\n",
              "    <tr>\n",
              "      <th>2009-03-28 13:30:00</th>\n",
              "      <td>0.516790</td>\n",
              "      <td>23.644880</td>\n",
              "      <td>4.081517</td>\n",
              "      <td>33.329700</td>\n",
              "      <td>0.011981</td>\n",
              "      <td>28570.01953</td>\n",
              "      <td>853.114197</td>\n",
              "      <td>652.723724</td>\n",
              "      <td>0.485867</td>\n",
              "      <td>0.982836</td>\n",
              "      <td>-4.957215</td>\n",
              "      <td>71.223877</td>\n",
              "      <td>0.516947</td>\n",
              "    </tr>\n",
              "    <tr>\n",
              "      <th>2009-03-28 13:40:00</th>\n",
              "      <td>0.516591</td>\n",
              "      <td>23.736650</td>\n",
              "      <td>4.371761</td>\n",
              "      <td>33.339199</td>\n",
              "      <td>0.011793</td>\n",
              "      <td>28593.91992</td>\n",
              "      <td>853.182159</td>\n",
              "      <td>653.046051</td>\n",
              "      <td>0.486376</td>\n",
              "      <td>0.988131</td>\n",
              "      <td>-4.961114</td>\n",
              "      <td>70.807220</td>\n",
              "      <td>0.516790</td>\n",
              "    </tr>\n",
              "    <tr>\n",
              "      <th>2009-03-28 13:50:00</th>\n",
              "      <td>0.516339</td>\n",
              "      <td>23.319229</td>\n",
              "      <td>4.153561</td>\n",
              "      <td>33.173019</td>\n",
              "      <td>0.011606</td>\n",
              "      <td>28617.82031</td>\n",
              "      <td>853.211716</td>\n",
              "      <td>653.374191</td>\n",
              "      <td>0.489971</td>\n",
              "      <td>0.993426</td>\n",
              "      <td>-4.955902</td>\n",
              "      <td>71.450020</td>\n",
              "      <td>0.516591</td>\n",
              "    </tr>\n",
              "    <tr>\n",
              "      <th>2009-03-28 14:00:00</th>\n",
              "      <td>0.515635</td>\n",
              "      <td>22.664320</td>\n",
              "      <td>4.087688</td>\n",
              "      <td>33.117519</td>\n",
              "      <td>0.011419</td>\n",
              "      <td>28641.72070</td>\n",
              "      <td>852.540192</td>\n",
              "      <td>653.383255</td>\n",
              "      <td>0.492127</td>\n",
              "      <td>0.992925</td>\n",
              "      <td>-4.967060</td>\n",
              "      <td>72.160553</td>\n",
              "      <td>0.516339</td>\n",
              "    </tr>\n",
              "  </tbody>\n",
              "</table>\n",
              "<p>12468 rows × 13 columns</p>\n",
              "</div>"
            ],
            "text/plain": [
              "                       CPRAVG       PROP  ...        ETH    Output\n",
              "Date Time                                 ...                     \n",
              "2009-01-01 00:10:00  0.428151  18.960609  ...  75.809700       NaN\n",
              "2009-01-01 00:20:00  0.427783  18.960360  ...  75.810066  0.428151\n",
              "2009-01-01 00:30:00  0.427432  19.009649  ...  75.552841  0.427783\n",
              "2009-01-01 00:40:00  0.427082  19.155710  ...  75.580223  0.427432\n",
              "2009-01-01 00:50:00  0.426732  19.334640  ...  75.638023  0.427082\n",
              "...                       ...        ...  ...        ...       ...\n",
              "2009-03-28 13:20:00  0.516947  22.566521  ...  72.158081  0.517148\n",
              "2009-03-28 13:30:00  0.516790  23.644880  ...  71.223877  0.516947\n",
              "2009-03-28 13:40:00  0.516591  23.736650  ...  70.807220  0.516790\n",
              "2009-03-28 13:50:00  0.516339  23.319229  ...  71.450020  0.516591\n",
              "2009-03-28 14:00:00  0.515635  22.664320  ...  72.160553  0.516339\n",
              "\n",
              "[12468 rows x 13 columns]"
            ]
          },
          "metadata": {},
          "execution_count": 45
        }
      ]
    },
    {
      "cell_type": "code",
      "metadata": {
        "id": "b72i8mIlISAq"
      },
      "source": [
        "df = df.dropna()"
      ],
      "execution_count": null,
      "outputs": []
    },
    {
      "cell_type": "code",
      "metadata": {
        "colab": {
          "base_uri": "https://localhost:8080/",
          "height": 235
        },
        "id": "LbQ7x93sIthr",
        "outputId": "27ff0f07-9bb4-4f06-df47-db94c7de1d6b"
      },
      "source": [
        "df.head()"
      ],
      "execution_count": null,
      "outputs": [
        {
          "output_type": "execute_result",
          "data": {
            "text/html": [
              "<div>\n",
              "<style scoped>\n",
              "    .dataframe tbody tr th:only-of-type {\n",
              "        vertical-align: middle;\n",
              "    }\n",
              "\n",
              "    .dataframe tbody tr th {\n",
              "        vertical-align: top;\n",
              "    }\n",
              "\n",
              "    .dataframe thead th {\n",
              "        text-align: right;\n",
              "    }\n",
              "</style>\n",
              "<table border=\"1\" class=\"dataframe\">\n",
              "  <thead>\n",
              "    <tr style=\"text-align: right;\">\n",
              "      <th></th>\n",
              "      <th>CPRAVG</th>\n",
              "      <th>PROP</th>\n",
              "      <th>BUT</th>\n",
              "      <th>ETHYLENE</th>\n",
              "      <th>AI12201M</th>\n",
              "      <th>FLW</th>\n",
              "      <th>COT</th>\n",
              "      <th>TEMP</th>\n",
              "      <th>PRESS</th>\n",
              "      <th>O2</th>\n",
              "      <th>DRAFT</th>\n",
              "      <th>ETH</th>\n",
              "      <th>Output</th>\n",
              "    </tr>\n",
              "    <tr>\n",
              "      <th>Date Time</th>\n",
              "      <th></th>\n",
              "      <th></th>\n",
              "      <th></th>\n",
              "      <th></th>\n",
              "      <th></th>\n",
              "      <th></th>\n",
              "      <th></th>\n",
              "      <th></th>\n",
              "      <th></th>\n",
              "      <th></th>\n",
              "      <th></th>\n",
              "      <th></th>\n",
              "      <th></th>\n",
              "    </tr>\n",
              "  </thead>\n",
              "  <tbody>\n",
              "    <tr>\n",
              "      <th>2009-01-01 00:20:00</th>\n",
              "      <td>0.427783</td>\n",
              "      <td>18.960360</td>\n",
              "      <td>3.973562</td>\n",
              "      <td>30.123590</td>\n",
              "      <td>0.014822</td>\n",
              "      <td>30700.66016</td>\n",
              "      <td>819.662811</td>\n",
              "      <td>633.057602</td>\n",
              "      <td>0.475288</td>\n",
              "      <td>1.413894</td>\n",
              "      <td>-5.540349</td>\n",
              "      <td>75.810066</td>\n",
              "      <td>0.428151</td>\n",
              "    </tr>\n",
              "    <tr>\n",
              "      <th>2009-01-01 00:30:00</th>\n",
              "      <td>0.427432</td>\n",
              "      <td>19.009649</td>\n",
              "      <td>4.181924</td>\n",
              "      <td>30.477831</td>\n",
              "      <td>0.012689</td>\n",
              "      <td>30689.66016</td>\n",
              "      <td>819.886444</td>\n",
              "      <td>631.841385</td>\n",
              "      <td>0.464559</td>\n",
              "      <td>1.515123</td>\n",
              "      <td>-5.628389</td>\n",
              "      <td>75.552841</td>\n",
              "      <td>0.427783</td>\n",
              "    </tr>\n",
              "    <tr>\n",
              "      <th>2009-01-01 00:40:00</th>\n",
              "      <td>0.427082</td>\n",
              "      <td>19.155710</td>\n",
              "      <td>3.950392</td>\n",
              "      <td>30.425819</td>\n",
              "      <td>0.012580</td>\n",
              "      <td>30678.66016</td>\n",
              "      <td>819.660172</td>\n",
              "      <td>632.495224</td>\n",
              "      <td>0.471809</td>\n",
              "      <td>1.404055</td>\n",
              "      <td>-5.576591</td>\n",
              "      <td>75.580223</td>\n",
              "      <td>0.427432</td>\n",
              "    </tr>\n",
              "    <tr>\n",
              "      <th>2009-01-01 00:50:00</th>\n",
              "      <td>0.426732</td>\n",
              "      <td>19.334640</td>\n",
              "      <td>3.689848</td>\n",
              "      <td>30.546061</td>\n",
              "      <td>0.012472</td>\n",
              "      <td>30667.66016</td>\n",
              "      <td>819.646805</td>\n",
              "      <td>632.388214</td>\n",
              "      <td>0.470504</td>\n",
              "      <td>1.191485</td>\n",
              "      <td>-5.274679</td>\n",
              "      <td>75.638023</td>\n",
              "      <td>0.427082</td>\n",
              "    </tr>\n",
              "    <tr>\n",
              "      <th>2009-01-01 01:00:00</th>\n",
              "      <td>0.426381</td>\n",
              "      <td>19.491810</td>\n",
              "      <td>4.601716</td>\n",
              "      <td>30.532320</td>\n",
              "      <td>0.012364</td>\n",
              "      <td>30656.66992</td>\n",
              "      <td>819.507965</td>\n",
              "      <td>632.023209</td>\n",
              "      <td>0.467722</td>\n",
              "      <td>1.319569</td>\n",
              "      <td>-5.266271</td>\n",
              "      <td>74.667397</td>\n",
              "      <td>0.426732</td>\n",
              "    </tr>\n",
              "  </tbody>\n",
              "</table>\n",
              "</div>"
            ],
            "text/plain": [
              "                       CPRAVG       PROP  ...        ETH    Output\n",
              "Date Time                                 ...                     \n",
              "2009-01-01 00:20:00  0.427783  18.960360  ...  75.810066  0.428151\n",
              "2009-01-01 00:30:00  0.427432  19.009649  ...  75.552841  0.427783\n",
              "2009-01-01 00:40:00  0.427082  19.155710  ...  75.580223  0.427432\n",
              "2009-01-01 00:50:00  0.426732  19.334640  ...  75.638023  0.427082\n",
              "2009-01-01 01:00:00  0.426381  19.491810  ...  74.667397  0.426732\n",
              "\n",
              "[5 rows x 13 columns]"
            ]
          },
          "metadata": {},
          "execution_count": 47
        }
      ]
    },
    {
      "cell_type": "code",
      "metadata": {
        "id": "YQFTBaYoIyLh"
      },
      "source": [
        "#Import ML libraries\n",
        "from keras.preprocessing import sequence\n",
        "import tensorflow as tf\n",
        "from keras.models import Sequential\n",
        "from keras.layers import Dense, BatchNormalization,Activation,Add, Input\n",
        "from keras.callbacks import EarlyStopping\n",
        "\n",
        "from tensorflow.keras.optimizers import Adam,SGD #Edit : from keras.optimizers import Adam #Does not work\n",
        "from keras.models import load_model, Model\n",
        "from keras.callbacks import ModelCheckpoint"
      ],
      "execution_count": null,
      "outputs": []
    },
    {
      "cell_type": "code",
      "metadata": {
        "colab": {
          "base_uri": "https://localhost:8080/"
        },
        "id": "B7XXCywuJD8Z",
        "outputId": "a2e063d2-2f21-49bd-afb5-ed8f5874b73a"
      },
      "source": [
        "numpy_df = df.to_numpy()\n",
        "numpy_df"
      ],
      "execution_count": null,
      "outputs": [
        {
          "output_type": "execute_result",
          "data": {
            "text/plain": [
              "array([[ 0.42778286, 18.96035957,  3.973562  , ..., -5.54034901,\n",
              "        75.81006622,  0.42815148],\n",
              "       [ 0.42743246, 19.00964928,  4.18192387, ..., -5.62838888,\n",
              "        75.55284119,  0.42778286],\n",
              "       [ 0.42708208, 19.15571022,  3.95039201, ..., -5.57659101,\n",
              "        75.58022308,  0.42743246],\n",
              "       ...,\n",
              "       [ 0.51659077, 23.73665047,  4.37176084, ..., -4.96111393,\n",
              "        70.80722046,  0.51678994],\n",
              "       [ 0.5163385 , 23.31922913,  4.15356111, ..., -4.9559021 ,\n",
              "        71.45001984,  0.51659077],\n",
              "       [ 0.51563475, 22.66431999,  4.08768797, ..., -4.96706009,\n",
              "        72.16055298,  0.5163385 ]])"
            ]
          },
          "metadata": {},
          "execution_count": 49
        }
      ]
    },
    {
      "cell_type": "code",
      "metadata": {
        "id": "FSZCr9DDMVhL"
      },
      "source": [
        "n = len(numpy_df)\n",
        "training_df = numpy_df[0:int(n*0.7)]\n",
        "test_set = numpy_df[int(n*0.7):n]"
      ],
      "execution_count": null,
      "outputs": []
    },
    {
      "cell_type": "code",
      "metadata": {
        "id": "BocVeZNnJ3Fb"
      },
      "source": [
        "# data_X = numpy_df[:,0:12]\n",
        "# data_Y = numpy_df[:,12]"
      ],
      "execution_count": null,
      "outputs": []
    },
    {
      "cell_type": "code",
      "metadata": {
        "colab": {
          "base_uri": "https://localhost:8080/"
        },
        "id": "QRvr_oMJMIcB",
        "outputId": "c9e8088e-ef9c-4a5c-b013-1b319a0b997e"
      },
      "source": [
        "#Scaling the Dataset\n",
        "from sklearn.preprocessing import StandardScaler, MinMaxScaler\n",
        "#scaler = StandardScaler()\n",
        "scaler = MinMaxScaler(feature_range = (0,1))\n",
        "df_for_training_scaled = scaler.fit_transform(training_df) #Scales and converts to numpy object\n",
        "print('Scaled Dataset:\\n',df_for_training_scaled)"
      ],
      "execution_count": null,
      "outputs": [
        {
          "output_type": "stream",
          "name": "stdout",
          "text": [
            "Scaled Dataset:\n",
            " [[0.03834461 0.39139343 0.71841953 ... 0.09054363 0.69998058 0.04261512]\n",
            " [0.03428528 0.39611563 0.76908826 ... 0.05736476 0.68357295 0.03834461]\n",
            " [0.03022612 0.41010901 0.71278513 ... 0.0768854  0.68531957 0.03428528]\n",
            " ...\n",
            " [0.94817084 0.28810413 0.68416253 ... 0.51802072 0.79587724 0.94908733]\n",
            " [0.95048011 0.28807252 0.68538325 ... 0.51584291 0.79587529 0.94817084]\n",
            " [0.95188739 0.28809554 0.70426883 ... 0.51498322 0.79587237 0.95048011]]\n"
          ]
        }
      ]
    },
    {
      "cell_type": "code",
      "metadata": {
        "id": "chOEewk2Msmb"
      },
      "source": [
        "data_X = df_for_training_scaled[:,0:12]\n",
        "data_Y = df_for_training_scaled[:,12]"
      ],
      "execution_count": null,
      "outputs": []
    },
    {
      "cell_type": "code",
      "metadata": {
        "id": "_1I3EW7vI81R"
      },
      "source": [
        "from sklearn.model_selection import train_test_split\n",
        "X_train, X_test, y_train, y_test = train_test_split(data_X, data_Y, test_size=0.2, random_state=42)"
      ],
      "execution_count": null,
      "outputs": []
    },
    {
      "cell_type": "code",
      "metadata": {
        "colab": {
          "base_uri": "https://localhost:8080/"
        },
        "id": "T6mCa2uxJSzI",
        "outputId": "01cd7080-4888-473c-8a2f-3ad0e386ac83"
      },
      "source": [
        "model = Sequential()\n",
        "model.add(Dense(100,activation = 'relu', input_dim = X_train.shape[1]))\n",
        "model.add(Dense(100,activation = 'relu'))\n",
        "model.add(Dense(100,activation = 'relu'))\n",
        "model.add(Dense(100,activation = 'relu'))\n",
        "model.add(Dense(1,activation = 'relu'))\n",
        "adam = Adam(learning_rate = 0.004)\n",
        "model.compile(optimizer=adam,loss = 'mse')\n",
        "model.summary()"
      ],
      "execution_count": null,
      "outputs": [
        {
          "output_type": "stream",
          "name": "stdout",
          "text": [
            "Model: \"sequential_3\"\n",
            "_________________________________________________________________\n",
            "Layer (type)                 Output Shape              Param #   \n",
            "=================================================================\n",
            "dense_15 (Dense)             (None, 100)               1300      \n",
            "_________________________________________________________________\n",
            "dense_16 (Dense)             (None, 100)               10100     \n",
            "_________________________________________________________________\n",
            "dense_17 (Dense)             (None, 100)               10100     \n",
            "_________________________________________________________________\n",
            "dense_18 (Dense)             (None, 100)               10100     \n",
            "_________________________________________________________________\n",
            "dense_19 (Dense)             (None, 1)                 101       \n",
            "=================================================================\n",
            "Total params: 31,701\n",
            "Trainable params: 31,701\n",
            "Non-trainable params: 0\n",
            "_________________________________________________________________\n"
          ]
        }
      ]
    },
    {
      "cell_type": "code",
      "metadata": {
        "colab": {
          "base_uri": "https://localhost:8080/"
        },
        "id": "zeCLrup-LGwk",
        "outputId": "d0fff5ab-594d-4750-c9dd-5fb6a63828ab"
      },
      "source": [
        "history = model.fit(X_train,y_train,epochs=100,verbose=1,batch_size=10,validation_split=0.1)"
      ],
      "execution_count": null,
      "outputs": [
        {
          "output_type": "stream",
          "name": "stdout",
          "text": [
            "Epoch 1/100\n",
            "629/629 [==============================] - 2s 2ms/step - loss: 0.0036 - val_loss: 1.0156e-04\n",
            "Epoch 2/100\n",
            "629/629 [==============================] - 1s 2ms/step - loss: 2.0084e-04 - val_loss: 2.3206e-04\n",
            "Epoch 3/100\n",
            "629/629 [==============================] - 1s 2ms/step - loss: 2.1211e-04 - val_loss: 1.6319e-04\n",
            "Epoch 4/100\n",
            "629/629 [==============================] - 1s 2ms/step - loss: 1.4060e-04 - val_loss: 1.4026e-04\n",
            "Epoch 5/100\n",
            "629/629 [==============================] - 1s 2ms/step - loss: 1.9202e-04 - val_loss: 0.0012\n",
            "Epoch 6/100\n",
            "629/629 [==============================] - 1s 2ms/step - loss: 1.3918e-04 - val_loss: 6.5112e-05\n",
            "Epoch 7/100\n",
            "629/629 [==============================] - 1s 2ms/step - loss: 1.9057e-04 - val_loss: 3.1811e-04\n",
            "Epoch 8/100\n",
            "629/629 [==============================] - 1s 2ms/step - loss: 1.6844e-04 - val_loss: 3.7946e-05\n",
            "Epoch 9/100\n",
            "629/629 [==============================] - 1s 2ms/step - loss: 1.0175e-04 - val_loss: 4.8475e-04\n",
            "Epoch 10/100\n",
            "629/629 [==============================] - 1s 2ms/step - loss: 1.3960e-04 - val_loss: 3.2534e-05\n",
            "Epoch 11/100\n",
            "629/629 [==============================] - 1s 2ms/step - loss: 1.3513e-04 - val_loss: 0.0033\n",
            "Epoch 12/100\n",
            "629/629 [==============================] - 1s 2ms/step - loss: 1.3568e-04 - val_loss: 2.8939e-05\n",
            "Epoch 13/100\n",
            "629/629 [==============================] - 1s 2ms/step - loss: 1.0788e-04 - val_loss: 1.1970e-04\n",
            "Epoch 14/100\n",
            "629/629 [==============================] - 1s 2ms/step - loss: 1.6180e-04 - val_loss: 0.0011\n",
            "Epoch 15/100\n",
            "629/629 [==============================] - 1s 2ms/step - loss: 9.3655e-05 - val_loss: 8.7893e-05\n",
            "Epoch 16/100\n",
            "629/629 [==============================] - 1s 2ms/step - loss: 1.4622e-04 - val_loss: 8.0581e-05\n",
            "Epoch 17/100\n",
            "629/629 [==============================] - 1s 2ms/step - loss: 6.6486e-05 - val_loss: 2.9911e-04\n",
            "Epoch 18/100\n",
            "629/629 [==============================] - 1s 2ms/step - loss: 8.3638e-05 - val_loss: 3.9762e-05\n",
            "Epoch 19/100\n",
            "629/629 [==============================] - 1s 2ms/step - loss: 7.9499e-05 - val_loss: 3.9599e-05\n",
            "Epoch 20/100\n",
            "629/629 [==============================] - 1s 2ms/step - loss: 7.2077e-05 - val_loss: 7.5110e-05\n",
            "Epoch 21/100\n",
            "629/629 [==============================] - 1s 2ms/step - loss: 9.2285e-05 - val_loss: 9.9504e-05\n",
            "Epoch 22/100\n",
            "629/629 [==============================] - 1s 2ms/step - loss: 8.0675e-05 - val_loss: 2.7656e-05\n",
            "Epoch 23/100\n",
            "629/629 [==============================] - 1s 2ms/step - loss: 8.4068e-05 - val_loss: 1.7005e-04\n",
            "Epoch 24/100\n",
            "629/629 [==============================] - 1s 2ms/step - loss: 6.6031e-05 - val_loss: 3.8495e-05\n",
            "Epoch 25/100\n",
            "629/629 [==============================] - 1s 2ms/step - loss: 7.2928e-05 - val_loss: 3.4670e-05\n",
            "Epoch 26/100\n",
            "629/629 [==============================] - 1s 2ms/step - loss: 9.2779e-05 - val_loss: 2.6979e-05\n",
            "Epoch 27/100\n",
            "629/629 [==============================] - 1s 2ms/step - loss: 5.9011e-05 - val_loss: 1.5321e-04\n",
            "Epoch 28/100\n",
            "629/629 [==============================] - 1s 2ms/step - loss: 6.7130e-05 - val_loss: 5.2933e-04\n",
            "Epoch 29/100\n",
            "629/629 [==============================] - 1s 2ms/step - loss: 8.5471e-05 - val_loss: 5.5856e-05\n",
            "Epoch 30/100\n",
            "629/629 [==============================] - 1s 2ms/step - loss: 7.0608e-05 - val_loss: 2.7148e-05\n",
            "Epoch 31/100\n",
            "629/629 [==============================] - 1s 2ms/step - loss: 7.1406e-05 - val_loss: 5.2006e-05\n",
            "Epoch 32/100\n",
            "629/629 [==============================] - 1s 2ms/step - loss: 7.5895e-05 - val_loss: 5.5867e-05\n",
            "Epoch 33/100\n",
            "629/629 [==============================] - 1s 2ms/step - loss: 7.0919e-05 - val_loss: 3.1961e-05\n",
            "Epoch 34/100\n",
            "629/629 [==============================] - 1s 2ms/step - loss: 7.8038e-05 - val_loss: 3.8584e-05\n",
            "Epoch 35/100\n",
            "629/629 [==============================] - 1s 2ms/step - loss: 6.6178e-05 - val_loss: 6.7792e-05\n",
            "Epoch 36/100\n",
            "629/629 [==============================] - 1s 2ms/step - loss: 7.1755e-05 - val_loss: 6.4986e-05\n",
            "Epoch 37/100\n",
            "629/629 [==============================] - 1s 2ms/step - loss: 6.0537e-05 - val_loss: 2.1111e-04\n",
            "Epoch 38/100\n",
            "629/629 [==============================] - 1s 2ms/step - loss: 6.3811e-05 - val_loss: 1.9547e-04\n",
            "Epoch 39/100\n",
            "629/629 [==============================] - 1s 2ms/step - loss: 6.7291e-05 - val_loss: 3.8025e-05\n",
            "Epoch 40/100\n",
            "629/629 [==============================] - 1s 2ms/step - loss: 6.6880e-05 - val_loss: 9.8830e-05\n",
            "Epoch 41/100\n",
            "629/629 [==============================] - 1s 2ms/step - loss: 6.3834e-05 - val_loss: 3.0406e-05\n",
            "Epoch 42/100\n",
            "629/629 [==============================] - 1s 2ms/step - loss: 7.1585e-05 - val_loss: 9.3868e-05\n",
            "Epoch 43/100\n",
            "629/629 [==============================] - 1s 2ms/step - loss: 5.8404e-05 - val_loss: 6.2202e-05\n",
            "Epoch 44/100\n",
            "629/629 [==============================] - 1s 2ms/step - loss: 1.0306e-04 - val_loss: 9.2312e-05\n",
            "Epoch 45/100\n",
            "629/629 [==============================] - 1s 2ms/step - loss: 4.8750e-05 - val_loss: 7.9027e-05\n",
            "Epoch 46/100\n",
            "629/629 [==============================] - 1s 2ms/step - loss: 6.6175e-05 - val_loss: 1.1898e-04\n",
            "Epoch 47/100\n",
            "629/629 [==============================] - 1s 2ms/step - loss: 6.0415e-05 - val_loss: 4.9415e-05\n",
            "Epoch 48/100\n",
            "629/629 [==============================] - 1s 2ms/step - loss: 7.8468e-05 - val_loss: 1.2599e-04\n",
            "Epoch 49/100\n",
            "629/629 [==============================] - 1s 2ms/step - loss: 5.4098e-05 - val_loss: 3.5849e-05\n",
            "Epoch 50/100\n",
            "629/629 [==============================] - 1s 2ms/step - loss: 5.6336e-05 - val_loss: 3.9848e-05\n",
            "Epoch 51/100\n",
            "629/629 [==============================] - 1s 2ms/step - loss: 5.8478e-05 - val_loss: 8.8494e-04\n",
            "Epoch 52/100\n",
            "629/629 [==============================] - 1s 2ms/step - loss: 6.1232e-05 - val_loss: 5.0830e-05\n",
            "Epoch 53/100\n",
            "629/629 [==============================] - 1s 2ms/step - loss: 6.0680e-05 - val_loss: 3.0054e-05\n",
            "Epoch 54/100\n",
            "629/629 [==============================] - 1s 2ms/step - loss: 6.5767e-05 - val_loss: 1.4700e-04\n",
            "Epoch 55/100\n",
            "629/629 [==============================] - 1s 2ms/step - loss: 5.6801e-05 - val_loss: 2.9787e-04\n",
            "Epoch 56/100\n",
            "629/629 [==============================] - 1s 2ms/step - loss: 6.5932e-05 - val_loss: 6.2995e-05\n",
            "Epoch 57/100\n",
            "629/629 [==============================] - 1s 2ms/step - loss: 5.5238e-05 - val_loss: 9.8230e-05\n",
            "Epoch 58/100\n",
            "629/629 [==============================] - 1s 2ms/step - loss: 5.5721e-05 - val_loss: 8.6463e-05\n",
            "Epoch 59/100\n",
            "629/629 [==============================] - 1s 2ms/step - loss: 5.6853e-05 - val_loss: 9.3280e-05\n",
            "Epoch 60/100\n",
            "629/629 [==============================] - 1s 2ms/step - loss: 4.7665e-05 - val_loss: 2.7205e-05\n",
            "Epoch 61/100\n",
            "629/629 [==============================] - 1s 2ms/step - loss: 5.5778e-05 - val_loss: 2.2123e-04\n",
            "Epoch 62/100\n",
            "629/629 [==============================] - 1s 2ms/step - loss: 5.6819e-05 - val_loss: 2.5958e-05\n",
            "Epoch 63/100\n",
            "629/629 [==============================] - 1s 2ms/step - loss: 6.8176e-05 - val_loss: 2.9075e-05\n",
            "Epoch 64/100\n",
            "629/629 [==============================] - 1s 2ms/step - loss: 6.6179e-05 - val_loss: 7.1838e-05\n",
            "Epoch 65/100\n",
            "629/629 [==============================] - 1s 2ms/step - loss: 5.8593e-05 - val_loss: 3.8638e-05\n",
            "Epoch 66/100\n",
            "629/629 [==============================] - 1s 2ms/step - loss: 4.4586e-05 - val_loss: 4.1938e-05\n",
            "Epoch 67/100\n",
            "629/629 [==============================] - 1s 2ms/step - loss: 5.5932e-05 - val_loss: 2.7968e-05\n",
            "Epoch 68/100\n",
            "629/629 [==============================] - 1s 2ms/step - loss: 4.9504e-05 - val_loss: 5.9020e-05\n",
            "Epoch 69/100\n",
            "629/629 [==============================] - 1s 2ms/step - loss: 6.5951e-05 - val_loss: 8.8312e-05\n",
            "Epoch 70/100\n",
            "629/629 [==============================] - 1s 2ms/step - loss: 6.4902e-05 - val_loss: 5.7156e-05\n",
            "Epoch 71/100\n",
            "629/629 [==============================] - 1s 2ms/step - loss: 4.7210e-05 - val_loss: 1.1064e-04\n",
            "Epoch 72/100\n",
            "629/629 [==============================] - 1s 2ms/step - loss: 6.1553e-05 - val_loss: 2.7694e-05\n",
            "Epoch 73/100\n",
            "629/629 [==============================] - 1s 2ms/step - loss: 5.7352e-05 - val_loss: 9.7685e-05\n",
            "Epoch 74/100\n",
            "629/629 [==============================] - 1s 2ms/step - loss: 5.1996e-05 - val_loss: 4.0115e-05\n",
            "Epoch 75/100\n",
            "629/629 [==============================] - 1s 2ms/step - loss: 5.1474e-05 - val_loss: 1.9386e-04\n",
            "Epoch 76/100\n",
            "629/629 [==============================] - 1s 2ms/step - loss: 5.5969e-05 - val_loss: 7.3815e-05\n",
            "Epoch 77/100\n",
            "629/629 [==============================] - 1s 2ms/step - loss: 4.7108e-05 - val_loss: 2.5355e-05\n",
            "Epoch 78/100\n",
            "629/629 [==============================] - 1s 2ms/step - loss: 4.6740e-05 - val_loss: 1.3184e-04\n",
            "Epoch 79/100\n",
            "629/629 [==============================] - 1s 2ms/step - loss: 6.0766e-05 - val_loss: 3.6355e-05\n",
            "Epoch 80/100\n",
            "629/629 [==============================] - 1s 2ms/step - loss: 5.1368e-05 - val_loss: 4.3887e-05\n",
            "Epoch 81/100\n",
            "629/629 [==============================] - 1s 2ms/step - loss: 5.6083e-05 - val_loss: 2.9224e-05\n",
            "Epoch 82/100\n",
            "629/629 [==============================] - 1s 2ms/step - loss: 4.8213e-05 - val_loss: 2.8291e-05\n",
            "Epoch 83/100\n",
            "629/629 [==============================] - 1s 2ms/step - loss: 4.3310e-05 - val_loss: 4.2343e-05\n",
            "Epoch 84/100\n",
            "629/629 [==============================] - 1s 2ms/step - loss: 4.6624e-05 - val_loss: 2.6882e-05\n",
            "Epoch 85/100\n",
            "629/629 [==============================] - 1s 2ms/step - loss: 4.4158e-05 - val_loss: 4.1213e-05\n",
            "Epoch 86/100\n",
            "629/629 [==============================] - 1s 2ms/step - loss: 6.0367e-05 - val_loss: 3.9973e-05\n",
            "Epoch 87/100\n",
            "629/629 [==============================] - 1s 2ms/step - loss: 6.7069e-05 - val_loss: 2.9229e-05\n",
            "Epoch 88/100\n",
            "629/629 [==============================] - 1s 2ms/step - loss: 4.0055e-05 - val_loss: 3.7424e-05\n",
            "Epoch 89/100\n",
            "629/629 [==============================] - 1s 2ms/step - loss: 6.3330e-05 - val_loss: 2.9130e-05\n",
            "Epoch 90/100\n",
            "629/629 [==============================] - 1s 2ms/step - loss: 4.4244e-05 - val_loss: 1.0091e-04\n",
            "Epoch 91/100\n",
            "629/629 [==============================] - 1s 2ms/step - loss: 5.2566e-05 - val_loss: 6.7352e-05\n",
            "Epoch 92/100\n",
            "629/629 [==============================] - 1s 2ms/step - loss: 4.3244e-05 - val_loss: 9.9718e-05\n",
            "Epoch 93/100\n",
            "629/629 [==============================] - 1s 2ms/step - loss: 4.8906e-05 - val_loss: 2.7627e-05\n",
            "Epoch 94/100\n",
            "629/629 [==============================] - 1s 2ms/step - loss: 5.1989e-05 - val_loss: 4.6712e-05\n",
            "Epoch 95/100\n",
            "629/629 [==============================] - 1s 2ms/step - loss: 4.4960e-05 - val_loss: 5.7400e-05\n",
            "Epoch 96/100\n",
            "629/629 [==============================] - 1s 2ms/step - loss: 4.7730e-05 - val_loss: 9.6807e-05\n",
            "Epoch 97/100\n",
            "629/629 [==============================] - 1s 2ms/step - loss: 5.2554e-05 - val_loss: 5.5572e-05\n",
            "Epoch 98/100\n",
            "629/629 [==============================] - 1s 2ms/step - loss: 4.9486e-05 - val_loss: 2.6155e-05\n",
            "Epoch 99/100\n",
            "629/629 [==============================] - 1s 2ms/step - loss: 3.9376e-05 - val_loss: 1.3482e-04\n",
            "Epoch 100/100\n",
            "629/629 [==============================] - 1s 2ms/step - loss: 5.3214e-05 - val_loss: 1.6654e-04\n"
          ]
        }
      ]
    },
    {
      "cell_type": "code",
      "metadata": {
        "id": "iCFvJPWLNToT"
      },
      "source": [
        "predicted_CPRAVG = model.predict(X_test)"
      ],
      "execution_count": null,
      "outputs": []
    },
    {
      "cell_type": "code",
      "metadata": {
        "id": "SkZCfUe6Nqkm"
      },
      "source": [
        "test_df_scaled = scaler.transform(test_set)"
      ],
      "execution_count": null,
      "outputs": []
    },
    {
      "cell_type": "code",
      "metadata": {
        "colab": {
          "base_uri": "https://localhost:8080/"
        },
        "id": "5Mw_9c1cNdrQ",
        "outputId": "1d5db185-db36-4947-d06b-1e2b66fb53f3"
      },
      "source": [
        "predicted_CPRAVG = np.repeat(predicted_CPRAVG,test_df_scaled.shape[1],axis = -1)\n",
        "predicted_CPRAVG = scaler.inverse_transform(predicted_CPRAVG)[:,0]\n",
        "predicted_CPRAVG = predicted_CPRAVG.reshape(-1,1)\n",
        "predicted_CPRAVG"
      ],
      "execution_count": null,
      "outputs": [
        {
          "output_type": "execute_result",
          "data": {
            "text/plain": [
              "array([[0.46878052],\n",
              "       [0.50254756],\n",
              "       [0.49414966],\n",
              "       ...,\n",
              "       [0.4961232 ],\n",
              "       [0.48264334],\n",
              "       [0.45042974]], dtype=float32)"
            ]
          },
          "metadata": {},
          "execution_count": 63
        }
      ]
    },
    {
      "cell_type": "code",
      "metadata": {
        "colab": {
          "base_uri": "https://localhost:8080/",
          "height": 408
        },
        "id": "WY4nxaDvRCcm",
        "outputId": "8e06c218-929a-483a-a982-7b722e173f1f"
      },
      "source": [
        "y_test_original = np.repeat(y_test,X_test.shape[1],axis = -1)\n",
        "y_test_original = scaler.inverse_transform(y_test_original)[:,0]\n",
        "y_test_original = y_test_original.reshape(-1,1)\n",
        "y_test_original"
      ],
      "execution_count": null,
      "outputs": [
        {
          "output_type": "error",
          "ename": "ValueError",
          "evalue": "ignored",
          "traceback": [
            "\u001b[0;31m---------------------------------------------------------------------------\u001b[0m",
            "\u001b[0;31mValueError\u001b[0m                                Traceback (most recent call last)",
            "\u001b[0;32m<ipython-input-84-8c49650ebba7>\u001b[0m in \u001b[0;36m<module>\u001b[0;34m()\u001b[0m\n\u001b[1;32m      1\u001b[0m \u001b[0my_test_original\u001b[0m \u001b[0;34m=\u001b[0m \u001b[0mnp\u001b[0m\u001b[0;34m.\u001b[0m\u001b[0mrepeat\u001b[0m\u001b[0;34m(\u001b[0m\u001b[0my_test\u001b[0m\u001b[0;34m,\u001b[0m\u001b[0mX_test\u001b[0m\u001b[0;34m.\u001b[0m\u001b[0mshape\u001b[0m\u001b[0;34m[\u001b[0m\u001b[0;36m1\u001b[0m\u001b[0;34m]\u001b[0m\u001b[0;34m,\u001b[0m\u001b[0maxis\u001b[0m \u001b[0;34m=\u001b[0m \u001b[0;34m-\u001b[0m\u001b[0;36m1\u001b[0m\u001b[0;34m)\u001b[0m\u001b[0;34m\u001b[0m\u001b[0;34m\u001b[0m\u001b[0m\n\u001b[0;32m----> 2\u001b[0;31m \u001b[0my_test_original\u001b[0m \u001b[0;34m=\u001b[0m \u001b[0mscaler\u001b[0m\u001b[0;34m.\u001b[0m\u001b[0minverse_transform\u001b[0m\u001b[0;34m(\u001b[0m\u001b[0my_test_original\u001b[0m\u001b[0;34m)\u001b[0m\u001b[0;34m[\u001b[0m\u001b[0;34m:\u001b[0m\u001b[0;34m,\u001b[0m\u001b[0;36m0\u001b[0m\u001b[0;34m]\u001b[0m\u001b[0;34m\u001b[0m\u001b[0;34m\u001b[0m\u001b[0m\n\u001b[0m\u001b[1;32m      3\u001b[0m \u001b[0my_test_original\u001b[0m \u001b[0;34m=\u001b[0m \u001b[0my_test_original\u001b[0m\u001b[0;34m.\u001b[0m\u001b[0mreshape\u001b[0m\u001b[0;34m(\u001b[0m\u001b[0;34m-\u001b[0m\u001b[0;36m1\u001b[0m\u001b[0;34m,\u001b[0m\u001b[0;36m1\u001b[0m\u001b[0;34m)\u001b[0m\u001b[0;34m\u001b[0m\u001b[0;34m\u001b[0m\u001b[0m\n\u001b[1;32m      4\u001b[0m \u001b[0my_test_original\u001b[0m\u001b[0;34m\u001b[0m\u001b[0;34m\u001b[0m\u001b[0m\n",
            "\u001b[0;32m/usr/local/lib/python3.7/dist-packages/sklearn/preprocessing/_data.py\u001b[0m in \u001b[0;36minverse_transform\u001b[0;34m(self, X)\u001b[0m\n\u001b[1;32m    432\u001b[0m \u001b[0;34m\u001b[0m\u001b[0m\n\u001b[1;32m    433\u001b[0m         X = check_array(X, copy=self.copy, dtype=FLOAT_DTYPES,\n\u001b[0;32m--> 434\u001b[0;31m                         force_all_finite=\"allow-nan\")\n\u001b[0m\u001b[1;32m    435\u001b[0m \u001b[0;34m\u001b[0m\u001b[0m\n\u001b[1;32m    436\u001b[0m         \u001b[0mX\u001b[0m \u001b[0;34m-=\u001b[0m \u001b[0mself\u001b[0m\u001b[0;34m.\u001b[0m\u001b[0mmin_\u001b[0m\u001b[0;34m\u001b[0m\u001b[0;34m\u001b[0m\u001b[0m\n",
            "\u001b[0;32m/usr/local/lib/python3.7/dist-packages/sklearn/utils/validation.py\u001b[0m in \u001b[0;36mcheck_array\u001b[0;34m(array, accept_sparse, accept_large_sparse, dtype, order, copy, force_all_finite, ensure_2d, allow_nd, ensure_min_samples, ensure_min_features, warn_on_dtype, estimator)\u001b[0m\n\u001b[1;32m    554\u001b[0m                     \u001b[0;34m\"Reshape your data either using array.reshape(-1, 1) if \"\u001b[0m\u001b[0;34m\u001b[0m\u001b[0;34m\u001b[0m\u001b[0m\n\u001b[1;32m    555\u001b[0m                     \u001b[0;34m\"your data has a single feature or array.reshape(1, -1) \"\u001b[0m\u001b[0;34m\u001b[0m\u001b[0;34m\u001b[0m\u001b[0m\n\u001b[0;32m--> 556\u001b[0;31m                     \"if it contains a single sample.\".format(array))\n\u001b[0m\u001b[1;32m    557\u001b[0m \u001b[0;34m\u001b[0m\u001b[0m\n\u001b[1;32m    558\u001b[0m         \u001b[0;31m# in the future np.flexible dtypes will be handled like object dtypes\u001b[0m\u001b[0;34m\u001b[0m\u001b[0;34m\u001b[0m\u001b[0;34m\u001b[0m\u001b[0m\n",
            "\u001b[0;31mValueError\u001b[0m: Expected 2D array, got 1D array instead:\narray=[0.50447218 0.50447218 0.50447218 ... 0.29312244 0.29312244 0.29312244].\nReshape your data either using array.reshape(-1, 1) if your data has a single feature or array.reshape(1, -1) if it contains a single sample."
          ]
        }
      ]
    },
    {
      "cell_type": "code",
      "metadata": {
        "colab": {
          "base_uri": "https://localhost:8080/"
        },
        "id": "P9MtwtHONxQS",
        "outputId": "3f436c0e-416d-48b1-c7b8-3d49ae834272"
      },
      "source": [
        "test_set[:,12]"
      ],
      "execution_count": null,
      "outputs": [
        {
          "output_type": "execute_result",
          "data": {
            "text/plain": [
              "array([0.50663901, 0.50621857, 0.50638215, ..., 0.51678994, 0.51659077,\n",
              "       0.5163385 ])"
            ]
          },
          "metadata": {},
          "execution_count": 66
        }
      ]
    },
    {
      "cell_type": "code",
      "metadata": {
        "colab": {
          "base_uri": "https://localhost:8080/"
        },
        "id": "XLbyKYjEONZ4",
        "outputId": "30bf1c96-fff4-43dd-ff7a-7169d683d673"
      },
      "source": [
        "# xgboost\n",
        "import xgboost\n",
        "print(\"xgboost\", xgboost.__version__)"
      ],
      "execution_count": null,
      "outputs": [
        {
          "output_type": "stream",
          "name": "stdout",
          "text": [
            "xgboost 0.90\n"
          ]
        }
      ]
    },
    {
      "cell_type": "code",
      "metadata": {
        "id": "khw5oM36OPxS"
      },
      "source": [
        "# define model\n",
        "from xgboost import XGBRegressor\n",
        "model = XGBRegressor(objective='reg:squarederror', n_estimators=1000)"
      ],
      "execution_count": null,
      "outputs": []
    },
    {
      "cell_type": "code",
      "metadata": {
        "colab": {
          "base_uri": "https://localhost:8080/"
        },
        "id": "sYdNFFUKO7mM",
        "outputId": "025b5b76-4610-47c1-b258-d2699091c952"
      },
      "source": [
        "model.fit(data_X,data_Y)"
      ],
      "execution_count": null,
      "outputs": [
        {
          "output_type": "execute_result",
          "data": {
            "text/plain": [
              "XGBRegressor(base_score=0.5, booster='gbtree', colsample_bylevel=1,\n",
              "             colsample_bynode=1, colsample_bytree=1, gamma=0,\n",
              "             importance_type='gain', learning_rate=0.1, max_delta_step=0,\n",
              "             max_depth=3, min_child_weight=1, missing=None, n_estimators=1000,\n",
              "             n_jobs=1, nthread=None, objective='reg:squarederror',\n",
              "             random_state=0, reg_alpha=0, reg_lambda=1, scale_pos_weight=1,\n",
              "             seed=None, silent=None, subsample=1, verbosity=1)"
            ]
          },
          "metadata": {},
          "execution_count": 71
        }
      ]
    },
    {
      "cell_type": "code",
      "metadata": {
        "id": "haPQrjsvQtPX"
      },
      "source": [
        "predicted_CPRAVG = np.repeat(predicted_CPRAVG,test_df_scaled.shape[1],axis = -1)\n",
        "predicted_CPRAVG = scaler.inverse_transform(predicted_CPRAVG)[:,0]\n",
        "predicted_CPRAVG = predicted_CPRAVG.reshape(-1,1)\n",
        "predicted_CPRAVG"
      ],
      "execution_count": null,
      "outputs": []
    },
    {
      "cell_type": "code",
      "metadata": {
        "id": "O-pAxaO-PD0q"
      },
      "source": [
        "data_X_without_normalization = training_df[:,0:12]\n",
        "data_Y_without_normalization = training_df[:,12]"
      ],
      "execution_count": null,
      "outputs": []
    },
    {
      "cell_type": "code",
      "metadata": {
        "colab": {
          "base_uri": "https://localhost:8080/"
        },
        "id": "soNSdtSdPjDV",
        "outputId": "8b572535-d196-46d4-b418-6cc4c6826d4c"
      },
      "source": [
        "model.fit(data_X_without_normalization,data_Y_without_normalization)"
      ],
      "execution_count": null,
      "outputs": [
        {
          "output_type": "execute_result",
          "data": {
            "text/plain": [
              "XGBRegressor(base_score=0.5, booster='gbtree', colsample_bylevel=1,\n",
              "             colsample_bynode=1, colsample_bytree=1, gamma=0,\n",
              "             importance_type='gain', learning_rate=0.1, max_delta_step=0,\n",
              "             max_depth=3, min_child_weight=1, missing=None, n_estimators=1000,\n",
              "             n_jobs=1, nthread=None, objective='reg:squarederror',\n",
              "             random_state=0, reg_alpha=0, reg_lambda=1, scale_pos_weight=1,\n",
              "             seed=None, silent=None, subsample=1, verbosity=1)"
            ]
          },
          "metadata": {},
          "execution_count": 75
        }
      ]
    },
    {
      "cell_type": "code",
      "metadata": {
        "id": "WvUZILg-PpKB"
      },
      "source": [
        "predictions = model.predict(test_set[:,0:12])"
      ],
      "execution_count": null,
      "outputs": []
    },
    {
      "cell_type": "code",
      "metadata": {
        "colab": {
          "base_uri": "https://localhost:8080/"
        },
        "id": "OnEniOJDP7Pu",
        "outputId": "8e033687-2701-4c8d-9956-08afdacf8151"
      },
      "source": [
        "predictions"
      ],
      "execution_count": null,
      "outputs": [
        {
          "output_type": "execute_result",
          "data": {
            "text/plain": [
              "array([0.5060243 , 0.5063834 , 0.5063834 , ..., 0.5099143 , 0.50991815,\n",
              "       0.5099688 ], dtype=float32)"
            ]
          },
          "metadata": {},
          "execution_count": 78
        }
      ]
    },
    {
      "cell_type": "code",
      "metadata": {
        "colab": {
          "base_uri": "https://localhost:8080/",
          "height": 282
        },
        "id": "O7EFGzzaP9d-",
        "outputId": "e68db86e-1f73-42e2-8895-5819402a44cf"
      },
      "source": [
        "predictions_original = test_set[:,12]\n",
        "import matplotlib.pyplot as plt\n",
        "plt.plot(predictions,color = 'red')\n",
        "plt.plot(predictions_original, color = 'blue')"
      ],
      "execution_count": null,
      "outputs": [
        {
          "output_type": "execute_result",
          "data": {
            "text/plain": [
              "[<matplotlib.lines.Line2D at 0x7f7e92d41c90>]"
            ]
          },
          "metadata": {},
          "execution_count": 81
        },
        {
          "output_type": "display_data",
          "data": {
            "image/png": "[encoded data removed]",
            "text/plain": [
              "<Figure size 432x288 with 1 Axes>"
            ]
          },
          "metadata": {
            "needs_background": "light"
          }
        }
      ]
    }
  ]
}