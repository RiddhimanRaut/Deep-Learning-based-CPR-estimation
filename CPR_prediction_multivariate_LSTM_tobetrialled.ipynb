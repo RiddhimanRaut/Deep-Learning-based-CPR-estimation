{
  "nbformat": 4,
  "nbformat_minor": 0,
  "metadata": {
    "colab": {
      "name": "CPR_prediction_multivariate_LSTM.ipynb",
      "provenance": [],
      "collapsed_sections": [],
      "authorship_tag": "ABX9TyNCdYHpFzsLFsTTOxwoeXsF",
      "include_colab_link": true
    },
    "kernelspec": {
      "name": "python3",
      "display_name": "Python 3"
    },
    "language_info": {
      "name": "python"
    }
  },
  "cells": [
    {
      "cell_type": "markdown",
      "metadata": {
        "id": "view-in-github",
        "colab_type": "text"
      },
      "source": [
        "<a href=\"https://colab.research.google.com/github/RiddhimanRaut/Deep-Learning-based-CPR-estimation/blob/main/CPR_prediction_multivariate_LSTM_tobetrialled.ipynb\" target=\"_parent\"><img src=\"https://colab.research.google.com/assets/colab-badge.svg\" alt=\"Open In Colab\"/></a>"
      ]
    },
    {
      "cell_type": "code",
      "metadata": {
        "id": "KjbtJ7Bkvfl_"
      },
      "source": [
        "#Standard Imports for RNNs\n",
        "import numpy as np\n",
        "import pandas as pd\n",
        "import matplotlib.pyplot as plt\n",
        "import datetime as dt\n",
        "from datetime import datetime"
      ],
      "execution_count": 4,
      "outputs": []
    },
    {
      "cell_type": "code",
      "metadata": {
        "colab": {
          "base_uri": "https://localhost:8080/",
          "height": 204
        },
        "id": "Fpw_D_nSvr1R",
        "outputId": "db369d63-e17d-4124-fa92-786d945c2bde"
      },
      "source": [
        "url = \"https://github.com/RiddhimanRaut/Deep-Learning-based-CPR-estimation/blob/main/excel_dataset.xlsx?raw=true\"\n",
        "df = pd.read_excel(url)\n",
        "#df = df[5::6] #Hour-wise Data\n",
        "df.head()"
      ],
      "execution_count": 5,
      "outputs": [
        {
          "output_type": "execute_result",
          "data": {
            "text/html": [
              "<div>\n",
              "<style scoped>\n",
              "    .dataframe tbody tr th:only-of-type {\n",
              "        vertical-align: middle;\n",
              "    }\n",
              "\n",
              "    .dataframe tbody tr th {\n",
              "        vertical-align: top;\n",
              "    }\n",
              "\n",
              "    .dataframe thead th {\n",
              "        text-align: right;\n",
              "    }\n",
              "</style>\n",
              "<table border=\"1\" class=\"dataframe\">\n",
              "  <thead>\n",
              "    <tr style=\"text-align: right;\">\n",
              "      <th></th>\n",
              "      <th>Date Time</th>\n",
              "      <th>CPRAVG</th>\n",
              "      <th>PROP</th>\n",
              "      <th>BUT</th>\n",
              "      <th>ETHYLENE</th>\n",
              "      <th>AI12201M</th>\n",
              "      <th>FLW</th>\n",
              "      <th>COT</th>\n",
              "      <th>TEMP</th>\n",
              "      <th>PRESS</th>\n",
              "      <th>O2</th>\n",
              "      <th>DRAFT</th>\n",
              "      <th>ETH</th>\n",
              "    </tr>\n",
              "  </thead>\n",
              "  <tbody>\n",
              "    <tr>\n",
              "      <th>0</th>\n",
              "      <td>01.01.2009 00:10:00</td>\n",
              "      <td>0.428151</td>\n",
              "      <td>18.960609</td>\n",
              "      <td>3.973630</td>\n",
              "      <td>29.732470</td>\n",
              "      <td>0.014431</td>\n",
              "      <td>30711.65039</td>\n",
              "      <td>820.118210</td>\n",
              "      <td>632.399261</td>\n",
              "      <td>0.466357</td>\n",
              "      <td>1.444160</td>\n",
              "      <td>-5.616851</td>\n",
              "      <td>75.809700</td>\n",
              "    </tr>\n",
              "    <tr>\n",
              "      <th>1</th>\n",
              "      <td>01.01.2009 00:20:00</td>\n",
              "      <td>0.427783</td>\n",
              "      <td>18.960360</td>\n",
              "      <td>3.973562</td>\n",
              "      <td>30.123590</td>\n",
              "      <td>0.014822</td>\n",
              "      <td>30700.66016</td>\n",
              "      <td>819.662811</td>\n",
              "      <td>633.057602</td>\n",
              "      <td>0.475288</td>\n",
              "      <td>1.413894</td>\n",
              "      <td>-5.540349</td>\n",
              "      <td>75.810066</td>\n",
              "    </tr>\n",
              "    <tr>\n",
              "      <th>2</th>\n",
              "      <td>01.01.2009 00:30:00</td>\n",
              "      <td>0.427432</td>\n",
              "      <td>19.009649</td>\n",
              "      <td>4.181924</td>\n",
              "      <td>30.477831</td>\n",
              "      <td>0.012689</td>\n",
              "      <td>30689.66016</td>\n",
              "      <td>819.886444</td>\n",
              "      <td>631.841385</td>\n",
              "      <td>0.464559</td>\n",
              "      <td>1.515123</td>\n",
              "      <td>-5.628389</td>\n",
              "      <td>75.552841</td>\n",
              "    </tr>\n",
              "    <tr>\n",
              "      <th>3</th>\n",
              "      <td>01.01.2009 00:40:00</td>\n",
              "      <td>0.427082</td>\n",
              "      <td>19.155710</td>\n",
              "      <td>3.950392</td>\n",
              "      <td>30.425819</td>\n",
              "      <td>0.012580</td>\n",
              "      <td>30678.66016</td>\n",
              "      <td>819.660172</td>\n",
              "      <td>632.495224</td>\n",
              "      <td>0.471809</td>\n",
              "      <td>1.404055</td>\n",
              "      <td>-5.576591</td>\n",
              "      <td>75.580223</td>\n",
              "    </tr>\n",
              "    <tr>\n",
              "      <th>4</th>\n",
              "      <td>01.01.2009 00:50:00</td>\n",
              "      <td>0.426732</td>\n",
              "      <td>19.334640</td>\n",
              "      <td>3.689848</td>\n",
              "      <td>30.546061</td>\n",
              "      <td>0.012472</td>\n",
              "      <td>30667.66016</td>\n",
              "      <td>819.646805</td>\n",
              "      <td>632.388214</td>\n",
              "      <td>0.470504</td>\n",
              "      <td>1.191485</td>\n",
              "      <td>-5.274679</td>\n",
              "      <td>75.638023</td>\n",
              "    </tr>\n",
              "  </tbody>\n",
              "</table>\n",
              "</div>"
            ],
            "text/plain": [
              "             Date Time    CPRAVG       PROP  ...        O2     DRAFT        ETH\n",
              "0  01.01.2009 00:10:00  0.428151  18.960609  ...  1.444160 -5.616851  75.809700\n",
              "1  01.01.2009 00:20:00  0.427783  18.960360  ...  1.413894 -5.540349  75.810066\n",
              "2  01.01.2009 00:30:00  0.427432  19.009649  ...  1.515123 -5.628389  75.552841\n",
              "3  01.01.2009 00:40:00  0.427082  19.155710  ...  1.404055 -5.576591  75.580223\n",
              "4  01.01.2009 00:50:00  0.426732  19.334640  ...  1.191485 -5.274679  75.638023\n",
              "\n",
              "[5 rows x 13 columns]"
            ]
          },
          "metadata": {
            "tags": []
          },
          "execution_count": 5
        }
      ]
    },
    {
      "cell_type": "code",
      "metadata": {
        "id": "r3sGTpr1vx1D"
      },
      "source": [
        "#Separating Date and Time\n",
        "#To be used in plotting in X-axis\n",
        "date_time = pd.to_datetime(df.pop('Date Time'), format='%d.%m.%Y %H:%M:%S') #pop command takes the Date Time Column out of df, so df no longer has that column."
      ],
      "execution_count": 6,
      "outputs": []
    },
    {
      "cell_type": "markdown",
      "metadata": {
        "id": "RCftdYwMQ6Co"
      },
      "source": [
        "We need to remove $Ethylene$ and $AI12201M$ columns as they are not controllable factors. "
      ]
    },
    {
      "cell_type": "code",
      "metadata": {
        "id": "UBcWn2cGQ3ps",
        "colab": {
          "base_uri": "https://localhost:8080/",
          "height": 204
        },
        "outputId": "385a4a90-5b8c-494e-cd1e-97e8c9cae5d6"
      },
      "source": [
        "df = df.drop('ETHYLENE',axis=1)\n",
        "df = df.drop('AI12201M',axis=1)\n",
        "df.head()"
      ],
      "execution_count": 7,
      "outputs": [
        {
          "output_type": "execute_result",
          "data": {
            "text/html": [
              "<div>\n",
              "<style scoped>\n",
              "    .dataframe tbody tr th:only-of-type {\n",
              "        vertical-align: middle;\n",
              "    }\n",
              "\n",
              "    .dataframe tbody tr th {\n",
              "        vertical-align: top;\n",
              "    }\n",
              "\n",
              "    .dataframe thead th {\n",
              "        text-align: right;\n",
              "    }\n",
              "</style>\n",
              "<table border=\"1\" class=\"dataframe\">\n",
              "  <thead>\n",
              "    <tr style=\"text-align: right;\">\n",
              "      <th></th>\n",
              "      <th>CPRAVG</th>\n",
              "      <th>PROP</th>\n",
              "      <th>BUT</th>\n",
              "      <th>FLW</th>\n",
              "      <th>COT</th>\n",
              "      <th>TEMP</th>\n",
              "      <th>PRESS</th>\n",
              "      <th>O2</th>\n",
              "      <th>DRAFT</th>\n",
              "      <th>ETH</th>\n",
              "    </tr>\n",
              "  </thead>\n",
              "  <tbody>\n",
              "    <tr>\n",
              "      <th>0</th>\n",
              "      <td>0.428151</td>\n",
              "      <td>18.960609</td>\n",
              "      <td>3.973630</td>\n",
              "      <td>30711.65039</td>\n",
              "      <td>820.118210</td>\n",
              "      <td>632.399261</td>\n",
              "      <td>0.466357</td>\n",
              "      <td>1.444160</td>\n",
              "      <td>-5.616851</td>\n",
              "      <td>75.809700</td>\n",
              "    </tr>\n",
              "    <tr>\n",
              "      <th>1</th>\n",
              "      <td>0.427783</td>\n",
              "      <td>18.960360</td>\n",
              "      <td>3.973562</td>\n",
              "      <td>30700.66016</td>\n",
              "      <td>819.662811</td>\n",
              "      <td>633.057602</td>\n",
              "      <td>0.475288</td>\n",
              "      <td>1.413894</td>\n",
              "      <td>-5.540349</td>\n",
              "      <td>75.810066</td>\n",
              "    </tr>\n",
              "    <tr>\n",
              "      <th>2</th>\n",
              "      <td>0.427432</td>\n",
              "      <td>19.009649</td>\n",
              "      <td>4.181924</td>\n",
              "      <td>30689.66016</td>\n",
              "      <td>819.886444</td>\n",
              "      <td>631.841385</td>\n",
              "      <td>0.464559</td>\n",
              "      <td>1.515123</td>\n",
              "      <td>-5.628389</td>\n",
              "      <td>75.552841</td>\n",
              "    </tr>\n",
              "    <tr>\n",
              "      <th>3</th>\n",
              "      <td>0.427082</td>\n",
              "      <td>19.155710</td>\n",
              "      <td>3.950392</td>\n",
              "      <td>30678.66016</td>\n",
              "      <td>819.660172</td>\n",
              "      <td>632.495224</td>\n",
              "      <td>0.471809</td>\n",
              "      <td>1.404055</td>\n",
              "      <td>-5.576591</td>\n",
              "      <td>75.580223</td>\n",
              "    </tr>\n",
              "    <tr>\n",
              "      <th>4</th>\n",
              "      <td>0.426732</td>\n",
              "      <td>19.334640</td>\n",
              "      <td>3.689848</td>\n",
              "      <td>30667.66016</td>\n",
              "      <td>819.646805</td>\n",
              "      <td>632.388214</td>\n",
              "      <td>0.470504</td>\n",
              "      <td>1.191485</td>\n",
              "      <td>-5.274679</td>\n",
              "      <td>75.638023</td>\n",
              "    </tr>\n",
              "  </tbody>\n",
              "</table>\n",
              "</div>"
            ],
            "text/plain": [
              "     CPRAVG       PROP       BUT  ...        O2     DRAFT        ETH\n",
              "0  0.428151  18.960609  3.973630  ...  1.444160 -5.616851  75.809700\n",
              "1  0.427783  18.960360  3.973562  ...  1.413894 -5.540349  75.810066\n",
              "2  0.427432  19.009649  4.181924  ...  1.515123 -5.628389  75.552841\n",
              "3  0.427082  19.155710  3.950392  ...  1.404055 -5.576591  75.580223\n",
              "4  0.426732  19.334640  3.689848  ...  1.191485 -5.274679  75.638023\n",
              "\n",
              "[5 rows x 10 columns]"
            ]
          },
          "metadata": {
            "tags": []
          },
          "execution_count": 7
        }
      ]
    },
    {
      "cell_type": "code",
      "metadata": {
        "id": "Y5XHP2XuxiQ6"
      },
      "source": [
        "#Variables for training\n",
        "cols = list(df)[0:df.shape[1]]\n",
        "#To enforce that values in these columns are actually float type data\n",
        "df_for_rnn = df[cols].astype(float)"
      ],
      "execution_count": 8,
      "outputs": []
    },
    {
      "cell_type": "code",
      "metadata": {
        "id": "841ZEswh97NC"
      },
      "source": [
        "#Creating training_df and test_df\n",
        "n = len(df)\n",
        "training_df = df_for_rnn[0:int(n*0.7)]\n",
        "test_set = df_for_rnn[int(n*0.7):n]"
      ],
      "execution_count": 9,
      "outputs": []
    },
    {
      "cell_type": "code",
      "metadata": {
        "colab": {
          "base_uri": "https://localhost:8080/"
        },
        "id": "ERKcdfdvyGBx",
        "outputId": "fee58985-1190-4ea0-f764-d11298616991"
      },
      "source": [
        "#Scaling the Dataset\n",
        "from sklearn.preprocessing import StandardScaler, MinMaxScaler\n",
        "#scaler = StandardScaler()\n",
        "scaler = MinMaxScaler(feature_range = (0,1))\n",
        "df_for_training_scaled = scaler.fit_transform(training_df) #Scales and converts to numpy object\n",
        "print('Scaled Dataset:\\n',df_for_training_scaled)"
      ],
      "execution_count": 10,
      "outputs": [
        {
          "output_type": "stream",
          "text": [
            "Scaled Dataset:\n",
            " [[0.04261512 0.39141737 0.71843606 ... 0.54553167 0.061713   0.69995722]\n",
            " [0.03834461 0.39139343 0.71841953 ... 0.53416085 0.09054363 0.69998058]\n",
            " [0.03428528 0.39611563 0.76908826 ... 0.57219227 0.05736476 0.68357295]\n",
            " ...\n",
            " [0.94817084 0.28810413 0.68416253 ... 0.67555781 0.51802072 0.79587724]\n",
            " [0.95048011 0.28807252 0.68538325 ... 0.68702255 0.51584291 0.79587529]\n",
            " [0.95188739 0.28809554 0.70426883 ... 0.68955967 0.51498322 0.79587237]]\n"
          ],
          "name": "stdout"
        }
      ]
    },
    {
      "cell_type": "code",
      "metadata": {
        "colab": {
          "base_uri": "https://localhost:8080/"
        },
        "id": "F4TCtqhbzS0w",
        "outputId": "4238e295-d930-4240-9354-031cb79bdd44"
      },
      "source": [
        "#Readying the Multivariate Input and Univariate Output\n",
        "\n",
        "#initialisation\n",
        "trainX = [] \n",
        "trainY = []\n",
        "\n",
        "n_future = 1 #number of hours into the future\n",
        "n_past = 60  #number of hours into the past\n",
        "\n",
        "for i in range(n_past, len(df_for_training_scaled)-n_future+1):\n",
        "  trainX.append(df_for_training_scaled[i-60:i,:])\n",
        "  trainY.append(df_for_training_scaled[i+n_future-1:i+n_future,0])\n",
        "trainX = np.array(trainX)   # shape 1: no of records, shape 2: past_days, shape 3: input_cols\n",
        "trainY = np.array(trainY)   # shape 1: records, shape 2: future prediction data\n",
        "print('TrainX shape = (%d,%d,%d)'%(trainX.shape[0],trainX.shape[1],trainX.shape[2]))\n",
        "print('TrainY shape = (%d,%d)'%(trainY.shape[0],trainY.shape[1]))"
      ],
      "execution_count": null,
      "outputs": [
        {
          "output_type": "stream",
          "text": [
            "TrainX shape = (8667,60,10)\n",
            "TrainY shape = (8667,1)\n"
          ],
          "name": "stdout"
        }
      ]
    },
    {
      "cell_type": "code",
      "metadata": {
        "colab": {
          "base_uri": "https://localhost:8080/"
        },
        "id": "Lh52q_PG4VSD",
        "outputId": "c461aa37-0fef-4e3b-df0a-bc143a0e34d3"
      },
      "source": [
        "# Part 2 - Building the RNN\n",
        "\n",
        "# Importing the Keras libraries and packages\n",
        "from keras.models import Sequential\n",
        "from keras.layers import Dense\n",
        "from keras.layers import LSTM\n",
        "from keras.layers import Dropout\n",
        "\n",
        "model = Sequential()\n",
        "model.add(LSTM(64,activation='sigmoid',return_sequences=True,input_shape = (trainX.shape[1],trainX.shape[2])))\n",
        "model.add(LSTM(32,activation='sigmoid',return_sequences=False))\n",
        "model.add(Dropout(0.2))\n",
        "model.add(Dense(trainY.shape[1]))\n",
        "\n",
        "model.compile(optimizer='adam',loss = 'mse')\n",
        "model.summary()"
      ],
      "execution_count": null,
      "outputs": [
        {
          "output_type": "stream",
          "text": [
            "Model: \"sequential_7\"\n",
            "_________________________________________________________________\n",
            "Layer (type)                 Output Shape              Param #   \n",
            "=================================================================\n",
            "lstm_21 (LSTM)               (None, 60, 64)            19200     \n",
            "_________________________________________________________________\n",
            "lstm_22 (LSTM)               (None, 32)                12416     \n",
            "_________________________________________________________________\n",
            "dropout_13 (Dropout)         (None, 32)                0         \n",
            "_________________________________________________________________\n",
            "dense_6 (Dense)              (None, 1)                 33        \n",
            "=================================================================\n",
            "Total params: 31,649\n",
            "Trainable params: 31,649\n",
            "Non-trainable params: 0\n",
            "_________________________________________________________________\n"
          ],
          "name": "stdout"
        }
      ]
    },
    {
      "cell_type": "code",
      "metadata": {
        "colab": {
          "base_uri": "https://localhost:8080/"
        },
        "id": "_xj9Y8Sq7dBj",
        "outputId": "2d9d28d0-534f-4412-b989-8a8463200b0f"
      },
      "source": [
        "#Let's traaaaaaaaaaaainnn\n",
        "\n",
        "history = model.fit(trainX,trainY,epochs=100,verbose=1,batch_size=10,validation_split=0.1)"
      ],
      "execution_count": null,
      "outputs": [
        {
          "output_type": "stream",
          "text": [
            "Epoch 1/100\n",
            "780/780 [==============================] - 29s 33ms/step - loss: 0.0608 - val_loss: 0.0064\n",
            "Epoch 2/100\n",
            "780/780 [==============================] - 26s 33ms/step - loss: 0.0101 - val_loss: 0.0052\n",
            "Epoch 3/100\n",
            "780/780 [==============================] - 26s 33ms/step - loss: 0.0067 - val_loss: 0.0091\n",
            "Epoch 4/100\n",
            "780/780 [==============================] - 26s 34ms/step - loss: 0.0050 - val_loss: 0.0058\n",
            "Epoch 5/100\n",
            "780/780 [==============================] - 26s 34ms/step - loss: 0.0034 - val_loss: 0.0072\n",
            "Epoch 6/100\n",
            "780/780 [==============================] - 26s 33ms/step - loss: 0.0025 - val_loss: 5.9651e-04\n",
            "Epoch 7/100\n",
            "780/780 [==============================] - 26s 34ms/step - loss: 0.0018 - val_loss: 1.7205e-04\n",
            "Epoch 8/100\n",
            "780/780 [==============================] - 26s 33ms/step - loss: 0.0016 - val_loss: 5.7428e-04\n",
            "Epoch 9/100\n",
            "780/780 [==============================] - 25s 32ms/step - loss: 0.0014 - val_loss: 0.0027\n",
            "Epoch 10/100\n",
            "780/780 [==============================] - 25s 32ms/step - loss: 0.0012 - val_loss: 0.0021\n",
            "Epoch 11/100\n",
            "780/780 [==============================] - 26s 33ms/step - loss: 0.0012 - val_loss: 6.6432e-04\n",
            "Epoch 12/100\n",
            "780/780 [==============================] - 27s 35ms/step - loss: 0.0011 - val_loss: 6.2808e-04\n",
            "Epoch 13/100\n",
            "780/780 [==============================] - 27s 34ms/step - loss: 0.0012 - val_loss: 1.1908e-04\n",
            "Epoch 14/100\n",
            "780/780 [==============================] - 26s 34ms/step - loss: 0.0011 - val_loss: 6.4867e-04\n",
            "Epoch 15/100\n",
            "780/780 [==============================] - 26s 33ms/step - loss: 0.0010 - val_loss: 7.5942e-05\n",
            "Epoch 16/100\n",
            "780/780 [==============================] - 27s 35ms/step - loss: 0.0010 - val_loss: 6.6067e-05\n",
            "Epoch 17/100\n",
            "780/780 [==============================] - 25s 33ms/step - loss: 9.7545e-04 - val_loss: 5.7626e-05\n",
            "Epoch 18/100\n",
            "780/780 [==============================] - 26s 33ms/step - loss: 0.0010 - val_loss: 6.1437e-05\n",
            "Epoch 19/100\n",
            "780/780 [==============================] - 26s 34ms/step - loss: 9.1389e-04 - val_loss: 5.3886e-05\n",
            "Epoch 20/100\n",
            "780/780 [==============================] - 26s 34ms/step - loss: 9.2307e-04 - val_loss: 4.5938e-05\n",
            "Epoch 21/100\n",
            "780/780 [==============================] - 26s 34ms/step - loss: 0.0011 - val_loss: 0.0019\n",
            "Epoch 22/100\n",
            "780/780 [==============================] - 27s 35ms/step - loss: 9.6862e-04 - val_loss: 1.2441e-04\n",
            "Epoch 23/100\n",
            "780/780 [==============================] - 27s 34ms/step - loss: 9.3789e-04 - val_loss: 6.2891e-05\n",
            "Epoch 24/100\n",
            "780/780 [==============================] - 27s 35ms/step - loss: 9.0538e-04 - val_loss: 1.2229e-04\n",
            "Epoch 25/100\n",
            "780/780 [==============================] - 27s 35ms/step - loss: 8.9967e-04 - val_loss: 7.9504e-04\n",
            "Epoch 26/100\n",
            "780/780 [==============================] - 27s 35ms/step - loss: 0.0010 - val_loss: 4.2504e-05\n",
            "Epoch 27/100\n",
            "780/780 [==============================] - 27s 35ms/step - loss: 8.8655e-04 - val_loss: 8.3397e-05\n",
            "Epoch 28/100\n",
            "780/780 [==============================] - 27s 35ms/step - loss: 9.2183e-04 - val_loss: 2.4916e-04\n",
            "Epoch 29/100\n",
            "780/780 [==============================] - 27s 35ms/step - loss: 9.9034e-04 - val_loss: 4.9290e-04\n",
            "Epoch 30/100\n",
            "780/780 [==============================] - 29s 37ms/step - loss: 9.5830e-04 - val_loss: 1.8264e-04\n",
            "Epoch 31/100\n",
            "780/780 [==============================] - 27s 35ms/step - loss: 8.8040e-04 - val_loss: 6.1155e-04\n",
            "Epoch 32/100\n",
            "780/780 [==============================] - 27s 35ms/step - loss: 9.5963e-04 - val_loss: 2.8953e-04\n",
            "Epoch 33/100\n",
            "780/780 [==============================] - 28s 36ms/step - loss: 8.5910e-04 - val_loss: 2.2464e-04\n",
            "Epoch 34/100\n",
            "780/780 [==============================] - 31s 39ms/step - loss: 9.3595e-04 - val_loss: 3.4998e-04\n",
            "Epoch 35/100\n",
            "780/780 [==============================] - 29s 37ms/step - loss: 9.0165e-04 - val_loss: 3.6143e-05\n",
            "Epoch 36/100\n",
            "780/780 [==============================] - 30s 38ms/step - loss: 8.2254e-04 - val_loss: 2.6642e-05\n",
            "Epoch 37/100\n",
            "780/780 [==============================] - 29s 37ms/step - loss: 8.2963e-04 - val_loss: 2.3832e-05\n",
            "Epoch 38/100\n",
            "780/780 [==============================] - 28s 36ms/step - loss: 9.0708e-04 - val_loss: 4.8089e-04\n",
            "Epoch 39/100\n",
            "780/780 [==============================] - 29s 38ms/step - loss: 8.5706e-04 - val_loss: 2.6643e-05\n",
            "Epoch 40/100\n",
            "780/780 [==============================] - 27s 34ms/step - loss: 8.9777e-04 - val_loss: 9.9796e-05\n",
            "Epoch 41/100\n",
            "780/780 [==============================] - 27s 35ms/step - loss: 9.0820e-04 - val_loss: 1.4916e-04\n",
            "Epoch 42/100\n",
            "780/780 [==============================] - 29s 37ms/step - loss: 8.8498e-04 - val_loss: 8.9930e-05\n",
            "Epoch 43/100\n",
            "780/780 [==============================] - 29s 37ms/step - loss: 8.5362e-04 - val_loss: 4.5220e-05\n",
            "Epoch 44/100\n",
            "780/780 [==============================] - 30s 38ms/step - loss: 8.5812e-04 - val_loss: 8.6302e-05\n",
            "Epoch 45/100\n",
            "780/780 [==============================] - 30s 38ms/step - loss: 8.5494e-04 - val_loss: 4.5638e-04\n",
            "Epoch 46/100\n",
            "780/780 [==============================] - 28s 36ms/step - loss: 8.4162e-04 - val_loss: 4.9455e-05\n",
            "Epoch 47/100\n",
            "780/780 [==============================] - 27s 35ms/step - loss: 8.1737e-04 - val_loss: 2.5371e-05\n",
            "Epoch 48/100\n",
            "780/780 [==============================] - 27s 35ms/step - loss: 8.3523e-04 - val_loss: 2.7124e-05\n",
            "Epoch 49/100\n",
            "780/780 [==============================] - 28s 36ms/step - loss: 8.3516e-04 - val_loss: 2.6834e-04\n",
            "Epoch 50/100\n",
            "780/780 [==============================] - 29s 37ms/step - loss: 8.7505e-04 - val_loss: 2.1174e-05\n",
            "Epoch 51/100\n",
            "780/780 [==============================] - 29s 37ms/step - loss: 7.8690e-04 - val_loss: 6.4524e-05\n",
            "Epoch 52/100\n",
            "780/780 [==============================] - 28s 36ms/step - loss: 7.8174e-04 - val_loss: 2.8809e-05\n",
            "Epoch 53/100\n",
            "780/780 [==============================] - 29s 37ms/step - loss: 7.9168e-04 - val_loss: 5.4552e-05\n",
            "Epoch 54/100\n",
            "780/780 [==============================] - 29s 37ms/step - loss: 8.2095e-04 - val_loss: 2.7700e-04\n",
            "Epoch 55/100\n",
            "780/780 [==============================] - 29s 37ms/step - loss: 7.9158e-04 - val_loss: 3.6031e-05\n",
            "Epoch 56/100\n",
            "780/780 [==============================] - 29s 37ms/step - loss: 8.3726e-04 - val_loss: 3.0294e-05\n",
            "Epoch 57/100\n",
            "780/780 [==============================] - 29s 37ms/step - loss: 8.4836e-04 - val_loss: 2.8337e-05\n",
            "Epoch 58/100\n",
            "780/780 [==============================] - 29s 37ms/step - loss: 8.1796e-04 - val_loss: 1.7228e-04\n",
            "Epoch 59/100\n",
            "780/780 [==============================] - 29s 37ms/step - loss: 8.6151e-04 - val_loss: 2.3031e-04\n",
            "Epoch 60/100\n",
            "780/780 [==============================] - 30s 38ms/step - loss: 7.8385e-04 - val_loss: 2.4279e-04\n",
            "Epoch 61/100\n",
            "780/780 [==============================] - 28s 36ms/step - loss: 7.4983e-04 - val_loss: 1.0531e-04\n",
            "Epoch 62/100\n",
            "780/780 [==============================] - 31s 39ms/step - loss: 8.5262e-04 - val_loss: 9.9415e-05\n",
            "Epoch 63/100\n",
            "780/780 [==============================] - 29s 37ms/step - loss: 8.2237e-04 - val_loss: 8.8696e-05\n",
            "Epoch 64/100\n",
            "780/780 [==============================] - 30s 39ms/step - loss: 7.5896e-04 - val_loss: 6.0915e-05\n",
            "Epoch 65/100\n",
            "780/780 [==============================] - 30s 38ms/step - loss: 8.5418e-04 - val_loss: 4.1934e-04\n",
            "Epoch 66/100\n",
            "780/780 [==============================] - 28s 35ms/step - loss: 8.4956e-04 - val_loss: 2.5115e-05\n",
            "Epoch 67/100\n",
            "780/780 [==============================] - 28s 36ms/step - loss: 8.1556e-04 - val_loss: 7.1041e-05\n",
            "Epoch 68/100\n",
            "780/780 [==============================] - 28s 36ms/step - loss: 8.1190e-04 - val_loss: 1.9494e-04\n",
            "Epoch 69/100\n",
            "780/780 [==============================] - 29s 37ms/step - loss: 8.0852e-04 - val_loss: 3.4099e-05\n",
            "Epoch 70/100\n",
            "780/780 [==============================] - 28s 36ms/step - loss: 7.6039e-04 - val_loss: 5.2054e-05\n",
            "Epoch 71/100\n",
            "780/780 [==============================] - 28s 36ms/step - loss: 8.5150e-04 - val_loss: 1.6366e-04\n",
            "Epoch 72/100\n",
            "780/780 [==============================] - 27s 35ms/step - loss: 7.7967e-04 - val_loss: 3.2352e-05\n",
            "Epoch 73/100\n",
            "780/780 [==============================] - 28s 37ms/step - loss: 8.3048e-04 - val_loss: 2.1611e-04\n",
            "Epoch 74/100\n",
            "780/780 [==============================] - 29s 37ms/step - loss: 7.7401e-04 - val_loss: 4.3138e-05\n",
            "Epoch 75/100\n",
            "780/780 [==============================] - 30s 38ms/step - loss: 8.1761e-04 - val_loss: 5.6920e-05\n",
            "Epoch 76/100\n",
            "780/780 [==============================] - 30s 38ms/step - loss: 8.2104e-04 - val_loss: 6.5451e-05\n",
            "Epoch 77/100\n",
            "780/780 [==============================] - 28s 36ms/step - loss: 7.6719e-04 - val_loss: 2.6517e-05\n",
            "Epoch 78/100\n",
            "780/780 [==============================] - 29s 37ms/step - loss: 8.0445e-04 - val_loss: 3.5418e-05\n",
            "Epoch 79/100\n",
            "780/780 [==============================] - 28s 36ms/step - loss: 7.4692e-04 - val_loss: 2.9769e-05\n",
            "Epoch 80/100\n",
            "780/780 [==============================] - 28s 36ms/step - loss: 7.9831e-04 - val_loss: 3.2511e-05\n",
            "Epoch 81/100\n",
            "780/780 [==============================] - 29s 37ms/step - loss: 8.8163e-04 - val_loss: 6.2337e-05\n",
            "Epoch 82/100\n",
            "780/780 [==============================] - 27s 34ms/step - loss: 7.9847e-04 - val_loss: 2.3916e-05\n",
            "Epoch 83/100\n",
            "780/780 [==============================] - 28s 36ms/step - loss: 7.7319e-04 - val_loss: 3.5300e-04\n",
            "Epoch 84/100\n",
            "780/780 [==============================] - 27s 34ms/step - loss: 7.4395e-04 - val_loss: 1.5565e-04\n",
            "Epoch 85/100\n",
            "780/780 [==============================] - 27s 35ms/step - loss: 7.2244e-04 - val_loss: 2.9547e-05\n",
            "Epoch 86/100\n",
            "780/780 [==============================] - 27s 34ms/step - loss: 8.0218e-04 - val_loss: 1.7862e-04\n",
            "Epoch 87/100\n",
            "780/780 [==============================] - 28s 36ms/step - loss: 7.9103e-04 - val_loss: 1.0821e-04\n",
            "Epoch 88/100\n",
            "780/780 [==============================] - 28s 36ms/step - loss: 7.8552e-04 - val_loss: 8.5401e-05\n",
            "Epoch 89/100\n",
            "780/780 [==============================] - 28s 36ms/step - loss: 8.1988e-04 - val_loss: 8.8228e-05\n",
            "Epoch 90/100\n",
            "780/780 [==============================] - 27s 35ms/step - loss: 8.0687e-04 - val_loss: 2.4181e-05\n",
            "Epoch 91/100\n",
            "780/780 [==============================] - 28s 35ms/step - loss: 8.1590e-04 - val_loss: 1.2095e-04\n",
            "Epoch 92/100\n",
            "780/780 [==============================] - 26s 34ms/step - loss: 8.0092e-04 - val_loss: 1.7845e-05\n",
            "Epoch 93/100\n",
            "780/780 [==============================] - 27s 35ms/step - loss: 8.0996e-04 - val_loss: 2.5252e-05\n",
            "Epoch 94/100\n",
            "780/780 [==============================] - 27s 35ms/step - loss: 7.7315e-04 - val_loss: 2.8587e-05\n",
            "Epoch 95/100\n",
            "780/780 [==============================] - 26s 33ms/step - loss: 7.7496e-04 - val_loss: 9.2996e-05\n",
            "Epoch 96/100\n",
            "780/780 [==============================] - 27s 34ms/step - loss: 7.6691e-04 - val_loss: 4.0225e-05\n",
            "Epoch 97/100\n",
            "780/780 [==============================] - 28s 35ms/step - loss: 7.9725e-04 - val_loss: 1.6686e-05\n",
            "Epoch 98/100\n",
            "780/780 [==============================] - 28s 36ms/step - loss: 7.9844e-04 - val_loss: 2.9956e-05\n",
            "Epoch 99/100\n",
            "780/780 [==============================] - 27s 35ms/step - loss: 7.9609e-04 - val_loss: 1.0204e-04\n",
            "Epoch 100/100\n",
            "780/780 [==============================] - 28s 36ms/step - loss: 7.8851e-04 - val_loss: 8.7018e-05\n"
          ],
          "name": "stdout"
        }
      ]
    },
    {
      "cell_type": "code",
      "metadata": {
        "colab": {
          "base_uri": "https://localhost:8080/",
          "height": 282
        },
        "id": "ncCu99ox8fsz",
        "outputId": "d7e56c5b-f196-49c7-e8fb-071c2e3c8a2e"
      },
      "source": [
        "plt.plot(history.history['loss'],label = 'Training Loss')\n",
        "plt.plot(history.history['val_loss'],label = 'Validation Loss')\n",
        "plt.legend()"
      ],
      "execution_count": null,
      "outputs": [
        {
          "output_type": "execute_result",
          "data": {
            "text/plain": [
              "<matplotlib.legend.Legend at 0x7fa0d5fa6390>"
            ]
          },
          "metadata": {
            "tags": []
          },
          "execution_count": 82
        },
        {
          "output_type": "display_data",
          "data": {
            "image/png": "[encoded data removed]",
            "text/plain": [
              "<Figure size 432x288 with 1 Axes>"
            ]
          },
          "metadata": {
            "tags": [],
            "needs_background": "light"
          }
        }
      ]
    },
    {
      "cell_type": "code",
      "metadata": {
        "colab": {
          "base_uri": "https://localhost:8080/"
        },
        "id": "pk93fzhGAmN7",
        "outputId": "850d9e7d-790d-444a-ceb6-b6439bc8d21a"
      },
      "source": [
        "test_df_scaled = scaler.transform(test_set)\n",
        "testX = []\n",
        "for i in range(n_past,len(test_df_scaled)+n_future-1):\n",
        "  testX.append(test_df_scaled[i-n_past:i,:])\n",
        "testX = np.array(testX)\n",
        "testX.shape"
      ],
      "execution_count": null,
      "outputs": [
        {
          "output_type": "execute_result",
          "data": {
            "text/plain": [
              "(3681, 60, 10)"
            ]
          },
          "metadata": {
            "tags": []
          },
          "execution_count": 87
        }
      ]
    },
    {
      "cell_type": "code",
      "metadata": {
        "colab": {
          "base_uri": "https://localhost:8080/",
          "height": 401
        },
        "id": "Wh8WcrvuDuqU",
        "outputId": "81c90b35-d472-45d4-e60a-dfa69f65594a"
      },
      "source": [
        "predicted_CPRAVG = model.predict(testX)\n",
        "predicted_CPRAVG = np.repeat(predicted_CPRAVG,test_df_scaled.shape[1],axis = -1)\n",
        "predicted_CPRAVG = scaler.inverse_transform(predicted_CPRAVG)[:,0]\n",
        "predicted_CPRAVG = predicted_CPRAVG.reshape(-1,1)\n",
        "print(predicted_CPRAVG)\n",
        "predicted_CPRAVGplot = np.empty_like(df)\n",
        "predicted_CPRAVGplot[:,:] = np.nan\n",
        "predicted_CPRAVGplot[training_df.shape[0]+n_past:df.shape[0],:] = predicted_CPRAVG\n",
        "plt.plot(df['CPRAVG'],color = 'red', label = 'Real CPR avg')\n",
        "plt.plot(predicted_CPRAVGplot[:,0], color = 'blue', label = 'Predicted CPR avg')\n",
        "plt.legend()"
      ],
      "execution_count": null,
      "outputs": [
        {
          "output_type": "stream",
          "text": [
            "[[0.50773287]\n",
            " [0.5075086 ]\n",
            " [0.5074653 ]\n",
            " ...\n",
            " [0.51627785]\n",
            " [0.5161678 ]\n",
            " [0.5158863 ]]\n"
          ],
          "name": "stdout"
        },
        {
          "output_type": "execute_result",
          "data": {
            "text/plain": [
              "<matplotlib.legend.Legend at 0x7fa0d244eb10>"
            ]
          },
          "metadata": {
            "tags": []
          },
          "execution_count": 84
        },
        {
          "output_type": "display_data",
          "data": {
            "image/png": "[encoded data removed]",
            "text/plain": [
              "<Figure size 432x288 with 1 Axes>"
            ]
          },
          "metadata": {
            "tags": [],
            "needs_background": "light"
          }
        }
      ]
    },
    {
      "cell_type": "markdown",
      "metadata": {
        "id": "DxXQXS-DI5z8"
      },
      "source": [
        "Time to predict the future!"
      ]
    },
    {
      "cell_type": "markdown",
      "metadata": {
        "id": "WKkpXA3rT0IY"
      },
      "source": [
        "We shall use the previous $200$ data predict $CPRAVG$.\n"
      ]
    },
    {
      "cell_type": "code",
      "metadata": {
        "id": "zheZY4EQUFME"
      },
      "source": [
        "# starting_record = df.shape[0]\n",
        "# CPRAVG_real_values = df['CPRAVG']\n",
        "url_future = \"https://raw.githubusercontent.com/RiddhimanRaut/Deep-Learning-based-CPR-estimation/main/Future_test_dataset.csv\"\n",
        "df_future = pd.read_csv(url_future)\n",
        "temp = pd.DataFrame.to_numpy(df_future)\n",
        "truncated_temp_training = temp[0:len(temp) - 1000,:]\n",
        "truncated_temp_test = temp[len(temp) - 1000:len(temp),:]\n",
        "length_of_future_prediction = df_future.shape[0]\n",
        "for i in range(len(truncated_temp_test)):   #Take past 200 data, predict next 5 values\n",
        "  print(\"Predicting CPRAVG for entry:\",i)\n",
        "  #Gathering the past 200 data\n",
        "  total_df_length = truncated_temp_training.shape[0]\n",
        "  future_Xinput = truncated_temp_training[total_df_length - 200:total_df_length]\n",
        "  future_Xinput_scaled = scaler.transform(future_Xinput)\n",
        "  future_Xinput_scaled_batch = np.array([future_Xinput_scaled])\n",
        "  future_prediction = model.predict(future_Xinput_scaled_batch)\n",
        "  future_prediction = np.repeat(future_prediction, future_Xinput_scaled.shape[1],axis = -1)\n",
        "  future_prediction = scaler.inverse_transform(future_prediction)[:,0]\n",
        "  #Parameters to be set:\n",
        "  # future_data = df_future.loc[total_df_length - 200+i]\n",
        "  # future_data = pd.DataFrame.to_numpy(future_data)\n",
        "  # future_data = future_data[0:10]\n",
        "  future_data = truncated_temp_test[i,:]\n",
        "  future_data[0] = future_prediction[0]\n",
        "  # print(future_data)\n",
        "  future_data = future_data.reshape(1,10)\n",
        "  temp = np.append(temp,future_data, axis = 0)\n",
        "\n",
        "future_dataset_numpy = temp[starting_record:temp.shape[0],:]\n",
        "CPRAVG_predicted_values = future_dataset_numpy[:,0]"
      ],
      "execution_count": 30,
      "outputs": []
    },
    {
      "cell_type": "code",
      "metadata": {
        "id": "-4l1roJQDrLa"
      },
      "source": [
        "# url_future = \"https://raw.githubusercontent.com/RiddhimanRaut/Deep-Learning-based-CPR-estimation/main/Future_test_dataset.csv\"\n",
        "# new_training_dataset = pd.read_csv(url_future)\n",
        "# new_training_dataset.drop(new_training_dataset.columns[10], axis = 1, inplace=True)\n",
        "# new_training_dataset_scaled = scaler.transform(new_training_dataset)\n",
        "# length_of_whole_dataset = new_training_dataset.shape[0]\n",
        "# new_n_future = 1\n",
        "# new_n_past = 200\n",
        "# for i in range(length_of_whole_dataset-1000,length_of_whole_dataset):\n",
        "\n",
        "\n"
      ],
      "execution_count": 28,
      "outputs": []
    },
    {
      "cell_type": "code",
      "metadata": {
        "id": "A1a4TTp0c2UF"
      },
      "source": [
        "plt.plot(CPRAVG_predicted_values,color = 'red', label = 'Predicted CPR avg')\n",
        "df_future2 = pd.read_csv(url_future)\n",
        "new_CPRAVG = df_future2['CPRAVG']\n",
        "plt.plot(new_CPRAVG,color = 'Blue', label = 'New CPR avg')\n",
        "plt.legend()"
      ],
      "execution_count": null,
      "outputs": []
    }
  ]
}