{
  "nbformat": 4,
  "nbformat_minor": 0,
  "metadata": {
    "colab": {
      "name": "RNN_CPR_diff.ipynb",
      "provenance": [],
      "collapsed_sections": [],
      "authorship_tag": "ABX9TyMGIjmFYdQo+DOVoKHHz12X",
      "include_colab_link": true
    },
    "kernelspec": {
      "name": "python3",
      "display_name": "Python 3"
    },
    "language_info": {
      "name": "python"
    }
  },
  "cells": [
    {
      "cell_type": "markdown",
      "metadata": {
        "id": "view-in-github",
        "colab_type": "text"
      },
      "source": [
        "<a href=\"https://colab.research.google.com/github/RiddhimanRaut/Deep-Learning-based-CPR-estimation/blob/main/RNN_CPR_diff.ipynb\" target=\"_parent\"><img src=\"https://colab.research.google.com/assets/colab-badge.svg\" alt=\"Open In Colab\"/></a>"
      ]
    },
    {
      "cell_type": "code",
      "metadata": {
        "id": "3iBHHK3Zvbvj"
      },
      "source": [
        "import numpy as np\n",
        "import matplotlib.pyplot as plt\n",
        "import pandas as pd"
      ],
      "execution_count": 1,
      "outputs": []
    },
    {
      "cell_type": "code",
      "metadata": {
        "id": "kYr-_Pv1vkWX"
      },
      "source": [
        "url = \"https://github.com/RiddhimanRaut/Deep-Learning-based-CPR-estimation/blob/main/excel_dataset.xlsx?raw=true\"\n",
        "df = pd.read_excel(url)\n",
        "df = df[5::6] #Hour-wise Data\n",
        "date_time = pd.to_datetime(df.pop('Date Time'), format='%d.%m.%Y %H:%M:%S')\n",
        "timestamp_s = date_time.map(pd.Timestamp.timestamp)\n",
        "day = 24*60*60\n",
        "year = (365.2425)*day\n",
        "df['Day sin' ] = np.sin(timestamp_s * (2 * np.pi / day))\n",
        "df['Day cos' ] = np.cos(timestamp_s * (2 * np.pi / day))\n",
        "df['Year sin'] = np.sin(timestamp_s * (2 * np.pi / year))\n",
        "df['Year cos'] = np.cos(timestamp_s * (2 * np.pi / year))\n",
        "df.head()"
      ],
      "execution_count": null,
      "outputs": []
    },
    {
      "cell_type": "code",
      "metadata": {
        "id": "sK80Dkl3xCHU"
      },
      "source": [
        "dataset = np.array(df['CPRAVG'])\n",
        "dataset = dataset.reshape(-1,1)\n",
        "n = len(dataset)\n",
        "training_set = dataset[0:int(n*0.7)]\n",
        "test_set = dataset[int(n*0.7):n]"
      ],
      "execution_count": 60,
      "outputs": []
    },
    {
      "cell_type": "code",
      "metadata": {
        "id": "F5gvfqM_xxr5"
      },
      "source": [
        "from sklearn.preprocessing import MinMaxScaler\n",
        "sc = MinMaxScaler(feature_range = (0,1))\n",
        "training_set_scaled = sc.fit_transform(training_set)"
      ],
      "execution_count": 61,
      "outputs": []
    },
    {
      "cell_type": "code",
      "metadata": {
        "id": "EMLF3QD8yxG1"
      },
      "source": [
        "X_train = []\n",
        "y_train = []\n",
        "training_length = len(training_set_scaled)\n",
        "for i in range(60, training_length):\n",
        "    X_train.append(training_set_scaled[i-60:i,0])\n",
        "    y_train.append(training_set_scaled[i,0])\n",
        "X_train, y_train = np.array(X_train), np.array(y_train)\n",
        "X_train = np.reshape(X_train, (X_train.shape[0], X_train.shape[1], 1))"
      ],
      "execution_count": 62,
      "outputs": []
    },
    {
      "cell_type": "code",
      "metadata": {
        "id": "T_uhGkeVt4cZ"
      },
      "source": [
        "# Part 2 - Building the RNN\n",
        "\n",
        "# Importing the Keras libraries and packages\n",
        "from keras.models import Sequential\n",
        "from keras.layers import Dense\n",
        "from keras.layers import LSTM\n",
        "from keras.layers import Dropout"
      ],
      "execution_count": 63,
      "outputs": []
    },
    {
      "cell_type": "code",
      "metadata": {
        "colab": {
          "base_uri": "https://localhost:8080/"
        },
        "id": "i2SMIvYGt7Ho",
        "outputId": "30b0c192-4b8d-4796-e615-4e52d5b9f3be"
      },
      "source": [
        "regressor = Sequential()\n",
        "regressor.add(LSTM(units = 50, return_sequences = True, input_shape = (X_train.shape[1], 1)))\n",
        "regressor.add(Dropout(0.2))\n",
        "regressor.add(LSTM(units = 50, return_sequences = True))\n",
        "regressor.add(Dropout(0.2))\n",
        "regressor.add(LSTM(units = 50, return_sequences = True))\n",
        "regressor.add(Dropout(0.2))\n",
        "\n",
        "# Adding a fourth LSTM layer and some Dropout regularisation\n",
        "regressor.add(LSTM(units = 50))\n",
        "regressor.add(Dropout(0.2))\n",
        "\n",
        "# Adding the output layer\n",
        "regressor.add(Dense(units = 1))\n",
        "regressor.compile(optimizer = 'adam', loss = 'mean_squared_error')\n",
        "\n",
        "# Fitting the RNN to the Training set\n",
        "regressor.fit(X_train, y_train, epochs = 30, batch_size = 32)"
      ],
      "execution_count": 64,
      "outputs": [
        {
          "output_type": "stream",
          "text": [
            "Epoch 1/30\n",
            "44/44 [==============================] - 13s 112ms/step - loss: 0.1546\n",
            "Epoch 2/30\n",
            "44/44 [==============================] - 5s 112ms/step - loss: 0.0096\n",
            "Epoch 3/30\n",
            "44/44 [==============================] - 5s 119ms/step - loss: 0.0078\n",
            "Epoch 4/30\n",
            "44/44 [==============================] - 5s 117ms/step - loss: 0.0067\n",
            "Epoch 5/30\n",
            "44/44 [==============================] - 5s 112ms/step - loss: 0.0074\n",
            "Epoch 6/30\n",
            "44/44 [==============================] - 5s 120ms/step - loss: 0.0059\n",
            "Epoch 7/30\n",
            "44/44 [==============================] - 5s 121ms/step - loss: 0.0065\n",
            "Epoch 8/30\n",
            "44/44 [==============================] - 5s 114ms/step - loss: 0.0072\n",
            "Epoch 9/30\n",
            "44/44 [==============================] - 5s 114ms/step - loss: 0.0063\n",
            "Epoch 10/30\n",
            "44/44 [==============================] - 5s 122ms/step - loss: 0.0073\n",
            "Epoch 11/30\n",
            "44/44 [==============================] - 5s 114ms/step - loss: 0.0072\n",
            "Epoch 12/30\n",
            "44/44 [==============================] - 5s 115ms/step - loss: 0.0061\n",
            "Epoch 13/30\n",
            "44/44 [==============================] - 5s 112ms/step - loss: 0.0063\n",
            "Epoch 14/30\n",
            "44/44 [==============================] - 5s 112ms/step - loss: 0.0051\n",
            "Epoch 15/30\n",
            "44/44 [==============================] - 5s 123ms/step - loss: 0.0053\n",
            "Epoch 16/30\n",
            "44/44 [==============================] - 5s 121ms/step - loss: 0.0054\n",
            "Epoch 17/30\n",
            "44/44 [==============================] - 5s 117ms/step - loss: 0.0055\n",
            "Epoch 18/30\n",
            "44/44 [==============================] - 5s 121ms/step - loss: 0.0051\n",
            "Epoch 19/30\n",
            "44/44 [==============================] - 5s 114ms/step - loss: 0.0052\n",
            "Epoch 20/30\n",
            "44/44 [==============================] - 5s 120ms/step - loss: 0.0048\n",
            "Epoch 21/30\n",
            "44/44 [==============================] - 5s 123ms/step - loss: 0.0056\n",
            "Epoch 22/30\n",
            "44/44 [==============================] - 5s 121ms/step - loss: 0.0041\n",
            "Epoch 23/30\n",
            "44/44 [==============================] - 5s 113ms/step - loss: 0.0049\n",
            "Epoch 24/30\n",
            "44/44 [==============================] - 5s 117ms/step - loss: 0.0049\n",
            "Epoch 25/30\n",
            "44/44 [==============================] - 5s 113ms/step - loss: 0.0044\n",
            "Epoch 26/30\n",
            "44/44 [==============================] - 5s 120ms/step - loss: 0.0047\n",
            "Epoch 27/30\n",
            "44/44 [==============================] - 5s 115ms/step - loss: 0.0047\n",
            "Epoch 28/30\n",
            "44/44 [==============================] - 5s 117ms/step - loss: 0.0054\n",
            "Epoch 29/30\n",
            "44/44 [==============================] - 5s 118ms/step - loss: 0.0047\n",
            "Epoch 30/30\n",
            "44/44 [==============================] - 5s 117ms/step - loss: 0.0039\n"
          ],
          "name": "stdout"
        },
        {
          "output_type": "execute_result",
          "data": {
            "text/plain": [
              "<keras.callbacks.History at 0x7f6b17498810>"
            ]
          },
          "metadata": {
            "tags": []
          },
          "execution_count": 64
        }
      ]
    },
    {
      "cell_type": "code",
      "metadata": {
        "colab": {
          "base_uri": "https://localhost:8080/"
        },
        "id": "BRIx1bT-z0PI",
        "outputId": "ffdf726a-924b-404f-8dc8-f8760f82ff5d"
      },
      "source": [
        "test_set_scaled = sc.transform(test_set)\n",
        "test_length = len(test_set_scaled)\n",
        "X_test = []\n",
        "for i in range(60, test_length):\n",
        "    X_test.append(test_set_scaled[i-60:i, 0])\n",
        "X_test = np.array(X_test)\n",
        "X_test = np.reshape(X_test, (X_test.shape[0], X_test.shape[1], 1))\n",
        "X_test.shape\n"
      ],
      "execution_count": 65,
      "outputs": [
        {
          "output_type": "execute_result",
          "data": {
            "text/plain": [
              "(564, 60, 1)"
            ]
          },
          "metadata": {
            "tags": []
          },
          "execution_count": 65
        }
      ]
    },
    {
      "cell_type": "code",
      "metadata": {
        "id": "PMb8qE15__Ns"
      },
      "source": [
        "predicted_CPRAVG = regressor.predict(X_test)\n",
        "predicted_CPRAVG = sc.inverse_transform(predicted_stock_price)"
      ],
      "execution_count": 66,
      "outputs": []
    },
    {
      "cell_type": "code",
      "metadata": {
        "id": "5ZHsvfV6ABsE"
      },
      "source": [
        "predicted_CPRAVG"
      ],
      "execution_count": null,
      "outputs": []
    },
    {
      "cell_type": "code",
      "metadata": {
        "colab": {
          "base_uri": "https://localhost:8080/",
          "height": 282
        },
        "id": "oRjf_HCjAON9",
        "outputId": "db64bee1-c503-4c07-fd43-865e9b09f9c9"
      },
      "source": [
        "plt.plot(dataset, color = 'red', label = \"Real CPRAVG\")\n",
        "plt.plot(predicted_CPRAVG, color = 'blue', label = 'Predicted CPRAVG')"
      ],
      "execution_count": 76,
      "outputs": [
        {
          "output_type": "execute_result",
          "data": {
            "text/plain": [
              "[<matplotlib.lines.Line2D at 0x7f6b136dd690>]"
            ]
          },
          "metadata": {
            "tags": []
          },
          "execution_count": 76
        },
        {
          "output_type": "display_data",
          "data": {
            "image/png": "[encoded data removed]",
            "text/plain": [
              "<Figure size 432x288 with 1 Axes>"
            ]
          },
          "metadata": {
            "tags": [],
            "needs_background": "light"
          }
        }
      ]
    },
    {
      "cell_type": "code",
      "metadata": {
        "colab": {
          "base_uri": "https://localhost:8080/"
        },
        "id": "X44B62F6Cy6O",
        "outputId": "f86eb16b-6364-4ee7-e286-2aa314be3abb"
      },
      "source": [
        "dataset = df.iloc[:,0].values\n",
        "dataset.shape"
      ],
      "execution_count": 75,
      "outputs": [
        {
          "output_type": "execute_result",
          "data": {
            "text/plain": [
              "(2078,)"
            ]
          },
          "metadata": {
            "tags": []
          },
          "execution_count": 75
        }
      ]
    }
  ]
}