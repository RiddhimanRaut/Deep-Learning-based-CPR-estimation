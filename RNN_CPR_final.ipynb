{
  "nbformat": 4,
  "nbformat_minor": 0,
  "metadata": {
    "colab": {
      "name": "RNN_CPR_diff.ipynb",
      "provenance": [],
      "collapsed_sections": [],
      "authorship_tag": "ABX9TyOuIGSCt8h9+u7NJcLaWTor",
      "include_colab_link": true
    },
    "kernelspec": {
      "name": "python3",
      "display_name": "Python 3"
    },
    "language_info": {
      "name": "python"
    }
  },
  "cells": [
    {
      "cell_type": "markdown",
      "metadata": {
        "id": "view-in-github",
        "colab_type": "text"
      },
      "source": [
        "<a href=\"https://colab.research.google.com/github/RiddhimanRaut/Deep-Learning-based-CPR-estimation/blob/main/RNN_CPR_final.ipynb\" target=\"_parent\"><img src=\"https://colab.research.google.com/assets/colab-badge.svg\" alt=\"Open In Colab\"/></a>"
      ]
    },
    {
      "cell_type": "code",
      "metadata": {
        "id": "3iBHHK3Zvbvj"
      },
      "source": [
        "import numpy as np\n",
        "import matplotlib.pyplot as plt\n",
        "import pandas as pd"
      ],
      "execution_count": 24,
      "outputs": []
    },
    {
      "cell_type": "code",
      "metadata": {
        "id": "kYr-_Pv1vkWX",
        "outputId": "a1b112c6-d41a-4da9-bb3c-ce3c6245f6de",
        "colab": {
          "base_uri": "https://localhost:8080/",
          "height": 204
        }
      },
      "source": [
        "url = \"https://github.com/RiddhimanRaut/Deep-Learning-based-CPR-estimation/blob/main/excel_dataset.xlsx?raw=true\"\n",
        "df = pd.read_excel(url)\n",
        "#df = df[5::6] #Hour-wise Data\n",
        "date_time = pd.to_datetime(df.pop('Date Time'), format='%d.%m.%Y %H:%M:%S')\n",
        "timestamp_s = date_time.map(pd.Timestamp.timestamp)\n",
        "day = 24*60*60\n",
        "year = (365.2425)*day\n",
        "df['Day sin' ] = np.sin(timestamp_s * (2 * np.pi / day))\n",
        "df['Day cos' ] = np.cos(timestamp_s * (2 * np.pi / day))\n",
        "df['Year sin'] = np.sin(timestamp_s * (2 * np.pi / year))\n",
        "df['Year cos'] = np.cos(timestamp_s * (2 * np.pi / year))\n",
        "df.head()"
      ],
      "execution_count": 25,
      "outputs": [
        {
          "output_type": "execute_result",
          "data": {
            "text/html": [
              "<div>\n",
              "<style scoped>\n",
              "    .dataframe tbody tr th:only-of-type {\n",
              "        vertical-align: middle;\n",
              "    }\n",
              "\n",
              "    .dataframe tbody tr th {\n",
              "        vertical-align: top;\n",
              "    }\n",
              "\n",
              "    .dataframe thead th {\n",
              "        text-align: right;\n",
              "    }\n",
              "</style>\n",
              "<table border=\"1\" class=\"dataframe\">\n",
              "  <thead>\n",
              "    <tr style=\"text-align: right;\">\n",
              "      <th></th>\n",
              "      <th>CPRAVG</th>\n",
              "      <th>PROP</th>\n",
              "      <th>BUT</th>\n",
              "      <th>ETHYLENE</th>\n",
              "      <th>AI12201M</th>\n",
              "      <th>FLW</th>\n",
              "      <th>COT</th>\n",
              "      <th>TEMP</th>\n",
              "      <th>PRESS</th>\n",
              "      <th>O2</th>\n",
              "      <th>DRAFT</th>\n",
              "      <th>ETH</th>\n",
              "      <th>Day sin</th>\n",
              "      <th>Day cos</th>\n",
              "      <th>Year sin</th>\n",
              "      <th>Year cos</th>\n",
              "    </tr>\n",
              "  </thead>\n",
              "  <tbody>\n",
              "    <tr>\n",
              "      <th>0</th>\n",
              "      <td>0.428151</td>\n",
              "      <td>18.960609</td>\n",
              "      <td>3.973630</td>\n",
              "      <td>29.732470</td>\n",
              "      <td>0.014431</td>\n",
              "      <td>30711.65039</td>\n",
              "      <td>820.118210</td>\n",
              "      <td>632.399261</td>\n",
              "      <td>0.466357</td>\n",
              "      <td>1.444160</td>\n",
              "      <td>-5.616851</td>\n",
              "      <td>75.809700</td>\n",
              "      <td>0.043619</td>\n",
              "      <td>0.999048</td>\n",
              "      <td>0.009452</td>\n",
              "      <td>0.999955</td>\n",
              "    </tr>\n",
              "    <tr>\n",
              "      <th>1</th>\n",
              "      <td>0.427783</td>\n",
              "      <td>18.960360</td>\n",
              "      <td>3.973562</td>\n",
              "      <td>30.123590</td>\n",
              "      <td>0.014822</td>\n",
              "      <td>30700.66016</td>\n",
              "      <td>819.662811</td>\n",
              "      <td>633.057602</td>\n",
              "      <td>0.475288</td>\n",
              "      <td>1.413894</td>\n",
              "      <td>-5.540349</td>\n",
              "      <td>75.810066</td>\n",
              "      <td>0.087156</td>\n",
              "      <td>0.996195</td>\n",
              "      <td>0.009571</td>\n",
              "      <td>0.999954</td>\n",
              "    </tr>\n",
              "    <tr>\n",
              "      <th>2</th>\n",
              "      <td>0.427432</td>\n",
              "      <td>19.009649</td>\n",
              "      <td>4.181924</td>\n",
              "      <td>30.477831</td>\n",
              "      <td>0.012689</td>\n",
              "      <td>30689.66016</td>\n",
              "      <td>819.886444</td>\n",
              "      <td>631.841385</td>\n",
              "      <td>0.464559</td>\n",
              "      <td>1.515123</td>\n",
              "      <td>-5.628389</td>\n",
              "      <td>75.552841</td>\n",
              "      <td>0.130526</td>\n",
              "      <td>0.991445</td>\n",
              "      <td>0.009691</td>\n",
              "      <td>0.999953</td>\n",
              "    </tr>\n",
              "    <tr>\n",
              "      <th>3</th>\n",
              "      <td>0.427082</td>\n",
              "      <td>19.155710</td>\n",
              "      <td>3.950392</td>\n",
              "      <td>30.425819</td>\n",
              "      <td>0.012580</td>\n",
              "      <td>30678.66016</td>\n",
              "      <td>819.660172</td>\n",
              "      <td>632.495224</td>\n",
              "      <td>0.471809</td>\n",
              "      <td>1.404055</td>\n",
              "      <td>-5.576591</td>\n",
              "      <td>75.580223</td>\n",
              "      <td>0.173648</td>\n",
              "      <td>0.984808</td>\n",
              "      <td>0.009810</td>\n",
              "      <td>0.999952</td>\n",
              "    </tr>\n",
              "    <tr>\n",
              "      <th>4</th>\n",
              "      <td>0.426732</td>\n",
              "      <td>19.334640</td>\n",
              "      <td>3.689848</td>\n",
              "      <td>30.546061</td>\n",
              "      <td>0.012472</td>\n",
              "      <td>30667.66016</td>\n",
              "      <td>819.646805</td>\n",
              "      <td>632.388214</td>\n",
              "      <td>0.470504</td>\n",
              "      <td>1.191485</td>\n",
              "      <td>-5.274679</td>\n",
              "      <td>75.638023</td>\n",
              "      <td>0.216440</td>\n",
              "      <td>0.976296</td>\n",
              "      <td>0.009930</td>\n",
              "      <td>0.999951</td>\n",
              "    </tr>\n",
              "  </tbody>\n",
              "</table>\n",
              "</div>"
            ],
            "text/plain": [
              "     CPRAVG       PROP       BUT  ...   Day cos  Year sin  Year cos\n",
              "0  0.428151  18.960609  3.973630  ...  0.999048  0.009452  0.999955\n",
              "1  0.427783  18.960360  3.973562  ...  0.996195  0.009571  0.999954\n",
              "2  0.427432  19.009649  4.181924  ...  0.991445  0.009691  0.999953\n",
              "3  0.427082  19.155710  3.950392  ...  0.984808  0.009810  0.999952\n",
              "4  0.426732  19.334640  3.689848  ...  0.976296  0.009930  0.999951\n",
              "\n",
              "[5 rows x 16 columns]"
            ]
          },
          "metadata": {
            "tags": []
          },
          "execution_count": 25
        }
      ]
    },
    {
      "cell_type": "code",
      "metadata": {
        "id": "sK80Dkl3xCHU"
      },
      "source": [
        "dataset = np.array(df['CPRAVG'])\n",
        "dataset = dataset.reshape(-1,1)\n",
        "n = len(dataset)\n",
        "training_set = dataset[0:int(n*0.7)]\n",
        "test_set = dataset[int(n*0.7):n]"
      ],
      "execution_count": 26,
      "outputs": []
    },
    {
      "cell_type": "code",
      "metadata": {
        "id": "F5gvfqM_xxr5"
      },
      "source": [
        "from sklearn.preprocessing import MinMaxScaler\n",
        "sc = MinMaxScaler(feature_range = (0,1))\n",
        "training_set_scaled = sc.fit_transform(training_set)"
      ],
      "execution_count": 27,
      "outputs": []
    },
    {
      "cell_type": "code",
      "metadata": {
        "id": "EMLF3QD8yxG1"
      },
      "source": [
        "X_train = []\n",
        "y_train = []\n",
        "training_length = len(training_set_scaled)\n",
        "for i in range(60, training_length):\n",
        "    X_train.append(training_set_scaled[i-60:i,0])\n",
        "    y_train.append(training_set_scaled[i,0])\n",
        "X_train, y_train = np.array(X_train), np.array(y_train)\n",
        "X_train = np.reshape(X_train, (X_train.shape[0], X_train.shape[1], 1))"
      ],
      "execution_count": 28,
      "outputs": []
    },
    {
      "cell_type": "code",
      "metadata": {
        "id": "T_uhGkeVt4cZ"
      },
      "source": [
        "# Part 2 - Building the RNN\n",
        "\n",
        "# Importing the Keras libraries and packages\n",
        "from keras.models import Sequential\n",
        "from keras.layers import Dense\n",
        "from keras.layers import LSTM\n",
        "from keras.layers import Dropout"
      ],
      "execution_count": 29,
      "outputs": []
    },
    {
      "cell_type": "code",
      "metadata": {
        "colab": {
          "base_uri": "https://localhost:8080/"
        },
        "id": "i2SMIvYGt7Ho",
        "outputId": "baafb7cb-7c28-4c32-d625-5788847b16a8"
      },
      "source": [
        "regressor = Sequential()\n",
        "regressor.add(LSTM(units = 50, return_sequences = True, input_shape = (X_train.shape[1], 1)))\n",
        "regressor.add(Dropout(0.2))\n",
        "regressor.add(LSTM(units = 50, return_sequences = True))\n",
        "regressor.add(Dropout(0.2))\n",
        "regressor.add(LSTM(units = 50, return_sequences = True))\n",
        "regressor.add(Dropout(0.2))\n",
        "\n",
        "# Adding a fourth LSTM layer and some Dropout regularisation\n",
        "regressor.add(LSTM(units = 50))\n",
        "regressor.add(Dropout(0.2))\n",
        "\n",
        "# Adding the output layer\n",
        "regressor.add(Dense(units = 1))\n",
        "regressor.compile(optimizer = 'adam', loss = 'mean_squared_error')\n",
        "\n",
        "# Fitting the RNN to the Training set\n",
        "regressor.fit(X_train, y_train, epochs = 100, batch_size = 32)"
      ],
      "execution_count": 30,
      "outputs": [
        {
          "output_type": "stream",
          "text": [
            "Epoch 1/100\n",
            "271/271 [==============================] - 37s 111ms/step - loss: 0.0506\n",
            "Epoch 2/100\n",
            "271/271 [==============================] - 30s 111ms/step - loss: 0.0045\n",
            "Epoch 3/100\n",
            "271/271 [==============================] - 32s 117ms/step - loss: 0.0042\n",
            "Epoch 4/100\n",
            "271/271 [==============================] - 31s 115ms/step - loss: 0.0034\n",
            "Epoch 5/100\n",
            "271/271 [==============================] - 30s 112ms/step - loss: 0.0032\n",
            "Epoch 6/100\n",
            "271/271 [==============================] - 33s 122ms/step - loss: 0.0029\n",
            "Epoch 7/100\n",
            "271/271 [==============================] - 32s 117ms/step - loss: 0.0027\n",
            "Epoch 8/100\n",
            "271/271 [==============================] - 32s 119ms/step - loss: 0.0024\n",
            "Epoch 9/100\n",
            "271/271 [==============================] - 31s 116ms/step - loss: 0.0023\n",
            "Epoch 10/100\n",
            "271/271 [==============================] - 31s 115ms/step - loss: 0.0020\n",
            "Epoch 11/100\n",
            "271/271 [==============================] - 31s 113ms/step - loss: 0.0018\n",
            "Epoch 12/100\n",
            "271/271 [==============================] - 30s 112ms/step - loss: 0.0016\n",
            "Epoch 13/100\n",
            "271/271 [==============================] - 30s 111ms/step - loss: 0.0015\n",
            "Epoch 14/100\n",
            "271/271 [==============================] - 30s 112ms/step - loss: 0.0012\n",
            "Epoch 15/100\n",
            "271/271 [==============================] - 31s 116ms/step - loss: 0.0012\n",
            "Epoch 16/100\n",
            "271/271 [==============================] - 33s 121ms/step - loss: 0.0012\n",
            "Epoch 17/100\n",
            "271/271 [==============================] - 33s 121ms/step - loss: 9.0512e-04\n",
            "Epoch 18/100\n",
            "271/271 [==============================] - 31s 114ms/step - loss: 8.3414e-04\n",
            "Epoch 19/100\n",
            "271/271 [==============================] - 36s 132ms/step - loss: 8.0355e-04\n",
            "Epoch 20/100\n",
            "271/271 [==============================] - 35s 131ms/step - loss: 7.6771e-04\n",
            "Epoch 21/100\n",
            "271/271 [==============================] - 34s 127ms/step - loss: 6.7865e-04\n",
            "Epoch 22/100\n",
            "271/271 [==============================] - 31s 115ms/step - loss: 6.5623e-04\n",
            "Epoch 23/100\n",
            "271/271 [==============================] - 31s 114ms/step - loss: 5.9407e-04\n",
            "Epoch 24/100\n",
            "271/271 [==============================] - 31s 115ms/step - loss: 5.6097e-04\n",
            "Epoch 25/100\n",
            "271/271 [==============================] - 31s 115ms/step - loss: 5.4632e-04\n",
            "Epoch 26/100\n",
            "271/271 [==============================] - 32s 118ms/step - loss: 5.3217e-04\n",
            "Epoch 27/100\n",
            "271/271 [==============================] - 32s 119ms/step - loss: 5.3768e-04\n",
            "Epoch 28/100\n",
            "271/271 [==============================] - 33s 122ms/step - loss: 5.4528e-04\n",
            "Epoch 29/100\n",
            "271/271 [==============================] - 34s 124ms/step - loss: 4.5031e-04\n",
            "Epoch 30/100\n",
            "271/271 [==============================] - 33s 123ms/step - loss: 4.7326e-04\n",
            "Epoch 31/100\n",
            "271/271 [==============================] - 35s 128ms/step - loss: 4.4570e-04\n",
            "Epoch 32/100\n",
            "271/271 [==============================] - 32s 119ms/step - loss: 4.5570e-04\n",
            "Epoch 33/100\n",
            "271/271 [==============================] - 32s 119ms/step - loss: 4.7755e-04\n",
            "Epoch 34/100\n",
            "271/271 [==============================] - 31s 113ms/step - loss: 4.5941e-04\n",
            "Epoch 35/100\n",
            "271/271 [==============================] - 32s 120ms/step - loss: 4.6393e-04\n",
            "Epoch 36/100\n",
            "271/271 [==============================] - 33s 121ms/step - loss: 4.1329e-04\n",
            "Epoch 37/100\n",
            "271/271 [==============================] - 32s 118ms/step - loss: 4.4462e-04\n",
            "Epoch 38/100\n",
            "271/271 [==============================] - 33s 123ms/step - loss: 4.5810e-04\n",
            "Epoch 39/100\n",
            "271/271 [==============================] - 33s 122ms/step - loss: 4.1205e-04\n",
            "Epoch 40/100\n",
            "271/271 [==============================] - 32s 120ms/step - loss: 4.4459e-04\n",
            "Epoch 41/100\n",
            "271/271 [==============================] - 32s 118ms/step - loss: 4.0173e-04\n",
            "Epoch 42/100\n",
            "271/271 [==============================] - 32s 119ms/step - loss: 4.6396e-04\n",
            "Epoch 43/100\n",
            "271/271 [==============================] - 31s 114ms/step - loss: 4.1328e-04\n",
            "Epoch 44/100\n",
            "271/271 [==============================] - 30s 112ms/step - loss: 4.2803e-04\n",
            "Epoch 45/100\n",
            "271/271 [==============================] - 32s 117ms/step - loss: 4.2873e-04\n",
            "Epoch 46/100\n",
            "271/271 [==============================] - 32s 118ms/step - loss: 3.8894e-04\n",
            "Epoch 47/100\n",
            "271/271 [==============================] - 31s 116ms/step - loss: 4.2690e-04\n",
            "Epoch 48/100\n",
            "271/271 [==============================] - 31s 116ms/step - loss: 4.0547e-04\n",
            "Epoch 49/100\n",
            "271/271 [==============================] - 32s 117ms/step - loss: 4.5944e-04\n",
            "Epoch 50/100\n",
            "271/271 [==============================] - 31s 114ms/step - loss: 3.8153e-04\n",
            "Epoch 51/100\n",
            "271/271 [==============================] - 30s 112ms/step - loss: 3.8197e-04\n",
            "Epoch 52/100\n",
            "271/271 [==============================] - 31s 115ms/step - loss: 3.7827e-04\n",
            "Epoch 53/100\n",
            "271/271 [==============================] - 31s 113ms/step - loss: 4.1985e-04\n",
            "Epoch 54/100\n",
            "271/271 [==============================] - 30s 110ms/step - loss: 3.5799e-04\n",
            "Epoch 55/100\n",
            "271/271 [==============================] - 30s 111ms/step - loss: 3.7094e-04\n",
            "Epoch 56/100\n",
            "271/271 [==============================] - 30s 111ms/step - loss: 3.7429e-04\n",
            "Epoch 57/100\n",
            "271/271 [==============================] - 30s 110ms/step - loss: 3.9298e-04\n",
            "Epoch 58/100\n",
            "271/271 [==============================] - 30s 111ms/step - loss: 3.8143e-04\n",
            "Epoch 59/100\n",
            "271/271 [==============================] - 30s 110ms/step - loss: 3.4978e-04\n",
            "Epoch 60/100\n",
            "271/271 [==============================] - 30s 111ms/step - loss: 3.8613e-04\n",
            "Epoch 61/100\n",
            "271/271 [==============================] - 30s 110ms/step - loss: 3.6466e-04\n",
            "Epoch 62/100\n",
            "271/271 [==============================] - 30s 111ms/step - loss: 3.5999e-04\n",
            "Epoch 63/100\n",
            "271/271 [==============================] - 30s 111ms/step - loss: 4.0805e-04\n",
            "Epoch 64/100\n",
            "271/271 [==============================] - 30s 112ms/step - loss: 3.3969e-04\n",
            "Epoch 65/100\n",
            "271/271 [==============================] - 30s 111ms/step - loss: 3.6554e-04\n",
            "Epoch 66/100\n",
            "271/271 [==============================] - 30s 111ms/step - loss: 3.6423e-04\n",
            "Epoch 67/100\n",
            "271/271 [==============================] - 30s 112ms/step - loss: 3.7666e-04\n",
            "Epoch 68/100\n",
            "271/271 [==============================] - 31s 113ms/step - loss: 3.3208e-04\n",
            "Epoch 69/100\n",
            "271/271 [==============================] - 30s 112ms/step - loss: 3.3471e-04\n",
            "Epoch 70/100\n",
            "271/271 [==============================] - 30s 111ms/step - loss: 3.4516e-04\n",
            "Epoch 71/100\n",
            "271/271 [==============================] - 30s 110ms/step - loss: 3.4245e-04\n",
            "Epoch 72/100\n",
            "271/271 [==============================] - 30s 112ms/step - loss: 3.5858e-04\n",
            "Epoch 73/100\n",
            "271/271 [==============================] - 30s 112ms/step - loss: 3.4810e-04\n",
            "Epoch 74/100\n",
            "271/271 [==============================] - 30s 112ms/step - loss: 3.4606e-04\n",
            "Epoch 75/100\n",
            "271/271 [==============================] - 30s 112ms/step - loss: 3.4888e-04\n",
            "Epoch 76/100\n",
            "271/271 [==============================] - 30s 111ms/step - loss: 3.4930e-04\n",
            "Epoch 77/100\n",
            "271/271 [==============================] - 31s 113ms/step - loss: 3.5430e-04\n",
            "Epoch 78/100\n",
            "271/271 [==============================] - 31s 113ms/step - loss: 3.4706e-04\n",
            "Epoch 79/100\n",
            "271/271 [==============================] - 30s 112ms/step - loss: 3.3243e-04\n",
            "Epoch 80/100\n",
            "271/271 [==============================] - 30s 111ms/step - loss: 3.1548e-04\n",
            "Epoch 81/100\n",
            "271/271 [==============================] - 30s 112ms/step - loss: 3.2871e-04\n",
            "Epoch 82/100\n",
            "271/271 [==============================] - 30s 112ms/step - loss: 3.3903e-04\n",
            "Epoch 83/100\n",
            "271/271 [==============================] - 30s 112ms/step - loss: 3.3224e-04\n",
            "Epoch 84/100\n",
            "271/271 [==============================] - 30s 112ms/step - loss: 3.4940e-04\n",
            "Epoch 85/100\n",
            "271/271 [==============================] - 30s 111ms/step - loss: 3.3683e-04\n",
            "Epoch 86/100\n",
            "271/271 [==============================] - 30s 111ms/step - loss: 3.1569e-04\n",
            "Epoch 87/100\n",
            "271/271 [==============================] - 30s 111ms/step - loss: 3.3525e-04\n",
            "Epoch 88/100\n",
            "271/271 [==============================] - 30s 111ms/step - loss: 3.3003e-04\n",
            "Epoch 89/100\n",
            "271/271 [==============================] - 30s 112ms/step - loss: 3.2831e-04\n",
            "Epoch 90/100\n",
            "271/271 [==============================] - 30s 111ms/step - loss: 3.1008e-04\n",
            "Epoch 91/100\n",
            "271/271 [==============================] - 30s 111ms/step - loss: 2.9524e-04\n",
            "Epoch 92/100\n",
            "271/271 [==============================] - 30s 110ms/step - loss: 2.9096e-04\n",
            "Epoch 93/100\n",
            "271/271 [==============================] - 30s 111ms/step - loss: 3.5595e-04\n",
            "Epoch 94/100\n",
            "271/271 [==============================] - 30s 111ms/step - loss: 3.0545e-04\n",
            "Epoch 95/100\n",
            "271/271 [==============================] - 30s 112ms/step - loss: 3.0165e-04\n",
            "Epoch 96/100\n",
            "271/271 [==============================] - 31s 113ms/step - loss: 3.2590e-04\n",
            "Epoch 97/100\n",
            "271/271 [==============================] - 30s 112ms/step - loss: 3.4263e-04\n",
            "Epoch 98/100\n",
            "271/271 [==============================] - 30s 112ms/step - loss: 3.3372e-04\n",
            "Epoch 99/100\n",
            "271/271 [==============================] - 30s 112ms/step - loss: 3.1716e-04\n",
            "Epoch 100/100\n",
            "271/271 [==============================] - 31s 116ms/step - loss: 3.1618e-04\n"
          ],
          "name": "stdout"
        },
        {
          "output_type": "execute_result",
          "data": {
            "text/plain": [
              "<keras.callbacks.History at 0x7f840ad10d10>"
            ]
          },
          "metadata": {
            "tags": []
          },
          "execution_count": 30
        }
      ]
    },
    {
      "cell_type": "code",
      "metadata": {
        "colab": {
          "base_uri": "https://localhost:8080/"
        },
        "id": "BRIx1bT-z0PI",
        "outputId": "3ce41f18-257d-404d-a1ce-aca229473539"
      },
      "source": [
        "test_set_scaled = sc.transform(test_set)\n",
        "test_length = len(test_set_scaled)\n",
        "X_test = []\n",
        "for i in range(60, test_length):\n",
        "    X_test.append(test_set_scaled[i-60:i, 0])\n",
        "X_test = np.array(X_test)\n",
        "X_test = np.reshape(X_test, (X_test.shape[0], X_test.shape[1], 1))\n",
        "X_test.shape\n"
      ],
      "execution_count": 31,
      "outputs": [
        {
          "output_type": "execute_result",
          "data": {
            "text/plain": [
              "(3681, 60, 1)"
            ]
          },
          "metadata": {
            "tags": []
          },
          "execution_count": 31
        }
      ]
    },
    {
      "cell_type": "code",
      "metadata": {
        "id": "PMb8qE15__Ns"
      },
      "source": [
        "predicted_CPRAVG = regressor.predict(X_test)\n",
        "predicted_CPRAVG = sc.inverse_transform(predicted_CPRAVG)\n",
        "\n"
      ],
      "execution_count": 32,
      "outputs": []
    },
    {
      "cell_type": "code",
      "metadata": {
        "id": "5ZHsvfV6ABsE",
        "outputId": "7780ba2b-e469-458e-d050-cb22d92ebc0e",
        "colab": {
          "base_uri": "https://localhost:8080/"
        }
      },
      "source": [
        "predicted_CPRAVG"
      ],
      "execution_count": 33,
      "outputs": [
        {
          "output_type": "execute_result",
          "data": {
            "text/plain": [
              "array([[0.5080643 ],\n",
              "       [0.507977  ],\n",
              "       [0.5080178 ],\n",
              "       ...,\n",
              "       [0.51617175],\n",
              "       [0.516006  ],\n",
              "       [0.51577127]], dtype=float32)"
            ]
          },
          "metadata": {
            "tags": []
          },
          "execution_count": 33
        }
      ]
    },
    {
      "cell_type": "code",
      "metadata": {
        "id": "N7NBTrubpMEk"
      },
      "source": [
        "predicted_CPRAVG_plot = np.empty_like(dataset)\n",
        "predicted_CPRAVG_plot = predicted_CPRAVG_plot.reshape(-1,1)\n",
        "predicted_CPRAVG_plot[:,:] = np.nan\n",
        "predicted_CPRAVG_plot[training_length+60:training_length+test_length,:] = predicted_CPRAVG"
      ],
      "execution_count": 34,
      "outputs": []
    },
    {
      "cell_type": "code",
      "metadata": {
        "colab": {
          "base_uri": "https://localhost:8080/",
          "height": 282
        },
        "id": "oRjf_HCjAON9",
        "outputId": "31870168-3a63-4e0a-872b-f841a04436f9"
      },
      "source": [
        "plt.plot(dataset, color = 'red', label = \"Real CPRAVG\")\n",
        "plt.plot(predicted_CPRAVG_plot, color = 'blue', label = 'Predicted CPRAVG')"
      ],
      "execution_count": 35,
      "outputs": [
        {
          "output_type": "execute_result",
          "data": {
            "text/plain": [
              "[<matplotlib.lines.Line2D at 0x7f8409d4d650>]"
            ]
          },
          "metadata": {
            "tags": []
          },
          "execution_count": 35
        },
        {
          "output_type": "display_data",
          "data": {
            "image/png": "[encoded data removed]",
            "text/plain": [
              "<Figure size 432x288 with 1 Axes>"
            ]
          },
          "metadata": {
            "tags": [],
            "needs_background": "light"
          }
        }
      ]
    }
  ]
}