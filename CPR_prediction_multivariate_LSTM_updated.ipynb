{
  "nbformat": 4,
  "nbformat_minor": 0,
  "metadata": {
    "colab": {
      "name": "CPR_prediction_multivariate_LSTM.ipynb",
      "provenance": [],
      "collapsed_sections": [],
      "authorship_tag": "ABX9TyMjT6QanYxKCQ6+xWr7LkQg",
      "include_colab_link": true
    },
    "kernelspec": {
      "name": "python3",
      "display_name": "Python 3"
    },
    "language_info": {
      "name": "python"
    }
  },
  "cells": [
    {
      "cell_type": "markdown",
      "metadata": {
        "id": "view-in-github",
        "colab_type": "text"
      },
      "source": [
        "<a href=\"https://colab.research.google.com/github/RiddhimanRaut/Deep-Learning-based-CPR-estimation/blob/main/CPR_prediction_multivariate_LSTM_updated.ipynb\" target=\"_parent\"><img src=\"https://colab.research.google.com/assets/colab-badge.svg\" alt=\"Open In Colab\"/></a>"
      ]
    },
    {
      "cell_type": "code",
      "metadata": {
        "id": "KjbtJ7Bkvfl_"
      },
      "source": [
        "#Standard Imports for RNNs\n",
        "import numpy as np\n",
        "import pandas as pd\n",
        "import matplotlib.pyplot as plt\n",
        "import datetime as dt\n",
        "from datetime import datetime"
      ],
      "execution_count": 1,
      "outputs": []
    },
    {
      "cell_type": "code",
      "metadata": {
        "colab": {
          "base_uri": "https://localhost:8080/",
          "height": 204
        },
        "id": "Fpw_D_nSvr1R",
        "outputId": "04049958-ca81-4d6a-d4c1-bf7ac37a3693"
      },
      "source": [
        "url = \"https://github.com/RiddhimanRaut/Deep-Learning-based-CPR-estimation/blob/main/excel_dataset.xlsx?raw=true\"\n",
        "df = pd.read_excel(url)\n",
        "#df = df[5::6] #Hour-wise Data\n",
        "df.head()"
      ],
      "execution_count": 2,
      "outputs": [
        {
          "output_type": "execute_result",
          "data": {
            "text/html": [
              "<div>\n",
              "<style scoped>\n",
              "    .dataframe tbody tr th:only-of-type {\n",
              "        vertical-align: middle;\n",
              "    }\n",
              "\n",
              "    .dataframe tbody tr th {\n",
              "        vertical-align: top;\n",
              "    }\n",
              "\n",
              "    .dataframe thead th {\n",
              "        text-align: right;\n",
              "    }\n",
              "</style>\n",
              "<table border=\"1\" class=\"dataframe\">\n",
              "  <thead>\n",
              "    <tr style=\"text-align: right;\">\n",
              "      <th></th>\n",
              "      <th>Date Time</th>\n",
              "      <th>CPRAVG</th>\n",
              "      <th>PROP</th>\n",
              "      <th>BUT</th>\n",
              "      <th>ETHYLENE</th>\n",
              "      <th>AI12201M</th>\n",
              "      <th>FLW</th>\n",
              "      <th>COT</th>\n",
              "      <th>TEMP</th>\n",
              "      <th>PRESS</th>\n",
              "      <th>O2</th>\n",
              "      <th>DRAFT</th>\n",
              "      <th>ETH</th>\n",
              "    </tr>\n",
              "  </thead>\n",
              "  <tbody>\n",
              "    <tr>\n",
              "      <th>0</th>\n",
              "      <td>01.01.2009 00:10:00</td>\n",
              "      <td>0.428151</td>\n",
              "      <td>18.960609</td>\n",
              "      <td>3.973630</td>\n",
              "      <td>29.732470</td>\n",
              "      <td>0.014431</td>\n",
              "      <td>30711.65039</td>\n",
              "      <td>820.118210</td>\n",
              "      <td>632.399261</td>\n",
              "      <td>0.466357</td>\n",
              "      <td>1.444160</td>\n",
              "      <td>-5.616851</td>\n",
              "      <td>75.809700</td>\n",
              "    </tr>\n",
              "    <tr>\n",
              "      <th>1</th>\n",
              "      <td>01.01.2009 00:20:00</td>\n",
              "      <td>0.427783</td>\n",
              "      <td>18.960360</td>\n",
              "      <td>3.973562</td>\n",
              "      <td>30.123590</td>\n",
              "      <td>0.014822</td>\n",
              "      <td>30700.66016</td>\n",
              "      <td>819.662811</td>\n",
              "      <td>633.057602</td>\n",
              "      <td>0.475288</td>\n",
              "      <td>1.413894</td>\n",
              "      <td>-5.540349</td>\n",
              "      <td>75.810066</td>\n",
              "    </tr>\n",
              "    <tr>\n",
              "      <th>2</th>\n",
              "      <td>01.01.2009 00:30:00</td>\n",
              "      <td>0.427432</td>\n",
              "      <td>19.009649</td>\n",
              "      <td>4.181924</td>\n",
              "      <td>30.477831</td>\n",
              "      <td>0.012689</td>\n",
              "      <td>30689.66016</td>\n",
              "      <td>819.886444</td>\n",
              "      <td>631.841385</td>\n",
              "      <td>0.464559</td>\n",
              "      <td>1.515123</td>\n",
              "      <td>-5.628389</td>\n",
              "      <td>75.552841</td>\n",
              "    </tr>\n",
              "    <tr>\n",
              "      <th>3</th>\n",
              "      <td>01.01.2009 00:40:00</td>\n",
              "      <td>0.427082</td>\n",
              "      <td>19.155710</td>\n",
              "      <td>3.950392</td>\n",
              "      <td>30.425819</td>\n",
              "      <td>0.012580</td>\n",
              "      <td>30678.66016</td>\n",
              "      <td>819.660172</td>\n",
              "      <td>632.495224</td>\n",
              "      <td>0.471809</td>\n",
              "      <td>1.404055</td>\n",
              "      <td>-5.576591</td>\n",
              "      <td>75.580223</td>\n",
              "    </tr>\n",
              "    <tr>\n",
              "      <th>4</th>\n",
              "      <td>01.01.2009 00:50:00</td>\n",
              "      <td>0.426732</td>\n",
              "      <td>19.334640</td>\n",
              "      <td>3.689848</td>\n",
              "      <td>30.546061</td>\n",
              "      <td>0.012472</td>\n",
              "      <td>30667.66016</td>\n",
              "      <td>819.646805</td>\n",
              "      <td>632.388214</td>\n",
              "      <td>0.470504</td>\n",
              "      <td>1.191485</td>\n",
              "      <td>-5.274679</td>\n",
              "      <td>75.638023</td>\n",
              "    </tr>\n",
              "  </tbody>\n",
              "</table>\n",
              "</div>"
            ],
            "text/plain": [
              "             Date Time    CPRAVG       PROP  ...        O2     DRAFT        ETH\n",
              "0  01.01.2009 00:10:00  0.428151  18.960609  ...  1.444160 -5.616851  75.809700\n",
              "1  01.01.2009 00:20:00  0.427783  18.960360  ...  1.413894 -5.540349  75.810066\n",
              "2  01.01.2009 00:30:00  0.427432  19.009649  ...  1.515123 -5.628389  75.552841\n",
              "3  01.01.2009 00:40:00  0.427082  19.155710  ...  1.404055 -5.576591  75.580223\n",
              "4  01.01.2009 00:50:00  0.426732  19.334640  ...  1.191485 -5.274679  75.638023\n",
              "\n",
              "[5 rows x 13 columns]"
            ]
          },
          "metadata": {
            "tags": []
          },
          "execution_count": 2
        }
      ]
    },
    {
      "cell_type": "code",
      "metadata": {
        "id": "r3sGTpr1vx1D"
      },
      "source": [
        "#Separating Date and Time\n",
        "#To be used in plotting in X-axis\n",
        "date_time = pd.to_datetime(df.pop('Date Time'), format='%d.%m.%Y %H:%M:%S') #pop command takes the Date Time Column out of df, so df no longer has that column."
      ],
      "execution_count": 3,
      "outputs": []
    },
    {
      "cell_type": "markdown",
      "metadata": {
        "id": "RCftdYwMQ6Co"
      },
      "source": [
        "We need to remove $Ethylene$ and $AI12201M$ columns as they are not controllable factors. "
      ]
    },
    {
      "cell_type": "code",
      "metadata": {
        "id": "UBcWn2cGQ3ps",
        "outputId": "f1b58ecc-634d-4ae8-878d-0bbad0a50e3d",
        "colab": {
          "base_uri": "https://localhost:8080/",
          "height": 204
        }
      },
      "source": [
        "df = df.drop('ETHYLENE',axis=1)\n",
        "df = df.drop('AI12201M',axis=1)\n",
        "df.head()"
      ],
      "execution_count": 4,
      "outputs": [
        {
          "output_type": "execute_result",
          "data": {
            "text/html": [
              "<div>\n",
              "<style scoped>\n",
              "    .dataframe tbody tr th:only-of-type {\n",
              "        vertical-align: middle;\n",
              "    }\n",
              "\n",
              "    .dataframe tbody tr th {\n",
              "        vertical-align: top;\n",
              "    }\n",
              "\n",
              "    .dataframe thead th {\n",
              "        text-align: right;\n",
              "    }\n",
              "</style>\n",
              "<table border=\"1\" class=\"dataframe\">\n",
              "  <thead>\n",
              "    <tr style=\"text-align: right;\">\n",
              "      <th></th>\n",
              "      <th>CPRAVG</th>\n",
              "      <th>PROP</th>\n",
              "      <th>BUT</th>\n",
              "      <th>FLW</th>\n",
              "      <th>COT</th>\n",
              "      <th>TEMP</th>\n",
              "      <th>PRESS</th>\n",
              "      <th>O2</th>\n",
              "      <th>DRAFT</th>\n",
              "      <th>ETH</th>\n",
              "    </tr>\n",
              "  </thead>\n",
              "  <tbody>\n",
              "    <tr>\n",
              "      <th>0</th>\n",
              "      <td>0.428151</td>\n",
              "      <td>18.960609</td>\n",
              "      <td>3.973630</td>\n",
              "      <td>30711.65039</td>\n",
              "      <td>820.118210</td>\n",
              "      <td>632.399261</td>\n",
              "      <td>0.466357</td>\n",
              "      <td>1.444160</td>\n",
              "      <td>-5.616851</td>\n",
              "      <td>75.809700</td>\n",
              "    </tr>\n",
              "    <tr>\n",
              "      <th>1</th>\n",
              "      <td>0.427783</td>\n",
              "      <td>18.960360</td>\n",
              "      <td>3.973562</td>\n",
              "      <td>30700.66016</td>\n",
              "      <td>819.662811</td>\n",
              "      <td>633.057602</td>\n",
              "      <td>0.475288</td>\n",
              "      <td>1.413894</td>\n",
              "      <td>-5.540349</td>\n",
              "      <td>75.810066</td>\n",
              "    </tr>\n",
              "    <tr>\n",
              "      <th>2</th>\n",
              "      <td>0.427432</td>\n",
              "      <td>19.009649</td>\n",
              "      <td>4.181924</td>\n",
              "      <td>30689.66016</td>\n",
              "      <td>819.886444</td>\n",
              "      <td>631.841385</td>\n",
              "      <td>0.464559</td>\n",
              "      <td>1.515123</td>\n",
              "      <td>-5.628389</td>\n",
              "      <td>75.552841</td>\n",
              "    </tr>\n",
              "    <tr>\n",
              "      <th>3</th>\n",
              "      <td>0.427082</td>\n",
              "      <td>19.155710</td>\n",
              "      <td>3.950392</td>\n",
              "      <td>30678.66016</td>\n",
              "      <td>819.660172</td>\n",
              "      <td>632.495224</td>\n",
              "      <td>0.471809</td>\n",
              "      <td>1.404055</td>\n",
              "      <td>-5.576591</td>\n",
              "      <td>75.580223</td>\n",
              "    </tr>\n",
              "    <tr>\n",
              "      <th>4</th>\n",
              "      <td>0.426732</td>\n",
              "      <td>19.334640</td>\n",
              "      <td>3.689848</td>\n",
              "      <td>30667.66016</td>\n",
              "      <td>819.646805</td>\n",
              "      <td>632.388214</td>\n",
              "      <td>0.470504</td>\n",
              "      <td>1.191485</td>\n",
              "      <td>-5.274679</td>\n",
              "      <td>75.638023</td>\n",
              "    </tr>\n",
              "  </tbody>\n",
              "</table>\n",
              "</div>"
            ],
            "text/plain": [
              "     CPRAVG       PROP       BUT  ...        O2     DRAFT        ETH\n",
              "0  0.428151  18.960609  3.973630  ...  1.444160 -5.616851  75.809700\n",
              "1  0.427783  18.960360  3.973562  ...  1.413894 -5.540349  75.810066\n",
              "2  0.427432  19.009649  4.181924  ...  1.515123 -5.628389  75.552841\n",
              "3  0.427082  19.155710  3.950392  ...  1.404055 -5.576591  75.580223\n",
              "4  0.426732  19.334640  3.689848  ...  1.191485 -5.274679  75.638023\n",
              "\n",
              "[5 rows x 10 columns]"
            ]
          },
          "metadata": {
            "tags": []
          },
          "execution_count": 4
        }
      ]
    },
    {
      "cell_type": "code",
      "metadata": {
        "id": "Y5XHP2XuxiQ6"
      },
      "source": [
        "#Variables for training\n",
        "cols = list(df)[0:df.shape[1]]\n",
        "#To enforce that values in these columns are actually float type data\n",
        "df_for_rnn = df[cols].astype(float)"
      ],
      "execution_count": 5,
      "outputs": []
    },
    {
      "cell_type": "code",
      "metadata": {
        "id": "841ZEswh97NC"
      },
      "source": [
        "#Creating training_df and test_df\n",
        "n = len(df)\n",
        "training_df = df_for_rnn[0:int(n*0.7)]\n",
        "test_set = df_for_rnn[int(n*0.7):n]"
      ],
      "execution_count": 6,
      "outputs": []
    },
    {
      "cell_type": "code",
      "metadata": {
        "colab": {
          "base_uri": "https://localhost:8080/"
        },
        "id": "ERKcdfdvyGBx",
        "outputId": "4c6779fd-c9ca-41ed-cedc-2f750b9fdc7b"
      },
      "source": [
        "#Scaling the Dataset\n",
        "from sklearn.preprocessing import StandardScaler, MinMaxScaler\n",
        "#scaler = StandardScaler()\n",
        "scaler = MinMaxScaler(feature_range = (0,1))\n",
        "df_for_training_scaled = scaler.fit_transform(training_df) #Scales and converts to numpy object\n",
        "print('Scaled Dataset:\\n',df_for_training_scaled)"
      ],
      "execution_count": 7,
      "outputs": [
        {
          "output_type": "stream",
          "text": [
            "Scaled Dataset:\n",
            " [[0.04261512 0.39141737 0.71843606 ... 0.54553167 0.061713   0.69995722]\n",
            " [0.03834461 0.39139343 0.71841953 ... 0.53416085 0.09054363 0.69998058]\n",
            " [0.03428528 0.39611563 0.76908826 ... 0.57219227 0.05736476 0.68357295]\n",
            " ...\n",
            " [0.94817084 0.28810413 0.68416253 ... 0.67555781 0.51802072 0.79587724]\n",
            " [0.95048011 0.28807252 0.68538325 ... 0.68702255 0.51584291 0.79587529]\n",
            " [0.95188739 0.28809554 0.70426883 ... 0.68955967 0.51498322 0.79587237]]\n"
          ],
          "name": "stdout"
        }
      ]
    },
    {
      "cell_type": "code",
      "metadata": {
        "colab": {
          "base_uri": "https://localhost:8080/"
        },
        "id": "F4TCtqhbzS0w",
        "outputId": "e48b81ba-1f27-418e-a29d-072d78fc506c"
      },
      "source": [
        "#Readying the Multivariate Input and Univariate Output\n",
        "\n",
        "#initialisation\n",
        "trainX = [] \n",
        "trainY = []\n",
        "\n",
        "n_future = 1 #number of hours into the future\n",
        "n_past = 60  #number of hours into the past\n",
        "\n",
        "for i in range(n_past, len(df_for_training_scaled)-n_future+1):\n",
        "  trainX.append(df_for_training_scaled[i-60:i,:])\n",
        "  trainY.append(df_for_training_scaled[i+n_future-1:i+n_future,0])\n",
        "trainX = np.array(trainX)   # shape 1: no of records, shape 2: past_days, shape 3: input_cols\n",
        "trainY = np.array(trainY)   # shape 1: records, shape 2: future prediction data\n",
        "print('TrainX shape = (%d,%d,%d)'%(trainX.shape[0],trainX.shape[1],trainX.shape[2]))\n",
        "print('TrainY shape = (%d,%d)'%(trainY.shape[0],trainY.shape[1]))"
      ],
      "execution_count": 8,
      "outputs": [
        {
          "output_type": "stream",
          "text": [
            "TrainX shape = (8667,60,10)\n",
            "TrainY shape = (8667,1)\n"
          ],
          "name": "stdout"
        }
      ]
    },
    {
      "cell_type": "code",
      "metadata": {
        "colab": {
          "base_uri": "https://localhost:8080/"
        },
        "id": "Lh52q_PG4VSD",
        "outputId": "75ad2053-6059-4f48-dce4-0e7bdfef08d8"
      },
      "source": [
        "# Part 2 - Building the RNN\n",
        "\n",
        "# Importing the Keras libraries and packages\n",
        "from keras.models import Sequential\n",
        "from keras.layers import Dense\n",
        "from keras.layers import LSTM\n",
        "from keras.layers import Dropout\n",
        "\n",
        "model = Sequential()\n",
        "model.add(LSTM(64,activation='sigmoid',return_sequences=True,input_shape = (trainX.shape[1],trainX.shape[2])))\n",
        "model.add(LSTM(32,activation='sigmoid',return_sequences=False))\n",
        "model.add(Dropout(0.2))\n",
        "model.add(Dense(trainY.shape[1]))\n",
        "\n",
        "model.compile(optimizer='adam',loss = 'mse')\n",
        "model.summary()"
      ],
      "execution_count": 9,
      "outputs": [
        {
          "output_type": "stream",
          "text": [
            "Model: \"sequential\"\n",
            "_________________________________________________________________\n",
            "Layer (type)                 Output Shape              Param #   \n",
            "=================================================================\n",
            "lstm (LSTM)                  (None, 60, 64)            19200     \n",
            "_________________________________________________________________\n",
            "lstm_1 (LSTM)                (None, 32)                12416     \n",
            "_________________________________________________________________\n",
            "dropout (Dropout)            (None, 32)                0         \n",
            "_________________________________________________________________\n",
            "dense (Dense)                (None, 1)                 33        \n",
            "=================================================================\n",
            "Total params: 31,649\n",
            "Trainable params: 31,649\n",
            "Non-trainable params: 0\n",
            "_________________________________________________________________\n"
          ],
          "name": "stdout"
        }
      ]
    },
    {
      "cell_type": "code",
      "metadata": {
        "colab": {
          "base_uri": "https://localhost:8080/"
        },
        "id": "_xj9Y8Sq7dBj",
        "outputId": "726246ba-f233-47b0-fc2f-6f5856a70591"
      },
      "source": [
        "#Let's traaaaaaaaaaaainnn\n",
        "\n",
        "history = model.fit(trainX,trainY,epochs=100,verbose=1,batch_size=32,validation_split=0.1)"
      ],
      "execution_count": 10,
      "outputs": [
        {
          "output_type": "stream",
          "text": [
            "Epoch 1/100\n",
            "244/244 [==============================] - 44s 65ms/step - loss: 0.1034 - val_loss: 0.0401\n",
            "Epoch 2/100\n",
            "244/244 [==============================] - 15s 61ms/step - loss: 0.0304 - val_loss: 0.0088\n",
            "Epoch 3/100\n",
            "244/244 [==============================] - 15s 60ms/step - loss: 0.0132 - val_loss: 0.0079\n",
            "Epoch 4/100\n",
            "244/244 [==============================] - 15s 62ms/step - loss: 0.0104 - val_loss: 0.0076\n",
            "Epoch 5/100\n",
            "244/244 [==============================] - 16s 65ms/step - loss: 0.0088 - val_loss: 0.0037\n",
            "Epoch 6/100\n",
            "244/244 [==============================] - 15s 61ms/step - loss: 0.0078 - val_loss: 0.0100\n",
            "Epoch 7/100\n",
            "244/244 [==============================] - 14s 58ms/step - loss: 0.0067 - val_loss: 0.0053\n",
            "Epoch 8/100\n",
            "244/244 [==============================] - 14s 59ms/step - loss: 0.0056 - val_loss: 0.0037\n",
            "Epoch 9/100\n",
            "244/244 [==============================] - 14s 59ms/step - loss: 0.0048 - val_loss: 0.0040\n",
            "Epoch 10/100\n",
            "244/244 [==============================] - 14s 59ms/step - loss: 0.0041 - val_loss: 0.0076\n",
            "Epoch 11/100\n",
            "244/244 [==============================] - 14s 59ms/step - loss: 0.0036 - val_loss: 0.0019\n",
            "Epoch 12/100\n",
            "244/244 [==============================] - 14s 57ms/step - loss: 0.0030 - val_loss: 0.0016\n",
            "Epoch 13/100\n",
            "244/244 [==============================] - 14s 56ms/step - loss: 0.0026 - val_loss: 0.0030\n",
            "Epoch 14/100\n",
            "244/244 [==============================] - 14s 56ms/step - loss: 0.0022 - val_loss: 0.0038\n",
            "Epoch 15/100\n",
            "244/244 [==============================] - 14s 56ms/step - loss: 0.0019 - val_loss: 0.0016\n",
            "Epoch 16/100\n",
            "244/244 [==============================] - 14s 57ms/step - loss: 0.0017 - val_loss: 1.7532e-04\n",
            "Epoch 17/100\n",
            "244/244 [==============================] - 14s 57ms/step - loss: 0.0016 - val_loss: 6.3611e-04\n",
            "Epoch 18/100\n",
            "244/244 [==============================] - 14s 59ms/step - loss: 0.0014 - val_loss: 1.8562e-04\n",
            "Epoch 19/100\n",
            "244/244 [==============================] - 14s 59ms/step - loss: 0.0014 - val_loss: 5.0936e-04\n",
            "Epoch 20/100\n",
            "244/244 [==============================] - 14s 57ms/step - loss: 0.0014 - val_loss: 9.7576e-04\n",
            "Epoch 21/100\n",
            "244/244 [==============================] - 14s 58ms/step - loss: 0.0012 - val_loss: 8.6548e-04\n",
            "Epoch 22/100\n",
            "244/244 [==============================] - 14s 57ms/step - loss: 0.0011 - val_loss: 4.0971e-04\n",
            "Epoch 23/100\n",
            "244/244 [==============================] - 14s 57ms/step - loss: 0.0011 - val_loss: 0.0011\n",
            "Epoch 24/100\n",
            "244/244 [==============================] - 14s 56ms/step - loss: 0.0011 - val_loss: 2.6157e-04\n",
            "Epoch 25/100\n",
            "244/244 [==============================] - 14s 57ms/step - loss: 0.0010 - val_loss: 1.2964e-04\n",
            "Epoch 26/100\n",
            "244/244 [==============================] - 14s 57ms/step - loss: 0.0010 - val_loss: 0.0012\n",
            "Epoch 27/100\n",
            "244/244 [==============================] - 14s 58ms/step - loss: 0.0011 - val_loss: 4.0974e-04\n",
            "Epoch 28/100\n",
            "244/244 [==============================] - 14s 57ms/step - loss: 0.0010 - val_loss: 1.4921e-04\n",
            "Epoch 29/100\n",
            "244/244 [==============================] - 14s 57ms/step - loss: 0.0011 - val_loss: 4.9045e-04\n",
            "Epoch 30/100\n",
            "244/244 [==============================] - 14s 56ms/step - loss: 0.0010 - val_loss: 6.3510e-04\n",
            "Epoch 31/100\n",
            "244/244 [==============================] - 14s 56ms/step - loss: 9.5627e-04 - val_loss: 1.1289e-04\n",
            "Epoch 32/100\n",
            "244/244 [==============================] - 14s 56ms/step - loss: 0.0010 - val_loss: 8.5607e-05\n",
            "Epoch 33/100\n",
            "244/244 [==============================] - 14s 56ms/step - loss: 9.1271e-04 - val_loss: 1.8923e-04\n",
            "Epoch 34/100\n",
            "244/244 [==============================] - 14s 56ms/step - loss: 9.1644e-04 - val_loss: 6.5811e-04\n",
            "Epoch 35/100\n",
            "244/244 [==============================] - 14s 56ms/step - loss: 0.0010 - val_loss: 0.0015\n",
            "Epoch 36/100\n",
            "244/244 [==============================] - 14s 56ms/step - loss: 8.8954e-04 - val_loss: 0.0011\n",
            "Epoch 37/100\n",
            "244/244 [==============================] - 14s 56ms/step - loss: 9.2695e-04 - val_loss: 1.0115e-04\n",
            "Epoch 38/100\n",
            "244/244 [==============================] - 14s 57ms/step - loss: 9.7400e-04 - val_loss: 9.0300e-04\n",
            "Epoch 39/100\n",
            "244/244 [==============================] - 14s 57ms/step - loss: 9.2196e-04 - val_loss: 5.8282e-04\n",
            "Epoch 40/100\n",
            "244/244 [==============================] - 14s 57ms/step - loss: 9.7105e-04 - val_loss: 8.3934e-04\n",
            "Epoch 41/100\n",
            "244/244 [==============================] - 14s 57ms/step - loss: 8.7598e-04 - val_loss: 6.9051e-05\n",
            "Epoch 42/100\n",
            "244/244 [==============================] - 14s 56ms/step - loss: 9.0329e-04 - val_loss: 1.7989e-04\n",
            "Epoch 43/100\n",
            "244/244 [==============================] - 14s 57ms/step - loss: 9.0469e-04 - val_loss: 9.0254e-05\n",
            "Epoch 44/100\n",
            "244/244 [==============================] - 14s 57ms/step - loss: 8.9322e-04 - val_loss: 1.0279e-04\n",
            "Epoch 45/100\n",
            "244/244 [==============================] - 14s 58ms/step - loss: 8.9547e-04 - val_loss: 1.1159e-04\n",
            "Epoch 46/100\n",
            "244/244 [==============================] - 14s 58ms/step - loss: 8.9338e-04 - val_loss: 3.9421e-04\n",
            "Epoch 47/100\n",
            "244/244 [==============================] - 14s 57ms/step - loss: 8.2229e-04 - val_loss: 1.2168e-04\n",
            "Epoch 48/100\n",
            "244/244 [==============================] - 14s 57ms/step - loss: 8.7205e-04 - val_loss: 7.6068e-05\n",
            "Epoch 49/100\n",
            "244/244 [==============================] - 14s 57ms/step - loss: 8.9380e-04 - val_loss: 6.7246e-05\n",
            "Epoch 50/100\n",
            "244/244 [==============================] - 14s 57ms/step - loss: 8.8369e-04 - val_loss: 2.2108e-04\n",
            "Epoch 51/100\n",
            "244/244 [==============================] - 14s 57ms/step - loss: 8.5354e-04 - val_loss: 7.9707e-05\n",
            "Epoch 52/100\n",
            "244/244 [==============================] - 14s 57ms/step - loss: 8.7367e-04 - val_loss: 2.7309e-04\n",
            "Epoch 53/100\n",
            "244/244 [==============================] - 14s 57ms/step - loss: 9.1171e-04 - val_loss: 5.4522e-04\n",
            "Epoch 54/100\n",
            "244/244 [==============================] - 14s 57ms/step - loss: 8.3850e-04 - val_loss: 1.3591e-04\n",
            "Epoch 55/100\n",
            "244/244 [==============================] - 14s 57ms/step - loss: 8.7392e-04 - val_loss: 1.8496e-04\n",
            "Epoch 56/100\n",
            "244/244 [==============================] - 14s 57ms/step - loss: 8.5247e-04 - val_loss: 6.0612e-04\n",
            "Epoch 57/100\n",
            "244/244 [==============================] - 14s 57ms/step - loss: 8.0708e-04 - val_loss: 6.5033e-04\n",
            "Epoch 58/100\n",
            "244/244 [==============================] - 14s 56ms/step - loss: 8.5191e-04 - val_loss: 6.7328e-05\n",
            "Epoch 59/100\n",
            "244/244 [==============================] - 14s 56ms/step - loss: 8.5864e-04 - val_loss: 5.2913e-05\n",
            "Epoch 60/100\n",
            "244/244 [==============================] - 14s 57ms/step - loss: 8.3850e-04 - val_loss: 9.0362e-04\n",
            "Epoch 61/100\n",
            "244/244 [==============================] - 14s 57ms/step - loss: 8.5142e-04 - val_loss: 4.1127e-05\n",
            "Epoch 62/100\n",
            "244/244 [==============================] - 14s 57ms/step - loss: 8.4169e-04 - val_loss: 6.4686e-05\n",
            "Epoch 63/100\n",
            "244/244 [==============================] - 14s 57ms/step - loss: 9.1183e-04 - val_loss: 1.8925e-04\n",
            "Epoch 64/100\n",
            "244/244 [==============================] - 14s 59ms/step - loss: 8.3415e-04 - val_loss: 1.1134e-04\n",
            "Epoch 65/100\n",
            "244/244 [==============================] - 14s 58ms/step - loss: 8.3384e-04 - val_loss: 9.8833e-05\n",
            "Epoch 66/100\n",
            "244/244 [==============================] - 15s 60ms/step - loss: 9.0888e-04 - val_loss: 4.5592e-04\n",
            "Epoch 67/100\n",
            "244/244 [==============================] - 14s 59ms/step - loss: 8.6910e-04 - val_loss: 1.5752e-04\n",
            "Epoch 68/100\n",
            "244/244 [==============================] - 14s 58ms/step - loss: 8.0975e-04 - val_loss: 2.2089e-04\n",
            "Epoch 69/100\n",
            "244/244 [==============================] - 14s 58ms/step - loss: 8.6155e-04 - val_loss: 5.6970e-04\n",
            "Epoch 70/100\n",
            "244/244 [==============================] - 14s 57ms/step - loss: 7.6035e-04 - val_loss: 1.0286e-04\n",
            "Epoch 71/100\n",
            "244/244 [==============================] - 14s 58ms/step - loss: 8.6075e-04 - val_loss: 4.4984e-05\n",
            "Epoch 72/100\n",
            "244/244 [==============================] - 14s 57ms/step - loss: 8.2862e-04 - val_loss: 4.2026e-05\n",
            "Epoch 73/100\n",
            "244/244 [==============================] - 14s 58ms/step - loss: 8.6785e-04 - val_loss: 4.9451e-04\n",
            "Epoch 74/100\n",
            "244/244 [==============================] - 14s 56ms/step - loss: 8.7168e-04 - val_loss: 1.8151e-04\n",
            "Epoch 75/100\n",
            "244/244 [==============================] - 14s 56ms/step - loss: 8.5509e-04 - val_loss: 4.2553e-05\n",
            "Epoch 76/100\n",
            "244/244 [==============================] - 14s 56ms/step - loss: 8.2437e-04 - val_loss: 7.2039e-05\n",
            "Epoch 77/100\n",
            "244/244 [==============================] - 14s 56ms/step - loss: 7.6857e-04 - val_loss: 4.5622e-05\n",
            "Epoch 78/100\n",
            "244/244 [==============================] - 14s 57ms/step - loss: 8.6886e-04 - val_loss: 4.5681e-05\n",
            "Epoch 79/100\n",
            "244/244 [==============================] - 14s 58ms/step - loss: 8.1610e-04 - val_loss: 4.4551e-05\n",
            "Epoch 80/100\n",
            "244/244 [==============================] - 14s 58ms/step - loss: 7.9633e-04 - val_loss: 3.7125e-05\n",
            "Epoch 81/100\n",
            "244/244 [==============================] - 14s 59ms/step - loss: 8.0460e-04 - val_loss: 7.4696e-05\n",
            "Epoch 82/100\n",
            "244/244 [==============================] - 15s 60ms/step - loss: 7.7313e-04 - val_loss: 3.8756e-05\n",
            "Epoch 83/100\n",
            "244/244 [==============================] - 15s 61ms/step - loss: 7.7551e-04 - val_loss: 4.8752e-04\n",
            "Epoch 84/100\n",
            "244/244 [==============================] - 14s 58ms/step - loss: 8.2239e-04 - val_loss: 2.0508e-04\n",
            "Epoch 85/100\n",
            "244/244 [==============================] - 14s 58ms/step - loss: 7.6881e-04 - val_loss: 1.8242e-04\n",
            "Epoch 86/100\n",
            "244/244 [==============================] - 14s 59ms/step - loss: 7.9203e-04 - val_loss: 1.4578e-04\n",
            "Epoch 87/100\n",
            "244/244 [==============================] - 15s 60ms/step - loss: 8.0226e-04 - val_loss: 3.2758e-04\n",
            "Epoch 88/100\n",
            "244/244 [==============================] - 15s 61ms/step - loss: 8.6696e-04 - val_loss: 5.5839e-04\n",
            "Epoch 89/100\n",
            "244/244 [==============================] - 15s 61ms/step - loss: 7.7795e-04 - val_loss: 5.3258e-04\n",
            "Epoch 90/100\n",
            "244/244 [==============================] - 15s 61ms/step - loss: 8.6367e-04 - val_loss: 1.7380e-04\n",
            "Epoch 91/100\n",
            "244/244 [==============================] - 14s 58ms/step - loss: 8.5323e-04 - val_loss: 2.5982e-04\n",
            "Epoch 92/100\n",
            "244/244 [==============================] - 14s 57ms/step - loss: 7.8695e-04 - val_loss: 3.0295e-04\n",
            "Epoch 93/100\n",
            "244/244 [==============================] - 14s 57ms/step - loss: 8.7250e-04 - val_loss: 2.7937e-04\n",
            "Epoch 94/100\n",
            "244/244 [==============================] - 14s 59ms/step - loss: 7.7937e-04 - val_loss: 1.6052e-04\n",
            "Epoch 95/100\n",
            "244/244 [==============================] - 14s 58ms/step - loss: 7.6822e-04 - val_loss: 3.2170e-04\n",
            "Epoch 96/100\n",
            "244/244 [==============================] - 14s 57ms/step - loss: 7.7470e-04 - val_loss: 3.4981e-05\n",
            "Epoch 97/100\n",
            "244/244 [==============================] - 14s 57ms/step - loss: 8.5328e-04 - val_loss: 3.0092e-05\n",
            "Epoch 98/100\n",
            "244/244 [==============================] - 14s 57ms/step - loss: 7.3474e-04 - val_loss: 3.0997e-04\n",
            "Epoch 99/100\n",
            "244/244 [==============================] - 14s 56ms/step - loss: 7.6998e-04 - val_loss: 8.4126e-05\n",
            "Epoch 100/100\n",
            "244/244 [==============================] - 14s 57ms/step - loss: 7.8682e-04 - val_loss: 5.1706e-05\n"
          ],
          "name": "stdout"
        }
      ]
    },
    {
      "cell_type": "code",
      "metadata": {
        "colab": {
          "base_uri": "https://localhost:8080/",
          "height": 282
        },
        "id": "ncCu99ox8fsz",
        "outputId": "9e66a857-53e0-443a-90d3-53a49ed00aa3"
      },
      "source": [
        "plt.plot(history.history['loss'],label = 'Training Loss')\n",
        "plt.plot(history.history['val_loss'],label = 'Validation Loss')\n",
        "plt.legend()"
      ],
      "execution_count": 11,
      "outputs": [
        {
          "output_type": "execute_result",
          "data": {
            "text/plain": [
              "<matplotlib.legend.Legend at 0x7f8584c70a10>"
            ]
          },
          "metadata": {
            "tags": []
          },
          "execution_count": 11
        },
        {
          "output_type": "display_data",
          "data": {
            "image/png": "[encoded data removed]",
            "text/plain": [
              "<Figure size 432x288 with 1 Axes>"
            ]
          },
          "metadata": {
            "tags": [],
            "needs_background": "light"
          }
        }
      ]
    },
    {
      "cell_type": "code",
      "metadata": {
        "colab": {
          "base_uri": "https://localhost:8080/"
        },
        "id": "pk93fzhGAmN7",
        "outputId": "712f2a75-2529-462d-d888-ddbd38b942bd"
      },
      "source": [
        "test_df_scaled = scaler.transform(test_set)\n",
        "testX = []\n",
        "for i in range(n_past,len(test_df_scaled)+n_future-1):\n",
        "  testX.append(test_df_scaled[i-n_past:i,:])\n",
        "testX = np.array(testX)\n",
        "testX.shape"
      ],
      "execution_count": 12,
      "outputs": [
        {
          "output_type": "execute_result",
          "data": {
            "text/plain": [
              "(3681, 60, 10)"
            ]
          },
          "metadata": {
            "tags": []
          },
          "execution_count": 12
        }
      ]
    },
    {
      "cell_type": "code",
      "metadata": {
        "colab": {
          "base_uri": "https://localhost:8080/",
          "height": 401
        },
        "id": "Wh8WcrvuDuqU",
        "outputId": "28092795-e5ab-422c-d47e-fdf6da1589b6"
      },
      "source": [
        "predicted_CPRAVG = model.predict(testX)\n",
        "predicted_CPRAVG = np.repeat(predicted_CPRAVG,test_df_scaled.shape[1],axis = -1)\n",
        "predicted_CPRAVG = scaler.inverse_transform(predicted_CPRAVG)[:,0]\n",
        "predicted_CPRAVG = predicted_CPRAVG.reshape(-1,1)\n",
        "print(predicted_CPRAVG)\n",
        "predicted_CPRAVGplot = np.empty_like(df)\n",
        "predicted_CPRAVGplot[:,:] = np.nan\n",
        "predicted_CPRAVGplot[training_df.shape[0]+n_past:df.shape[0],:] = predicted_CPRAVG\n",
        "plt.plot(df['CPRAVG'],color = 'red', label = 'Real CPR avg')\n",
        "plt.plot(predicted_CPRAVGplot[:,0], color = 'blue', label = 'Predicted CPR avg')\n",
        "plt.legend()"
      ],
      "execution_count": 13,
      "outputs": [
        {
          "output_type": "stream",
          "text": [
            "[[0.5077677 ]\n",
            " [0.5075775 ]\n",
            " [0.50748295]\n",
            " ...\n",
            " [0.51618093]\n",
            " [0.51614034]\n",
            " [0.5159124 ]]\n"
          ],
          "name": "stdout"
        },
        {
          "output_type": "execute_result",
          "data": {
            "text/plain": [
              "<matplotlib.legend.Legend at 0x7f8584d90cd0>"
            ]
          },
          "metadata": {
            "tags": []
          },
          "execution_count": 13
        },
        {
          "output_type": "display_data",
          "data": {
            "image/png": "[encoded data removed]",
            "text/plain": [
              "<Figure size 432x288 with 1 Axes>"
            ]
          },
          "metadata": {
            "tags": [],
            "needs_background": "light"
          }
        }
      ]
    },
    {
      "cell_type": "markdown",
      "metadata": {
        "id": "DxXQXS-DI5z8"
      },
      "source": [
        "Time to predict the future!"
      ]
    },
    {
      "cell_type": "markdown",
      "metadata": {
        "id": "WKkpXA3rT0IY"
      },
      "source": [
        "We shall use the previous $200$ data predict $CPRAVG$.\n"
      ]
    },
    {
      "cell_type": "code",
      "metadata": {
        "id": "zheZY4EQUFME",
        "outputId": "6914dcac-12ee-4488-ea61-c8cb19cfc129",
        "colab": {
          "base_uri": "https://localhost:8080/",
          "height": 282
        }
      },
      "source": [
        "starting_record = df.shape[0]\n",
        "CPRAVG_real_values = df['CPRAVG']\n",
        "temp = df\n",
        "for i in range(1000):\n",
        "  #Gathering the previous 200 data\n",
        "  total_df_length = temp.shape[0]\n",
        "  future_Xinput = temp[total_df_length - 60:total_df_length]\n",
        "  future_Xinput_scaled = scaler.transform(future_Xinput)\n",
        "  future_Xinput_scaled_batch = np.array([future_Xinput_scaled])\n",
        "  future_prediction = model.predict(future_Xinput_scaled_batch)\n",
        "  future_prediction = np.repeat(future_prediction, future_Xinput_scaled.shape[1],axis = -1)\n",
        "  future_prediction = scaler.inverse_transform(future_prediction)[:,0]\n",
        "\n",
        "  #Parameters to be set:\n",
        "  future_data = {}\n",
        "  future_data.update(CPRAVG = future_prediction[0])\n",
        "  future_data.update(PROP = df['PROP'][starting_record-1], BUT = df['BUT'][starting_record-1], FLW = df['FLW'][starting_record-1],\tCOT = df['COT'][starting_record-1],\tTEMP = df['TEMP'][starting_record-1],\tPRESS = df['PRESS'][starting_record-1],\tO2 = df['O2'][starting_record-1],\tDRAFT = df['DRAFT'][starting_record-1], ETH = df['ETH'][starting_record-1])\n",
        "  future_data = pd.DataFrame.from_dict(future_data, orient='index').T\n",
        "  temp = temp.append(future_data, ignore_index=True)\n",
        "future_df = temp[starting_record:temp.shape[0]]\n",
        "CPRAVG_predicted_values = future_df['CPRAVG']\n",
        "plt.plot(CPRAVG_real_values,color = 'red', label = 'Real CPR avg')\n",
        "plt.plot(CPRAVG_predicted_values, color = 'green', label = 'Predicted CPR avg')\n",
        "plt.legend()"
      ],
      "execution_count": 18,
      "outputs": [
        {
          "output_type": "execute_result",
          "data": {
            "text/plain": [
              "<matplotlib.legend.Legend at 0x7f857d78a910>"
            ]
          },
          "metadata": {
            "tags": []
          },
          "execution_count": 18
        },
        {
          "output_type": "display_data",
          "data": {
            "image/png": "[encoded data removed]",
            "text/plain": [
              "<Figure size 432x288 with 1 Axes>"
            ]
          },
          "metadata": {
            "tags": [],
            "needs_background": "light"
          }
        }
      ]
    },
    {
      "cell_type": "code",
      "metadata": {
        "id": "A1a4TTp0c2UF",
        "outputId": "771c62b1-92ee-4cc6-a2b3-138446d7880e",
        "colab": {
          "base_uri": "https://localhost:8080/"
        }
      },
      "source": [
        "pd.set_option('display.max_rows', None)  # or 1000\n",
        "print(future_df)"
      ],
      "execution_count": 15,
      "outputs": [
        {
          "output_type": "stream",
          "text": [
            "         CPRAVG  PROP  BUT      FLW    COT   TEMP  PRESS    O2  DRAFT   ETH\n",
            "12468  0.515462  23.0  4.0  28620.0  850.0  655.0   0.49  0.99  -4.95  71.5\n",
            "12469  0.515190  23.0  4.0  28620.0  850.0  655.0   0.49  0.99  -4.95  71.5\n",
            "12470  0.514920  23.0  4.0  28620.0  850.0  655.0   0.49  0.99  -4.95  71.5\n",
            "12471  0.514666  23.0  4.0  28620.0  850.0  655.0   0.49  0.99  -4.95  71.5\n",
            "12472  0.514427  23.0  4.0  28620.0  850.0  655.0   0.49  0.99  -4.95  71.5\n",
            "12473  0.514202  23.0  4.0  28620.0  850.0  655.0   0.49  0.99  -4.95  71.5\n",
            "12474  0.513989  23.0  4.0  28620.0  850.0  655.0   0.49  0.99  -4.95  71.5\n",
            "12475  0.513787  23.0  4.0  28620.0  850.0  655.0   0.49  0.99  -4.95  71.5\n",
            "12476  0.513595  23.0  4.0  28620.0  850.0  655.0   0.49  0.99  -4.95  71.5\n",
            "12477  0.513412  23.0  4.0  28620.0  850.0  655.0   0.49  0.99  -4.95  71.5\n",
            "12478  0.513238  23.0  4.0  28620.0  850.0  655.0   0.49  0.99  -4.95  71.5\n",
            "12479  0.513071  23.0  4.0  28620.0  850.0  655.0   0.49  0.99  -4.95  71.5\n",
            "12480  0.512911  23.0  4.0  28620.0  850.0  655.0   0.49  0.99  -4.95  71.5\n",
            "12481  0.512757  23.0  4.0  28620.0  850.0  655.0   0.49  0.99  -4.95  71.5\n",
            "12482  0.512610  23.0  4.0  28620.0  850.0  655.0   0.49  0.99  -4.95  71.5\n",
            "12483  0.512468  23.0  4.0  28620.0  850.0  655.0   0.49  0.99  -4.95  71.5\n",
            "12484  0.512332  23.0  4.0  28620.0  850.0  655.0   0.49  0.99  -4.95  71.5\n",
            "12485  0.512201  23.0  4.0  28620.0  850.0  655.0   0.49  0.99  -4.95  71.5\n",
            "12486  0.512074  23.0  4.0  28620.0  850.0  655.0   0.49  0.99  -4.95  71.5\n",
            "12487  0.511952  23.0  4.0  28620.0  850.0  655.0   0.49  0.99  -4.95  71.5\n",
            "12488  0.511834  23.0  4.0  28620.0  850.0  655.0   0.49  0.99  -4.95  71.5\n",
            "12489  0.511720  23.0  4.0  28620.0  850.0  655.0   0.49  0.99  -4.95  71.5\n",
            "12490  0.511610  23.0  4.0  28620.0  850.0  655.0   0.49  0.99  -4.95  71.5\n",
            "12491  0.511503  23.0  4.0  28620.0  850.0  655.0   0.49  0.99  -4.95  71.5\n",
            "12492  0.511400  23.0  4.0  28620.0  850.0  655.0   0.49  0.99  -4.95  71.5\n",
            "12493  0.511300  23.0  4.0  28620.0  850.0  655.0   0.49  0.99  -4.95  71.5\n",
            "12494  0.511203  23.0  4.0  28620.0  850.0  655.0   0.49  0.99  -4.95  71.5\n",
            "12495  0.511110  23.0  4.0  28620.0  850.0  655.0   0.49  0.99  -4.95  71.5\n",
            "12496  0.511019  23.0  4.0  28620.0  850.0  655.0   0.49  0.99  -4.95  71.5\n",
            "12497  0.510930  23.0  4.0  28620.0  850.0  655.0   0.49  0.99  -4.95  71.5\n",
            "12498  0.510844  23.0  4.0  28620.0  850.0  655.0   0.49  0.99  -4.95  71.5\n",
            "12499  0.510761  23.0  4.0  28620.0  850.0  655.0   0.49  0.99  -4.95  71.5\n",
            "12500  0.510680  23.0  4.0  28620.0  850.0  655.0   0.49  0.99  -4.95  71.5\n",
            "12501  0.510602  23.0  4.0  28620.0  850.0  655.0   0.49  0.99  -4.95  71.5\n",
            "12502  0.510526  23.0  4.0  28620.0  850.0  655.0   0.49  0.99  -4.95  71.5\n",
            "12503  0.510451  23.0  4.0  28620.0  850.0  655.0   0.49  0.99  -4.95  71.5\n",
            "12504  0.510379  23.0  4.0  28620.0  850.0  655.0   0.49  0.99  -4.95  71.5\n",
            "12505  0.510309  23.0  4.0  28620.0  850.0  655.0   0.49  0.99  -4.95  71.5\n",
            "12506  0.510241  23.0  4.0  28620.0  850.0  655.0   0.49  0.99  -4.95  71.5\n",
            "12507  0.510175  23.0  4.0  28620.0  850.0  655.0   0.49  0.99  -4.95  71.5\n",
            "12508  0.510110  23.0  4.0  28620.0  850.0  655.0   0.49  0.99  -4.95  71.5\n",
            "12509  0.510048  23.0  4.0  28620.0  850.0  655.0   0.49  0.99  -4.95  71.5\n",
            "12510  0.509987  23.0  4.0  28620.0  850.0  655.0   0.49  0.99  -4.95  71.5\n",
            "12511  0.509927  23.0  4.0  28620.0  850.0  655.0   0.49  0.99  -4.95  71.5\n",
            "12512  0.509869  23.0  4.0  28620.0  850.0  655.0   0.49  0.99  -4.95  71.5\n",
            "12513  0.509813  23.0  4.0  28620.0  850.0  655.0   0.49  0.99  -4.95  71.5\n",
            "12514  0.509758  23.0  4.0  28620.0  850.0  655.0   0.49  0.99  -4.95  71.5\n",
            "12515  0.509705  23.0  4.0  28620.0  850.0  655.0   0.49  0.99  -4.95  71.5\n",
            "12516  0.509653  23.0  4.0  28620.0  850.0  655.0   0.49  0.99  -4.95  71.5\n",
            "12517  0.509602  23.0  4.0  28620.0  850.0  655.0   0.49  0.99  -4.95  71.5\n",
            "12518  0.509552  23.0  4.0  28620.0  850.0  655.0   0.49  0.99  -4.95  71.5\n",
            "12519  0.509504  23.0  4.0  28620.0  850.0  655.0   0.49  0.99  -4.95  71.5\n",
            "12520  0.509457  23.0  4.0  28620.0  850.0  655.0   0.49  0.99  -4.95  71.5\n",
            "12521  0.509412  23.0  4.0  28620.0  850.0  655.0   0.49  0.99  -4.95  71.5\n",
            "12522  0.509367  23.0  4.0  28620.0  850.0  655.0   0.49  0.99  -4.95  71.5\n",
            "12523  0.509324  23.0  4.0  28620.0  850.0  655.0   0.49  0.99  -4.95  71.5\n",
            "12524  0.509281  23.0  4.0  28620.0  850.0  655.0   0.49  0.99  -4.95  71.5\n",
            "12525  0.509240  23.0  4.0  28620.0  850.0  655.0   0.49  0.99  -4.95  71.5\n",
            "12526  0.509200  23.0  4.0  28620.0  850.0  655.0   0.49  0.99  -4.95  71.5\n",
            "12527  0.509161  23.0  4.0  28620.0  850.0  655.0   0.49  0.99  -4.95  71.5\n",
            "12528  0.509122  23.0  4.0  28620.0  850.0  655.0   0.49  0.99  -4.95  71.5\n",
            "12529  0.509085  23.0  4.0  28620.0  850.0  655.0   0.49  0.99  -4.95  71.5\n",
            "12530  0.509048  23.0  4.0  28620.0  850.0  655.0   0.49  0.99  -4.95  71.5\n",
            "12531  0.509013  23.0  4.0  28620.0  850.0  655.0   0.49  0.99  -4.95  71.5\n",
            "12532  0.508978  23.0  4.0  28620.0  850.0  655.0   0.49  0.99  -4.95  71.5\n",
            "12533  0.508945  23.0  4.0  28620.0  850.0  655.0   0.49  0.99  -4.95  71.5\n",
            "12534  0.508911  23.0  4.0  28620.0  850.0  655.0   0.49  0.99  -4.95  71.5\n",
            "12535  0.508879  23.0  4.0  28620.0  850.0  655.0   0.49  0.99  -4.95  71.5\n",
            "12536  0.508848  23.0  4.0  28620.0  850.0  655.0   0.49  0.99  -4.95  71.5\n",
            "12537  0.508817  23.0  4.0  28620.0  850.0  655.0   0.49  0.99  -4.95  71.5\n",
            "12538  0.508787  23.0  4.0  28620.0  850.0  655.0   0.49  0.99  -4.95  71.5\n",
            "12539  0.508758  23.0  4.0  28620.0  850.0  655.0   0.49  0.99  -4.95  71.5\n",
            "12540  0.508730  23.0  4.0  28620.0  850.0  655.0   0.49  0.99  -4.95  71.5\n",
            "12541  0.508702  23.0  4.0  28620.0  850.0  655.0   0.49  0.99  -4.95  71.5\n",
            "12542  0.508675  23.0  4.0  28620.0  850.0  655.0   0.49  0.99  -4.95  71.5\n",
            "12543  0.508648  23.0  4.0  28620.0  850.0  655.0   0.49  0.99  -4.95  71.5\n",
            "12544  0.508622  23.0  4.0  28620.0  850.0  655.0   0.49  0.99  -4.95  71.5\n",
            "12545  0.508597  23.0  4.0  28620.0  850.0  655.0   0.49  0.99  -4.95  71.5\n",
            "12546  0.508572  23.0  4.0  28620.0  850.0  655.0   0.49  0.99  -4.95  71.5\n",
            "12547  0.508548  23.0  4.0  28620.0  850.0  655.0   0.49  0.99  -4.95  71.5\n",
            "12548  0.508525  23.0  4.0  28620.0  850.0  655.0   0.49  0.99  -4.95  71.5\n",
            "12549  0.508502  23.0  4.0  28620.0  850.0  655.0   0.49  0.99  -4.95  71.5\n",
            "12550  0.508479  23.0  4.0  28620.0  850.0  655.0   0.49  0.99  -4.95  71.5\n",
            "12551  0.508457  23.0  4.0  28620.0  850.0  655.0   0.49  0.99  -4.95  71.5\n",
            "12552  0.508436  23.0  4.0  28620.0  850.0  655.0   0.49  0.99  -4.95  71.5\n",
            "12553  0.508415  23.0  4.0  28620.0  850.0  655.0   0.49  0.99  -4.95  71.5\n",
            "12554  0.508395  23.0  4.0  28620.0  850.0  655.0   0.49  0.99  -4.95  71.5\n",
            "12555  0.508375  23.0  4.0  28620.0  850.0  655.0   0.49  0.99  -4.95  71.5\n",
            "12556  0.508355  23.0  4.0  28620.0  850.0  655.0   0.49  0.99  -4.95  71.5\n",
            "12557  0.508336  23.0  4.0  28620.0  850.0  655.0   0.49  0.99  -4.95  71.5\n",
            "12558  0.508318  23.0  4.0  28620.0  850.0  655.0   0.49  0.99  -4.95  71.5\n",
            "12559  0.508300  23.0  4.0  28620.0  850.0  655.0   0.49  0.99  -4.95  71.5\n",
            "12560  0.508282  23.0  4.0  28620.0  850.0  655.0   0.49  0.99  -4.95  71.5\n",
            "12561  0.508265  23.0  4.0  28620.0  850.0  655.0   0.49  0.99  -4.95  71.5\n",
            "12562  0.508248  23.0  4.0  28620.0  850.0  655.0   0.49  0.99  -4.95  71.5\n",
            "12563  0.508231  23.0  4.0  28620.0  850.0  655.0   0.49  0.99  -4.95  71.5\n",
            "12564  0.508215  23.0  4.0  28620.0  850.0  655.0   0.49  0.99  -4.95  71.5\n",
            "12565  0.508199  23.0  4.0  28620.0  850.0  655.0   0.49  0.99  -4.95  71.5\n",
            "12566  0.508184  23.0  4.0  28620.0  850.0  655.0   0.49  0.99  -4.95  71.5\n",
            "12567  0.508169  23.0  4.0  28620.0  850.0  655.0   0.49  0.99  -4.95  71.5\n"
          ],
          "name": "stdout"
        }
      ]
    }
  ]
}