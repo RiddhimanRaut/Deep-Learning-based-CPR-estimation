{
  "nbformat": 4,
  "nbformat_minor": 0,
  "metadata": {
    "colab": {
      "name": "CPRAVG_ARIMAX.ipynb",
      "provenance": [],
      "authorship_tag": "ABX9TyOE0NIx7f75CcWGIqGqNvYO",
      "include_colab_link": true
    },
    "kernelspec": {
      "name": "python3",
      "display_name": "Python 3"
    },
    "language_info": {
      "name": "python"
    }
  },
  "cells": [
    {
      "cell_type": "markdown",
      "metadata": {
        "id": "view-in-github",
        "colab_type": "text"
      },
      "source": [
        "<a href=\"https://colab.research.google.com/github/RiddhimanRaut/Deep-Learning-based-CPR-estimation/blob/main/CPRAVG_ARIMAX.ipynb\" target=\"_parent\"><img src=\"https://colab.research.google.com/assets/colab-badge.svg\" alt=\"Open In Colab\"/></a>"
      ]
    },
    {
      "cell_type": "code",
      "metadata": {
        "colab": {
          "base_uri": "https://localhost:8080/"
        },
        "id": "oxFexCmRqvMP",
        "outputId": "37a2e6dd-b5bb-45d6-d889-30c431eff182"
      },
      "source": [
        "%pip install pmdarima"
      ],
      "execution_count": 60,
      "outputs": [
        {
          "output_type": "stream",
          "text": [
            "Requirement already satisfied: pmdarima in /usr/local/lib/python3.7/dist-packages (1.8.2)\n",
            "Requirement already satisfied: urllib3 in /usr/local/lib/python3.7/dist-packages (from pmdarima) (1.24.3)\n",
            "Requirement already satisfied: pandas>=0.19 in /usr/local/lib/python3.7/dist-packages (from pmdarima) (1.1.5)\n",
            "Requirement already satisfied: scikit-learn>=0.22 in /usr/local/lib/python3.7/dist-packages (from pmdarima) (0.22.2.post1)\n",
            "Requirement already satisfied: scipy>=1.3.2 in /usr/local/lib/python3.7/dist-packages (from pmdarima) (1.4.1)\n",
            "Requirement already satisfied: statsmodels!=0.12.0,>=0.11 in /usr/local/lib/python3.7/dist-packages (from pmdarima) (0.12.2)\n",
            "Requirement already satisfied: setuptools!=50.0.0,>=38.6.0 in /usr/local/lib/python3.7/dist-packages (from pmdarima) (57.2.0)\n",
            "Requirement already satisfied: Cython!=0.29.18,>=0.29 in /usr/local/lib/python3.7/dist-packages (from pmdarima) (0.29.23)\n",
            "Requirement already satisfied: joblib>=0.11 in /usr/local/lib/python3.7/dist-packages (from pmdarima) (1.0.1)\n",
            "Requirement already satisfied: numpy~=1.19.0 in /usr/local/lib/python3.7/dist-packages (from pmdarima) (1.19.5)\n",
            "Requirement already satisfied: python-dateutil>=2.7.3 in /usr/local/lib/python3.7/dist-packages (from pandas>=0.19->pmdarima) (2.8.1)\n",
            "Requirement already satisfied: pytz>=2017.2 in /usr/local/lib/python3.7/dist-packages (from pandas>=0.19->pmdarima) (2018.9)\n",
            "Requirement already satisfied: six>=1.5 in /usr/local/lib/python3.7/dist-packages (from python-dateutil>=2.7.3->pandas>=0.19->pmdarima) (1.15.0)\n",
            "Requirement already satisfied: patsy>=0.5 in /usr/local/lib/python3.7/dist-packages (from statsmodels!=0.12.0,>=0.11->pmdarima) (0.5.1)\n"
          ],
          "name": "stdout"
        }
      ]
    },
    {
      "cell_type": "code",
      "metadata": {
        "id": "b0t4N29BhpRm",
        "colab": {
          "base_uri": "https://localhost:8080/",
          "height": 206
        },
        "outputId": "5a975efa-bcb6-405b-f3f3-2f503d45a13a"
      },
      "source": [
        "import pandas as pd\n",
        "from statsmodels.graphics.tsaplots import plot_pacf, plot_acf \n",
        "from pandas.plotting import autocorrelation_plot\n",
        "from statsmodels.tsa.statespace.sarimax import SARIMAX\n",
        "from statsmodels.tsa.stattools import adfuller,arma_order_select_ic\n",
        "import matplotlib.pyplot as plt\n",
        "%matplotlib inline\n",
        "\n",
        "\n",
        "path = \"https://github.com/RiddhimanRaut/Deep-Learning-based-CPR-estimation/blob/main/excel_dataset.xlsx?raw=true\"\n",
        "df = pd.read_excel(path)\n",
        "df = df.dropna()\n",
        "df.head()"
      ],
      "execution_count": 61,
      "outputs": [
        {
          "output_type": "execute_result",
          "data": {
            "text/html": [
              "<div>\n",
              "<style scoped>\n",
              "    .dataframe tbody tr th:only-of-type {\n",
              "        vertical-align: middle;\n",
              "    }\n",
              "\n",
              "    .dataframe tbody tr th {\n",
              "        vertical-align: top;\n",
              "    }\n",
              "\n",
              "    .dataframe thead th {\n",
              "        text-align: right;\n",
              "    }\n",
              "</style>\n",
              "<table border=\"1\" class=\"dataframe\">\n",
              "  <thead>\n",
              "    <tr style=\"text-align: right;\">\n",
              "      <th></th>\n",
              "      <th>Date Time</th>\n",
              "      <th>CPRAVG</th>\n",
              "      <th>PROP</th>\n",
              "      <th>BUT</th>\n",
              "      <th>ETHYLENE</th>\n",
              "      <th>AI12201M</th>\n",
              "      <th>FLW</th>\n",
              "      <th>COT</th>\n",
              "      <th>TEMP</th>\n",
              "      <th>PRESS</th>\n",
              "      <th>O2</th>\n",
              "      <th>DRAFT</th>\n",
              "      <th>ETH</th>\n",
              "    </tr>\n",
              "  </thead>\n",
              "  <tbody>\n",
              "    <tr>\n",
              "      <th>0</th>\n",
              "      <td>01.01.2009 00:10:00</td>\n",
              "      <td>0.428151</td>\n",
              "      <td>18.960609</td>\n",
              "      <td>3.973630</td>\n",
              "      <td>29.732470</td>\n",
              "      <td>0.014431</td>\n",
              "      <td>30711.65039</td>\n",
              "      <td>820.118210</td>\n",
              "      <td>632.399261</td>\n",
              "      <td>0.466357</td>\n",
              "      <td>1.444160</td>\n",
              "      <td>-5.616851</td>\n",
              "      <td>75.809700</td>\n",
              "    </tr>\n",
              "    <tr>\n",
              "      <th>1</th>\n",
              "      <td>01.01.2009 00:20:00</td>\n",
              "      <td>0.427783</td>\n",
              "      <td>18.960360</td>\n",
              "      <td>3.973562</td>\n",
              "      <td>30.123590</td>\n",
              "      <td>0.014822</td>\n",
              "      <td>30700.66016</td>\n",
              "      <td>819.662811</td>\n",
              "      <td>633.057602</td>\n",
              "      <td>0.475288</td>\n",
              "      <td>1.413894</td>\n",
              "      <td>-5.540349</td>\n",
              "      <td>75.810066</td>\n",
              "    </tr>\n",
              "    <tr>\n",
              "      <th>2</th>\n",
              "      <td>01.01.2009 00:30:00</td>\n",
              "      <td>0.427432</td>\n",
              "      <td>19.009649</td>\n",
              "      <td>4.181924</td>\n",
              "      <td>30.477831</td>\n",
              "      <td>0.012689</td>\n",
              "      <td>30689.66016</td>\n",
              "      <td>819.886444</td>\n",
              "      <td>631.841385</td>\n",
              "      <td>0.464559</td>\n",
              "      <td>1.515123</td>\n",
              "      <td>-5.628389</td>\n",
              "      <td>75.552841</td>\n",
              "    </tr>\n",
              "    <tr>\n",
              "      <th>3</th>\n",
              "      <td>01.01.2009 00:40:00</td>\n",
              "      <td>0.427082</td>\n",
              "      <td>19.155710</td>\n",
              "      <td>3.950392</td>\n",
              "      <td>30.425819</td>\n",
              "      <td>0.012580</td>\n",
              "      <td>30678.66016</td>\n",
              "      <td>819.660172</td>\n",
              "      <td>632.495224</td>\n",
              "      <td>0.471809</td>\n",
              "      <td>1.404055</td>\n",
              "      <td>-5.576591</td>\n",
              "      <td>75.580223</td>\n",
              "    </tr>\n",
              "    <tr>\n",
              "      <th>4</th>\n",
              "      <td>01.01.2009 00:50:00</td>\n",
              "      <td>0.426732</td>\n",
              "      <td>19.334640</td>\n",
              "      <td>3.689848</td>\n",
              "      <td>30.546061</td>\n",
              "      <td>0.012472</td>\n",
              "      <td>30667.66016</td>\n",
              "      <td>819.646805</td>\n",
              "      <td>632.388214</td>\n",
              "      <td>0.470504</td>\n",
              "      <td>1.191485</td>\n",
              "      <td>-5.274679</td>\n",
              "      <td>75.638023</td>\n",
              "    </tr>\n",
              "  </tbody>\n",
              "</table>\n",
              "</div>"
            ],
            "text/plain": [
              "             Date Time    CPRAVG       PROP  ...        O2     DRAFT        ETH\n",
              "0  01.01.2009 00:10:00  0.428151  18.960609  ...  1.444160 -5.616851  75.809700\n",
              "1  01.01.2009 00:20:00  0.427783  18.960360  ...  1.413894 -5.540349  75.810066\n",
              "2  01.01.2009 00:30:00  0.427432  19.009649  ...  1.515123 -5.628389  75.552841\n",
              "3  01.01.2009 00:40:00  0.427082  19.155710  ...  1.404055 -5.576591  75.580223\n",
              "4  01.01.2009 00:50:00  0.426732  19.334640  ...  1.191485 -5.274679  75.638023\n",
              "\n",
              "[5 rows x 13 columns]"
            ]
          },
          "metadata": {
            "tags": []
          },
          "execution_count": 61
        }
      ]
    },
    {
      "cell_type": "code",
      "metadata": {
        "colab": {
          "base_uri": "https://localhost:8080/",
          "height": 238
        },
        "id": "N2Mcsg5fjRnr",
        "outputId": "e7e277da-aea6-4d8d-8ffa-fce1512da8d9"
      },
      "source": [
        "#Making Date Time our index\n",
        "date_time = pd.to_datetime(df.pop('Date Time'), format='%d.%m.%Y %H:%M:%S')\n",
        "df.index = date_time\n",
        "df.head()"
      ],
      "execution_count": 62,
      "outputs": [
        {
          "output_type": "execute_result",
          "data": {
            "text/html": [
              "<div>\n",
              "<style scoped>\n",
              "    .dataframe tbody tr th:only-of-type {\n",
              "        vertical-align: middle;\n",
              "    }\n",
              "\n",
              "    .dataframe tbody tr th {\n",
              "        vertical-align: top;\n",
              "    }\n",
              "\n",
              "    .dataframe thead th {\n",
              "        text-align: right;\n",
              "    }\n",
              "</style>\n",
              "<table border=\"1\" class=\"dataframe\">\n",
              "  <thead>\n",
              "    <tr style=\"text-align: right;\">\n",
              "      <th></th>\n",
              "      <th>CPRAVG</th>\n",
              "      <th>PROP</th>\n",
              "      <th>BUT</th>\n",
              "      <th>ETHYLENE</th>\n",
              "      <th>AI12201M</th>\n",
              "      <th>FLW</th>\n",
              "      <th>COT</th>\n",
              "      <th>TEMP</th>\n",
              "      <th>PRESS</th>\n",
              "      <th>O2</th>\n",
              "      <th>DRAFT</th>\n",
              "      <th>ETH</th>\n",
              "    </tr>\n",
              "    <tr>\n",
              "      <th>Date Time</th>\n",
              "      <th></th>\n",
              "      <th></th>\n",
              "      <th></th>\n",
              "      <th></th>\n",
              "      <th></th>\n",
              "      <th></th>\n",
              "      <th></th>\n",
              "      <th></th>\n",
              "      <th></th>\n",
              "      <th></th>\n",
              "      <th></th>\n",
              "      <th></th>\n",
              "    </tr>\n",
              "  </thead>\n",
              "  <tbody>\n",
              "    <tr>\n",
              "      <th>2009-01-01 00:10:00</th>\n",
              "      <td>0.428151</td>\n",
              "      <td>18.960609</td>\n",
              "      <td>3.973630</td>\n",
              "      <td>29.732470</td>\n",
              "      <td>0.014431</td>\n",
              "      <td>30711.65039</td>\n",
              "      <td>820.118210</td>\n",
              "      <td>632.399261</td>\n",
              "      <td>0.466357</td>\n",
              "      <td>1.444160</td>\n",
              "      <td>-5.616851</td>\n",
              "      <td>75.809700</td>\n",
              "    </tr>\n",
              "    <tr>\n",
              "      <th>2009-01-01 00:20:00</th>\n",
              "      <td>0.427783</td>\n",
              "      <td>18.960360</td>\n",
              "      <td>3.973562</td>\n",
              "      <td>30.123590</td>\n",
              "      <td>0.014822</td>\n",
              "      <td>30700.66016</td>\n",
              "      <td>819.662811</td>\n",
              "      <td>633.057602</td>\n",
              "      <td>0.475288</td>\n",
              "      <td>1.413894</td>\n",
              "      <td>-5.540349</td>\n",
              "      <td>75.810066</td>\n",
              "    </tr>\n",
              "    <tr>\n",
              "      <th>2009-01-01 00:30:00</th>\n",
              "      <td>0.427432</td>\n",
              "      <td>19.009649</td>\n",
              "      <td>4.181924</td>\n",
              "      <td>30.477831</td>\n",
              "      <td>0.012689</td>\n",
              "      <td>30689.66016</td>\n",
              "      <td>819.886444</td>\n",
              "      <td>631.841385</td>\n",
              "      <td>0.464559</td>\n",
              "      <td>1.515123</td>\n",
              "      <td>-5.628389</td>\n",
              "      <td>75.552841</td>\n",
              "    </tr>\n",
              "    <tr>\n",
              "      <th>2009-01-01 00:40:00</th>\n",
              "      <td>0.427082</td>\n",
              "      <td>19.155710</td>\n",
              "      <td>3.950392</td>\n",
              "      <td>30.425819</td>\n",
              "      <td>0.012580</td>\n",
              "      <td>30678.66016</td>\n",
              "      <td>819.660172</td>\n",
              "      <td>632.495224</td>\n",
              "      <td>0.471809</td>\n",
              "      <td>1.404055</td>\n",
              "      <td>-5.576591</td>\n",
              "      <td>75.580223</td>\n",
              "    </tr>\n",
              "    <tr>\n",
              "      <th>2009-01-01 00:50:00</th>\n",
              "      <td>0.426732</td>\n",
              "      <td>19.334640</td>\n",
              "      <td>3.689848</td>\n",
              "      <td>30.546061</td>\n",
              "      <td>0.012472</td>\n",
              "      <td>30667.66016</td>\n",
              "      <td>819.646805</td>\n",
              "      <td>632.388214</td>\n",
              "      <td>0.470504</td>\n",
              "      <td>1.191485</td>\n",
              "      <td>-5.274679</td>\n",
              "      <td>75.638023</td>\n",
              "    </tr>\n",
              "  </tbody>\n",
              "</table>\n",
              "</div>"
            ],
            "text/plain": [
              "                       CPRAVG       PROP  ...     DRAFT        ETH\n",
              "Date Time                                 ...                     \n",
              "2009-01-01 00:10:00  0.428151  18.960609  ... -5.616851  75.809700\n",
              "2009-01-01 00:20:00  0.427783  18.960360  ... -5.540349  75.810066\n",
              "2009-01-01 00:30:00  0.427432  19.009649  ... -5.628389  75.552841\n",
              "2009-01-01 00:40:00  0.427082  19.155710  ... -5.576591  75.580223\n",
              "2009-01-01 00:50:00  0.426732  19.334640  ... -5.274679  75.638023\n",
              "\n",
              "[5 rows x 12 columns]"
            ]
          },
          "metadata": {
            "tags": []
          },
          "execution_count": 62
        }
      ]
    },
    {
      "cell_type": "code",
      "metadata": {
        "colab": {
          "base_uri": "https://localhost:8080/",
          "height": 238
        },
        "id": "swc4jWorkK2n",
        "outputId": "d361acdb-b1a4-4657-be1a-b83b86603016"
      },
      "source": [
        "#Dropping Unimportant Columns:\n",
        "df.drop(['ETHYLENE','AI12201M','O2'],axis = 1, inplace=True)\n",
        "df.head()"
      ],
      "execution_count": 63,
      "outputs": [
        {
          "output_type": "execute_result",
          "data": {
            "text/html": [
              "<div>\n",
              "<style scoped>\n",
              "    .dataframe tbody tr th:only-of-type {\n",
              "        vertical-align: middle;\n",
              "    }\n",
              "\n",
              "    .dataframe tbody tr th {\n",
              "        vertical-align: top;\n",
              "    }\n",
              "\n",
              "    .dataframe thead th {\n",
              "        text-align: right;\n",
              "    }\n",
              "</style>\n",
              "<table border=\"1\" class=\"dataframe\">\n",
              "  <thead>\n",
              "    <tr style=\"text-align: right;\">\n",
              "      <th></th>\n",
              "      <th>CPRAVG</th>\n",
              "      <th>PROP</th>\n",
              "      <th>BUT</th>\n",
              "      <th>FLW</th>\n",
              "      <th>COT</th>\n",
              "      <th>TEMP</th>\n",
              "      <th>PRESS</th>\n",
              "      <th>DRAFT</th>\n",
              "      <th>ETH</th>\n",
              "    </tr>\n",
              "    <tr>\n",
              "      <th>Date Time</th>\n",
              "      <th></th>\n",
              "      <th></th>\n",
              "      <th></th>\n",
              "      <th></th>\n",
              "      <th></th>\n",
              "      <th></th>\n",
              "      <th></th>\n",
              "      <th></th>\n",
              "      <th></th>\n",
              "    </tr>\n",
              "  </thead>\n",
              "  <tbody>\n",
              "    <tr>\n",
              "      <th>2009-01-01 00:10:00</th>\n",
              "      <td>0.428151</td>\n",
              "      <td>18.960609</td>\n",
              "      <td>3.973630</td>\n",
              "      <td>30711.65039</td>\n",
              "      <td>820.118210</td>\n",
              "      <td>632.399261</td>\n",
              "      <td>0.466357</td>\n",
              "      <td>-5.616851</td>\n",
              "      <td>75.809700</td>\n",
              "    </tr>\n",
              "    <tr>\n",
              "      <th>2009-01-01 00:20:00</th>\n",
              "      <td>0.427783</td>\n",
              "      <td>18.960360</td>\n",
              "      <td>3.973562</td>\n",
              "      <td>30700.66016</td>\n",
              "      <td>819.662811</td>\n",
              "      <td>633.057602</td>\n",
              "      <td>0.475288</td>\n",
              "      <td>-5.540349</td>\n",
              "      <td>75.810066</td>\n",
              "    </tr>\n",
              "    <tr>\n",
              "      <th>2009-01-01 00:30:00</th>\n",
              "      <td>0.427432</td>\n",
              "      <td>19.009649</td>\n",
              "      <td>4.181924</td>\n",
              "      <td>30689.66016</td>\n",
              "      <td>819.886444</td>\n",
              "      <td>631.841385</td>\n",
              "      <td>0.464559</td>\n",
              "      <td>-5.628389</td>\n",
              "      <td>75.552841</td>\n",
              "    </tr>\n",
              "    <tr>\n",
              "      <th>2009-01-01 00:40:00</th>\n",
              "      <td>0.427082</td>\n",
              "      <td>19.155710</td>\n",
              "      <td>3.950392</td>\n",
              "      <td>30678.66016</td>\n",
              "      <td>819.660172</td>\n",
              "      <td>632.495224</td>\n",
              "      <td>0.471809</td>\n",
              "      <td>-5.576591</td>\n",
              "      <td>75.580223</td>\n",
              "    </tr>\n",
              "    <tr>\n",
              "      <th>2009-01-01 00:50:00</th>\n",
              "      <td>0.426732</td>\n",
              "      <td>19.334640</td>\n",
              "      <td>3.689848</td>\n",
              "      <td>30667.66016</td>\n",
              "      <td>819.646805</td>\n",
              "      <td>632.388214</td>\n",
              "      <td>0.470504</td>\n",
              "      <td>-5.274679</td>\n",
              "      <td>75.638023</td>\n",
              "    </tr>\n",
              "  </tbody>\n",
              "</table>\n",
              "</div>"
            ],
            "text/plain": [
              "                       CPRAVG       PROP  ...     DRAFT        ETH\n",
              "Date Time                                 ...                     \n",
              "2009-01-01 00:10:00  0.428151  18.960609  ... -5.616851  75.809700\n",
              "2009-01-01 00:20:00  0.427783  18.960360  ... -5.540349  75.810066\n",
              "2009-01-01 00:30:00  0.427432  19.009649  ... -5.628389  75.552841\n",
              "2009-01-01 00:40:00  0.427082  19.155710  ... -5.576591  75.580223\n",
              "2009-01-01 00:50:00  0.426732  19.334640  ... -5.274679  75.638023\n",
              "\n",
              "[5 rows x 9 columns]"
            ]
          },
          "metadata": {
            "tags": []
          },
          "execution_count": 63
        }
      ]
    },
    {
      "cell_type": "code",
      "metadata": {
        "colab": {
          "base_uri": "https://localhost:8080/",
          "height": 313
        },
        "id": "YrknIvWckgy4",
        "outputId": "29b5c305-e558-44f0-d715-f86344e78002"
      },
      "source": [
        "#Plotting the CPRAVG data\n",
        "plt.title('Average CPR values with time')\n",
        "plt.xlabel('Date')\n",
        "plt.ylabel('Avg. CPR')\n",
        "plt.plot(df['CPRAVG'],color = 'blue')"
      ],
      "execution_count": 64,
      "outputs": [
        {
          "output_type": "execute_result",
          "data": {
            "text/plain": [
              "[<matplotlib.lines.Line2D at 0x7f4935a53b90>]"
            ]
          },
          "metadata": {
            "tags": []
          },
          "execution_count": 64
        },
        {
          "output_type": "display_data",
          "data": {
            "image/png": "[encoded data removed]",
            "text/plain": [
              "<Figure size 432x288 with 1 Axes>"
            ]
          },
          "metadata": {
            "tags": [],
            "needs_background": "light"
          }
        }
      ]
    },
    {
      "cell_type": "code",
      "metadata": {
        "colab": {
          "base_uri": "https://localhost:8080/",
          "height": 283
        },
        "id": "vTXvyiFMqZUw",
        "outputId": "957cd74f-1965-4859-f998-b37d9ee97158"
      },
      "source": [
        "#Differencing the data.\n",
        "diff_df = df['CPRAVG'].diff().dropna()\n",
        "plt.plot(diff_df)"
      ],
      "execution_count": 65,
      "outputs": [
        {
          "output_type": "execute_result",
          "data": {
            "text/plain": [
              "[<matplotlib.lines.Line2D at 0x7f49356cdbd0>]"
            ]
          },
          "metadata": {
            "tags": []
          },
          "execution_count": 65
        },
        {
          "output_type": "display_data",
          "data": {
            "image/png": "[encoded data removed]",
            "text/plain": [
              "<Figure size 432x288 with 1 Axes>"
            ]
          },
          "metadata": {
            "tags": [],
            "needs_background": "light"
          }
        }
      ]
    },
    {
      "cell_type": "code",
      "metadata": {
        "colab": {
          "base_uri": "https://localhost:8080/",
          "height": 565
        },
        "id": "Cqc7DX-Y-bAI",
        "outputId": "c0f66e35-d692-4a12-b124-94837ccb0c72"
      },
      "source": [
        "plot_pacf(df['CPRAVG'],lags = 50)\n",
        "plt.show()\n",
        "autocorrelation_plot(df['CPRAVG'])\n",
        "plt.show()\n",
        "res = adfuller(df['CPRAVG'])\n",
        "res_diff = adfuller(diff_df)\n",
        "print(\"P-value for the original data is %f.\"%res[1]) \n"
      ],
      "execution_count": 66,
      "outputs": [
        {
          "output_type": "display_data",
          "data": {
            "image/png": "[encoded data removed]",
            "text/plain": [
              "<Figure size 432x288 with 1 Axes>"
            ]
          },
          "metadata": {
            "tags": [],
            "needs_background": "light"
          }
        },
        {
          "output_type": "display_data",
          "data": {
            "image/png": "[encoded data removed]",
            "text/plain": [
              "<Figure size 432x288 with 1 Axes>"
            ]
          },
          "metadata": {
            "tags": [],
            "needs_background": "light"
          }
        },
        {
          "output_type": "stream",
          "text": [
            "P-value for the original data is 0.002488.\n"
          ],
          "name": "stdout"
        }
      ]
    },
    {
      "cell_type": "markdown",
      "metadata": {
        "id": "6NYSJkavHjcQ"
      },
      "source": [
        "As our P-value is less than 0.05, there is no need for differencing."
      ]
    },
    {
      "cell_type": "markdown",
      "metadata": {
        "id": "eWQDstivtEWL"
      },
      "source": [
        "Now we will create our ARIMAX model. Note that we do not have seasonal data. So we shall remove the seasonal_order parameter from our method, and we are good to go!"
      ]
    },
    {
      "cell_type": "code",
      "metadata": {
        "colab": {
          "base_uri": "https://localhost:8080/"
        },
        "id": "q5vQazRU2voa",
        "outputId": "973c8b3f-43f6-4402-d7a7-e4064d06b62c"
      },
      "source": [
        "#Printing list of columns:\n",
        "cols = list(df)[0:df.shape[1]]\n",
        "print(cols)"
      ],
      "execution_count": 67,
      "outputs": [
        {
          "output_type": "stream",
          "text": [
            "['CPRAVG', 'PROP', 'BUT', 'FLW', 'COT', 'TEMP', 'PRESS', 'DRAFT', 'ETH']\n"
          ],
          "name": "stdout"
        }
      ]
    },
    {
      "cell_type": "code",
      "metadata": {
        "colab": {
          "base_uri": "https://localhost:8080/"
        },
        "id": "A05sJkH0-fvb",
        "outputId": "8eb008b8-3b98-422b-b00a-9251369567f2"
      },
      "source": [
        "#Splitting the data:\n",
        "split_length = 0.8\n",
        "train_df = df[0:int(split_length*df.shape[0])]\n",
        "val_df = df[int(split_length*df.shape[0]):df.shape[0]]\n",
        "print(val_df)"
      ],
      "execution_count": 77,
      "outputs": [
        {
          "output_type": "stream",
          "text": [
            "                       CPRAVG       PROP  ...     DRAFT        ETH\n",
            "Date Time                                 ...                     \n",
            "2009-03-11 06:30:00  0.510380  25.304581  ... -4.388204  68.614899\n",
            "2009-03-11 06:40:00  0.510578  25.327841  ... -4.423697  68.658592\n",
            "2009-03-11 06:50:00  0.510695  25.248211  ... -4.427844  69.108223\n",
            "2009-03-11 07:00:00  0.510778  25.329109  ... -4.407438  68.647850\n",
            "2009-03-11 07:10:00  0.510631  24.965330  ... -4.412057  69.346764\n",
            "...                       ...        ...  ...       ...        ...\n",
            "2009-03-28 13:20:00  0.516947  22.566521  ... -4.964487  72.158081\n",
            "2009-03-28 13:30:00  0.516790  23.644880  ... -4.957215  71.223877\n",
            "2009-03-28 13:40:00  0.516591  23.736650  ... -4.961114  70.807220\n",
            "2009-03-28 13:50:00  0.516339  23.319229  ... -4.955902  71.450020\n",
            "2009-03-28 14:00:00  0.515635  22.664320  ... -4.967060  72.160553\n",
            "\n",
            "[2494 rows x 9 columns]\n"
          ],
          "name": "stdout"
        }
      ]
    },
    {
      "cell_type": "code",
      "metadata": {
        "id": "lqfQ5N7WGcQW"
      },
      "source": [
        "#choosing best parameters\n",
        "# parameters = arma_order_select_ic(df['CPRAVG'], max_ar=7, max_ma=7, ic='aic', trend='c')\n",
        "# print('ARMA (p,q) = ',parameters['aic_min_order'],'is the best.')"
      ],
      "execution_count": 69,
      "outputs": []
    },
    {
      "cell_type": "code",
      "metadata": {
        "colab": {
          "base_uri": "https://localhost:8080/"
        },
        "id": "-Wl2sAkJtQe7",
        "outputId": "e500f8b6-fd11-4bda-b6be-b44adf2bee0b"
      },
      "source": [
        "#Creating ARIMAX model:\n",
        "d = 0\n",
        "p = 7\n",
        "q = 5\n",
        "#Creating the exog dataframe\n",
        "arimax_model = SARIMAX(train_df['CPRAVG'], order = (p,d,q), exog = train_df[['PROP', 'BUT', 'FLW', 'COT', 'TEMP', 'PRESS', 'DRAFT', 'ETH']])\n",
        "\n",
        "# import pmdarima as pm\n",
        "# arimax_model = pm.auto_arima(train_df['CPRAVG'], \n",
        "#                              exogenous = train_df[['PROP', 'BUT', 'FLW', 'COT', 'TEMP', 'PRESS', 'DRAFT', 'ETH']],\n",
        "#                              start_p = 1,\n",
        "#                              start_q = 1,\n",
        "#                              max_p=3,\n",
        "#                              max_q=3, \n",
        "#                              test='adf',\n",
        "#                              suppress_warnings=True, \n",
        "#                              seasonal=False,\n",
        "#                              m = 1,\n",
        "#                              d = None,\n",
        "#                              stepwise = True)\n",
        "# arimax_model.summary()\n"
      ],
      "execution_count": 110,
      "outputs": [
        {
          "output_type": "stream",
          "text": [
            "/usr/local/lib/python3.7/dist-packages/statsmodels/tsa/base/tsa_model.py:527: ValueWarning: No frequency information was provided, so inferred frequency 10T will be used.\n",
            "  % freq, ValueWarning)\n",
            "/usr/local/lib/python3.7/dist-packages/statsmodels/tsa/base/tsa_model.py:527: ValueWarning: No frequency information was provided, so inferred frequency 10T will be used.\n",
            "  % freq, ValueWarning)\n"
          ],
          "name": "stderr"
        }
      ]
    },
    {
      "cell_type": "markdown",
      "metadata": {
        "id": "xibivA3z3GB3"
      },
      "source": [
        "Model has been created! Let's fit it."
      ]
    },
    {
      "cell_type": "code",
      "metadata": {
        "id": "FS5XomtP3Ezz",
        "outputId": "81a29bea-a173-4b11-f0e4-4810deb9d931",
        "colab": {
          "base_uri": "https://localhost:8080/"
        }
      },
      "source": [
        "res = arimax_model.fit(disp = False,\n",
        "                       maxiter = 50)"
      ],
      "execution_count": 111,
      "outputs": [
        {
          "output_type": "stream",
          "text": [
            "/usr/local/lib/python3.7/dist-packages/statsmodels/tsa/statespace/sarimax.py:966: UserWarning: Non-stationary starting autoregressive parameters found. Using zeros as starting parameters.\n",
            "  warn('Non-stationary starting autoregressive parameters'\n",
            "/usr/local/lib/python3.7/dist-packages/statsmodels/tsa/statespace/sarimax.py:978: UserWarning: Non-invertible starting MA parameters found. Using zeros as starting parameters.\n",
            "  warn('Non-invertible starting MA parameters found.'\n",
            "/usr/local/lib/python3.7/dist-packages/statsmodels/base/model.py:568: ConvergenceWarning: Maximum Likelihood optimization failed to converge. Check mle_retvals\n",
            "  ConvergenceWarning)\n"
          ],
          "name": "stderr"
        }
      ]
    },
    {
      "cell_type": "markdown",
      "metadata": {
        "id": "4QXJrK6e3Xsw"
      },
      "source": [
        "Once that is done, we shall have a look at the model summary."
      ]
    },
    {
      "cell_type": "code",
      "metadata": {
        "colab": {
          "base_uri": "https://localhost:8080/",
          "height": 832
        },
        "id": "2cx9WpMj3chH",
        "outputId": "10df6dda-8edb-41ef-b2e7-cab4906ed248"
      },
      "source": [
        "res.summary()"
      ],
      "execution_count": 112,
      "outputs": [
        {
          "output_type": "execute_result",
          "data": {
            "text/html": [
              "<table class=\"simpletable\">\n",
              "<caption>SARIMAX Results</caption>\n",
              "<tr>\n",
              "  <th>Dep. Variable:</th>        <td>CPRAVG</td>      <th>  No. Observations:  </th>   <td>9974</td>   \n",
              "</tr>\n",
              "<tr>\n",
              "  <th>Model:</th>           <td>SARIMAX(7, 0, 5)</td> <th>  Log Likelihood     </th> <td>-5897.069</td>\n",
              "</tr>\n",
              "<tr>\n",
              "  <th>Date:</th>            <td>Mon, 02 Aug 2021</td> <th>  AIC                </th> <td>11836.139</td>\n",
              "</tr>\n",
              "<tr>\n",
              "  <th>Time:</th>                <td>08:37:53</td>     <th>  BIC                </th> <td>11987.501</td>\n",
              "</tr>\n",
              "<tr>\n",
              "  <th>Sample:</th>             <td>01-01-2009</td>    <th>  HQIC               </th> <td>11887.381</td>\n",
              "</tr>\n",
              "<tr>\n",
              "  <th></th>                   <td>- 03-11-2009</td>   <th>                     </th>     <td> </td>    \n",
              "</tr>\n",
              "<tr>\n",
              "  <th>Covariance Type:</th>        <td>opg</td>       <th>                     </th>     <td> </td>    \n",
              "</tr>\n",
              "</table>\n",
              "<table class=\"simpletable\">\n",
              "<tr>\n",
              "     <td></td>       <th>coef</th>     <th>std err</th>      <th>z</th>      <th>P>|z|</th>  <th>[0.025</th>    <th>0.975]</th>  \n",
              "</tr>\n",
              "<tr>\n",
              "  <th>PROP</th>   <td>    0.0015</td> <td> 8.68e-06</td> <td>  170.638</td> <td> 0.000</td> <td>    0.001</td> <td>    0.001</td>\n",
              "</tr>\n",
              "<tr>\n",
              "  <th>BUT</th>    <td>   -0.0152</td> <td> 1.69e-05</td> <td> -894.922</td> <td> 0.000</td> <td>   -0.015</td> <td>   -0.015</td>\n",
              "</tr>\n",
              "<tr>\n",
              "  <th>FLW</th>    <td>-6.903e-06</td> <td> 9.76e-09</td> <td> -707.424</td> <td> 0.000</td> <td>-6.92e-06</td> <td>-6.88e-06</td>\n",
              "</tr>\n",
              "<tr>\n",
              "  <th>COT</th>    <td>    0.0006</td> <td> 2.63e-06</td> <td>  221.046</td> <td> 0.000</td> <td>    0.001</td> <td>    0.001</td>\n",
              "</tr>\n",
              "<tr>\n",
              "  <th>TEMP</th>   <td>    0.0004</td> <td> 3.09e-06</td> <td>  133.100</td> <td> 0.000</td> <td>    0.000</td> <td>    0.000</td>\n",
              "</tr>\n",
              "<tr>\n",
              "  <th>PRESS</th>  <td>    0.0278</td> <td>    0.001</td> <td>   26.193</td> <td> 0.000</td> <td>    0.026</td> <td>    0.030</td>\n",
              "</tr>\n",
              "<tr>\n",
              "  <th>DRAFT</th>  <td>   -0.0074</td> <td> 3.12e-05</td> <td> -237.741</td> <td> 0.000</td> <td>   -0.007</td> <td>   -0.007</td>\n",
              "</tr>\n",
              "<tr>\n",
              "  <th>ETH</th>    <td>   -0.0013</td> <td>  8.2e-06</td> <td> -156.076</td> <td> 0.000</td> <td>   -0.001</td> <td>   -0.001</td>\n",
              "</tr>\n",
              "<tr>\n",
              "  <th>ar.L1</th>  <td>        -0</td> <td>    0.001</td> <td>       -0</td> <td> 1.000</td> <td>   -0.002</td> <td>    0.002</td>\n",
              "</tr>\n",
              "<tr>\n",
              "  <th>ar.L2</th>  <td>        -0</td> <td>    0.001</td> <td>       -0</td> <td> 1.000</td> <td>   -0.002</td> <td>    0.002</td>\n",
              "</tr>\n",
              "<tr>\n",
              "  <th>ar.L3</th>  <td>        -0</td> <td>    0.001</td> <td>       -0</td> <td> 1.000</td> <td>   -0.002</td> <td>    0.002</td>\n",
              "</tr>\n",
              "<tr>\n",
              "  <th>ar.L4</th>  <td>        -0</td> <td>    0.001</td> <td>       -0</td> <td> 1.000</td> <td>   -0.002</td> <td>    0.002</td>\n",
              "</tr>\n",
              "<tr>\n",
              "  <th>ar.L5</th>  <td>        -0</td> <td>    0.001</td> <td>       -0</td> <td> 1.000</td> <td>   -0.002</td> <td>    0.002</td>\n",
              "</tr>\n",
              "<tr>\n",
              "  <th>ar.L6</th>  <td>        -0</td> <td>    0.002</td> <td>       -0</td> <td> 1.000</td> <td>   -0.005</td> <td>    0.005</td>\n",
              "</tr>\n",
              "<tr>\n",
              "  <th>ar.L7</th>  <td>         0</td> <td>    0.002</td> <td>        0</td> <td> 1.000</td> <td>   -0.004</td> <td>    0.004</td>\n",
              "</tr>\n",
              "<tr>\n",
              "  <th>ma.L1</th>  <td>         0</td> <td>    0.001</td> <td>        0</td> <td> 1.000</td> <td>   -0.002</td> <td>    0.002</td>\n",
              "</tr>\n",
              "<tr>\n",
              "  <th>ma.L2</th>  <td>         0</td> <td>    0.001</td> <td>        0</td> <td> 1.000</td> <td>   -0.002</td> <td>    0.002</td>\n",
              "</tr>\n",
              "<tr>\n",
              "  <th>ma.L3</th>  <td>         0</td> <td>    0.001</td> <td>        0</td> <td> 1.000</td> <td>   -0.002</td> <td>    0.002</td>\n",
              "</tr>\n",
              "<tr>\n",
              "  <th>ma.L4</th>  <td>         0</td> <td>    0.001</td> <td>        0</td> <td> 1.000</td> <td>   -0.002</td> <td>    0.002</td>\n",
              "</tr>\n",
              "<tr>\n",
              "  <th>ma.L5</th>  <td>        -0</td> <td>    0.001</td> <td>       -0</td> <td> 1.000</td> <td>   -0.002</td> <td>    0.002</td>\n",
              "</tr>\n",
              "<tr>\n",
              "  <th>sigma2</th> <td> 7.306e-06</td> <td> 2.68e-08</td> <td>  272.748</td> <td> 0.000</td> <td> 7.25e-06</td> <td> 7.36e-06</td>\n",
              "</tr>\n",
              "</table>\n",
              "<table class=\"simpletable\">\n",
              "<tr>\n",
              "  <th>Ljung-Box (L1) (Q):</th>     <td>8888.83</td> <th>  Jarque-Bera (JB):  </th> <td>415.72</td>\n",
              "</tr>\n",
              "<tr>\n",
              "  <th>Prob(Q):</th>                 <td>0.00</td>   <th>  Prob(JB):          </th>  <td>0.00</td> \n",
              "</tr>\n",
              "<tr>\n",
              "  <th>Heteroskedasticity (H):</th>  <td>1.20</td>   <th>  Skew:              </th>  <td>0.05</td> \n",
              "</tr>\n",
              "<tr>\n",
              "  <th>Prob(H) (two-sided):</th>     <td>0.00</td>   <th>  Kurtosis:          </th>  <td>4.00</td> \n",
              "</tr>\n",
              "</table><br/><br/>Warnings:<br/>[1] Covariance matrix calculated using the outer product of gradients (complex-step).<br/>[2] Covariance matrix is singular or near-singular, with condition number 1.65e+17. Standard errors may be unstable."
            ],
            "text/plain": [
              "<class 'statsmodels.iolib.summary.Summary'>\n",
              "\"\"\"\n",
              "                               SARIMAX Results                                \n",
              "==============================================================================\n",
              "Dep. Variable:                 CPRAVG   No. Observations:                 9974\n",
              "Model:               SARIMAX(7, 0, 5)   Log Likelihood               -5897.069\n",
              "Date:                Mon, 02 Aug 2021   AIC                          11836.139\n",
              "Time:                        08:37:53   BIC                          11987.501\n",
              "Sample:                    01-01-2009   HQIC                         11887.381\n",
              "                         - 03-11-2009                                         \n",
              "Covariance Type:                  opg                                         \n",
              "==============================================================================\n",
              "                 coef    std err          z      P>|z|      [0.025      0.975]\n",
              "------------------------------------------------------------------------------\n",
              "PROP           0.0015   8.68e-06    170.638      0.000       0.001       0.001\n",
              "BUT           -0.0152   1.69e-05   -894.922      0.000      -0.015      -0.015\n",
              "FLW        -6.903e-06   9.76e-09   -707.424      0.000   -6.92e-06   -6.88e-06\n",
              "COT            0.0006   2.63e-06    221.046      0.000       0.001       0.001\n",
              "TEMP           0.0004   3.09e-06    133.100      0.000       0.000       0.000\n",
              "PRESS          0.0278      0.001     26.193      0.000       0.026       0.030\n",
              "DRAFT         -0.0074   3.12e-05   -237.741      0.000      -0.007      -0.007\n",
              "ETH           -0.0013    8.2e-06   -156.076      0.000      -0.001      -0.001\n",
              "ar.L1              -0      0.001         -0      1.000      -0.002       0.002\n",
              "ar.L2              -0      0.001         -0      1.000      -0.002       0.002\n",
              "ar.L3              -0      0.001         -0      1.000      -0.002       0.002\n",
              "ar.L4              -0      0.001         -0      1.000      -0.002       0.002\n",
              "ar.L5              -0      0.001         -0      1.000      -0.002       0.002\n",
              "ar.L6              -0      0.002         -0      1.000      -0.005       0.005\n",
              "ar.L7               0      0.002          0      1.000      -0.004       0.004\n",
              "ma.L1               0      0.001          0      1.000      -0.002       0.002\n",
              "ma.L2               0      0.001          0      1.000      -0.002       0.002\n",
              "ma.L3               0      0.001          0      1.000      -0.002       0.002\n",
              "ma.L4               0      0.001          0      1.000      -0.002       0.002\n",
              "ma.L5              -0      0.001         -0      1.000      -0.002       0.002\n",
              "sigma2      7.306e-06   2.68e-08    272.748      0.000    7.25e-06    7.36e-06\n",
              "===================================================================================\n",
              "Ljung-Box (L1) (Q):                8888.83   Jarque-Bera (JB):               415.72\n",
              "Prob(Q):                              0.00   Prob(JB):                         0.00\n",
              "Heteroskedasticity (H):               1.20   Skew:                             0.05\n",
              "Prob(H) (two-sided):                  0.00   Kurtosis:                         4.00\n",
              "===================================================================================\n",
              "\n",
              "Warnings:\n",
              "[1] Covariance matrix calculated using the outer product of gradients (complex-step).\n",
              "[2] Covariance matrix is singular or near-singular, with condition number 1.65e+17. Standard errors may be unstable.\n",
              "\"\"\""
            ]
          },
          "metadata": {
            "tags": []
          },
          "execution_count": 112
        }
      ]
    },
    {
      "cell_type": "code",
      "metadata": {
        "colab": {
          "base_uri": "https://localhost:8080/",
          "height": 283
        },
        "id": "nxWWo890_usc",
        "outputId": "8f546e21-714d-410c-802e-fd091142150e"
      },
      "source": [
        "# forecast = arimax_model.predict(n_periods=val_df.shape[0], dynamic = True, exogenous = val_df[['PROP', 'BUT', 'FLW', 'COT', 'TEMP', 'PRESS', 'DRAFT', 'ETH']])\n",
        "start = train_df.shape[0]\n",
        "end = df.shape[0] - 1\n",
        "forecast = res.predict(start = start, end = end, dynamic = True, exog = val_df[['PROP', 'BUT', 'FLW', 'COT', 'TEMP', 'PRESS', 'DRAFT', 'ETH']])\n",
        "plt.plot(forecast, color = 'blue')\n",
        "plt.plot(df['CPRAVG'][start:end], color = 'red')"
      ],
      "execution_count": 113,
      "outputs": [
        {
          "output_type": "execute_result",
          "data": {
            "text/plain": [
              "[<matplotlib.lines.Line2D at 0x7f4934f4a8d0>]"
            ]
          },
          "metadata": {
            "tags": []
          },
          "execution_count": 113
        },
        {
          "output_type": "display_data",
          "data": {
            "image/png": "[encoded data removed]",
            "text/plain": [
              "<Figure size 432x288 with 1 Axes>"
            ]
          },
          "metadata": {
            "tags": [],
            "needs_background": "light"
          }
        }
      ]
    }
  ]
}