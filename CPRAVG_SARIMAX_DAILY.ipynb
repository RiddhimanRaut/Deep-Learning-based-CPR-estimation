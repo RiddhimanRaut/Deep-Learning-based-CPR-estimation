{
  "nbformat": 4,
  "nbformat_minor": 0,
  "metadata": {
    "colab": {
      "name": "CPRAVG_SARIMAX_DAILY",
      "provenance": [],
      "authorship_tag": "ABX9TyOH8dPTn5ajcnia1dhTgcRN",
      "include_colab_link": true
    },
    "kernelspec": {
      "name": "python3",
      "display_name": "Python 3"
    },
    "language_info": {
      "name": "python"
    }
  },
  "cells": [
    {
      "cell_type": "markdown",
      "metadata": {
        "id": "view-in-github",
        "colab_type": "text"
      },
      "source": [
        "<a href=\"https://colab.research.google.com/github/RiddhimanRaut/Deep-Learning-based-CPR-estimation/blob/main/CPRAVG_SARIMAX_DAILY.ipynb\" target=\"_parent\"><img src=\"https://colab.research.google.com/assets/colab-badge.svg\" alt=\"Open In Colab\"/></a>"
      ]
    },
    {
      "cell_type": "code",
      "metadata": {
        "colab": {
          "base_uri": "https://localhost:8080/"
        },
        "id": "vlU7Z7P4xBbC",
        "outputId": "57fb1f58-adab-4d89-f90d-926f20776f67"
      },
      "source": [
        "%pip install pmdarima"
      ],
      "execution_count": 222,
      "outputs": [
        {
          "output_type": "stream",
          "text": [
            "Requirement already satisfied: pmdarima in /usr/local/lib/python3.7/dist-packages (1.8.2)\n",
            "Requirement already satisfied: setuptools!=50.0.0,>=38.6.0 in /usr/local/lib/python3.7/dist-packages (from pmdarima) (57.2.0)\n",
            "Requirement already satisfied: scikit-learn>=0.22 in /usr/local/lib/python3.7/dist-packages (from pmdarima) (0.22.2.post1)\n",
            "Requirement already satisfied: pandas>=0.19 in /usr/local/lib/python3.7/dist-packages (from pmdarima) (1.1.5)\n",
            "Requirement already satisfied: urllib3 in /usr/local/lib/python3.7/dist-packages (from pmdarima) (1.24.3)\n",
            "Requirement already satisfied: joblib>=0.11 in /usr/local/lib/python3.7/dist-packages (from pmdarima) (1.0.1)\n",
            "Requirement already satisfied: Cython!=0.29.18,>=0.29 in /usr/local/lib/python3.7/dist-packages (from pmdarima) (0.29.23)\n",
            "Requirement already satisfied: numpy~=1.19.0 in /usr/local/lib/python3.7/dist-packages (from pmdarima) (1.19.5)\n",
            "Requirement already satisfied: scipy>=1.3.2 in /usr/local/lib/python3.7/dist-packages (from pmdarima) (1.4.1)\n",
            "Requirement already satisfied: statsmodels!=0.12.0,>=0.11 in /usr/local/lib/python3.7/dist-packages (from pmdarima) (0.12.2)\n",
            "Requirement already satisfied: python-dateutil>=2.7.3 in /usr/local/lib/python3.7/dist-packages (from pandas>=0.19->pmdarima) (2.8.1)\n",
            "Requirement already satisfied: pytz>=2017.2 in /usr/local/lib/python3.7/dist-packages (from pandas>=0.19->pmdarima) (2018.9)\n",
            "Requirement already satisfied: six>=1.5 in /usr/local/lib/python3.7/dist-packages (from python-dateutil>=2.7.3->pandas>=0.19->pmdarima) (1.15.0)\n",
            "Requirement already satisfied: patsy>=0.5 in /usr/local/lib/python3.7/dist-packages (from statsmodels!=0.12.0,>=0.11->pmdarima) (0.5.1)\n"
          ],
          "name": "stdout"
        }
      ]
    },
    {
      "cell_type": "code",
      "metadata": {
        "id": "vNqppYTGxPxJ"
      },
      "source": [
        "import pandas as pd\n",
        "import numpy as np\n",
        "%matplotlib inline\n",
        "import pmdarima as pm\n",
        "\n",
        "# Load specific forecasting tools\n",
        "from statsmodels.tsa.statespace.sarimax import SARIMAX\n",
        "\n",
        "from statsmodels.graphics.tsaplots import plot_acf,plot_pacf # for determining (p,q) orders\n",
        "from statsmodels.tsa.seasonal import seasonal_decompose      # for ETS Plots\n",
        "from pmdarima import auto_arima                              # for determining ARIMA orders\n",
        "\n",
        "# Ignore harmless warnings\n",
        "import warnings\n",
        "warnings.filterwarnings(\"ignore\")\n"
      ],
      "execution_count": 223,
      "outputs": []
    },
    {
      "cell_type": "code",
      "metadata": {
        "colab": {
          "base_uri": "https://localhost:8080/",
          "height": 238
        },
        "id": "SGiPPHRJxXx4",
        "outputId": "2ecca1a2-541b-43c5-e5f1-2275041fe154"
      },
      "source": [
        "path = \"https://github.com/RiddhimanRaut/Deep-Learning-based-CPR-estimation/blob/main/excel_dataset.xlsx?raw=true\"\n",
        "df = pd.read_excel(path)\n",
        "df = df.dropna()\n",
        "date_time = pd.to_datetime(df.pop('Date Time'), format='%d.%m.%Y %H:%M:%S')\n",
        "df.index = date_time\n",
        "df.head()"
      ],
      "execution_count": 224,
      "outputs": [
        {
          "output_type": "execute_result",
          "data": {
            "text/html": [
              "<div>\n",
              "<style scoped>\n",
              "    .dataframe tbody tr th:only-of-type {\n",
              "        vertical-align: middle;\n",
              "    }\n",
              "\n",
              "    .dataframe tbody tr th {\n",
              "        vertical-align: top;\n",
              "    }\n",
              "\n",
              "    .dataframe thead th {\n",
              "        text-align: right;\n",
              "    }\n",
              "</style>\n",
              "<table border=\"1\" class=\"dataframe\">\n",
              "  <thead>\n",
              "    <tr style=\"text-align: right;\">\n",
              "      <th></th>\n",
              "      <th>CPRAVG</th>\n",
              "      <th>PROP</th>\n",
              "      <th>BUT</th>\n",
              "      <th>ETHYLENE</th>\n",
              "      <th>AI12201M</th>\n",
              "      <th>FLW</th>\n",
              "      <th>COT</th>\n",
              "      <th>TEMP</th>\n",
              "      <th>PRESS</th>\n",
              "      <th>O2</th>\n",
              "      <th>DRAFT</th>\n",
              "      <th>ETH</th>\n",
              "    </tr>\n",
              "    <tr>\n",
              "      <th>Date Time</th>\n",
              "      <th></th>\n",
              "      <th></th>\n",
              "      <th></th>\n",
              "      <th></th>\n",
              "      <th></th>\n",
              "      <th></th>\n",
              "      <th></th>\n",
              "      <th></th>\n",
              "      <th></th>\n",
              "      <th></th>\n",
              "      <th></th>\n",
              "      <th></th>\n",
              "    </tr>\n",
              "  </thead>\n",
              "  <tbody>\n",
              "    <tr>\n",
              "      <th>2009-01-01 00:10:00</th>\n",
              "      <td>0.428151</td>\n",
              "      <td>18.960609</td>\n",
              "      <td>3.973630</td>\n",
              "      <td>29.732470</td>\n",
              "      <td>0.014431</td>\n",
              "      <td>30711.65039</td>\n",
              "      <td>820.118210</td>\n",
              "      <td>632.399261</td>\n",
              "      <td>0.466357</td>\n",
              "      <td>1.444160</td>\n",
              "      <td>-5.616851</td>\n",
              "      <td>75.809700</td>\n",
              "    </tr>\n",
              "    <tr>\n",
              "      <th>2009-01-01 00:20:00</th>\n",
              "      <td>0.427783</td>\n",
              "      <td>18.960360</td>\n",
              "      <td>3.973562</td>\n",
              "      <td>30.123590</td>\n",
              "      <td>0.014822</td>\n",
              "      <td>30700.66016</td>\n",
              "      <td>819.662811</td>\n",
              "      <td>633.057602</td>\n",
              "      <td>0.475288</td>\n",
              "      <td>1.413894</td>\n",
              "      <td>-5.540349</td>\n",
              "      <td>75.810066</td>\n",
              "    </tr>\n",
              "    <tr>\n",
              "      <th>2009-01-01 00:30:00</th>\n",
              "      <td>0.427432</td>\n",
              "      <td>19.009649</td>\n",
              "      <td>4.181924</td>\n",
              "      <td>30.477831</td>\n",
              "      <td>0.012689</td>\n",
              "      <td>30689.66016</td>\n",
              "      <td>819.886444</td>\n",
              "      <td>631.841385</td>\n",
              "      <td>0.464559</td>\n",
              "      <td>1.515123</td>\n",
              "      <td>-5.628389</td>\n",
              "      <td>75.552841</td>\n",
              "    </tr>\n",
              "    <tr>\n",
              "      <th>2009-01-01 00:40:00</th>\n",
              "      <td>0.427082</td>\n",
              "      <td>19.155710</td>\n",
              "      <td>3.950392</td>\n",
              "      <td>30.425819</td>\n",
              "      <td>0.012580</td>\n",
              "      <td>30678.66016</td>\n",
              "      <td>819.660172</td>\n",
              "      <td>632.495224</td>\n",
              "      <td>0.471809</td>\n",
              "      <td>1.404055</td>\n",
              "      <td>-5.576591</td>\n",
              "      <td>75.580223</td>\n",
              "    </tr>\n",
              "    <tr>\n",
              "      <th>2009-01-01 00:50:00</th>\n",
              "      <td>0.426732</td>\n",
              "      <td>19.334640</td>\n",
              "      <td>3.689848</td>\n",
              "      <td>30.546061</td>\n",
              "      <td>0.012472</td>\n",
              "      <td>30667.66016</td>\n",
              "      <td>819.646805</td>\n",
              "      <td>632.388214</td>\n",
              "      <td>0.470504</td>\n",
              "      <td>1.191485</td>\n",
              "      <td>-5.274679</td>\n",
              "      <td>75.638023</td>\n",
              "    </tr>\n",
              "  </tbody>\n",
              "</table>\n",
              "</div>"
            ],
            "text/plain": [
              "                       CPRAVG       PROP  ...     DRAFT        ETH\n",
              "Date Time                                 ...                     \n",
              "2009-01-01 00:10:00  0.428151  18.960609  ... -5.616851  75.809700\n",
              "2009-01-01 00:20:00  0.427783  18.960360  ... -5.540349  75.810066\n",
              "2009-01-01 00:30:00  0.427432  19.009649  ... -5.628389  75.552841\n",
              "2009-01-01 00:40:00  0.427082  19.155710  ... -5.576591  75.580223\n",
              "2009-01-01 00:50:00  0.426732  19.334640  ... -5.274679  75.638023\n",
              "\n",
              "[5 rows x 12 columns]"
            ]
          },
          "metadata": {
            "tags": []
          },
          "execution_count": 224
        }
      ]
    },
    {
      "cell_type": "code",
      "metadata": {
        "colab": {
          "base_uri": "https://localhost:8080/",
          "height": 424
        },
        "id": "G1UUTtTjzive",
        "outputId": "82d6403b-5624-44ed-b2ae-8c0090c5d9bb"
      },
      "source": [
        "number_of_days = (df.shape[0]//144)+1 #// for integer division\n",
        "number_of_extra_rows = df.shape[0]%144\n",
        "df_days = df.rolling(144).mean().dropna()\n",
        "df_days = df_days.iloc[::144,:]\n",
        "df_extra = df[86*144:df.shape[0]].mean()\n",
        "df_days = df_days.append(df_extra,ignore_index=True)\n",
        "df_days"
      ],
      "execution_count": 225,
      "outputs": [
        {
          "output_type": "execute_result",
          "data": {
            "text/html": [
              "<div>\n",
              "<style scoped>\n",
              "    .dataframe tbody tr th:only-of-type {\n",
              "        vertical-align: middle;\n",
              "    }\n",
              "\n",
              "    .dataframe tbody tr th {\n",
              "        vertical-align: top;\n",
              "    }\n",
              "\n",
              "    .dataframe thead th {\n",
              "        text-align: right;\n",
              "    }\n",
              "</style>\n",
              "<table border=\"1\" class=\"dataframe\">\n",
              "  <thead>\n",
              "    <tr style=\"text-align: right;\">\n",
              "      <th></th>\n",
              "      <th>CPRAVG</th>\n",
              "      <th>PROP</th>\n",
              "      <th>BUT</th>\n",
              "      <th>ETHYLENE</th>\n",
              "      <th>AI12201M</th>\n",
              "      <th>FLW</th>\n",
              "      <th>COT</th>\n",
              "      <th>TEMP</th>\n",
              "      <th>PRESS</th>\n",
              "      <th>O2</th>\n",
              "      <th>DRAFT</th>\n",
              "      <th>ETH</th>\n",
              "    </tr>\n",
              "  </thead>\n",
              "  <tbody>\n",
              "    <tr>\n",
              "      <th>0</th>\n",
              "      <td>0.437426</td>\n",
              "      <td>18.989021</td>\n",
              "      <td>4.212129</td>\n",
              "      <td>32.006993</td>\n",
              "      <td>0.010173</td>\n",
              "      <td>30654.824301</td>\n",
              "      <td>830.488018</td>\n",
              "      <td>640.112469</td>\n",
              "      <td>0.469527</td>\n",
              "      <td>0.794234</td>\n",
              "      <td>-4.467693</td>\n",
              "      <td>75.694686</td>\n",
              "    </tr>\n",
              "    <tr>\n",
              "      <th>1</th>\n",
              "      <td>0.448062</td>\n",
              "      <td>18.809630</td>\n",
              "      <td>4.524849</td>\n",
              "      <td>33.836544</td>\n",
              "      <td>0.010565</td>\n",
              "      <td>30625.732653</td>\n",
              "      <td>844.455551</td>\n",
              "      <td>651.105717</td>\n",
              "      <td>0.469758</td>\n",
              "      <td>0.469703</td>\n",
              "      <td>-4.170596</td>\n",
              "      <td>75.561543</td>\n",
              "    </tr>\n",
              "    <tr>\n",
              "      <th>2</th>\n",
              "      <td>0.450353</td>\n",
              "      <td>19.083289</td>\n",
              "      <td>4.726570</td>\n",
              "      <td>34.668045</td>\n",
              "      <td>0.012945</td>\n",
              "      <td>30705.664307</td>\n",
              "      <td>852.964052</td>\n",
              "      <td>657.452192</td>\n",
              "      <td>0.470218</td>\n",
              "      <td>0.333544</td>\n",
              "      <td>-4.249914</td>\n",
              "      <td>75.352648</td>\n",
              "    </tr>\n",
              "    <tr>\n",
              "      <th>3</th>\n",
              "      <td>0.451834</td>\n",
              "      <td>18.531180</td>\n",
              "      <td>4.659772</td>\n",
              "      <td>34.896273</td>\n",
              "      <td>0.012922</td>\n",
              "      <td>30713.556058</td>\n",
              "      <td>854.393941</td>\n",
              "      <td>659.299923</td>\n",
              "      <td>0.469249</td>\n",
              "      <td>0.274911</td>\n",
              "      <td>-4.314996</td>\n",
              "      <td>75.919100</td>\n",
              "    </tr>\n",
              "    <tr>\n",
              "      <th>4</th>\n",
              "      <td>0.452508</td>\n",
              "      <td>17.260066</td>\n",
              "      <td>4.367844</td>\n",
              "      <td>34.849715</td>\n",
              "      <td>0.013748</td>\n",
              "      <td>30754.496406</td>\n",
              "      <td>854.443389</td>\n",
              "      <td>659.779801</td>\n",
              "      <td>0.469077</td>\n",
              "      <td>0.319588</td>\n",
              "      <td>-4.264858</td>\n",
              "      <td>77.543971</td>\n",
              "    </tr>\n",
              "    <tr>\n",
              "      <th>...</th>\n",
              "      <td>...</td>\n",
              "      <td>...</td>\n",
              "      <td>...</td>\n",
              "      <td>...</td>\n",
              "      <td>...</td>\n",
              "      <td>...</td>\n",
              "      <td>...</td>\n",
              "      <td>...</td>\n",
              "      <td>...</td>\n",
              "      <td>...</td>\n",
              "      <td>...</td>\n",
              "      <td>...</td>\n",
              "    </tr>\n",
              "    <tr>\n",
              "      <th>82</th>\n",
              "      <td>0.516196</td>\n",
              "      <td>22.787623</td>\n",
              "      <td>4.144163</td>\n",
              "      <td>32.998388</td>\n",
              "      <td>0.012000</td>\n",
              "      <td>28634.796591</td>\n",
              "      <td>853.104591</td>\n",
              "      <td>651.138966</td>\n",
              "      <td>0.487782</td>\n",
              "      <td>0.976843</td>\n",
              "      <td>-4.962001</td>\n",
              "      <td>71.868771</td>\n",
              "    </tr>\n",
              "    <tr>\n",
              "      <th>83</th>\n",
              "      <td>0.516829</td>\n",
              "      <td>24.152432</td>\n",
              "      <td>4.141898</td>\n",
              "      <td>31.950313</td>\n",
              "      <td>0.012233</td>\n",
              "      <td>28754.501818</td>\n",
              "      <td>853.112442</td>\n",
              "      <td>650.101372</td>\n",
              "      <td>0.488156</td>\n",
              "      <td>1.030537</td>\n",
              "      <td>-4.959895</td>\n",
              "      <td>70.069474</td>\n",
              "    </tr>\n",
              "    <tr>\n",
              "      <th>84</th>\n",
              "      <td>0.517241</td>\n",
              "      <td>23.390510</td>\n",
              "      <td>4.132008</td>\n",
              "      <td>32.028396</td>\n",
              "      <td>0.012171</td>\n",
              "      <td>28687.527385</td>\n",
              "      <td>853.108998</td>\n",
              "      <td>651.155280</td>\n",
              "      <td>0.488213</td>\n",
              "      <td>1.037697</td>\n",
              "      <td>-4.961618</td>\n",
              "      <td>71.159993</td>\n",
              "    </tr>\n",
              "    <tr>\n",
              "      <th>85</th>\n",
              "      <td>0.517645</td>\n",
              "      <td>23.003283</td>\n",
              "      <td>4.141829</td>\n",
              "      <td>31.995858</td>\n",
              "      <td>0.012024</td>\n",
              "      <td>28685.423422</td>\n",
              "      <td>853.136709</td>\n",
              "      <td>651.738798</td>\n",
              "      <td>0.488620</td>\n",
              "      <td>0.917159</td>\n",
              "      <td>-4.959742</td>\n",
              "      <td>71.677207</td>\n",
              "    </tr>\n",
              "    <tr>\n",
              "      <th>86</th>\n",
              "      <td>0.518119</td>\n",
              "      <td>22.404514</td>\n",
              "      <td>4.106871</td>\n",
              "      <td>32.655592</td>\n",
              "      <td>0.011968</td>\n",
              "      <td>28634.619536</td>\n",
              "      <td>853.097741</td>\n",
              "      <td>651.500345</td>\n",
              "      <td>0.488379</td>\n",
              "      <td>0.840940</td>\n",
              "      <td>-4.959939</td>\n",
              "      <td>72.240833</td>\n",
              "    </tr>\n",
              "  </tbody>\n",
              "</table>\n",
              "<p>87 rows × 12 columns</p>\n",
              "</div>"
            ],
            "text/plain": [
              "      CPRAVG       PROP       BUT  ...        O2     DRAFT        ETH\n",
              "0   0.437426  18.989021  4.212129  ...  0.794234 -4.467693  75.694686\n",
              "1   0.448062  18.809630  4.524849  ...  0.469703 -4.170596  75.561543\n",
              "2   0.450353  19.083289  4.726570  ...  0.333544 -4.249914  75.352648\n",
              "3   0.451834  18.531180  4.659772  ...  0.274911 -4.314996  75.919100\n",
              "4   0.452508  17.260066  4.367844  ...  0.319588 -4.264858  77.543971\n",
              "..       ...        ...       ...  ...       ...       ...        ...\n",
              "82  0.516196  22.787623  4.144163  ...  0.976843 -4.962001  71.868771\n",
              "83  0.516829  24.152432  4.141898  ...  1.030537 -4.959895  70.069474\n",
              "84  0.517241  23.390510  4.132008  ...  1.037697 -4.961618  71.159993\n",
              "85  0.517645  23.003283  4.141829  ...  0.917159 -4.959742  71.677207\n",
              "86  0.518119  22.404514  4.106871  ...  0.840940 -4.959939  72.240833\n",
              "\n",
              "[87 rows x 12 columns]"
            ]
          },
          "metadata": {
            "tags": []
          },
          "execution_count": 225
        }
      ]
    },
    {
      "cell_type": "code",
      "metadata": {
        "id": "w7xcxVrub-4g",
        "outputId": "fc5f42f8-a96b-43ae-f9b0-9383dc5ed9da",
        "colab": {
          "base_uri": "https://localhost:8080/",
          "height": 313
        }
      },
      "source": [
        "df = df_days\n",
        "#Plotting the CPRAVG data\n",
        "\n",
        "import matplotlib.pyplot as plt\n",
        "plt.title('Average CPR values with time')\n",
        "plt.xlabel('Date')\n",
        "plt.ylabel('Avg. CPR')\n",
        "plt.plot(df['CPRAVG'],color = 'blue')"
      ],
      "execution_count": 226,
      "outputs": [
        {
          "output_type": "execute_result",
          "data": {
            "text/plain": [
              "[<matplotlib.lines.Line2D at 0x7fb98bce6550>]"
            ]
          },
          "metadata": {
            "tags": []
          },
          "execution_count": 226
        },
        {
          "output_type": "display_data",
          "data": {
            "image/png": "[encoded data removed]",
            "text/plain": [
              "<Figure size 432x288 with 1 Axes>"
            ]
          },
          "metadata": {
            "tags": [],
            "needs_background": "light"
          }
        }
      ]
    },
    {
      "cell_type": "code",
      "metadata": {
        "id": "7nxRC2Cacw5x",
        "outputId": "6a9c75e6-8d33-449f-a52e-c6f06b5accb7",
        "colab": {
          "base_uri": "https://localhost:8080/"
        }
      },
      "source": [
        "#Printing list of columns:\n",
        "cols = list(df)[0:df.shape[1]]\n",
        "print(cols)"
      ],
      "execution_count": 227,
      "outputs": [
        {
          "output_type": "stream",
          "text": [
            "['CPRAVG', 'PROP', 'BUT', 'ETHYLENE', 'AI12201M', 'FLW', 'COT', 'TEMP', 'PRESS', 'O2', 'DRAFT', 'ETH']\n"
          ],
          "name": "stdout"
        }
      ]
    },
    {
      "cell_type": "code",
      "metadata": {
        "id": "tC9BFKA0c1yQ"
      },
      "source": [
        "from statsmodels.tsa.stattools import adfuller\n",
        "\n",
        "def adf_test(series,title=''):\n",
        "    \"\"\"\n",
        "    Pass in a time series and an optional title, returns an ADF report\n",
        "    \"\"\"\n",
        "    print(f'Augmented Dickey-Fuller Test: {title}')\n",
        "    result = adfuller(series.dropna(),autolag='AIC') # .dropna() handles differenced data\n",
        "    \n",
        "    labels = ['ADF test statistic','p-value','# lags used','# observations']\n",
        "    out = pd.Series(result[0:4],index=labels)\n",
        "\n",
        "    for key,val in result[4].items():\n",
        "        out[f'critical value ({key})']=val\n",
        "        \n",
        "    print(out.to_string())          # .to_string() removes the line \"dtype: float64\"\n",
        "    \n",
        "    if result[1] <= 0.05:\n",
        "        print(\"Strong evidence against the null hypothesis\")\n",
        "        print(\"Reject the null hypothesis\")\n",
        "        print(\"Data has no unit root and is stationary\")\n",
        "    else:\n",
        "        print(\"Weak evidence against the null hypothesis\")\n",
        "        print(\"Fail to reject the null hypothesis\")\n",
        "        print(\"Data has a unit root and is non-stationary\")"
      ],
      "execution_count": 228,
      "outputs": []
    },
    {
      "cell_type": "code",
      "metadata": {
        "id": "TE4ylluCdCrR",
        "outputId": "fe2f5c32-5d7d-408d-e590-68cab3abb23a",
        "colab": {
          "base_uri": "https://localhost:8080/"
        }
      },
      "source": [
        "adf_test(df['CPRAVG'])"
      ],
      "execution_count": 229,
      "outputs": [
        {
          "output_type": "stream",
          "text": [
            "Augmented Dickey-Fuller Test: \n",
            "ADF test statistic      -2.420242\n",
            "p-value                  0.136105\n",
            "# lags used              3.000000\n",
            "# observations          83.000000\n",
            "critical value (1%)     -3.511712\n",
            "critical value (5%)     -2.897048\n",
            "critical value (10%)    -2.585713\n",
            "Weak evidence against the null hypothesis\n",
            "Fail to reject the null hypothesis\n",
            "Data has a unit root and is non-stationary\n"
          ],
          "name": "stdout"
        }
      ]
    },
    {
      "cell_type": "code",
      "metadata": {
        "id": "8d1fc5E8e9SF",
        "outputId": "8d4ac2d2-2bc9-4fc2-e175-03fbda195f72",
        "colab": {
          "base_uri": "https://localhost:8080/",
          "height": 283
        }
      },
      "source": [
        "#Differencing the data.\n",
        "diff_df = df['CPRAVG'].diff().dropna()\n",
        "plt.plot(diff_df)"
      ],
      "execution_count": 230,
      "outputs": [
        {
          "output_type": "execute_result",
          "data": {
            "text/plain": [
              "[<matplotlib.lines.Line2D at 0x7fb98bb5eb90>]"
            ]
          },
          "metadata": {
            "tags": []
          },
          "execution_count": 230
        },
        {
          "output_type": "display_data",
          "data": {
            "image/png": "[encoded data removed]",
            "text/plain": [
              "<Figure size 432x288 with 1 Axes>"
            ]
          },
          "metadata": {
            "tags": [],
            "needs_background": "light"
          }
        }
      ]
    },
    {
      "cell_type": "code",
      "metadata": {
        "id": "ddTGr4m0gvug",
        "outputId": "d5d98092-df42-4c2f-cb51-f1c3b1ad572f",
        "colab": {
          "base_uri": "https://localhost:8080/"
        }
      },
      "source": [
        "adf_test(diff_df)"
      ],
      "execution_count": 231,
      "outputs": [
        {
          "output_type": "stream",
          "text": [
            "Augmented Dickey-Fuller Test: \n",
            "ADF test statistic      -4.641650\n",
            "p-value                  0.000108\n",
            "# lags used              2.000000\n",
            "# observations          83.000000\n",
            "critical value (1%)     -3.511712\n",
            "critical value (5%)     -2.897048\n",
            "critical value (10%)    -2.585713\n",
            "Strong evidence against the null hypothesis\n",
            "Reject the null hypothesis\n",
            "Data has no unit root and is stationary\n"
          ],
          "name": "stdout"
        }
      ]
    },
    {
      "cell_type": "code",
      "metadata": {
        "id": "A-fvwTwzfEku",
        "outputId": "6bcc49f4-3620-4331-ebe5-bffe1b69b1f1",
        "colab": {
          "base_uri": "https://localhost:8080/",
          "height": 283
        }
      },
      "source": [
        "#Second Differencing the data.\n",
        "diff_df2 = diff_df.diff().dropna()\n",
        "plt.plot(diff_df2)"
      ],
      "execution_count": 232,
      "outputs": [
        {
          "output_type": "execute_result",
          "data": {
            "text/plain": [
              "[<matplotlib.lines.Line2D at 0x7fb98beb5390>]"
            ]
          },
          "metadata": {
            "tags": []
          },
          "execution_count": 232
        },
        {
          "output_type": "display_data",
          "data": {
            "image/png": "[encoded data removed]",
            "text/plain": [
              "<Figure size 432x288 with 1 Axes>"
            ]
          },
          "metadata": {
            "tags": [],
            "needs_background": "light"
          }
        }
      ]
    },
    {
      "cell_type": "code",
      "metadata": {
        "id": "M0DFF1c7hBQh",
        "outputId": "8aad9e23-a9cd-43eb-bd43-6bf289d52305",
        "colab": {
          "base_uri": "https://localhost:8080/"
        }
      },
      "source": [
        "adf_test(diff_df2)"
      ],
      "execution_count": 233,
      "outputs": [
        {
          "output_type": "stream",
          "text": [
            "Augmented Dickey-Fuller Test: \n",
            "ADF test statistic     -7.887973e+00\n",
            "p-value                 4.515884e-12\n",
            "# lags used             3.000000e+00\n",
            "# observations          8.100000e+01\n",
            "critical value (1%)    -3.513790e+00\n",
            "critical value (5%)    -2.897943e+00\n",
            "critical value (10%)   -2.586191e+00\n",
            "Strong evidence against the null hypothesis\n",
            "Reject the null hypothesis\n",
            "Data has no unit root and is stationary\n"
          ],
          "name": "stdout"
        }
      ]
    },
    {
      "cell_type": "code",
      "metadata": {
        "id": "f4Jc6KIffUId",
        "outputId": "804e7f36-e48d-4e2d-a20e-ff237ab83738",
        "colab": {
          "base_uri": "https://localhost:8080/",
          "height": 809
        }
      },
      "source": [
        "#PACF\n",
        "plot_pacf(df['CPRAVG'],lags = 40)\n",
        "plt.title('PACF of original data')\n",
        "plt.show()\n",
        "\n",
        "plot_pacf(diff_df,lags = 40)\n",
        "plt.title('PACF of differenced data')\n",
        "plt.show()\n",
        "\n",
        "plot_pacf(diff_df2,lags = 40)\n",
        "plt.title('PACF of second differenced data')\n",
        "plt.show()"
      ],
      "execution_count": 234,
      "outputs": [
        {
          "output_type": "display_data",
          "data": {
            "image/png": "[encoded data removed]",
            "text/plain": [
              "<Figure size 432x288 with 1 Axes>"
            ]
          },
          "metadata": {
            "tags": [],
            "needs_background": "light"
          }
        },
        {
          "output_type": "display_data",
          "data": {
            "image/png": "[encoded data removed]",
            "text/plain": [
              "<Figure size 432x288 with 1 Axes>"
            ]
          },
          "metadata": {
            "tags": [],
            "needs_background": "light"
          }
        },
        {
          "output_type": "display_data",
          "data": {
            "image/png": "[encoded data removed]",
            "text/plain": [
              "<Figure size 432x288 with 1 Axes>"
            ]
          },
          "metadata": {
            "tags": [],
            "needs_background": "light"
          }
        }
      ]
    },
    {
      "cell_type": "code",
      "metadata": {
        "id": "XedRzFy0dMUx",
        "outputId": "f8b0bd12-9f4f-48e3-e687-fd0dc26c72e1",
        "colab": {
          "base_uri": "https://localhost:8080/",
          "height": 516
        }
      },
      "source": [
        "auto_arima(df['CPRAVG'],max_p=10,max_d=10,max_q=10,seasonal=False,m=1).summary()"
      ],
      "execution_count": 235,
      "outputs": [
        {
          "output_type": "execute_result",
          "data": {
            "text/html": [
              "<table class=\"simpletable\">\n",
              "<caption>SARIMAX Results</caption>\n",
              "<tr>\n",
              "  <th>Dep. Variable:</th>           <td>y</td>        <th>  No. Observations:  </th>    <td>87</td>   \n",
              "</tr>\n",
              "<tr>\n",
              "  <th>Model:</th>           <td>SARIMAX(1, 1, 4)</td> <th>  Log Likelihood     </th>  <td>368.872</td>\n",
              "</tr>\n",
              "<tr>\n",
              "  <th>Date:</th>            <td>Fri, 13 Aug 2021</td> <th>  AIC                </th> <td>-723.743</td>\n",
              "</tr>\n",
              "<tr>\n",
              "  <th>Time:</th>                <td>08:24:12</td>     <th>  BIC                </th> <td>-706.563</td>\n",
              "</tr>\n",
              "<tr>\n",
              "  <th>Sample:</th>                  <td>0</td>        <th>  HQIC               </th> <td>-716.829</td>\n",
              "</tr>\n",
              "<tr>\n",
              "  <th></th>                       <td> - 87</td>      <th>                     </th>     <td> </td>   \n",
              "</tr>\n",
              "<tr>\n",
              "  <th>Covariance Type:</th>        <td>opg</td>       <th>                     </th>     <td> </td>   \n",
              "</tr>\n",
              "</table>\n",
              "<table class=\"simpletable\">\n",
              "<tr>\n",
              "      <td></td>         <th>coef</th>     <th>std err</th>      <th>z</th>      <th>P>|z|</th>  <th>[0.025</th>    <th>0.975]</th>  \n",
              "</tr>\n",
              "<tr>\n",
              "  <th>intercept</th> <td>    0.0011</td> <td>    0.001</td> <td>    1.528</td> <td> 0.127</td> <td>   -0.000</td> <td>    0.003</td>\n",
              "</tr>\n",
              "<tr>\n",
              "  <th>ar.L1</th>     <td>   -0.1924</td> <td>    0.759</td> <td>   -0.254</td> <td> 0.800</td> <td>   -1.680</td> <td>    1.295</td>\n",
              "</tr>\n",
              "<tr>\n",
              "  <th>ma.L1</th>     <td>    0.4094</td> <td>    0.753</td> <td>    0.544</td> <td> 0.587</td> <td>   -1.067</td> <td>    1.886</td>\n",
              "</tr>\n",
              "<tr>\n",
              "  <th>ma.L2</th>     <td>   -0.2740</td> <td>    0.146</td> <td>   -1.877</td> <td> 0.061</td> <td>   -0.560</td> <td>    0.012</td>\n",
              "</tr>\n",
              "<tr>\n",
              "  <th>ma.L3</th>     <td>    0.1454</td> <td>    0.228</td> <td>    0.638</td> <td> 0.523</td> <td>   -0.301</td> <td>    0.592</td>\n",
              "</tr>\n",
              "<tr>\n",
              "  <th>ma.L4</th>     <td>    0.2322</td> <td>    0.107</td> <td>    2.178</td> <td> 0.029</td> <td>    0.023</td> <td>    0.441</td>\n",
              "</tr>\n",
              "<tr>\n",
              "  <th>sigma2</th>    <td> 1.091e-05</td> <td> 9.38e-07</td> <td>   11.629</td> <td> 0.000</td> <td> 9.07e-06</td> <td> 1.27e-05</td>\n",
              "</tr>\n",
              "</table>\n",
              "<table class=\"simpletable\">\n",
              "<tr>\n",
              "  <th>Ljung-Box (L1) (Q):</th>     <td>0.03</td> <th>  Jarque-Bera (JB):  </th> <td>187.34</td>\n",
              "</tr>\n",
              "<tr>\n",
              "  <th>Prob(Q):</th>                <td>0.87</td> <th>  Prob(JB):          </th>  <td>0.00</td> \n",
              "</tr>\n",
              "<tr>\n",
              "  <th>Heteroskedasticity (H):</th> <td>0.03</td> <th>  Skew:              </th>  <td>-0.15</td>\n",
              "</tr>\n",
              "<tr>\n",
              "  <th>Prob(H) (two-sided):</th>    <td>0.00</td> <th>  Kurtosis:          </th>  <td>10.22</td>\n",
              "</tr>\n",
              "</table><br/><br/>Warnings:<br/>[1] Covariance matrix calculated using the outer product of gradients (complex-step)."
            ],
            "text/plain": [
              "<class 'statsmodels.iolib.summary.Summary'>\n",
              "\"\"\"\n",
              "                               SARIMAX Results                                \n",
              "==============================================================================\n",
              "Dep. Variable:                      y   No. Observations:                   87\n",
              "Model:               SARIMAX(1, 1, 4)   Log Likelihood                 368.872\n",
              "Date:                Fri, 13 Aug 2021   AIC                           -723.743\n",
              "Time:                        08:24:12   BIC                           -706.563\n",
              "Sample:                             0   HQIC                          -716.829\n",
              "                                 - 87                                         \n",
              "Covariance Type:                  opg                                         \n",
              "==============================================================================\n",
              "                 coef    std err          z      P>|z|      [0.025      0.975]\n",
              "------------------------------------------------------------------------------\n",
              "intercept      0.0011      0.001      1.528      0.127      -0.000       0.003\n",
              "ar.L1         -0.1924      0.759     -0.254      0.800      -1.680       1.295\n",
              "ma.L1          0.4094      0.753      0.544      0.587      -1.067       1.886\n",
              "ma.L2         -0.2740      0.146     -1.877      0.061      -0.560       0.012\n",
              "ma.L3          0.1454      0.228      0.638      0.523      -0.301       0.592\n",
              "ma.L4          0.2322      0.107      2.178      0.029       0.023       0.441\n",
              "sigma2      1.091e-05   9.38e-07     11.629      0.000    9.07e-06    1.27e-05\n",
              "===================================================================================\n",
              "Ljung-Box (L1) (Q):                   0.03   Jarque-Bera (JB):               187.34\n",
              "Prob(Q):                              0.87   Prob(JB):                         0.00\n",
              "Heteroskedasticity (H):               0.03   Skew:                            -0.15\n",
              "Prob(H) (two-sided):                  0.00   Kurtosis:                        10.22\n",
              "===================================================================================\n",
              "\n",
              "Warnings:\n",
              "[1] Covariance matrix calculated using the outer product of gradients (complex-step).\n",
              "\"\"\""
            ]
          },
          "metadata": {
            "tags": []
          },
          "execution_count": 235
        }
      ]
    },
    {
      "cell_type": "code",
      "metadata": {
        "id": "3i8K0QgHdQ2p"
      },
      "source": [
        "#Splitting the data:\n",
        "split_length = 0.91\n",
        "train_df = df[0:int(split_length*df.shape[0])]\n",
        "val_df = df[int(split_length*df.shape[0]):df.shape[0]]"
      ],
      "execution_count": 241,
      "outputs": []
    },
    {
      "cell_type": "code",
      "metadata": {
        "id": "gEp7-xiolpkG"
      },
      "source": [
        "# auto_arima(train_df['CPRAVG'],max_p=10,max_d=10,max_q=10,seasonal=False,m=1).summary()"
      ],
      "execution_count": 242,
      "outputs": []
    },
    {
      "cell_type": "code",
      "metadata": {
        "id": "Jo-geLBcdg9i",
        "outputId": "d5d9edc4-d92f-412b-c916-aff0965c4f13",
        "colab": {
          "base_uri": "https://localhost:8080/",
          "height": 790
        }
      },
      "source": [
        "model = SARIMAX(train_df['CPRAVG'],exog = train_df[['PROP', 'BUT', 'FLW', 'COT', 'TEMP', 'PRESS', 'DRAFT', 'ETH']],order=(2,2,8),enforce_invertibility=False)\n",
        "results = model.fit()\n",
        "results.summary()"
      ],
      "execution_count": 258,
      "outputs": [
        {
          "output_type": "execute_result",
          "data": {
            "text/html": [
              "<table class=\"simpletable\">\n",
              "<caption>SARIMAX Results</caption>\n",
              "<tr>\n",
              "  <th>Dep. Variable:</th>        <td>CPRAVG</td>      <th>  No. Observations:  </th>    <td>79</td>   \n",
              "</tr>\n",
              "<tr>\n",
              "  <th>Model:</th>           <td>SARIMAX(2, 2, 8)</td> <th>  Log Likelihood     </th>  <td>398.323</td>\n",
              "</tr>\n",
              "<tr>\n",
              "  <th>Date:</th>            <td>Fri, 13 Aug 2021</td> <th>  AIC                </th> <td>-758.645</td>\n",
              "</tr>\n",
              "<tr>\n",
              "  <th>Time:</th>                <td>08:25:31</td>     <th>  BIC                </th> <td>-714.113</td>\n",
              "</tr>\n",
              "<tr>\n",
              "  <th>Sample:</th>                  <td>0</td>        <th>  HQIC               </th> <td>-740.833</td>\n",
              "</tr>\n",
              "<tr>\n",
              "  <th></th>                       <td> - 79</td>      <th>                     </th>     <td> </td>   \n",
              "</tr>\n",
              "<tr>\n",
              "  <th>Covariance Type:</th>        <td>opg</td>       <th>                     </th>     <td> </td>   \n",
              "</tr>\n",
              "</table>\n",
              "<table class=\"simpletable\">\n",
              "<tr>\n",
              "     <td></td>       <th>coef</th>     <th>std err</th>      <th>z</th>      <th>P>|z|</th>  <th>[0.025</th>    <th>0.975]</th>  \n",
              "</tr>\n",
              "<tr>\n",
              "  <th>PROP</th>   <td>   -0.0002</td> <td>    0.000</td> <td>   -0.908</td> <td> 0.364</td> <td>   -0.001</td> <td>    0.000</td>\n",
              "</tr>\n",
              "<tr>\n",
              "  <th>BUT</th>    <td>    0.0015</td> <td>    0.001</td> <td>    2.617</td> <td> 0.009</td> <td>    0.000</td> <td>    0.003</td>\n",
              "</tr>\n",
              "<tr>\n",
              "  <th>FLW</th>    <td>-5.597e-06</td> <td> 2.42e-07</td> <td>  -23.100</td> <td> 0.000</td> <td>-6.07e-06</td> <td>-5.12e-06</td>\n",
              "</tr>\n",
              "<tr>\n",
              "  <th>COT</th>    <td>    0.0002</td> <td> 9.37e-05</td> <td>    1.963</td> <td> 0.050</td> <td> 2.58e-07</td> <td>    0.000</td>\n",
              "</tr>\n",
              "<tr>\n",
              "  <th>TEMP</th>   <td>    0.0002</td> <td> 7.51e-05</td> <td>    2.882</td> <td> 0.004</td> <td> 6.93e-05</td> <td>    0.000</td>\n",
              "</tr>\n",
              "<tr>\n",
              "  <th>PRESS</th>  <td>    0.1327</td> <td>    0.041</td> <td>    3.219</td> <td> 0.001</td> <td>    0.052</td> <td>    0.213</td>\n",
              "</tr>\n",
              "<tr>\n",
              "  <th>DRAFT</th>  <td>    0.0038</td> <td>    0.001</td> <td>    3.120</td> <td> 0.002</td> <td>    0.001</td> <td>    0.006</td>\n",
              "</tr>\n",
              "<tr>\n",
              "  <th>ETH</th>    <td>   -0.0001</td> <td>    0.000</td> <td>   -0.726</td> <td> 0.468</td> <td>   -0.000</td> <td>    0.000</td>\n",
              "</tr>\n",
              "<tr>\n",
              "  <th>ar.L1</th>  <td>   -0.7799</td> <td>    0.273</td> <td>   -2.859</td> <td> 0.004</td> <td>   -1.315</td> <td>   -0.245</td>\n",
              "</tr>\n",
              "<tr>\n",
              "  <th>ar.L2</th>  <td>   -0.3810</td> <td>    0.390</td> <td>   -0.978</td> <td> 0.328</td> <td>   -1.145</td> <td>    0.383</td>\n",
              "</tr>\n",
              "<tr>\n",
              "  <th>ma.L1</th>  <td>    0.0903</td> <td>    0.257</td> <td>    0.351</td> <td> 0.726</td> <td>   -0.414</td> <td>    0.595</td>\n",
              "</tr>\n",
              "<tr>\n",
              "  <th>ma.L2</th>  <td>   -0.2164</td> <td>    0.598</td> <td>   -0.362</td> <td> 0.718</td> <td>   -1.389</td> <td>    0.956</td>\n",
              "</tr>\n",
              "<tr>\n",
              "  <th>ma.L3</th>  <td>   -0.4486</td> <td>    0.261</td> <td>   -1.716</td> <td> 0.086</td> <td>   -0.961</td> <td>    0.064</td>\n",
              "</tr>\n",
              "<tr>\n",
              "  <th>ma.L4</th>  <td>   -0.1464</td> <td>    0.163</td> <td>   -0.896</td> <td> 0.370</td> <td>   -0.467</td> <td>    0.174</td>\n",
              "</tr>\n",
              "<tr>\n",
              "  <th>ma.L5</th>  <td>   -0.0874</td> <td>    0.209</td> <td>   -0.419</td> <td> 0.676</td> <td>   -0.497</td> <td>    0.322</td>\n",
              "</tr>\n",
              "<tr>\n",
              "  <th>ma.L6</th>  <td>    0.0410</td> <td>    0.134</td> <td>    0.306</td> <td> 0.760</td> <td>   -0.222</td> <td>    0.304</td>\n",
              "</tr>\n",
              "<tr>\n",
              "  <th>ma.L7</th>  <td>   -0.1050</td> <td>    0.159</td> <td>   -0.658</td> <td> 0.510</td> <td>   -0.417</td> <td>    0.207</td>\n",
              "</tr>\n",
              "<tr>\n",
              "  <th>ma.L8</th>  <td>    0.0715</td> <td>    0.189</td> <td>    0.378</td> <td> 0.705</td> <td>   -0.299</td> <td>    0.442</td>\n",
              "</tr>\n",
              "<tr>\n",
              "  <th>sigma2</th> <td> 1.118e-06</td> <td> 1.32e-07</td> <td>    8.499</td> <td> 0.000</td> <td>  8.6e-07</td> <td> 1.38e-06</td>\n",
              "</tr>\n",
              "</table>\n",
              "<table class=\"simpletable\">\n",
              "<tr>\n",
              "  <th>Ljung-Box (L1) (Q):</th>     <td>0.16</td> <th>  Jarque-Bera (JB):  </th> <td>27.32</td>\n",
              "</tr>\n",
              "<tr>\n",
              "  <th>Prob(Q):</th>                <td>0.69</td> <th>  Prob(JB):          </th> <td>0.00</td> \n",
              "</tr>\n",
              "<tr>\n",
              "  <th>Heteroskedasticity (H):</th> <td>0.37</td> <th>  Skew:              </th> <td>0.47</td> \n",
              "</tr>\n",
              "<tr>\n",
              "  <th>Prob(H) (two-sided):</th>    <td>0.01</td> <th>  Kurtosis:          </th> <td>5.77</td> \n",
              "</tr>\n",
              "</table><br/><br/>Warnings:<br/>[1] Covariance matrix calculated using the outer product of gradients (complex-step).<br/>[2] Covariance matrix is singular or near-singular, with condition number 3.54e+17. Standard errors may be unstable."
            ],
            "text/plain": [
              "<class 'statsmodels.iolib.summary.Summary'>\n",
              "\"\"\"\n",
              "                               SARIMAX Results                                \n",
              "==============================================================================\n",
              "Dep. Variable:                 CPRAVG   No. Observations:                   79\n",
              "Model:               SARIMAX(2, 2, 8)   Log Likelihood                 398.323\n",
              "Date:                Fri, 13 Aug 2021   AIC                           -758.645\n",
              "Time:                        08:25:31   BIC                           -714.113\n",
              "Sample:                             0   HQIC                          -740.833\n",
              "                                 - 79                                         \n",
              "Covariance Type:                  opg                                         \n",
              "==============================================================================\n",
              "                 coef    std err          z      P>|z|      [0.025      0.975]\n",
              "------------------------------------------------------------------------------\n",
              "PROP          -0.0002      0.000     -0.908      0.364      -0.001       0.000\n",
              "BUT            0.0015      0.001      2.617      0.009       0.000       0.003\n",
              "FLW        -5.597e-06   2.42e-07    -23.100      0.000   -6.07e-06   -5.12e-06\n",
              "COT            0.0002   9.37e-05      1.963      0.050    2.58e-07       0.000\n",
              "TEMP           0.0002   7.51e-05      2.882      0.004    6.93e-05       0.000\n",
              "PRESS          0.1327      0.041      3.219      0.001       0.052       0.213\n",
              "DRAFT          0.0038      0.001      3.120      0.002       0.001       0.006\n",
              "ETH           -0.0001      0.000     -0.726      0.468      -0.000       0.000\n",
              "ar.L1         -0.7799      0.273     -2.859      0.004      -1.315      -0.245\n",
              "ar.L2         -0.3810      0.390     -0.978      0.328      -1.145       0.383\n",
              "ma.L1          0.0903      0.257      0.351      0.726      -0.414       0.595\n",
              "ma.L2         -0.2164      0.598     -0.362      0.718      -1.389       0.956\n",
              "ma.L3         -0.4486      0.261     -1.716      0.086      -0.961       0.064\n",
              "ma.L4         -0.1464      0.163     -0.896      0.370      -0.467       0.174\n",
              "ma.L5         -0.0874      0.209     -0.419      0.676      -0.497       0.322\n",
              "ma.L6          0.0410      0.134      0.306      0.760      -0.222       0.304\n",
              "ma.L7         -0.1050      0.159     -0.658      0.510      -0.417       0.207\n",
              "ma.L8          0.0715      0.189      0.378      0.705      -0.299       0.442\n",
              "sigma2      1.118e-06   1.32e-07      8.499      0.000     8.6e-07    1.38e-06\n",
              "===================================================================================\n",
              "Ljung-Box (L1) (Q):                   0.16   Jarque-Bera (JB):                27.32\n",
              "Prob(Q):                              0.69   Prob(JB):                         0.00\n",
              "Heteroskedasticity (H):               0.37   Skew:                             0.47\n",
              "Prob(H) (two-sided):                  0.01   Kurtosis:                         5.77\n",
              "===================================================================================\n",
              "\n",
              "Warnings:\n",
              "[1] Covariance matrix calculated using the outer product of gradients (complex-step).\n",
              "[2] Covariance matrix is singular or near-singular, with condition number 3.54e+17. Standard errors may be unstable.\n",
              "\"\"\""
            ]
          },
          "metadata": {
            "tags": []
          },
          "execution_count": 258
        }
      ]
    },
    {
      "cell_type": "code",
      "metadata": {
        "id": "-hGkmxhNdz78"
      },
      "source": [
        "start=len(train_df)\n",
        "end=df.shape[0]-1\n",
        "exog_forecast= val_df[['PROP', 'BUT', 'FLW', 'COT', 'TEMP', 'PRESS', 'DRAFT', 'ETH']] \n",
        "predictions = results.predict(start=start, end=end, exog=exog_forecast,dynamic = True).rename('SARIMAX(1,1,4) Predictions')"
      ],
      "execution_count": 259,
      "outputs": []
    },
    {
      "cell_type": "code",
      "metadata": {
        "id": "F1qVpXood2si",
        "outputId": "1d103783-0137-4a51-a4df-876baf1aa0a3",
        "colab": {
          "base_uri": "https://localhost:8080/",
          "height": 287
        }
      },
      "source": [
        "plt.plot(predictions, color = 'blue')\n",
        "plt.plot(df['CPRAVG'][start:end], color = 'red')"
      ],
      "execution_count": 260,
      "outputs": [
        {
          "output_type": "execute_result",
          "data": {
            "text/plain": [
              "[<matplotlib.lines.Line2D at 0x7fb98bd74210>]"
            ]
          },
          "metadata": {
            "tags": []
          },
          "execution_count": 260
        },
        {
          "output_type": "display_data",
          "data": {
            "image/png": "[encoded data removed]",
            "text/plain": [
              "<Figure size 432x288 with 1 Axes>"
            ]
          },
          "metadata": {
            "tags": [],
            "needs_background": "light"
          }
        }
      ]
    }
  ]
}