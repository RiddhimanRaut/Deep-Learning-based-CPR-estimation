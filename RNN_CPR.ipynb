{
  "nbformat": 4,
  "nbformat_minor": 0,
  "metadata": {
    "colab": {
      "name": "Untitled4.ipynb",
      "provenance": [],
      "authorship_tag": "ABX9TyMUoR8v9QCb3Gfnii4Zhavz",
      "include_colab_link": true
    },
    "kernelspec": {
      "name": "python3",
      "display_name": "Python 3"
    },
    "language_info": {
      "name": "python"
    }
  },
  "cells": [
    {
      "cell_type": "markdown",
      "metadata": {
        "id": "view-in-github",
        "colab_type": "text"
      },
      "source": [
        "<a href=\"https://colab.research.google.com/github/RiddhimanRaut/Deep-Learning-based-CPR-estimation/blob/main/RNN_CPR.ipynb\" target=\"_parent\"><img src=\"https://colab.research.google.com/assets/colab-badge.svg\" alt=\"Open In Colab\"/></a>"
      ]
    },
    {
      "cell_type": "code",
      "metadata": {
        "colab": {
          "base_uri": "https://localhost:8080/",
          "height": 204
        },
        "id": "YjMnEuIoc8tn",
        "outputId": "b011085c-b985-4c66-f9cd-38f8ca6a653b"
      },
      "source": [
        "import pandas as pd\n",
        "\n",
        "url = \"https://github.com/RiddhimanRaut/Deep-Learning-based-CPR-estimation/blob/main/excel_dataset.xlsx?raw=true\"\n",
        "df = pd.read_excel(url)\n",
        "df = df[5::6]\n",
        "df.head()\n",
        "\n",
        "date_time = df."
      ],
      "execution_count": 11,
      "outputs": [
        {
          "output_type": "execute_result",
          "data": {
            "text/html": [
              "<div>\n",
              "<style scoped>\n",
              "    .dataframe tbody tr th:only-of-type {\n",
              "        vertical-align: middle;\n",
              "    }\n",
              "\n",
              "    .dataframe tbody tr th {\n",
              "        vertical-align: top;\n",
              "    }\n",
              "\n",
              "    .dataframe thead th {\n",
              "        text-align: right;\n",
              "    }\n",
              "</style>\n",
              "<table border=\"1\" class=\"dataframe\">\n",
              "  <thead>\n",
              "    <tr style=\"text-align: right;\">\n",
              "      <th></th>\n",
              "      <th>Date Time</th>\n",
              "      <th>CPRAVG</th>\n",
              "      <th>PROP</th>\n",
              "      <th>BUT</th>\n",
              "      <th>ETHYLENE</th>\n",
              "      <th>AI12201M</th>\n",
              "      <th>FLW</th>\n",
              "      <th>COT</th>\n",
              "      <th>TEMP</th>\n",
              "      <th>PRESS</th>\n",
              "      <th>O2</th>\n",
              "      <th>DRAFT</th>\n",
              "      <th>ETH</th>\n",
              "    </tr>\n",
              "  </thead>\n",
              "  <tbody>\n",
              "    <tr>\n",
              "      <th>5</th>\n",
              "      <td>01.01.2009 01:00:00</td>\n",
              "      <td>0.426381</td>\n",
              "      <td>19.491810</td>\n",
              "      <td>4.601716</td>\n",
              "      <td>30.532320</td>\n",
              "      <td>0.012364</td>\n",
              "      <td>30656.66992</td>\n",
              "      <td>819.507965</td>\n",
              "      <td>632.023209</td>\n",
              "      <td>0.467722</td>\n",
              "      <td>1.319569</td>\n",
              "      <td>-5.266271</td>\n",
              "      <td>74.667397</td>\n",
              "    </tr>\n",
              "    <tr>\n",
              "      <th>11</th>\n",
              "      <td>01.01.2009 02:00:00</td>\n",
              "      <td>0.424473</td>\n",
              "      <td>19.367620</td>\n",
              "      <td>4.547985</td>\n",
              "      <td>30.837540</td>\n",
              "      <td>0.011713</td>\n",
              "      <td>30590.67969</td>\n",
              "      <td>821.882797</td>\n",
              "      <td>632.649200</td>\n",
              "      <td>0.469376</td>\n",
              "      <td>1.111588</td>\n",
              "      <td>-4.903431</td>\n",
              "      <td>74.886887</td>\n",
              "    </tr>\n",
              "    <tr>\n",
              "      <th>17</th>\n",
              "      <td>01.01.2009 03:00:00</td>\n",
              "      <td>0.425650</td>\n",
              "      <td>19.237329</td>\n",
              "      <td>4.487629</td>\n",
              "      <td>30.659901</td>\n",
              "      <td>0.011062</td>\n",
              "      <td>30524.69922</td>\n",
              "      <td>822.465134</td>\n",
              "      <td>632.817825</td>\n",
              "      <td>0.466901</td>\n",
              "      <td>1.149024</td>\n",
              "      <td>-4.946926</td>\n",
              "      <td>75.145287</td>\n",
              "    </tr>\n",
              "    <tr>\n",
              "      <th>23</th>\n",
              "      <td>01.01.2009 04:00:00</td>\n",
              "      <td>0.427131</td>\n",
              "      <td>19.201321</td>\n",
              "      <td>4.403272</td>\n",
              "      <td>30.776039</td>\n",
              "      <td>0.011140</td>\n",
              "      <td>30527.44922</td>\n",
              "      <td>824.627869</td>\n",
              "      <td>634.766495</td>\n",
              "      <td>0.471751</td>\n",
              "      <td>1.014898</td>\n",
              "      <td>-4.618164</td>\n",
              "      <td>75.280724</td>\n",
              "    </tr>\n",
              "    <tr>\n",
              "      <th>29</th>\n",
              "      <td>01.01.2009 05:00:00</td>\n",
              "      <td>0.428690</td>\n",
              "      <td>17.998270</td>\n",
              "      <td>4.266049</td>\n",
              "      <td>31.351549</td>\n",
              "      <td>0.012562</td>\n",
              "      <td>30576.58008</td>\n",
              "      <td>825.376816</td>\n",
              "      <td>636.005157</td>\n",
              "      <td>0.470348</td>\n",
              "      <td>1.036991</td>\n",
              "      <td>-4.617743</td>\n",
              "      <td>76.774757</td>\n",
              "    </tr>\n",
              "  </tbody>\n",
              "</table>\n",
              "</div>"
            ],
            "text/plain": [
              "              Date Time    CPRAVG       PROP  ...        O2     DRAFT        ETH\n",
              "5   01.01.2009 01:00:00  0.426381  19.491810  ...  1.319569 -5.266271  74.667397\n",
              "11  01.01.2009 02:00:00  0.424473  19.367620  ...  1.111588 -4.903431  74.886887\n",
              "17  01.01.2009 03:00:00  0.425650  19.237329  ...  1.149024 -4.946926  75.145287\n",
              "23  01.01.2009 04:00:00  0.427131  19.201321  ...  1.014898 -4.618164  75.280724\n",
              "29  01.01.2009 05:00:00  0.428690  17.998270  ...  1.036991 -4.617743  76.774757\n",
              "\n",
              "[5 rows x 13 columns]"
            ]
          },
          "metadata": {
            "tags": []
          },
          "execution_count": 11
        }
      ]
    }
  ]
}